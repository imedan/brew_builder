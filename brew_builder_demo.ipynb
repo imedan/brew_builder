{
 "cells": [
  {
   "cell_type": "markdown",
   "metadata": {},
   "source": [
    "Below is a demo on how to use this brew recipe builder.\n",
    "\n",
    "The first thing to do is find the ingredients you want to use in the recipe. You can search the tables in the database within the notebook using the code below. As a note, the tables you most likely want to search are: fermentable, hop, yeast and style."
   ]
  },
  {
   "cell_type": "code",
   "execution_count": 1,
   "metadata": {},
   "outputs": [],
   "source": [
    "from brew_builder import BrewBuild, search_db, menu_select\n",
    "import numpy as np\n",
    "import sqlite3\n",
    "\n",
    "# connect to the database\n",
    "\n",
    "con = sqlite3.connect('database/default_db.sqlite')"
   ]
  },
  {
   "cell_type": "code",
   "execution_count": 2,
   "metadata": {},
   "outputs": [
    {
     "data": {
      "application/vnd.jupyter.widget-view+json": {
       "model_id": "d0ed75e1d8af4bf293f6591a4dbb7f8c",
       "version_major": 2,
       "version_minor": 0
      },
      "text/plain": [
       "interactive(children=(Text(value='Dry', description='fermentable:', placeholder='Type something'), Output()), …"
      ]
     },
     "metadata": {},
     "output_type": "display_data"
    }
   ],
   "source": [
    "# search some table using connection to database\n",
    "# this will display dataframe with search results\n",
    "# you can type in the search box to change results\n",
    "menu_select('fermentable', con)"
   ]
  },
  {
   "cell_type": "markdown",
   "metadata": {},
   "source": [
    "When searching for ingredients, it will be important to make notes of the id of the ingredient. You will need this to build the recipe in the next step.\n",
    "\n",
    "Once you find all of your ingredients, you can now build a recipe! This is done by initilzing the object below:"
   ]
  },
  {
   "cell_type": "code",
   "execution_count": 3,
   "metadata": {},
   "outputs": [],
   "source": [
    "# set up the grain bill\n",
    "# the format of each row is [id, amount (lbs), type (0=mash, 1=extract)]\n",
    "grain_bill = np.array([[9, 0.25, 0],\n",
    "                       [122, 1, 0],\n",
    "                       [93, 1, 1],\n",
    "                       [90, 1, 1],\n",
    "                       [13, 1.5, 0],\n",
    "                       [24, 0.5, 0]])\n",
    "\n",
    "# set up the hop bill\n",
    "# the format of each row is [id, amount (oz), boil time (min)]\n",
    "hop_bill = np.array([[62, 1, 45],\n",
    "                     [21, 0.5, 20]])\n",
    "\n",
    "# yeast id\n",
    "yeast = 3\n",
    "\n",
    "# target volume in gallons\n",
    "target_volume = 2.5\n",
    "\n",
    "# boil volume in gallons\n",
    "boil_volume = 1.75\n",
    "\n",
    "# mash temp in F\n",
    "mash_temp = 165\n",
    "\n",
    "# boil time in min\n",
    "boil_time = 45\n",
    "\n",
    "# estimated mash efficiency\n",
    "mash_efficiency = 48\n",
    "\n",
    "# the style id\n",
    "style = 64\n",
    "\n",
    "# the mash volume in gallons\n",
    "mash_volume = 1.5\n",
    "\n",
    "build = BrewBuild(grain_bill, hop_bill, yeast, target_volume,\n",
    "                               boil_volume, mash_temp, con, boil_time=boil_time,\n",
    "                               mash_efficiency=mash_efficiency, style=style, mash_volume=mash_volume)"
   ]
  },
  {
   "cell_type": "markdown",
   "metadata": {},
   "source": [
    "Once the object is setup, below are examples of some of the basic calculations you can do"
   ]
  },
  {
   "cell_type": "code",
   "execution_count": 4,
   "metadata": {},
   "outputs": [
    {
     "data": {
      "text/plain": [
       "1.056"
      ]
     },
     "execution_count": 4,
     "metadata": {},
     "output_type": "execute_result"
    }
   ],
   "source": [
    "build.calc_OG()"
   ]
  },
  {
   "cell_type": "code",
   "execution_count": 5,
   "metadata": {},
   "outputs": [
    {
     "data": {
      "text/plain": [
       "1.017"
      ]
     },
     "execution_count": 5,
     "metadata": {},
     "output_type": "execute_result"
    }
   ],
   "source": [
    "build.calc_FG()"
   ]
  },
  {
   "cell_type": "code",
   "execution_count": 6,
   "metadata": {},
   "outputs": [
    {
     "data": {
      "text/plain": [
       "5.12"
      ]
     },
     "execution_count": 6,
     "metadata": {},
     "output_type": "execute_result"
    }
   ],
   "source": [
    "build.calc_ABV(build.calc_OG(), build.calc_FG())"
   ]
  },
  {
   "cell_type": "code",
   "execution_count": 7,
   "metadata": {},
   "outputs": [
    {
     "data": {
      "text/plain": [
       "42.0"
      ]
     },
     "execution_count": 7,
     "metadata": {},
     "output_type": "execute_result"
    }
   ],
   "source": [
    "build.calc_color()"
   ]
  },
  {
   "cell_type": "code",
   "execution_count": 8,
   "metadata": {},
   "outputs": [
    {
     "data": {
      "text/plain": [
       "27.2"
      ]
     },
     "execution_count": 8,
     "metadata": {},
     "output_type": "execute_result"
    }
   ],
   "source": [
    "build.calc_IBU()"
   ]
  },
  {
   "cell_type": "markdown",
   "metadata": {},
   "source": [
    "You can also then just build the recipe, which does all of the calculations and creates your recipe in a csv file."
   ]
  },
  {
   "cell_type": "code",
   "execution_count": 9,
   "metadata": {},
   "outputs": [],
   "source": [
    "build.build_recipe('Oatmeal_Stout_Test.csv')"
   ]
  },
  {
   "cell_type": "markdown",
   "metadata": {},
   "source": [
    "You may not be happy with the initial recipe though. So, after you have built the recipe once, you can create an interactive spreadsheet in the notebook which allows you to edit the recipe and see the effects of the changes in real time. Currently, you cant change any of the ingredients in the cells, just their values. The way to think about this sheet, it you can really change anything in a yellow cell and everything in red will be recalculated."
   ]
  },
  {
   "cell_type": "code",
   "execution_count": 10,
   "metadata": {},
   "outputs": [],
   "source": [
    "sheet = build.interactive_sheet()"
   ]
  },
  {
   "cell_type": "code",
   "execution_count": 11,
   "metadata": {},
   "outputs": [
    {
     "data": {
      "application/vnd.jupyter.widget-view+json": {
       "model_id": "f39cafad976c4209b27be2c5718f2cb5",
       "version_major": 2,
       "version_minor": 0
      },
      "text/plain": [
       "Sheet(cells=(Cell(column_end=0, column_start=0, row_end=0, row_start=0, type='text', value='Summary'), Cell(co…"
      ]
     },
     "metadata": {},
     "output_type": "display_data"
    }
   ],
   "source": [
    "sheet"
   ]
  },
  {
   "cell_type": "markdown",
   "metadata": {},
   "source": [
    "After making these changes in the spreadsheet above, you can actually then rewrite your recipe based on the changes you have made! This is done below."
   ]
  },
  {
   "cell_type": "code",
   "execution_count": 12,
   "metadata": {},
   "outputs": [],
   "source": [
    "build.update_recipe_from_sheet(sheet, 'Oatmeal_Stout_Edited_Test.csv')"
   ]
  },
  {
   "cell_type": "markdown",
   "metadata": {},
   "source": [
    "Once done, it is best to then close out the connection to the database and get brewing!"
   ]
  },
  {
   "cell_type": "code",
   "execution_count": 13,
   "metadata": {},
   "outputs": [],
   "source": [
    "con.close()"
   ]
  },
  {
   "cell_type": "code",
   "execution_count": null,
   "metadata": {},
   "outputs": [],
   "source": []
  }
 ],
 "metadata": {
  "kernelspec": {
   "display_name": "Python 3",
   "language": "python",
   "name": "python3"
  },
  "language_info": {
   "codemirror_mode": {
    "name": "ipython",
    "version": 3
   },
   "file_extension": ".py",
   "mimetype": "text/x-python",
   "name": "python",
   "nbconvert_exporter": "python",
   "pygments_lexer": "ipython3",
   "version": "3.6.10"
  }
 },
 "nbformat": 4,
 "nbformat_minor": 4
}
