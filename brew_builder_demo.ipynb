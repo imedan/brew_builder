{
 "cells": [
  {
   "cell_type": "markdown",
   "metadata": {},
   "source": [
    "Below is a demo on how to use this brew recipe builder.\n",
    "\n",
    "The first thing to do is find the ingredients you want to use in the recipe. You can search the tables in the database within the notebook using the code below. As a note, the tables you most likely want to search are: fermentable, hop, yeast and style."
   ]
  },
  {
   "cell_type": "code",
   "execution_count": 1,
   "metadata": {},
   "outputs": [],
   "source": [
    "from brew_builder import BrewBuild, search_db, menu_select\n",
    "import numpy as np\n",
    "import sqlite3\n",
    "\n",
    "# connect to the database\n",
    "\n",
    "con = sqlite3.connect('database/default_db.sqlite')"
   ]
  },
  {
   "cell_type": "code",
   "execution_count": 2,
   "metadata": {},
   "outputs": [
    {
     "data": {
      "application/vnd.jupyter.widget-view+json": {
       "model_id": "cb8b0a800f904fb6a6ca71e391e27ede",
       "version_major": 2,
       "version_minor": 0
      },
      "text/plain": [
       "interactive(children=(Text(value='Dry', description='fermentable:', placeholder='Type something'), Output()), …"
      ]
     },
     "metadata": {},
     "output_type": "display_data"
    }
   ],
   "source": [
    "# search some table using connection to database\n",
    "# this will display dataframe with search results\n",
    "# you can type in the search box to change results\n",
    "menu_select('fermentable', con)"
   ]
  },
  {
   "cell_type": "markdown",
   "metadata": {},
   "source": [
    "When searching for ingredients, it will be important to make notes of the id of the ingredient. You will need this to build the recipe in the next step.\n",
    "\n",
    "Once you find all of your ingredients, you can now build a recipe! This is done by initilzing the object below:"
   ]
  },
  {
   "cell_type": "code",
   "execution_count": 3,
   "metadata": {},
   "outputs": [],
   "source": [
    "# set up the grain bill\n",
    "# the format of each row is [id, amount (lbs), type (0=mash, 1=extract)]\n",
    "grain_bill = np.array([[9, 0.25, 0],\n",
    "                       [122, 1, 0],\n",
    "                       [93, 1, 1],\n",
    "                       [90, 1, 1],\n",
    "                       [13, 1.5, 0],\n",
    "                       [24, 0.5, 0]])\n",
    "\n",
    "# set up the hop bill\n",
    "# the format of each row is [id, amount (oz), boil time (min)]\n",
    "hop_bill = np.array([[62, 1, 45],\n",
    "                     [21, 0.5, 20]])\n",
    "\n",
    "# yeast id\n",
    "yeast = 3\n",
    "\n",
    "# target volume in gallons\n",
    "target_volume = 2.5\n",
    "\n",
    "# boil volume in gallons\n",
    "boil_volume = 1.75\n",
    "\n",
    "# mash temp in F\n",
    "mash_temp = 165\n",
    "\n",
    "# boil time in min\n",
    "boil_time = 45\n",
    "\n",
    "# estimated mash efficiency\n",
    "mash_efficiency = 48\n",
    "\n",
    "# the style id\n",
    "style = 64\n",
    "\n",
    "# the mash volume in gallons\n",
    "mash_volume = 1.5\n",
    "\n",
    "build = BrewBuild(grain_bill, hop_bill, yeast, target_volume,\n",
    "                               boil_volume, mash_temp, con, boil_time=boil_time,\n",
    "                               mash_efficiency=mash_efficiency, style=style, mash_volume=mash_volume)"
   ]
  },
  {
   "cell_type": "markdown",
   "metadata": {},
   "source": [
    "Once the object is setup, below are examples of some of the basic calculations you can do"
   ]
  },
  {
   "cell_type": "code",
   "execution_count": 4,
   "metadata": {},
   "outputs": [
    {
     "data": {
      "text/plain": [
       "1.056"
      ]
     },
     "execution_count": 4,
     "metadata": {},
     "output_type": "execute_result"
    }
   ],
   "source": [
    "build.calc_OG()"
   ]
  },
  {
   "cell_type": "code",
   "execution_count": 5,
   "metadata": {},
   "outputs": [
    {
     "data": {
      "text/plain": [
       "1.017"
      ]
     },
     "execution_count": 5,
     "metadata": {},
     "output_type": "execute_result"
    }
   ],
   "source": [
    "build.calc_FG()"
   ]
  },
  {
   "cell_type": "code",
   "execution_count": 6,
   "metadata": {},
   "outputs": [
    {
     "data": {
      "text/plain": [
       "5.12"
      ]
     },
     "execution_count": 6,
     "metadata": {},
     "output_type": "execute_result"
    }
   ],
   "source": [
    "build.calc_ABV(build.calc_OG(), build.calc_FG())"
   ]
  },
  {
   "cell_type": "code",
   "execution_count": 7,
   "metadata": {},
   "outputs": [
    {
     "data": {
      "text/plain": [
       "42.0"
      ]
     },
     "execution_count": 7,
     "metadata": {},
     "output_type": "execute_result"
    }
   ],
   "source": [
    "build.calc_color()"
   ]
  },
  {
   "cell_type": "code",
   "execution_count": 8,
   "metadata": {},
   "outputs": [
    {
     "data": {
      "text/plain": [
       "27.2"
      ]
     },
     "execution_count": 8,
     "metadata": {},
     "output_type": "execute_result"
    }
   ],
   "source": [
    "build.calc_IBU()"
   ]
  },
  {
   "cell_type": "markdown",
   "metadata": {},
   "source": [
    "You can also then just build the recipe, which does all of the calculations and creates your recipe in a csv file."
   ]
  },
  {
   "cell_type": "code",
   "execution_count": 9,
   "metadata": {},
   "outputs": [],
   "source": [
    "build.build_recipe('Oatmeal_Stout_Test.csv')"
   ]
  },
  {
   "cell_type": "markdown",
   "metadata": {},
   "source": [
    "You may not be happy with the initial recipe though. So, after you have built the recipe once, you can create an interactive spreadsheet in the notebook which allows you to edit the recipe and see the effects of the changes in real time. Currently, you cant change any of the ingredients in the cells, just their values. The way to think about this sheet, it you can really change anything in a yellow cell and everything in red will be recalculated."
   ]
  },
  {
   "cell_type": "code",
   "execution_count": 10,
   "metadata": {},
   "outputs": [],
   "source": [
    "sheet = build.interactive_sheet()"
   ]
  },
  {
   "cell_type": "code",
   "execution_count": 11,
   "metadata": {},
   "outputs": [
    {
     "data": {
      "application/vnd.jupyter.widget-view+json": {
       "model_id": "166c7db01f7347e790c9379144c5122c",
       "version_major": 2,
       "version_minor": 0
      },
      "text/plain": [
       "Sheet(cells=(Cell(column_end=0, column_start=0, row_end=0, row_start=0, type='text', value='Summary'), Cell(co…"
      ]
     },
     "metadata": {},
     "output_type": "display_data"
    }
   ],
   "source": [
    "sheet"
   ]
  },
  {
   "cell_type": "markdown",
   "metadata": {},
   "source": [
    "After making these changes in the spreadsheet above, you can actually then rewrite your recipe based on the changes you have made! This is done below."
   ]
  },
  {
   "cell_type": "code",
   "execution_count": 12,
   "metadata": {},
   "outputs": [],
   "source": [
    "build.update_recipe_from_sheet(sheet, 'Oatmeal_Stout_Edited_Test.csv')"
   ]
  },
  {
   "cell_type": "markdown",
   "metadata": {},
   "source": [
    "Once done, it is best to then close out the connection to the database and get brewing!"
   ]
  },
  {
   "cell_type": "code",
   "execution_count": 13,
   "metadata": {},
   "outputs": [],
   "source": [
    "con.close()"
   ]
  },
  {
   "cell_type": "code",
   "execution_count": null,
   "metadata": {},
   "outputs": [],
   "source": []
  }
 ],
 "metadata": {
  "kernelspec": {
   "display_name": "Python 3",
   "language": "python",
   "name": "python3"
  },
  "language_info": {
   "codemirror_mode": {
    "name": "ipython",
    "version": 3
   },
   "file_extension": ".py",
   "mimetype": "text/x-python",
   "name": "python",
   "nbconvert_exporter": "python",
   "pygments_lexer": "ipython3",
   "version": "3.6.10"
  },
  "widgets": {
   "application/vnd.jupyter.widget-state+json": {
    "state": {
     "019ad24f95d94f3e97a8a37f11560197": {
      "model_module": "ipysheet",
      "model_module_version": "~0.4.4",
      "model_name": "CellRangeModel",
      "state": {
       "_view_module": null,
       "_view_module_version": "",
       "column_end": 2,
       "column_start": 2,
       "row_end": 11,
       "row_start": 11,
       "type": "text",
       "value": "4.2-5.9"
      }
     },
     "028db77fd5ca4ac9bfb74f6b4d518044": {
      "model_module": "ipysheet",
      "model_module_version": "~0.4.4",
      "model_name": "CellRangeModel",
      "state": {
       "_view_module": null,
       "_view_module_version": "",
       "column_end": 0,
       "column_start": 0,
       "row_end": 5,
       "row_start": 5,
       "type": "text",
       "value": "Mash Temp"
      }
     },
     "039a14dfd41c479d93fd8af3a00104c3": {
      "model_module": "ipysheet",
      "model_module_version": "~0.4.4",
      "model_name": "CellRangeModel",
      "state": {
       "_view_module": null,
       "_view_module_version": "",
       "column_end": 8,
       "column_start": 8,
       "row_end": 5,
       "row_start": 5,
       "type": "numeric",
       "value": 17
      }
     },
     "03cab40f3b304cfbb6d4a92e99159618": {
      "model_module": "ipysheet",
      "model_module_version": "~0.4.4",
      "model_name": "CellRangeModel",
      "state": {
       "_view_module": null,
       "_view_module_version": "",
       "column_end": 12,
       "column_start": 12,
       "type": "text",
       "value": "Boil Time (min)"
      }
     },
     "03f7280df37141769e7a2f96a7dc4f63": {
      "model_module": "ipysheet",
      "model_module_version": "~0.4.4",
      "model_name": "CellRangeModel",
      "state": {
       "_view_module": null,
       "_view_module_version": "",
       "column_end": 13,
       "column_start": 13,
       "type": "text",
       "value": "IBU"
      }
     },
     "0418cde0fb694184aa83edd57e140d0c": {
      "model_module": "ipysheet",
      "model_module_version": "~0.4.4",
      "model_name": "CellRangeModel",
      "state": {
       "_view_module": null,
       "_view_module_version": "",
       "column_end": 5,
       "column_start": 5,
       "type": "text",
       "value": "Name"
      }
     },
     "05c07ff999ae4b1dafa6d5af5adfc069": {
      "model_module": "ipysheet",
      "model_module_version": "~0.4.4",
      "model_name": "CellRangeModel",
      "state": {
       "_view_module": null,
       "_view_module_version": "",
       "column_end": 0,
       "column_start": 0,
       "row_end": 11,
       "row_start": 11,
       "type": "text",
       "value": "ABV"
      }
     },
     "06f6b77674df479c899800c56767797c": {
      "model_module": "ipysheet",
      "model_module_version": "~0.4.4",
      "model_name": "CellRangeModel",
      "state": {
       "_view_module": null,
       "_view_module_version": "",
       "column_end": 0,
       "column_start": 0,
       "row_end": 14,
       "row_start": 14,
       "type": "text",
       "value": "Brew Day Values"
      }
     },
     "07aac9befc7f4783b897bd51b39c64d9": {
      "model_module": "ipysheet",
      "model_module_version": "~0.4.4",
      "model_name": "CellRangeModel",
      "state": {
       "_view_module": null,
       "_view_module_version": "",
       "column_end": 6,
       "column_start": 6,
       "row_end": 6,
       "row_start": 6,
       "style": {
        "backgroundColor": "yellow"
       },
       "type": "numeric",
       "value": 1.5
      }
     },
     "07b79d5f2f6c42e085cfa5ad07df4b14": {
      "model_module": "ipysheet",
      "model_module_version": "~0.4.4",
      "model_name": "CellRangeModel",
      "state": {
       "_view_module": null,
       "_view_module_version": "",
       "column_end": 2,
       "column_start": 2,
       "row_end": 7,
       "row_start": 7,
       "type": "text",
       "value": "1.01-1.018"
      }
     },
     "0a7db95af4214a1ba9f4f9bfd43519ee": {
      "model_module": "ipysheet",
      "model_module_version": "~0.4.4",
      "model_name": "CellRangeModel",
      "state": {
       "_view_module": null,
       "_view_module_version": "",
       "row_end": 8,
       "row_start": 8,
       "style": {
        "backgroundColor": "red"
       },
       "type": "numeric",
       "value": 27.2
      }
     },
     "0bd0e43157b34856bc95dc9de1cfac10": {
      "model_module": "ipysheet",
      "model_module_version": "~0.4.4",
      "model_name": "CellRangeModel",
      "state": {
       "_view_module": null,
       "_view_module_version": "",
       "row_end": 3,
       "row_start": 3,
       "style": {
        "backgroundColor": "yellow"
       },
       "type": "numeric",
       "value": 1.75
      }
     },
     "0e3ab269f025427f8084c0302ce6d275": {
      "model_module": "ipysheet",
      "model_module_version": "~0.4.4",
      "model_name": "CellRangeModel",
      "state": {
       "_view_module": null,
       "_view_module_version": "",
       "column_end": 2,
       "column_start": 2,
       "row_end": 8,
       "row_start": 8,
       "type": "text",
       "value": "25.0-40.0"
      }
     },
     "0f0d9a1b00d44802912b14d4b7fe7067": {
      "model_module": "ipysheet",
      "model_module_version": "~0.4.4",
      "model_name": "CellRangeModel",
      "state": {
       "_view_module": null,
       "_view_module_version": "",
       "column_end": 0,
       "column_start": 0,
       "row_end": 11,
       "row_start": 11,
       "type": "text",
       "value": "ABV"
      }
     },
     "0f32e140bfb142b2add3e12b816cc90c": {
      "model_module": "@jupyter-widgets/base",
      "model_module_version": "1.2.0",
      "model_name": "LayoutModel",
      "state": {}
     },
     "0f3929632d9c443487be6885f5e3462b": {
      "model_module": "ipysheet",
      "model_module_version": "~0.4.4",
      "model_name": "CellRangeModel",
      "state": {
       "_view_module": null,
       "_view_module_version": "",
       "column_end": 2,
       "column_start": 2,
       "type": "text",
       "value": "Style Min-Max"
      }
     },
     "0f6b3dc43d424f8b9692e5ecd168c9ac": {
      "model_module": "ipysheet",
      "model_module_version": "~0.4.4",
      "model_name": "CellRangeModel",
      "state": {
       "_view_module": null,
       "_view_module_version": "",
       "column_end": 10,
       "column_start": 10,
       "type": "text",
       "value": "Name"
      }
     },
     "109114e49f5f4bf38f3da5b86bdb3654": {
      "model_module": "ipysheet",
      "model_module_version": "~0.4.4",
      "model_name": "CellRangeModel",
      "state": {
       "_view_module": null,
       "_view_module_version": "",
       "column_end": 5,
       "column_start": 5,
       "row_end": 7,
       "row_start": 7,
       "type": "text",
       "value": "Briess - Chocolate Malt"
      }
     },
     "154e89a532d14a01b90bae5904b617b7": {
      "model_module": "ipysheet",
      "model_module_version": "~0.4.4",
      "model_name": "CellRangeModel",
      "state": {
       "_view_module": null,
       "_view_module_version": "",
       "row_end": 19,
       "row_start": 19,
       "style": {
        "backgroundColor": "red"
       },
       "type": "numeric",
       "value": 1
      }
     },
     "160e88f0ca64472f9873bfb5519d3a0e": {
      "model_module": "ipysheet",
      "model_module_version": "~0.4.4",
      "model_name": "CellRangeModel",
      "state": {
       "_view_module": null,
       "_view_module_version": "",
       "column_end": 0,
       "column_start": 0,
       "row_end": 0,
       "row_start": 0,
       "type": "text",
       "value": "Summary"
      }
     },
     "166c7db01f7347e790c9379144c5122c": {
      "model_module": "ipysheet",
      "model_module_version": "~0.4.4",
      "model_name": "SheetModel",
      "state": {
       "cells": [
        "IPY_MODEL_aa461530b40d46f3a7dfaf9cecd698bc",
        "IPY_MODEL_a2c49ad73c94421180ae25442a87a6ff",
        "IPY_MODEL_4536cd4a79d64565b56866f90be592d1",
        "IPY_MODEL_43b6d476558b4110ace82874b2c5a616",
        "IPY_MODEL_d1ce548cb11c422091bc98a6e84da022",
        "IPY_MODEL_f565328975fd47a4bec8fb5271279b1e",
        "IPY_MODEL_4e68dacf801b4ac38de74cc30c532805",
        "IPY_MODEL_b39be09b076d4b0389c0dbd4addfd9c9",
        "IPY_MODEL_29b9566457fc47bf8e8d7440ac9f6d28",
        "IPY_MODEL_fe3b3e202bc744b3b63b0b736dd54743",
        "IPY_MODEL_7a36d298bfa449ce85325b5366d84d3f",
        "IPY_MODEL_1bf1784d83534936ae9a055822bcb8df",
        "IPY_MODEL_0f6b3dc43d424f8b9692e5ecd168c9ac",
        "IPY_MODEL_e4ec103a810c4c8d86ff4bd2c6147c08",
        "IPY_MODEL_03cab40f3b304cfbb6d4a92e99159618",
        "IPY_MODEL_03f7280df37141769e7a2f96a7dc4f63",
        "IPY_MODEL_5290ff9a6d10466e8acb044267f60033",
        "IPY_MODEL_6811a4141e6348738ab5147dfe2d72d6",
        "IPY_MODEL_e3a0f942afd64b89ac99b8cddade9635",
        "IPY_MODEL_ad51abb836244c06ba37cc9aa39f8d56",
        "IPY_MODEL_48981de95d7b4059bf33c0c6ca0bd05d",
        "IPY_MODEL_a256b06694364c0498b7907444279223",
        "IPY_MODEL_4b95e363fcbc4d4282d2cca727898163",
        "IPY_MODEL_50eed7e3e55a44a49f9086567ff5ed9c",
        "IPY_MODEL_028db77fd5ca4ac9bfb74f6b4d518044",
        "IPY_MODEL_fd4716a3b1dc48f589d994bbb33c24c5",
        "IPY_MODEL_afcf1ea8cb6a4db9a5ece6f42647d6cc",
        "IPY_MODEL_aa980e457ebc4248bc3d159437960bac",
        "IPY_MODEL_23ff7efa2ced40aaaa00a92d0c317e51",
        "IPY_MODEL_95e0d33d79ad42ffa7afa138f0d8ceee",
        "IPY_MODEL_05c07ff999ae4b1dafa6d5af5adfc069",
        "IPY_MODEL_06f6b77674df479c899800c56767797c",
        "IPY_MODEL_2de5ecffa8414f64ac5e4c674c06ce49",
        "IPY_MODEL_d656acab93ab4913b66adbba1ad4c723",
        "IPY_MODEL_fb792d47a1db48b88de3776c21e4151d",
        "IPY_MODEL_32de7b2795c143d7acf17c6d673fbcd9",
        "IPY_MODEL_ad013f8ce2774a459aa27e558b64a545",
        "IPY_MODEL_d1fbd2a04ac841f7b5e6fb06673e6bfb",
        "IPY_MODEL_34a4def0c28543f191ff72edf8f931cb",
        "IPY_MODEL_f311a11ed65b4feab369fb045cdad261",
        "IPY_MODEL_37e59e22afb442dfbbd74c3005328bd2",
        "IPY_MODEL_8dded89b2d6a407da15274f3419add65",
        "IPY_MODEL_c712667d31354453a830f6430414e7fd",
        "IPY_MODEL_b32046b8b64e4c14bc61bce54f642c0e",
        "IPY_MODEL_274d8bd7f08b48eba79e5896cafd7d47",
        "IPY_MODEL_f505f92e1680487b804bc1dab012f979",
        "IPY_MODEL_21363a0d81de4da88b140818b4910677",
        "IPY_MODEL_885032d4f1f84f80b097810ff235e968",
        "IPY_MODEL_b7805b7ac29b44b5b8b33cee245aa965",
        "IPY_MODEL_c087b9ab51d8473693a408d751d6d1c7",
        "IPY_MODEL_4e32aee03116432ab28918f22877a529",
        "IPY_MODEL_4b8db34ae4c547c9b5cd7df0b9f1de16",
        "IPY_MODEL_039a14dfd41c479d93fd8af3a00104c3",
        "IPY_MODEL_3e9c43b38bfd42c0a63076bb51e5b1e5",
        "IPY_MODEL_07aac9befc7f4783b897bd51b39c64d9",
        "IPY_MODEL_db03d6ebb44b44d69c71b0ad172b72e3",
        "IPY_MODEL_9320db35c77949fcbe68cae5553b2baa",
        "IPY_MODEL_109114e49f5f4bf38f3da5b86bdb3654",
        "IPY_MODEL_2579e1124de04b6cae105b7ba142eddd",
        "IPY_MODEL_d2c8fbea3076492c83f9d0b6f39fd74c",
        "IPY_MODEL_e2d1344355c849c4869c1a96e5ef8735",
        "IPY_MODEL_307ffc2bd6d841dfbe7065af30088343",
        "IPY_MODEL_feedcd79760941489eb88946e42f8f3d",
        "IPY_MODEL_da311c7fd41d4b3eb73c26caa0a089ab",
        "IPY_MODEL_e0d251dd399a4c178eff747f6141513a",
        "IPY_MODEL_feaec598f7ed495c98bd8f717b526fc0",
        "IPY_MODEL_d10c95316ab744bfad2586a1ed1aa48f",
        "IPY_MODEL_37f338c1a9174153bf8219db495c07f9",
        "IPY_MODEL_71309548f5ad47be91c7d41019943135",
        "IPY_MODEL_79839691024944ba96ceac2207ab14d6",
        "IPY_MODEL_e6107063d6fa496e9061b4c4427ff709",
        "IPY_MODEL_44e6f2b768cd4590814b5fc3e8405f40",
        "IPY_MODEL_237ec45dd8e644ab821cd9dc1ab01207",
        "IPY_MODEL_ae9a6b3ede2244239dbb984cee1c62cb",
        "IPY_MODEL_a9ce599e29b446e78596d6e0254627ba",
        "IPY_MODEL_f4dcd9c6ed8143c2bbcc4ea95beeadc6",
        "IPY_MODEL_9c48ae29f5614b219be01964976d06df",
        "IPY_MODEL_f82ccd22728c4099b6d9f7d52e08450a",
        "IPY_MODEL_d51a94fcd856450cbb4e82544e625c6c",
        "IPY_MODEL_e3fe7e0ead7b43939c0fb4e2818de794",
        "IPY_MODEL_89d717f2ac534907989b81a6b4d940d3",
        "IPY_MODEL_4e58cd2b72de449d8e818180f566fe49",
        "IPY_MODEL_8b6658db64d7495e898607d7623ebbf3",
        "IPY_MODEL_2662cdd9b85948a6834a64be08962437",
        "IPY_MODEL_b873f5cda1944bc1bf167b58fb02d8d8",
        "IPY_MODEL_e6d183a847fa4922aab7ab1f572fa7ad",
        "IPY_MODEL_d7f8b5bf0b79449ea1d534838f19864a",
        "IPY_MODEL_154e89a532d14a01b90bae5904b617b7",
        "IPY_MODEL_be265740944347d5a15fc7a41ad9e379",
        "IPY_MODEL_5cb32af312a04a69804611c67a23e703",
        "IPY_MODEL_07b79d5f2f6c42e085cfa5ad07df4b14",
        "IPY_MODEL_83cd3f796f904a2090a2ee37d7cae15f",
        "IPY_MODEL_61d5a5c1d58d46018fd4b7be442e6817",
        "IPY_MODEL_019ad24f95d94f3e97a8a37f11560197",
        "IPY_MODEL_b110d9f0e87a432eaa3442ffee02f086",
        "IPY_MODEL_ef81541cad4f4036afa8ba13a5e49b31",
        "IPY_MODEL_2f10c3990f5b4f789682bf31430e2853",
        "IPY_MODEL_2cd3ade4242548c1a9fc2d4ba3d79d49",
        "IPY_MODEL_79bf96718efa47a981b99c27323ef149"
       ],
       "columns": 20,
       "layout": "IPY_MODEL_75e1d0e81b8e4d058870259e8fcd59fc",
       "rows": 21
      }
     },
     "1909087b5a5d40c887e9c0ea146ec20d": {
      "model_module": "ipysheet",
      "model_module_version": "~0.4.4",
      "model_name": "CellRangeModel",
      "state": {
       "_view_module": null,
       "_view_module_version": "",
       "column_end": 0,
       "column_start": 0,
       "row_end": 7,
       "row_start": 7,
       "type": "text",
       "value": "FG"
      }
     },
     "1b06bf1c3ff24681bfb3c78f4ac213fd": {
      "model_module": "@jupyter-widgets/base",
      "model_module_version": "1.2.0",
      "model_name": "LayoutModel",
      "state": {}
     },
     "1b1690a0d3cc46bca3aeddaa57a3722e": {
      "model_module": "@jupyter-widgets/base",
      "model_module_version": "1.2.0",
      "model_name": "LayoutModel",
      "state": {}
     },
     "1bf1784d83534936ae9a055822bcb8df": {
      "model_module": "ipysheet",
      "model_module_version": "~0.4.4",
      "model_name": "CellRangeModel",
      "state": {
       "_view_module": null,
       "_view_module_version": "",
       "column_end": 8,
       "column_start": 8,
       "type": "text",
       "value": "GU Contribution"
      }
     },
     "1c1a2a360c3b4c839f88411a504ae60a": {
      "model_module": "ipysheet",
      "model_module_version": "~0.4.4",
      "model_name": "CellRangeModel",
      "state": {
       "_view_module": null,
       "_view_module_version": "",
       "column_end": 8,
       "column_start": 8,
       "type": "text",
       "value": "GU Contribution"
      }
     },
     "20ba36171599451f8a7606a5d55acbd5": {
      "model_module": "ipysheet",
      "model_module_version": "~0.4.4",
      "model_name": "CellRangeModel",
      "state": {
       "_view_module": null,
       "_view_module_version": "",
       "column_end": 2,
       "column_start": 2,
       "row_end": 9,
       "row_start": 9,
       "type": "text",
       "value": "22.0-40.0"
      }
     },
     "21363a0d81de4da88b140818b4910677": {
      "model_module": "ipysheet",
      "model_module_version": "~0.4.4",
      "model_name": "CellRangeModel",
      "state": {
       "_view_module": null,
       "_view_module_version": "",
       "column_end": 6,
       "column_start": 6,
       "row_end": 4,
       "row_start": 4,
       "style": {
        "backgroundColor": "yellow"
       },
       "type": "numeric",
       "value": 1
      }
     },
     "237ec45dd8e644ab821cd9dc1ab01207": {
      "model_module": "ipysheet",
      "model_module_version": "~0.4.4",
      "model_name": "CellRangeModel",
      "state": {
       "_view_module": null,
       "_view_module_version": "",
       "column_end": 18,
       "column_start": 18,
       "row_end": 2,
       "row_start": 2,
       "type": "numeric",
       "value": 59
      }
     },
     "239e56806b314c7c88d92aaa74cd7b6c": {
      "model_module": "ipysheet",
      "model_module_version": "~0.4.4",
      "model_name": "CellRangeModel",
      "state": {
       "_view_module": null,
       "_view_module_version": "",
       "column_end": 13,
       "column_start": 13,
       "row_end": 2,
       "row_start": 2,
       "type": "numeric",
       "value": 21
      }
     },
     "23ff7efa2ced40aaaa00a92d0c317e51": {
      "model_module": "ipysheet",
      "model_module_version": "~0.4.4",
      "model_name": "CellRangeModel",
      "state": {
       "_view_module": null,
       "_view_module_version": "",
       "column_end": 0,
       "column_start": 0,
       "row_end": 9,
       "row_start": 9,
       "type": "text",
       "value": "Color"
      }
     },
     "2579e1124de04b6cae105b7ba142eddd": {
      "model_module": "ipysheet",
      "model_module_version": "~0.4.4",
      "model_name": "CellRangeModel",
      "state": {
       "_view_module": null,
       "_view_module_version": "",
       "column_end": 6,
       "column_start": 6,
       "row_end": 7,
       "row_start": 7,
       "style": {
        "backgroundColor": "yellow"
       },
       "type": "numeric",
       "value": 0.25
      }
     },
     "2662cdd9b85948a6834a64be08962437": {
      "model_module": "ipysheet",
      "model_module_version": "~0.4.4",
      "model_name": "CellRangeModel",
      "state": {
       "_view_module": null,
       "_view_module_version": "",
       "row_end": 11,
       "row_start": 11,
       "style": {
        "backgroundColor": "red"
       },
       "type": "numeric",
       "value": 5.64
      }
     },
     "274d8bd7f08b48eba79e5896cafd7d47": {
      "model_module": "ipysheet",
      "model_module_version": "~0.4.4",
      "model_name": "CellRangeModel",
      "state": {
       "_view_module": null,
       "_view_module_version": "",
       "column_end": 8,
       "column_start": 8,
       "row_end": 3,
       "row_start": 3,
       "type": "numeric",
       "value": 7
      }
     },
     "27eec10919564ee9865be17dd436b891": {
      "model_module": "ipysheet",
      "model_module_version": "~0.4.4",
      "model_name": "CellRangeModel",
      "state": {
       "_view_module": null,
       "_view_module_version": "",
       "column_end": 15,
       "column_start": 15,
       "row_end": 2,
       "row_start": 2,
       "type": "text",
       "value": "Safale S-04"
      }
     },
     "29320396267448138f093bd8cc72cb42": {
      "model_module": "ipysheet",
      "model_module_version": "~0.4.4",
      "model_name": "CellRangeModel",
      "state": {
       "_view_module": null,
       "_view_module_version": "",
       "column_end": 5,
       "column_start": 5,
       "row_end": 4,
       "row_start": 4,
       "type": "text",
       "value": "Dry Extract (DME) - Light"
      }
     },
     "29b9566457fc47bf8e8d7440ac9f6d28": {
      "model_module": "ipysheet",
      "model_module_version": "~0.4.4",
      "model_name": "CellRangeModel",
      "state": {
       "_view_module": null,
       "_view_module_version": "",
       "column_end": 5,
       "column_start": 5,
       "type": "text",
       "value": "Name"
      }
     },
     "2bee72ca5bf04cbcb550f175421bcce3": {
      "model_module": "ipysheet",
      "model_module_version": "~0.4.4",
      "model_name": "CellRangeModel",
      "state": {
       "_view_module": null,
       "_view_module_version": "",
       "column_end": 0,
       "column_start": 0,
       "row_end": 8,
       "row_start": 8,
       "type": "text",
       "value": "Bitterness"
      }
     },
     "2cd3ade4242548c1a9fc2d4ba3d79d49": {
      "model_module": "ipysheet",
      "model_module_version": "~0.4.4",
      "model_name": "CellRangeModel",
      "state": {
       "_view_module": null,
       "_view_module_version": "",
       "column_end": 3,
       "column_start": 3,
       "row_end": 9,
       "row_start": 9,
       "style": {
        "backgroundColor": "red"
       },
       "type": "numeric",
       "value": ""
      }
     },
     "2dc4c98430b34939a311e0abe7a29b22": {
      "model_module": "@jupyter-widgets/base",
      "model_module_version": "1.2.0",
      "model_name": "LayoutModel",
      "state": {}
     },
     "2de5ecffa8414f64ac5e4c674c06ce49": {
      "model_module": "ipysheet",
      "model_module_version": "~0.4.4",
      "model_name": "CellRangeModel",
      "state": {
       "_view_module": null,
       "_view_module_version": "",
       "column_end": 0,
       "column_start": 0,
       "row_end": 16,
       "row_start": 16,
       "type": "text",
       "value": "Mash Volume"
      }
     },
     "2de9d10c3cfc4b19bdbbd2aec4543628": {
      "model_module": "ipysheet",
      "model_module_version": "~0.4.4",
      "model_name": "CellRangeModel",
      "state": {
       "_view_module": null,
       "_view_module_version": "",
       "column_end": 0,
       "column_start": 0,
       "row_end": 10,
       "row_start": 10,
       "type": "text",
       "value": "Efficiency"
      }
     },
     "2f10c3990f5b4f789682bf31430e2853": {
      "model_module": "ipysheet",
      "model_module_version": "~0.4.4",
      "model_name": "CellRangeModel",
      "state": {
       "_view_module": null,
       "_view_module_version": "",
       "column_end": 3,
       "column_start": 3,
       "row_end": 8,
       "row_start": 8,
       "style": {
        "backgroundColor": "red"
       },
       "type": "numeric",
       "value": ""
      }
     },
     "2f6110424cf242aab0f691a70265b0e6": {
      "model_module": "ipysheet",
      "model_module_version": "~0.4.4",
      "model_name": "CellRangeModel",
      "state": {
       "_view_module": null,
       "_view_module_version": "",
       "column_end": 12,
       "column_start": 12,
       "row_end": 2,
       "row_start": 2,
       "style": {
        "backgroundColor": "yellow"
       },
       "type": "numeric",
       "value": 45
      }
     },
     "307ffc2bd6d841dfbe7065af30088343": {
      "model_module": "ipysheet",
      "model_module_version": "~0.4.4",
      "model_name": "CellRangeModel",
      "state": {
       "_view_module": null,
       "_view_module_version": "",
       "column_end": 10,
       "column_start": 10,
       "row_end": 2,
       "row_start": 2,
       "type": "text",
       "value": "Willamette"
      }
     },
     "315af1a4505f431a9d9922b6c67110c2": {
      "model_module": "ipysheet",
      "model_module_version": "~0.4.4",
      "model_name": "CellRangeModel",
      "state": {
       "_view_module": null,
       "_view_module_version": "",
       "column_end": 8,
       "column_start": 8,
       "row_end": 4,
       "row_start": 4,
       "type": "numeric",
       "value": 17
      }
     },
     "32de7b2795c143d7acf17c6d673fbcd9": {
      "model_module": "ipysheet",
      "model_module_version": "~0.4.4",
      "model_name": "CellRangeModel",
      "state": {
       "_view_module": null,
       "_view_module_version": "",
       "column_end": 0,
       "column_start": 0,
       "row_end": 19,
       "row_start": 19,
       "type": "text",
       "value": "Post-boil Volume"
      }
     },
     "338f5153ecf649cd811e15210a79f58b": {
      "model_module": "ipysheet",
      "model_module_version": "~0.4.4",
      "model_name": "CellRangeModel",
      "state": {
       "_view_module": null,
       "_view_module_version": "",
       "column_end": 3,
       "column_start": 3,
       "row_end": 11,
       "row_start": 11,
       "style": {
        "backgroundColor": "red"
       },
       "type": "numeric",
       "value": ""
      }
     },
     "34a4def0c28543f191ff72edf8f931cb": {
      "model_module": "ipysheet",
      "model_module_version": "~0.4.4",
      "model_name": "CellRangeModel",
      "state": {
       "_view_module": null,
       "_view_module_version": "",
       "column_end": 6,
       "column_start": 6,
       "row_end": 2,
       "row_start": 2,
       "style": {
        "backgroundColor": "yellow"
       },
       "type": "numeric",
       "value": 0.25
      }
     },
     "34b2d704760d49c096691dfefae229dc": {
      "model_module": "@jupyter-widgets/output",
      "model_module_version": "1.0.0",
      "model_name": "OutputModel",
      "state": {
       "layout": "IPY_MODEL_2dc4c98430b34939a311e0abe7a29b22",
       "outputs": [
        {
         "data": {
          "text/html": "<div>\n<style scoped>\n    .dataframe tbody tr th:only-of-type {\n        vertical-align: middle;\n    }\n\n    .dataframe tbody tr th {\n        vertical-align: top;\n    }\n\n    .dataframe thead th {\n        text-align: right;\n    }\n</style>\n<table border=\"1\" class=\"dataframe\">\n  <thead>\n    <tr style=\"text-align: right;\">\n      <th></th>\n      <th>id</th>\n      <th>name</th>\n      <th>ftype</th>\n      <th>amount</th>\n      <th>yield</th>\n      <th>color</th>\n      <th>add_after_boil</th>\n      <th>origin</th>\n      <th>supplier</th>\n      <th>notes</th>\n      <th>...</th>\n      <th>max_in_batch</th>\n      <th>recommend_mash</th>\n      <th>is_mashed</th>\n      <th>ibu_gal_per_lb</th>\n      <th>display_unit</th>\n      <th>display_scale</th>\n      <th>deleted</th>\n      <th>display</th>\n      <th>folder</th>\n      <th>inventory_id</th>\n    </tr>\n  </thead>\n  <tbody>\n    <tr>\n      <th>89</th>\n      <td>90</td>\n      <td>Dry Extract (DME) - Amber</td>\n      <td>Dry Extract</td>\n      <td>0.0</td>\n      <td>95.0</td>\n      <td>13.0</td>\n      <td>false</td>\n      <td>US</td>\n      <td></td>\n      <td></td>\n      <td>...</td>\n      <td>100.0</td>\n      <td>false</td>\n      <td>false</td>\n      <td>0.0</td>\n      <td>-1</td>\n      <td>-1</td>\n      <td>0</td>\n      <td>1</td>\n      <td></td>\n      <td>90</td>\n    </tr>\n    <tr>\n      <th>90</th>\n      <td>91</td>\n      <td>Dry Extract (DME) - Dark</td>\n      <td>Dry Extract</td>\n      <td>0.0</td>\n      <td>95.0</td>\n      <td>18.0</td>\n      <td>false</td>\n      <td>US</td>\n      <td></td>\n      <td></td>\n      <td>...</td>\n      <td>100.0</td>\n      <td>false</td>\n      <td>false</td>\n      <td>0.0</td>\n      <td>-1</td>\n      <td>-1</td>\n      <td>0</td>\n      <td>1</td>\n      <td></td>\n      <td>91</td>\n    </tr>\n    <tr>\n      <th>91</th>\n      <td>92</td>\n      <td>Dry Extract (DME) - Extra Light</td>\n      <td>Dry Extract</td>\n      <td>0.0</td>\n      <td>95.0</td>\n      <td>3.0</td>\n      <td>false</td>\n      <td>US</td>\n      <td></td>\n      <td></td>\n      <td>...</td>\n      <td>100.0</td>\n      <td>false</td>\n      <td>false</td>\n      <td>0.0</td>\n      <td>-1</td>\n      <td>-1</td>\n      <td>0</td>\n      <td>1</td>\n      <td></td>\n      <td>92</td>\n    </tr>\n    <tr>\n      <th>92</th>\n      <td>93</td>\n      <td>Dry Extract (DME) - Light</td>\n      <td>Dry Extract</td>\n      <td>0.0</td>\n      <td>95.0</td>\n      <td>8.0</td>\n      <td>false</td>\n      <td>US</td>\n      <td></td>\n      <td></td>\n      <td>...</td>\n      <td>100.0</td>\n      <td>false</td>\n      <td>false</td>\n      <td>0.0</td>\n      <td>-1</td>\n      <td>-1</td>\n      <td>0</td>\n      <td>1</td>\n      <td></td>\n      <td>93</td>\n    </tr>\n    <tr>\n      <th>93</th>\n      <td>94</td>\n      <td>Dry Extract (DME) - Wheat</td>\n      <td>Dry Extract</td>\n      <td>0.0</td>\n      <td>95.0</td>\n      <td>8.0</td>\n      <td>false</td>\n      <td>US</td>\n      <td></td>\n      <td></td>\n      <td>...</td>\n      <td>100.0</td>\n      <td>false</td>\n      <td>false</td>\n      <td>0.0</td>\n      <td>-1</td>\n      <td>-1</td>\n      <td>0</td>\n      <td>1</td>\n      <td></td>\n      <td>94</td>\n    </tr>\n  </tbody>\n</table>\n<p>5 rows × 24 columns</p>\n</div>",
          "text/plain": "    id                             name        ftype  amount  yield  color  \\\n89  90        Dry Extract (DME) - Amber  Dry Extract     0.0   95.0   13.0   \n90  91         Dry Extract (DME) - Dark  Dry Extract     0.0   95.0   18.0   \n91  92  Dry Extract (DME) - Extra Light  Dry Extract     0.0   95.0    3.0   \n92  93        Dry Extract (DME) - Light  Dry Extract     0.0   95.0    8.0   \n93  94        Dry Extract (DME) - Wheat  Dry Extract     0.0   95.0    8.0   \n\n   add_after_boil origin supplier notes  ...  max_in_batch  recommend_mash  \\\n89          false     US                 ...         100.0           false   \n90          false     US                 ...         100.0           false   \n91          false     US                 ...         100.0           false   \n92          false     US                 ...         100.0           false   \n93          false     US                 ...         100.0           false   \n\n    is_mashed  ibu_gal_per_lb  display_unit display_scale deleted  display  \\\n89      false             0.0            -1            -1       0        1   \n90      false             0.0            -1            -1       0        1   \n91      false             0.0            -1            -1       0        1   \n92      false             0.0            -1            -1       0        1   \n93      false             0.0            -1            -1       0        1   \n\n    folder  inventory_id  \n89                    90  \n90                    91  \n91                    92  \n92                    93  \n93                    94  \n\n[5 rows x 24 columns]"
         },
         "metadata": {},
         "output_type": "display_data"
        }
       ]
      }
     },
     "34d1832422f3433c8d6ccd67408982ad": {
      "model_module": "ipysheet",
      "model_module_version": "~0.4.4",
      "model_name": "CellRangeModel",
      "state": {
       "_view_module": null,
       "_view_module_version": "",
       "column_end": 7,
       "column_start": 7,
       "type": "text",
       "value": "Use"
      }
     },
     "3664abada064457a96b061a3608a21ca": {
      "model_module": "ipysheet",
      "model_module_version": "~0.4.4",
      "model_name": "CellRangeModel",
      "state": {
       "_view_module": null,
       "_view_module_version": "",
       "column_end": 8,
       "column_start": 8,
       "row_end": 3,
       "row_start": 3,
       "type": "numeric",
       "value": 7
      }
     },
     "37e59e22afb442dfbbd74c3005328bd2": {
      "model_module": "ipysheet",
      "model_module_version": "~0.4.4",
      "model_name": "CellRangeModel",
      "state": {
       "_view_module": null,
       "_view_module_version": "",
       "column_end": 8,
       "column_start": 8,
       "row_end": 2,
       "row_start": 2,
       "type": "numeric",
       "value": 1
      }
     },
     "37f338c1a9174153bf8219db495c07f9": {
      "model_module": "ipysheet",
      "model_module_version": "~0.4.4",
      "model_name": "CellRangeModel",
      "state": {
       "_view_module": null,
       "_view_module_version": "",
       "column_end": 12,
       "column_start": 12,
       "row_end": 3,
       "row_start": 3,
       "style": {
        "backgroundColor": "yellow"
       },
       "type": "numeric",
       "value": 20
      }
     },
     "38f65e1bf6f04a7b98c9a9df6c14da21": {
      "model_module": "ipysheet",
      "model_module_version": "~0.4.4",
      "model_name": "CellRangeModel",
      "state": {
       "_view_module": null,
       "_view_module_version": "",
       "column_end": 2,
       "column_start": 2,
       "row_end": 7,
       "row_start": 7,
       "type": "text",
       "value": "1.01-1.018"
      }
     },
     "3e0b0339ccaf41b380f5f24cc86874ab": {
      "model_module": "ipysheet",
      "model_module_version": "~0.4.4",
      "model_name": "SheetModel",
      "state": {
       "cells": [
        "IPY_MODEL_160e88f0ca64472f9873bfb5519d3a0e",
        "IPY_MODEL_7aa9ab9b178e432ab791e3d87d66b873",
        "IPY_MODEL_5f2f5a18a0b0434cac8b6ae749a07549",
        "IPY_MODEL_867f5fd297204379810166680c8e9712",
        "IPY_MODEL_de8b298516734f17a277e63ad4e36ab0",
        "IPY_MODEL_c7479a84f4a2425999d9705d3ea4785e",
        "IPY_MODEL_0f3929632d9c443487be6885f5e3462b",
        "IPY_MODEL_ab6b33f58ede482caf1ca3cc38f82f24",
        "IPY_MODEL_0418cde0fb694184aa83edd57e140d0c",
        "IPY_MODEL_4c6c32912fcf4bccb93e177637ebdd14",
        "IPY_MODEL_34d1832422f3433c8d6ccd67408982ad",
        "IPY_MODEL_1c1a2a360c3b4c839f88411a504ae60a",
        "IPY_MODEL_a1b95ec8955945e486d78fc0b1ce2635",
        "IPY_MODEL_49f112d7b3c146e6aedbde3c23063605",
        "IPY_MODEL_7d15ec8effb14a7cab94cfbb208dd772",
        "IPY_MODEL_4a19e16f8e754af088ed345562e25f69",
        "IPY_MODEL_88fe6ca7332e469db17dc1e15f5d5f2b",
        "IPY_MODEL_b9de2650785a455397312516ef56f034",
        "IPY_MODEL_4ac28588874c495cb9f50dff53dfb578",
        "IPY_MODEL_c201cabe2c8f42e4adb65f66c6315b09",
        "IPY_MODEL_ccfd0d87a2e94944bc885904642bb4f2",
        "IPY_MODEL_8d8acdb99be24bb592c97b775aa47bc0",
        "IPY_MODEL_bd054ea4886940229bdc89836b76746f",
        "IPY_MODEL_c0627793dba94ddc9036209e30218396",
        "IPY_MODEL_6cd035f0a3ae49fe8888c5a1be082ebe",
        "IPY_MODEL_90153b3ff9a84ae091c50fc39bd73789",
        "IPY_MODEL_1909087b5a5d40c887e9c0ea146ec20d",
        "IPY_MODEL_2bee72ca5bf04cbcb550f175421bcce3",
        "IPY_MODEL_4da47d26e6204763953175b60d88c2cb",
        "IPY_MODEL_2de9d10c3cfc4b19bdbbd2aec4543628",
        "IPY_MODEL_0f0d9a1b00d44802912b14d4b7fe7067",
        "IPY_MODEL_64a3625d273f43a39bfb9bd1ccef7e74",
        "IPY_MODEL_4abdf0eeb02d4417accb20f3d41c9f2a",
        "IPY_MODEL_5f42dfb5059247ce89a771d1313b0f84",
        "IPY_MODEL_8c38a6e47a1742e996e37f3ca58d9122",
        "IPY_MODEL_7df46c98958d476e9e2f8b5c738109ef",
        "IPY_MODEL_414fd82b099c4162b0cfaa0308b85917",
        "IPY_MODEL_76b99d9e6af245e6a6bdf9cea0633213",
        "IPY_MODEL_efbef68690094510a8f4c70c3eec7425",
        "IPY_MODEL_3f48ffe4009a4465b48596414312cd45",
        "IPY_MODEL_f2adc2d3d2c14443a4f0b6e86792e4c4",
        "IPY_MODEL_c8c6cf60822a422493fd3a0567bd94d6",
        "IPY_MODEL_a14508f8bcec4295a1cd28ae8f3e1c93",
        "IPY_MODEL_5ba91438455547aea9b3445a001bcb3c",
        "IPY_MODEL_3664abada064457a96b061a3608a21ca",
        "IPY_MODEL_29320396267448138f093bd8cc72cb42",
        "IPY_MODEL_bc9433c9e1314177a14ecd2371d13a7b",
        "IPY_MODEL_c0986c6d25dc425da029f76622bc5a49",
        "IPY_MODEL_315af1a4505f431a9d9922b6c67110c2",
        "IPY_MODEL_fd03b83d69584752bf11813824fe6f06",
        "IPY_MODEL_c2b410bace3945a09bfdeb16ee45632e",
        "IPY_MODEL_a67541946e064e7ebc2dc13b106b9ff4",
        "IPY_MODEL_8c296bde3589409983321eb041fb8ea8",
        "IPY_MODEL_a166865d91e34caeafaebabbf1b67cef",
        "IPY_MODEL_db7ffcc720a14344b3c8f8539e96e444",
        "IPY_MODEL_e59411b9771b49638ac2b519b9dd8e2e",
        "IPY_MODEL_f2b8f5b1a2094781ac830f66474d8d5a",
        "IPY_MODEL_6b3e30973ca04f6d920bb54498007608",
        "IPY_MODEL_e886ad265e2f4a4294795fe5b52e4e94",
        "IPY_MODEL_de1350bf97dd465db021bc9113861a02",
        "IPY_MODEL_b131fd0e3da24bb990e38aca569b5a48",
        "IPY_MODEL_4a303451eb3049909bfc1e6168a2a2e5",
        "IPY_MODEL_c184011a493e4720878076d53dd53555",
        "IPY_MODEL_2f6110424cf242aab0f691a70265b0e6",
        "IPY_MODEL_239e56806b314c7c88d92aaa74cd7b6c",
        "IPY_MODEL_c2be015cc7f44174bd0af1419a2e44a5",
        "IPY_MODEL_406f8c2f5111465397a0f4c88e5e6575",
        "IPY_MODEL_9a0686aa4ce94b62ae3ab4d74dda2536",
        "IPY_MODEL_a97528eacd274cca8662f31d40d1ea89",
        "IPY_MODEL_27eec10919564ee9865be17dd436b891",
        "IPY_MODEL_a5db18346bab4b44badb9cb62af41d13",
        "IPY_MODEL_c3d330f9b8234d21988a1e1f1bbf0a8f",
        "IPY_MODEL_4986b26bf74f4a7c850dcb87a7ef758b",
        "IPY_MODEL_dfca4c10f15d46e19105c7c87341c84c",
        "IPY_MODEL_a0d279c0e219487dbc56644496b699df",
        "IPY_MODEL_0bd0e43157b34856bc95dc9de1cfac10",
        "IPY_MODEL_f9acb25b32ad4b86963398e4bc7e7143",
        "IPY_MODEL_6b5c6af66a5e4020b16c00f14c556f90",
        "IPY_MODEL_fd496811754a4a5a94bfdbd80d79ae40",
        "IPY_MODEL_6ee0429db6fb46e28528f3bdb313a439",
        "IPY_MODEL_0a7db95af4214a1ba9f4f9bfd43519ee",
        "IPY_MODEL_c37c1d979e5d4075aecdc7d814ff4060",
        "IPY_MODEL_9c30304a2a834d808ba4c966490a5d2b",
        "IPY_MODEL_cceae719d1be4f74a1a165de73b8b2b0",
        "IPY_MODEL_915b2884319f42c98fd4794b184479bf",
        "IPY_MODEL_9819d255cf31427b951d72bf35bc723b",
        "IPY_MODEL_7be8a56a96b44e8da2120bb151d95922",
        "IPY_MODEL_ad545bb8a52947f9a3940054b39da3fe",
        "IPY_MODEL_874fd9e8a07b4b64b578f678ec5397dd",
        "IPY_MODEL_a72d22dd42a246119592fd357b508c73",
        "IPY_MODEL_38f65e1bf6f04a7b98c9a9df6c14da21",
        "IPY_MODEL_0e3ab269f025427f8084c0302ce6d275",
        "IPY_MODEL_20ba36171599451f8a7606a5d55acbd5",
        "IPY_MODEL_c9e1b71cca8746b99dd0a70b9d910d62",
        "IPY_MODEL_d685e9aec55f47b0b33a5a299864d829",
        "IPY_MODEL_6e1b5774a24143c686a54b4b1e075d1d",
        "IPY_MODEL_7c55ef8d7d70405b899684fc30b7fdea",
        "IPY_MODEL_7da57e06a97b4e90bdc0b370df606bbc",
        "IPY_MODEL_338f5153ecf649cd811e15210a79f58b"
       ],
       "columns": 20,
       "layout": "IPY_MODEL_5bc453c0b71645169a5202189a456d54",
       "rows": 21
      }
     },
     "3e9c43b38bfd42c0a63076bb51e5b1e5": {
      "model_module": "ipysheet",
      "model_module_version": "~0.4.4",
      "model_name": "CellRangeModel",
      "state": {
       "_view_module": null,
       "_view_module_version": "",
       "column_end": 5,
       "column_start": 5,
       "row_end": 6,
       "row_start": 6,
       "type": "text",
       "value": "Briess - 6 Row Brewers Malt"
      }
     },
     "3f48ffe4009a4465b48596414312cd45": {
      "model_module": "ipysheet",
      "model_module_version": "~0.4.4",
      "model_name": "CellRangeModel",
      "state": {
       "_view_module": null,
       "_view_module_version": "",
       "column_end": 7,
       "column_start": 7,
       "row_end": 2,
       "row_start": 2,
       "type": "text",
       "value": "Mash"
      }
     },
     "406f8c2f5111465397a0f4c88e5e6575": {
      "model_module": "ipysheet",
      "model_module_version": "~0.4.4",
      "model_name": "CellRangeModel",
      "state": {
       "_view_module": null,
       "_view_module_version": "",
       "column_end": 11,
       "column_start": 11,
       "row_end": 3,
       "row_start": 3,
       "style": {
        "backgroundColor": "yellow"
       },
       "type": "numeric",
       "value": 0.5
      }
     },
     "414fd82b099c4162b0cfaa0308b85917": {
      "model_module": "ipysheet",
      "model_module_version": "~0.4.4",
      "model_name": "CellRangeModel",
      "state": {
       "_view_module": null,
       "_view_module_version": "",
       "column_end": 0,
       "column_start": 0,
       "row_end": 20,
       "row_start": 20,
       "type": "text",
       "value": "Post-boil Gravity"
      }
     },
     "43b6d476558b4110ace82874b2c5a616": {
      "model_module": "ipysheet",
      "model_module_version": "~0.4.4",
      "model_name": "CellRangeModel",
      "state": {
       "_view_module": null,
       "_view_module_version": "",
       "column_end": 15,
       "column_start": 15,
       "row_end": 0,
       "row_start": 0,
       "type": "text",
       "value": "Yeast"
      }
     },
     "44e6f2b768cd4590814b5fc3e8405f40": {
      "model_module": "ipysheet",
      "model_module_version": "~0.4.4",
      "model_name": "CellRangeModel",
      "state": {
       "_view_module": null,
       "_view_module_version": "",
       "column_end": 17,
       "column_start": 17,
       "row_end": 2,
       "row_start": 2,
       "style": {
        "backgroundColor": "red"
       },
       "type": "numeric",
       "value": 73.125
      }
     },
     "4536cd4a79d64565b56866f90be592d1": {
      "model_module": "ipysheet",
      "model_module_version": "~0.4.4",
      "model_name": "CellRangeModel",
      "state": {
       "_view_module": null,
       "_view_module_version": "",
       "column_end": 10,
       "column_start": 10,
       "row_end": 0,
       "row_start": 0,
       "type": "text",
       "value": "Hops"
      }
     },
     "48981de95d7b4059bf33c0c6ca0bd05d": {
      "model_module": "ipysheet",
      "model_module_version": "~0.4.4",
      "model_name": "CellRangeModel",
      "state": {
       "_view_module": null,
       "_view_module_version": "",
       "column_end": 19,
       "column_start": 19,
       "type": "text",
       "value": "Max Temp (F)"
      }
     },
     "4986b26bf74f4a7c850dcb87a7ef758b": {
      "model_module": "ipysheet",
      "model_module_version": "~0.4.4",
      "model_name": "CellRangeModel",
      "state": {
       "_view_module": null,
       "_view_module_version": "",
       "column_end": 18,
       "column_start": 18,
       "row_end": 2,
       "row_start": 2,
       "type": "numeric",
       "value": 59
      }
     },
     "49f112d7b3c146e6aedbde3c23063605": {
      "model_module": "ipysheet",
      "model_module_version": "~0.4.4",
      "model_name": "CellRangeModel",
      "state": {
       "_view_module": null,
       "_view_module_version": "",
       "column_end": 11,
       "column_start": 11,
       "type": "text",
       "value": "Amount (oz)"
      }
     },
     "4a19e16f8e754af088ed345562e25f69": {
      "model_module": "ipysheet",
      "model_module_version": "~0.4.4",
      "model_name": "CellRangeModel",
      "state": {
       "_view_module": null,
       "_view_module_version": "",
       "column_end": 13,
       "column_start": 13,
       "type": "text",
       "value": "IBU"
      }
     },
     "4a303451eb3049909bfc1e6168a2a2e5": {
      "model_module": "ipysheet",
      "model_module_version": "~0.4.4",
      "model_name": "CellRangeModel",
      "state": {
       "_view_module": null,
       "_view_module_version": "",
       "column_end": 10,
       "column_start": 10,
       "row_end": 2,
       "row_start": 2,
       "type": "text",
       "value": "Willamette"
      }
     },
     "4abdf0eeb02d4417accb20f3d41c9f2a": {
      "model_module": "ipysheet",
      "model_module_version": "~0.4.4",
      "model_name": "CellRangeModel",
      "state": {
       "_view_module": null,
       "_view_module_version": "",
       "column_end": 0,
       "column_start": 0,
       "row_end": 16,
       "row_start": 16,
       "type": "text",
       "value": "Mash Volume"
      }
     },
     "4ac28588874c495cb9f50dff53dfb578": {
      "model_module": "ipysheet",
      "model_module_version": "~0.4.4",
      "model_name": "CellRangeModel",
      "state": {
       "_view_module": null,
       "_view_module_version": "",
       "column_end": 17,
       "column_start": 17,
       "type": "text",
       "value": "Attenuation (adjusted)"
      }
     },
     "4b8db34ae4c547c9b5cd7df0b9f1de16": {
      "model_module": "ipysheet",
      "model_module_version": "~0.4.4",
      "model_name": "CellRangeModel",
      "state": {
       "_view_module": null,
       "_view_module_version": "",
       "column_end": 7,
       "column_start": 7,
       "row_end": 5,
       "row_start": 5,
       "type": "text",
       "value": "Extract"
      }
     },
     "4b95e363fcbc4d4282d2cca727898163": {
      "model_module": "ipysheet",
      "model_module_version": "~0.4.4",
      "model_name": "CellRangeModel",
      "state": {
       "_view_module": null,
       "_view_module_version": "",
       "column_end": 0,
       "column_start": 0,
       "row_end": 3,
       "row_start": 3,
       "type": "text",
       "value": "Boil Size"
      }
     },
     "4c6c32912fcf4bccb93e177637ebdd14": {
      "model_module": "ipysheet",
      "model_module_version": "~0.4.4",
      "model_name": "CellRangeModel",
      "state": {
       "_view_module": null,
       "_view_module_version": "",
       "column_end": 6,
       "column_start": 6,
       "type": "text",
       "value": "Amount (lbs)"
      }
     },
     "4da47d26e6204763953175b60d88c2cb": {
      "model_module": "ipysheet",
      "model_module_version": "~0.4.4",
      "model_name": "CellRangeModel",
      "state": {
       "_view_module": null,
       "_view_module_version": "",
       "column_end": 0,
       "column_start": 0,
       "row_end": 9,
       "row_start": 9,
       "type": "text",
       "value": "Color"
      }
     },
     "4e32aee03116432ab28918f22877a529": {
      "model_module": "ipysheet",
      "model_module_version": "~0.4.4",
      "model_name": "CellRangeModel",
      "state": {
       "_view_module": null,
       "_view_module_version": "",
       "column_end": 6,
       "column_start": 6,
       "row_end": 5,
       "row_start": 5,
       "style": {
        "backgroundColor": "yellow"
       },
       "type": "numeric",
       "value": 1
      }
     },
     "4e58cd2b72de449d8e818180f566fe49": {
      "model_module": "ipysheet",
      "model_module_version": "~0.4.4",
      "model_name": "CellRangeModel",
      "state": {
       "_view_module": null,
       "_view_module_version": "",
       "row_end": 9,
       "row_start": 9,
       "style": {
        "backgroundColor": "red"
       },
       "type": "numeric",
       "value": 33.9
      }
     },
     "4e68dacf801b4ac38de74cc30c532805": {
      "model_module": "ipysheet",
      "model_module_version": "~0.4.4",
      "model_name": "CellRangeModel",
      "state": {
       "_view_module": null,
       "_view_module_version": "",
       "column_end": 2,
       "column_start": 2,
       "type": "text",
       "value": "Style Min-Max"
      }
     },
     "50eed7e3e55a44a49f9086567ff5ed9c": {
      "model_module": "ipysheet",
      "model_module_version": "~0.4.4",
      "model_name": "CellRangeModel",
      "state": {
       "_view_module": null,
       "_view_module_version": "",
       "column_end": 0,
       "column_start": 0,
       "row_end": 4,
       "row_start": 4,
       "type": "text",
       "value": "Boil Time"
      }
     },
     "5290ff9a6d10466e8acb044267f60033": {
      "model_module": "ipysheet",
      "model_module_version": "~0.4.4",
      "model_name": "CellRangeModel",
      "state": {
       "_view_module": null,
       "_view_module_version": "",
       "column_end": 15,
       "column_start": 15,
       "type": "text",
       "value": "Name"
      }
     },
     "544194549765436888b5126bd85dbd93": {
      "model_module": "@jupyter-widgets/base",
      "model_module_version": "1.2.0",
      "model_name": "LayoutModel",
      "state": {}
     },
     "5ba91438455547aea9b3445a001bcb3c": {
      "model_module": "ipysheet",
      "model_module_version": "~0.4.4",
      "model_name": "CellRangeModel",
      "state": {
       "_view_module": null,
       "_view_module_version": "",
       "column_end": 7,
       "column_start": 7,
       "row_end": 3,
       "row_start": 3,
       "type": "text",
       "value": "Mash"
      }
     },
     "5bc453c0b71645169a5202189a456d54": {
      "model_module": "@jupyter-widgets/base",
      "model_module_version": "1.2.0",
      "model_name": "LayoutModel",
      "state": {
       "height": "auto",
       "width": "auto"
      }
     },
     "5cb32af312a04a69804611c67a23e703": {
      "model_module": "ipysheet",
      "model_module_version": "~0.4.4",
      "model_name": "CellRangeModel",
      "state": {
       "_view_module": null,
       "_view_module_version": "",
       "column_end": 2,
       "column_start": 2,
       "row_end": 6,
       "row_start": 6,
       "type": "text",
       "value": "1.048-1.065"
      }
     },
     "5f2f5a18a0b0434cac8b6ae749a07549": {
      "model_module": "ipysheet",
      "model_module_version": "~0.4.4",
      "model_name": "CellRangeModel",
      "state": {
       "_view_module": null,
       "_view_module_version": "",
       "column_end": 10,
       "column_start": 10,
       "row_end": 0,
       "row_start": 0,
       "type": "text",
       "value": "Hops"
      }
     },
     "5f42dfb5059247ce89a771d1313b0f84": {
      "model_module": "ipysheet",
      "model_module_version": "~0.4.4",
      "model_name": "CellRangeModel",
      "state": {
       "_view_module": null,
       "_view_module_version": "",
       "column_end": 0,
       "column_start": 0,
       "row_end": 17,
       "row_start": 17,
       "type": "text",
       "value": "Post-Mash Gravity"
      }
     },
     "61d5a5c1d58d46018fd4b7be442e6817": {
      "model_module": "ipysheet",
      "model_module_version": "~0.4.4",
      "model_name": "CellRangeModel",
      "state": {
       "_view_module": null,
       "_view_module_version": "",
       "column_end": 2,
       "column_start": 2,
       "row_end": 9,
       "row_start": 9,
       "type": "text",
       "value": "22.0-40.0"
      }
     },
     "64a3625d273f43a39bfb9bd1ccef7e74": {
      "model_module": "ipysheet",
      "model_module_version": "~0.4.4",
      "model_name": "CellRangeModel",
      "state": {
       "_view_module": null,
       "_view_module_version": "",
       "column_end": 0,
       "column_start": 0,
       "row_end": 14,
       "row_start": 14,
       "type": "text",
       "value": "Brew Day Values"
      }
     },
     "6811a4141e6348738ab5147dfe2d72d6": {
      "model_module": "ipysheet",
      "model_module_version": "~0.4.4",
      "model_name": "CellRangeModel",
      "state": {
       "_view_module": null,
       "_view_module_version": "",
       "column_end": 16,
       "column_start": 16,
       "type": "text",
       "value": "Attenuation (listed)"
      }
     },
     "6b3e30973ca04f6d920bb54498007608": {
      "model_module": "ipysheet",
      "model_module_version": "~0.4.4",
      "model_name": "CellRangeModel",
      "state": {
       "_view_module": null,
       "_view_module_version": "",
       "column_end": 5,
       "column_start": 5,
       "row_end": 7,
       "row_start": 7,
       "type": "text",
       "value": "Briess - Chocolate Malt"
      }
     },
     "6b5c6af66a5e4020b16c00f14c556f90": {
      "model_module": "ipysheet",
      "model_module_version": "~0.4.4",
      "model_name": "CellRangeModel",
      "state": {
       "_view_module": null,
       "_view_module_version": "",
       "row_end": 5,
       "row_start": 5,
       "style": {
        "backgroundColor": "yellow"
       },
       "type": "numeric",
       "value": 165
      }
     },
     "6cd035f0a3ae49fe8888c5a1be082ebe": {
      "model_module": "ipysheet",
      "model_module_version": "~0.4.4",
      "model_name": "CellRangeModel",
      "state": {
       "_view_module": null,
       "_view_module_version": "",
       "column_end": 0,
       "column_start": 0,
       "row_end": 5,
       "row_start": 5,
       "type": "text",
       "value": "Mash Temp"
      }
     },
     "6e1b5774a24143c686a54b4b1e075d1d": {
      "model_module": "ipysheet",
      "model_module_version": "~0.4.4",
      "model_name": "CellRangeModel",
      "state": {
       "_view_module": null,
       "_view_module_version": "",
       "column_end": 3,
       "column_start": 3,
       "row_end": 7,
       "row_start": 7,
       "style": {
        "backgroundColor": "red"
       },
       "type": "numeric",
       "value": ""
      }
     },
     "6ee0429db6fb46e28528f3bdb313a439": {
      "model_module": "ipysheet",
      "model_module_version": "~0.4.4",
      "model_name": "CellRangeModel",
      "state": {
       "_view_module": null,
       "_view_module_version": "",
       "row_end": 7,
       "row_start": 7,
       "style": {
        "backgroundColor": "red"
       },
       "type": "numeric",
       "value": 1.017
      }
     },
     "71309548f5ad47be91c7d41019943135": {
      "model_module": "ipysheet",
      "model_module_version": "~0.4.4",
      "model_name": "CellRangeModel",
      "state": {
       "_view_module": null,
       "_view_module_version": "",
       "column_end": 13,
       "column_start": 13,
       "row_end": 3,
       "row_start": 3,
       "type": "numeric",
       "value": 6.2
      }
     },
     "75e1d0e81b8e4d058870259e8fcd59fc": {
      "model_module": "@jupyter-widgets/base",
      "model_module_version": "1.2.0",
      "model_name": "LayoutModel",
      "state": {
       "height": "auto",
       "width": "auto"
      }
     },
     "76b99d9e6af245e6a6bdf9cea0633213": {
      "model_module": "ipysheet",
      "model_module_version": "~0.4.4",
      "model_name": "CellRangeModel",
      "state": {
       "_view_module": null,
       "_view_module_version": "",
       "column_end": 5,
       "column_start": 5,
       "row_end": 2,
       "row_start": 2,
       "type": "text",
       "value": "Black (Patent) Malt"
      }
     },
     "77e376acda664b7ab5b183d5f20006dc": {
      "model_module": "@jupyter-widgets/controls",
      "model_module_version": "1.5.0",
      "model_name": "DescriptionStyleModel",
      "state": {
       "description_width": ""
      }
     },
     "79839691024944ba96ceac2207ab14d6": {
      "model_module": "ipysheet",
      "model_module_version": "~0.4.4",
      "model_name": "CellRangeModel",
      "state": {
       "_view_module": null,
       "_view_module_version": "",
       "column_end": 15,
       "column_start": 15,
       "row_end": 2,
       "row_start": 2,
       "type": "text",
       "value": "Safale S-04"
      }
     },
     "79bf96718efa47a981b99c27323ef149": {
      "model_module": "ipysheet",
      "model_module_version": "~0.4.4",
      "model_name": "CellRangeModel",
      "state": {
       "_view_module": null,
       "_view_module_version": "",
       "column_end": 3,
       "column_start": 3,
       "row_end": 11,
       "row_start": 11,
       "style": {
        "backgroundColor": "red"
       },
       "type": "numeric",
       "value": ""
      }
     },
     "7a36d298bfa449ce85325b5366d84d3f": {
      "model_module": "ipysheet",
      "model_module_version": "~0.4.4",
      "model_name": "CellRangeModel",
      "state": {
       "_view_module": null,
       "_view_module_version": "",
       "column_end": 7,
       "column_start": 7,
       "type": "text",
       "value": "Use"
      }
     },
     "7aa9ab9b178e432ab791e3d87d66b873": {
      "model_module": "ipysheet",
      "model_module_version": "~0.4.4",
      "model_name": "CellRangeModel",
      "state": {
       "_view_module": null,
       "_view_module_version": "",
       "column_end": 5,
       "column_start": 5,
       "row_end": 0,
       "row_start": 0,
       "type": "text",
       "value": "Fermentables"
      }
     },
     "7be8a56a96b44e8da2120bb151d95922": {
      "model_module": "ipysheet",
      "model_module_version": "~0.4.4",
      "model_name": "CellRangeModel",
      "state": {
       "_view_module": null,
       "_view_module_version": "",
       "row_end": 18,
       "row_start": 18,
       "style": {
        "backgroundColor": "red"
       },
       "type": "numeric",
       "value": 1.08
      }
     },
     "7c55ef8d7d70405b899684fc30b7fdea": {
      "model_module": "ipysheet",
      "model_module_version": "~0.4.4",
      "model_name": "CellRangeModel",
      "state": {
       "_view_module": null,
       "_view_module_version": "",
       "column_end": 3,
       "column_start": 3,
       "row_end": 8,
       "row_start": 8,
       "style": {
        "backgroundColor": "red"
       },
       "type": "numeric",
       "value": ""
      }
     },
     "7d15ec8effb14a7cab94cfbb208dd772": {
      "model_module": "ipysheet",
      "model_module_version": "~0.4.4",
      "model_name": "CellRangeModel",
      "state": {
       "_view_module": null,
       "_view_module_version": "",
       "column_end": 12,
       "column_start": 12,
       "type": "text",
       "value": "Boil Time (min)"
      }
     },
     "7da57e06a97b4e90bdc0b370df606bbc": {
      "model_module": "ipysheet",
      "model_module_version": "~0.4.4",
      "model_name": "CellRangeModel",
      "state": {
       "_view_module": null,
       "_view_module_version": "",
       "column_end": 3,
       "column_start": 3,
       "row_end": 9,
       "row_start": 9,
       "style": {
        "backgroundColor": "red"
       },
       "type": "numeric",
       "value": "X"
      }
     },
     "7df46c98958d476e9e2f8b5c738109ef": {
      "model_module": "ipysheet",
      "model_module_version": "~0.4.4",
      "model_name": "CellRangeModel",
      "state": {
       "_view_module": null,
       "_view_module_version": "",
       "column_end": 0,
       "column_start": 0,
       "row_end": 19,
       "row_start": 19,
       "type": "text",
       "value": "Post-boil Volume"
      }
     },
     "83cd3f796f904a2090a2ee37d7cae15f": {
      "model_module": "ipysheet",
      "model_module_version": "~0.4.4",
      "model_name": "CellRangeModel",
      "state": {
       "_view_module": null,
       "_view_module_version": "",
       "column_end": 2,
       "column_start": 2,
       "row_end": 8,
       "row_start": 8,
       "type": "text",
       "value": "25.0-40.0"
      }
     },
     "867f5fd297204379810166680c8e9712": {
      "model_module": "ipysheet",
      "model_module_version": "~0.4.4",
      "model_name": "CellRangeModel",
      "state": {
       "_view_module": null,
       "_view_module_version": "",
       "column_end": 15,
       "column_start": 15,
       "row_end": 0,
       "row_start": 0,
       "type": "text",
       "value": "Yeast"
      }
     },
     "874fd9e8a07b4b64b578f678ec5397dd": {
      "model_module": "ipysheet",
      "model_module_version": "~0.4.4",
      "model_name": "CellRangeModel",
      "state": {
       "_view_module": null,
       "_view_module_version": "",
       "row_end": 20,
       "row_start": 20,
       "style": {
        "backgroundColor": "red"
       },
       "type": "numeric",
       "value": 1.118
      }
     },
     "885032d4f1f84f80b097810ff235e968": {
      "model_module": "ipysheet",
      "model_module_version": "~0.4.4",
      "model_name": "CellRangeModel",
      "state": {
       "_view_module": null,
       "_view_module_version": "",
       "column_end": 7,
       "column_start": 7,
       "row_end": 4,
       "row_start": 4,
       "type": "text",
       "value": "Extract"
      }
     },
     "88fe6ca7332e469db17dc1e15f5d5f2b": {
      "model_module": "ipysheet",
      "model_module_version": "~0.4.4",
      "model_name": "CellRangeModel",
      "state": {
       "_view_module": null,
       "_view_module_version": "",
       "column_end": 15,
       "column_start": 15,
       "type": "text",
       "value": "Name"
      }
     },
     "89160d23a2dd4567b3a2c93e1ccb6eec": {
      "model_module": "@jupyter-widgets/controls",
      "model_module_version": "1.5.0",
      "model_name": "TextModel",
      "state": {
       "description": "fermentable:",
       "layout": "IPY_MODEL_0f32e140bfb142b2add3e12b816cc90c",
       "placeholder": "Type something",
       "style": "IPY_MODEL_edbcab02866c4af197b71a3e46797d4a",
       "value": "honey"
      }
     },
     "89d717f2ac534907989b81a6b4d940d3": {
      "model_module": "ipysheet",
      "model_module_version": "~0.4.4",
      "model_name": "CellRangeModel",
      "state": {
       "_view_module": null,
       "_view_module_version": "",
       "row_end": 8,
       "row_start": 8,
       "style": {
        "backgroundColor": "red"
       },
       "type": "numeric",
       "value": 25.7
      }
     },
     "8b43ee9b26f54c758cc35df608de2741": {
      "model_module": "@jupyter-widgets/controls",
      "model_module_version": "1.5.0",
      "model_name": "VBoxModel",
      "state": {
       "_dom_classes": [
        "widget-interact"
       ],
       "children": [
        "IPY_MODEL_c1bd748190774e3f9eef1ad7d01fe6ec",
        "IPY_MODEL_34b2d704760d49c096691dfefae229dc"
       ],
       "layout": "IPY_MODEL_f670c8f5e59a4ded9ca3ee805f7668c7"
      }
     },
     "8b6658db64d7495e898607d7623ebbf3": {
      "model_module": "ipysheet",
      "model_module_version": "~0.4.4",
      "model_name": "CellRangeModel",
      "state": {
       "_view_module": null,
       "_view_module_version": "",
       "row_end": 10,
       "row_start": 10,
       "style": {
        "backgroundColor": "yellow"
       },
       "type": "numeric",
       "value": 55
      }
     },
     "8c296bde3589409983321eb041fb8ea8": {
      "model_module": "ipysheet",
      "model_module_version": "~0.4.4",
      "model_name": "CellRangeModel",
      "state": {
       "_view_module": null,
       "_view_module_version": "",
       "column_end": 8,
       "column_start": 8,
       "row_end": 5,
       "row_start": 5,
       "type": "numeric",
       "value": 17
      }
     },
     "8c38a6e47a1742e996e37f3ca58d9122": {
      "model_module": "ipysheet",
      "model_module_version": "~0.4.4",
      "model_name": "CellRangeModel",
      "state": {
       "_view_module": null,
       "_view_module_version": "",
       "column_end": 0,
       "column_start": 0,
       "row_end": 18,
       "row_start": 18,
       "type": "text",
       "value": "Pre-boil Gravity"
      }
     },
     "8d8acdb99be24bb592c97b775aa47bc0": {
      "model_module": "ipysheet",
      "model_module_version": "~0.4.4",
      "model_name": "CellRangeModel",
      "state": {
       "_view_module": null,
       "_view_module_version": "",
       "column_end": 0,
       "column_start": 0,
       "row_end": 2,
       "row_start": 2,
       "type": "text",
       "value": "Batch Size"
      }
     },
     "8dded89b2d6a407da15274f3419add65": {
      "model_module": "ipysheet",
      "model_module_version": "~0.4.4",
      "model_name": "CellRangeModel",
      "state": {
       "_view_module": null,
       "_view_module_version": "",
       "column_end": 5,
       "column_start": 5,
       "row_end": 3,
       "row_start": 3,
       "type": "text",
       "value": "Oats, Flaked"
      }
     },
     "90153b3ff9a84ae091c50fc39bd73789": {
      "model_module": "ipysheet",
      "model_module_version": "~0.4.4",
      "model_name": "CellRangeModel",
      "state": {
       "_view_module": null,
       "_view_module_version": "",
       "column_end": 0,
       "column_start": 0,
       "row_end": 6,
       "row_start": 6,
       "type": "text",
       "value": "OG"
      }
     },
     "915b2884319f42c98fd4794b184479bf": {
      "model_module": "ipysheet",
      "model_module_version": "~0.4.4",
      "model_name": "CellRangeModel",
      "state": {
       "_view_module": null,
       "_view_module_version": "",
       "row_end": 16,
       "row_start": 16,
       "style": {
        "backgroundColor": "yellow"
       },
       "type": "numeric",
       "value": 1.5
      }
     },
     "9320db35c77949fcbe68cae5553b2baa": {
      "model_module": "ipysheet",
      "model_module_version": "~0.4.4",
      "model_name": "CellRangeModel",
      "state": {
       "_view_module": null,
       "_view_module_version": "",
       "column_end": 8,
       "column_start": 8,
       "row_end": 6,
       "row_start": 6,
       "type": "numeric",
       "value": 10
      }
     },
     "95e0d33d79ad42ffa7afa138f0d8ceee": {
      "model_module": "ipysheet",
      "model_module_version": "~0.4.4",
      "model_name": "CellRangeModel",
      "state": {
       "_view_module": null,
       "_view_module_version": "",
       "column_end": 0,
       "column_start": 0,
       "row_end": 10,
       "row_start": 10,
       "type": "text",
       "value": "Efficiency"
      }
     },
     "9819d255cf31427b951d72bf35bc723b": {
      "model_module": "ipysheet",
      "model_module_version": "~0.4.4",
      "model_name": "CellRangeModel",
      "state": {
       "_view_module": null,
       "_view_module_version": "",
       "row_end": 17,
       "row_start": 17,
       "style": {
        "backgroundColor": "red"
       },
       "type": "numeric",
       "value": 1.049
      }
     },
     "9a0686aa4ce94b62ae3ab4d74dda2536": {
      "model_module": "ipysheet",
      "model_module_version": "~0.4.4",
      "model_name": "CellRangeModel",
      "state": {
       "_view_module": null,
       "_view_module_version": "",
       "column_end": 12,
       "column_start": 12,
       "row_end": 3,
       "row_start": 3,
       "style": {
        "backgroundColor": "yellow"
       },
       "type": "numeric",
       "value": 20
      }
     },
     "9c30304a2a834d808ba4c966490a5d2b": {
      "model_module": "ipysheet",
      "model_module_version": "~0.4.4",
      "model_name": "CellRangeModel",
      "state": {
       "_view_module": null,
       "_view_module_version": "",
       "row_end": 10,
       "row_start": 10,
       "style": {
        "backgroundColor": "yellow"
       },
       "type": "numeric",
       "value": 48
      }
     },
     "9c48ae29f5614b219be01964976d06df": {
      "model_module": "ipysheet",
      "model_module_version": "~0.4.4",
      "model_name": "CellRangeModel",
      "state": {
       "_view_module": null,
       "_view_module_version": "",
       "row_end": 4,
       "row_start": 4,
       "style": {
        "backgroundColor": "yellow"
       },
       "type": "numeric",
       "value": 60
      }
     },
     "a0d279c0e219487dbc56644496b699df": {
      "model_module": "ipysheet",
      "model_module_version": "~0.4.4",
      "model_name": "CellRangeModel",
      "state": {
       "_view_module": null,
       "_view_module_version": "",
       "row_end": 2,
       "row_start": 2,
       "style": {
        "backgroundColor": "yellow"
       },
       "type": "numeric",
       "value": 2.5
      }
     },
     "a14508f8bcec4295a1cd28ae8f3e1c93": {
      "model_module": "ipysheet",
      "model_module_version": "~0.4.4",
      "model_name": "CellRangeModel",
      "state": {
       "_view_module": null,
       "_view_module_version": "",
       "column_end": 6,
       "column_start": 6,
       "row_end": 3,
       "row_start": 3,
       "style": {
        "backgroundColor": "yellow"
       },
       "type": "numeric",
       "value": 1
      }
     },
     "a166865d91e34caeafaebabbf1b67cef": {
      "model_module": "ipysheet",
      "model_module_version": "~0.4.4",
      "model_name": "CellRangeModel",
      "state": {
       "_view_module": null,
       "_view_module_version": "",
       "column_end": 5,
       "column_start": 5,
       "row_end": 6,
       "row_start": 6,
       "type": "text",
       "value": "Briess - 6 Row Brewers Malt"
      }
     },
     "a1b95ec8955945e486d78fc0b1ce2635": {
      "model_module": "ipysheet",
      "model_module_version": "~0.4.4",
      "model_name": "CellRangeModel",
      "state": {
       "_view_module": null,
       "_view_module_version": "",
       "column_end": 10,
       "column_start": 10,
       "type": "text",
       "value": "Name"
      }
     },
     "a256b06694364c0498b7907444279223": {
      "model_module": "ipysheet",
      "model_module_version": "~0.4.4",
      "model_name": "CellRangeModel",
      "state": {
       "_view_module": null,
       "_view_module_version": "",
       "column_end": 0,
       "column_start": 0,
       "row_end": 2,
       "row_start": 2,
       "type": "text",
       "value": "Batch Size"
      }
     },
     "a2c49ad73c94421180ae25442a87a6ff": {
      "model_module": "ipysheet",
      "model_module_version": "~0.4.4",
      "model_name": "CellRangeModel",
      "state": {
       "_view_module": null,
       "_view_module_version": "",
       "column_end": 5,
       "column_start": 5,
       "row_end": 0,
       "row_start": 0,
       "type": "text",
       "value": "Fermentables"
      }
     },
     "a5db18346bab4b44badb9cb62af41d13": {
      "model_module": "ipysheet",
      "model_module_version": "~0.4.4",
      "model_name": "CellRangeModel",
      "state": {
       "_view_module": null,
       "_view_module_version": "",
       "column_end": 16,
       "column_start": 16,
       "row_end": 2,
       "row_start": 2,
       "style": {
        "backgroundColor": "yellow"
       },
       "type": "numeric",
       "value": 75
      }
     },
     "a67541946e064e7ebc2dc13b106b9ff4": {
      "model_module": "ipysheet",
      "model_module_version": "~0.4.4",
      "model_name": "CellRangeModel",
      "state": {
       "_view_module": null,
       "_view_module_version": "",
       "column_end": 7,
       "column_start": 7,
       "row_end": 5,
       "row_start": 5,
       "type": "text",
       "value": "Extract"
      }
     },
     "a72d22dd42a246119592fd357b508c73": {
      "model_module": "ipysheet",
      "model_module_version": "~0.4.4",
      "model_name": "CellRangeModel",
      "state": {
       "_view_module": null,
       "_view_module_version": "",
       "column_end": 2,
       "column_start": 2,
       "row_end": 6,
       "row_start": 6,
       "type": "text",
       "value": "1.048-1.065"
      }
     },
     "a97528eacd274cca8662f31d40d1ea89": {
      "model_module": "ipysheet",
      "model_module_version": "~0.4.4",
      "model_name": "CellRangeModel",
      "state": {
       "_view_module": null,
       "_view_module_version": "",
       "column_end": 13,
       "column_start": 13,
       "row_end": 3,
       "row_start": 3,
       "type": "numeric",
       "value": 6.2
      }
     },
     "a9ce599e29b446e78596d6e0254627ba": {
      "model_module": "ipysheet",
      "model_module_version": "~0.4.4",
      "model_name": "CellRangeModel",
      "state": {
       "_view_module": null,
       "_view_module_version": "",
       "row_end": 2,
       "row_start": 2,
       "style": {
        "backgroundColor": "yellow"
       },
       "type": "numeric",
       "value": 2.5
      }
     },
     "aa461530b40d46f3a7dfaf9cecd698bc": {
      "model_module": "ipysheet",
      "model_module_version": "~0.4.4",
      "model_name": "CellRangeModel",
      "state": {
       "_view_module": null,
       "_view_module_version": "",
       "column_end": 0,
       "column_start": 0,
       "row_end": 0,
       "row_start": 0,
       "type": "text",
       "value": "Summary"
      }
     },
     "aa980e457ebc4248bc3d159437960bac": {
      "model_module": "ipysheet",
      "model_module_version": "~0.4.4",
      "model_name": "CellRangeModel",
      "state": {
       "_view_module": null,
       "_view_module_version": "",
       "column_end": 0,
       "column_start": 0,
       "row_end": 8,
       "row_start": 8,
       "type": "text",
       "value": "Bitterness"
      }
     },
     "ab6b33f58ede482caf1ca3cc38f82f24": {
      "model_module": "ipysheet",
      "model_module_version": "~0.4.4",
      "model_name": "CellRangeModel",
      "state": {
       "_view_module": null,
       "_view_module_version": "",
       "column_end": 3,
       "column_start": 3,
       "type": "text",
       "value": "Style Fit?"
      }
     },
     "ad013f8ce2774a459aa27e558b64a545": {
      "model_module": "ipysheet",
      "model_module_version": "~0.4.4",
      "model_name": "CellRangeModel",
      "state": {
       "_view_module": null,
       "_view_module_version": "",
       "column_end": 0,
       "column_start": 0,
       "row_end": 20,
       "row_start": 20,
       "type": "text",
       "value": "Post-boil Gravity"
      }
     },
     "ad51abb836244c06ba37cc9aa39f8d56": {
      "model_module": "ipysheet",
      "model_module_version": "~0.4.4",
      "model_name": "CellRangeModel",
      "state": {
       "_view_module": null,
       "_view_module_version": "",
       "column_end": 18,
       "column_start": 18,
       "type": "text",
       "value": "Min Temp (F)"
      }
     },
     "ad545bb8a52947f9a3940054b39da3fe": {
      "model_module": "ipysheet",
      "model_module_version": "~0.4.4",
      "model_name": "CellRangeModel",
      "state": {
       "_view_module": null,
       "_view_module_version": "",
       "row_end": 19,
       "row_start": 19,
       "style": {
        "backgroundColor": "red"
       },
       "type": "numeric",
       "value": 1.1875
      }
     },
     "ad58830ed425458e98e039021f880e02": {
      "model_module": "@jupyter-widgets/output",
      "model_module_version": "1.0.0",
      "model_name": "OutputModel",
      "state": {
       "layout": "IPY_MODEL_544194549765436888b5126bd85dbd93",
       "outputs": [
        {
         "data": {
          "text/html": "<div>\n<style scoped>\n    .dataframe tbody tr th:only-of-type {\n        vertical-align: middle;\n    }\n\n    .dataframe tbody tr th {\n        vertical-align: top;\n    }\n\n    .dataframe thead th {\n        text-align: right;\n    }\n</style>\n<table border=\"1\" class=\"dataframe\">\n  <thead>\n    <tr style=\"text-align: right;\">\n      <th></th>\n      <th>id</th>\n      <th>name</th>\n      <th>ftype</th>\n      <th>amount</th>\n      <th>yield</th>\n      <th>color</th>\n      <th>add_after_boil</th>\n      <th>origin</th>\n      <th>supplier</th>\n      <th>notes</th>\n      <th>...</th>\n      <th>max_in_batch</th>\n      <th>recommend_mash</th>\n      <th>is_mashed</th>\n      <th>ibu_gal_per_lb</th>\n      <th>display_unit</th>\n      <th>display_scale</th>\n      <th>deleted</th>\n      <th>display</th>\n      <th>folder</th>\n      <th>inventory_id</th>\n    </tr>\n  </thead>\n  <tbody>\n    <tr>\n      <th>95</th>\n      <td>96</td>\n      <td>Honey</td>\n      <td>Extract</td>\n      <td>0.000000</td>\n      <td>75.0</td>\n      <td>1.0</td>\n      <td>false</td>\n      <td>US</td>\n      <td></td>\n      <td></td>\n      <td>...</td>\n      <td>100.0</td>\n      <td>false</td>\n      <td>false</td>\n      <td>0.0</td>\n      <td>-1</td>\n      <td>-1</td>\n      <td>0</td>\n      <td>1</td>\n      <td></td>\n      <td>96</td>\n    </tr>\n    <tr>\n      <th>96</th>\n      <td>97</td>\n      <td>Honey Malt</td>\n      <td>Grain</td>\n      <td>0.000000</td>\n      <td>80.0</td>\n      <td>25.0</td>\n      <td>false</td>\n      <td>Canada</td>\n      <td></td>\n      <td>This Canadian malt imparts a honey-like flavor...</td>\n      <td>...</td>\n      <td>10.0</td>\n      <td>true</td>\n      <td>false</td>\n      <td>0.0</td>\n      <td>-1</td>\n      <td>-1</td>\n      <td>0</td>\n      <td>1</td>\n      <td></td>\n      <td>97</td>\n    </tr>\n    <tr>\n      <th>209</th>\n      <td>210</td>\n      <td>Honey Malt</td>\n      <td>Grain</td>\n      <td>0.226796</td>\n      <td>80.0</td>\n      <td>25.0</td>\n      <td>false</td>\n      <td>Canada</td>\n      <td></td>\n      <td>This Canadian malt imparts a honey-like flavor...</td>\n      <td>...</td>\n      <td>10.0</td>\n      <td>true</td>\n      <td>true</td>\n      <td>0.0</td>\n      <td>-1</td>\n      <td>-1</td>\n      <td>0</td>\n      <td>0</td>\n      <td></td>\n      <td>210</td>\n    </tr>\n    <tr>\n      <th>279</th>\n      <td>280</td>\n      <td>Honey Malt</td>\n      <td>Grain</td>\n      <td>0.226796</td>\n      <td>80.0</td>\n      <td>25.0</td>\n      <td>false</td>\n      <td>Canada</td>\n      <td></td>\n      <td>This Canadian malt imparts a honey-like flavor...</td>\n      <td>...</td>\n      <td>10.0</td>\n      <td>true</td>\n      <td>false</td>\n      <td>0.0</td>\n      <td>-1</td>\n      <td>-1</td>\n      <td>0</td>\n      <td>0</td>\n      <td></td>\n      <td>280</td>\n    </tr>\n  </tbody>\n</table>\n<p>4 rows × 24 columns</p>\n</div>",
          "text/plain": "      id        name    ftype    amount  yield  color add_after_boil  origin  \\\n95    96       Honey  Extract  0.000000   75.0    1.0          false      US   \n96    97  Honey Malt    Grain  0.000000   80.0   25.0          false  Canada   \n209  210  Honey Malt    Grain  0.226796   80.0   25.0          false  Canada   \n279  280  Honey Malt    Grain  0.226796   80.0   25.0          false  Canada   \n\n    supplier                                              notes  ...  \\\n95                                                               ...   \n96            This Canadian malt imparts a honey-like flavor...  ...   \n209           This Canadian malt imparts a honey-like flavor...  ...   \n279           This Canadian malt imparts a honey-like flavor...  ...   \n\n     max_in_batch  recommend_mash  is_mashed  ibu_gal_per_lb  display_unit  \\\n95          100.0           false      false             0.0            -1   \n96           10.0            true      false             0.0            -1   \n209          10.0            true       true             0.0            -1   \n279          10.0            true      false             0.0            -1   \n\n    display_scale deleted  display  folder  inventory_id  \n95             -1       0        1                    96  \n96             -1       0        1                    97  \n209            -1       0        0                   210  \n279            -1       0        0                   280  \n\n[4 rows x 24 columns]"
         },
         "metadata": {},
         "output_type": "display_data"
        }
       ]
      }
     },
     "ae9a6b3ede2244239dbb984cee1c62cb": {
      "model_module": "ipysheet",
      "model_module_version": "~0.4.4",
      "model_name": "CellRangeModel",
      "state": {
       "_view_module": null,
       "_view_module_version": "",
       "column_end": 19,
       "column_start": 19,
       "row_end": 2,
       "row_start": 2,
       "type": "numeric",
       "value": 75.2
      }
     },
     "afcf1ea8cb6a4db9a5ece6f42647d6cc": {
      "model_module": "ipysheet",
      "model_module_version": "~0.4.4",
      "model_name": "CellRangeModel",
      "state": {
       "_view_module": null,
       "_view_module_version": "",
       "column_end": 0,
       "column_start": 0,
       "row_end": 7,
       "row_start": 7,
       "type": "text",
       "value": "FG"
      }
     },
     "b110d9f0e87a432eaa3442ffee02f086": {
      "model_module": "ipysheet",
      "model_module_version": "~0.4.4",
      "model_name": "CellRangeModel",
      "state": {
       "_view_module": null,
       "_view_module_version": "",
       "column_end": 3,
       "column_start": 3,
       "row_end": 6,
       "row_start": 6,
       "style": {
        "backgroundColor": "red"
       },
       "type": "numeric",
       "value": ""
      }
     },
     "b131fd0e3da24bb990e38aca569b5a48": {
      "model_module": "ipysheet",
      "model_module_version": "~0.4.4",
      "model_name": "CellRangeModel",
      "state": {
       "_view_module": null,
       "_view_module_version": "",
       "column_end": 8,
       "column_start": 8,
       "row_end": 7,
       "row_start": 7,
       "type": "numeric",
       "value": 3
      }
     },
     "b32046b8b64e4c14bc61bce54f642c0e": {
      "model_module": "ipysheet",
      "model_module_version": "~0.4.4",
      "model_name": "CellRangeModel",
      "state": {
       "_view_module": null,
       "_view_module_version": "",
       "column_end": 7,
       "column_start": 7,
       "row_end": 3,
       "row_start": 3,
       "type": "text",
       "value": "Mash"
      }
     },
     "b39be09b076d4b0389c0dbd4addfd9c9": {
      "model_module": "ipysheet",
      "model_module_version": "~0.4.4",
      "model_name": "CellRangeModel",
      "state": {
       "_view_module": null,
       "_view_module_version": "",
       "column_end": 3,
       "column_start": 3,
       "type": "text",
       "value": "Style Fit?"
      }
     },
     "b7805b7ac29b44b5b8b33cee245aa965": {
      "model_module": "ipysheet",
      "model_module_version": "~0.4.4",
      "model_name": "CellRangeModel",
      "state": {
       "_view_module": null,
       "_view_module_version": "",
       "column_end": 8,
       "column_start": 8,
       "row_end": 4,
       "row_start": 4,
       "type": "numeric",
       "value": 17
      }
     },
     "b873f5cda1944bc1bf167b58fb02d8d8": {
      "model_module": "ipysheet",
      "model_module_version": "~0.4.4",
      "model_name": "CellRangeModel",
      "state": {
       "_view_module": null,
       "_view_module_version": "",
       "row_end": 16,
       "row_start": 16,
       "style": {
        "backgroundColor": "yellow"
       },
       "type": "numeric",
       "value": 1.5
      }
     },
     "b9de2650785a455397312516ef56f034": {
      "model_module": "ipysheet",
      "model_module_version": "~0.4.4",
      "model_name": "CellRangeModel",
      "state": {
       "_view_module": null,
       "_view_module_version": "",
       "column_end": 16,
       "column_start": 16,
       "type": "text",
       "value": "Attenuation (listed)"
      }
     },
     "bc9433c9e1314177a14ecd2371d13a7b": {
      "model_module": "ipysheet",
      "model_module_version": "~0.4.4",
      "model_name": "CellRangeModel",
      "state": {
       "_view_module": null,
       "_view_module_version": "",
       "column_end": 6,
       "column_start": 6,
       "row_end": 4,
       "row_start": 4,
       "style": {
        "backgroundColor": "yellow"
       },
       "type": "numeric",
       "value": 1
      }
     },
     "bd054ea4886940229bdc89836b76746f": {
      "model_module": "ipysheet",
      "model_module_version": "~0.4.4",
      "model_name": "CellRangeModel",
      "state": {
       "_view_module": null,
       "_view_module_version": "",
       "column_end": 0,
       "column_start": 0,
       "row_end": 3,
       "row_start": 3,
       "type": "text",
       "value": "Boil Size"
      }
     },
     "be265740944347d5a15fc7a41ad9e379": {
      "model_module": "ipysheet",
      "model_module_version": "~0.4.4",
      "model_name": "CellRangeModel",
      "state": {
       "_view_module": null,
       "_view_module_version": "",
       "row_end": 20,
       "row_start": 20,
       "style": {
        "backgroundColor": "red"
       },
       "type": "numeric",
       "value": 1.145
      }
     },
     "c0627793dba94ddc9036209e30218396": {
      "model_module": "ipysheet",
      "model_module_version": "~0.4.4",
      "model_name": "CellRangeModel",
      "state": {
       "_view_module": null,
       "_view_module_version": "",
       "column_end": 0,
       "column_start": 0,
       "row_end": 4,
       "row_start": 4,
       "type": "text",
       "value": "Boil Time"
      }
     },
     "c087b9ab51d8473693a408d751d6d1c7": {
      "model_module": "ipysheet",
      "model_module_version": "~0.4.4",
      "model_name": "CellRangeModel",
      "state": {
       "_view_module": null,
       "_view_module_version": "",
       "column_end": 5,
       "column_start": 5,
       "row_end": 5,
       "row_start": 5,
       "type": "text",
       "value": "Dry Extract (DME) - Amber"
      }
     },
     "c0986c6d25dc425da029f76622bc5a49": {
      "model_module": "ipysheet",
      "model_module_version": "~0.4.4",
      "model_name": "CellRangeModel",
      "state": {
       "_view_module": null,
       "_view_module_version": "",
       "column_end": 7,
       "column_start": 7,
       "row_end": 4,
       "row_start": 4,
       "type": "text",
       "value": "Extract"
      }
     },
     "c184011a493e4720878076d53dd53555": {
      "model_module": "ipysheet",
      "model_module_version": "~0.4.4",
      "model_name": "CellRangeModel",
      "state": {
       "_view_module": null,
       "_view_module_version": "",
       "column_end": 11,
       "column_start": 11,
       "row_end": 2,
       "row_start": 2,
       "style": {
        "backgroundColor": "yellow"
       },
       "type": "numeric",
       "value": 1
      }
     },
     "c1bd748190774e3f9eef1ad7d01fe6ec": {
      "model_module": "@jupyter-widgets/controls",
      "model_module_version": "1.5.0",
      "model_name": "TextModel",
      "state": {
       "description": "fermentable:",
       "layout": "IPY_MODEL_1b1690a0d3cc46bca3aeddaa57a3722e",
       "placeholder": "Type something",
       "style": "IPY_MODEL_77e376acda664b7ab5b183d5f20006dc",
       "value": "Dry"
      }
     },
     "c201cabe2c8f42e4adb65f66c6315b09": {
      "model_module": "ipysheet",
      "model_module_version": "~0.4.4",
      "model_name": "CellRangeModel",
      "state": {
       "_view_module": null,
       "_view_module_version": "",
       "column_end": 18,
       "column_start": 18,
       "type": "text",
       "value": "Min Temp (F)"
      }
     },
     "c2b410bace3945a09bfdeb16ee45632e": {
      "model_module": "ipysheet",
      "model_module_version": "~0.4.4",
      "model_name": "CellRangeModel",
      "state": {
       "_view_module": null,
       "_view_module_version": "",
       "column_end": 6,
       "column_start": 6,
       "row_end": 5,
       "row_start": 5,
       "style": {
        "backgroundColor": "yellow"
       },
       "type": "numeric",
       "value": 1
      }
     },
     "c2be015cc7f44174bd0af1419a2e44a5": {
      "model_module": "ipysheet",
      "model_module_version": "~0.4.4",
      "model_name": "CellRangeModel",
      "state": {
       "_view_module": null,
       "_view_module_version": "",
       "column_end": 10,
       "column_start": 10,
       "row_end": 3,
       "row_start": 3,
       "type": "text",
       "value": "Fuggles"
      }
     },
     "c37c1d979e5d4075aecdc7d814ff4060": {
      "model_module": "ipysheet",
      "model_module_version": "~0.4.4",
      "model_name": "CellRangeModel",
      "state": {
       "_view_module": null,
       "_view_module_version": "",
       "row_end": 9,
       "row_start": 9,
       "style": {
        "backgroundColor": "red"
       },
       "type": "numeric",
       "value": 42
      }
     },
     "c3d330f9b8234d21988a1e1f1bbf0a8f": {
      "model_module": "ipysheet",
      "model_module_version": "~0.4.4",
      "model_name": "CellRangeModel",
      "state": {
       "_view_module": null,
       "_view_module_version": "",
       "column_end": 17,
       "column_start": 17,
       "row_end": 2,
       "row_start": 2,
       "style": {
        "backgroundColor": "red"
       },
       "type": "numeric",
       "value": 60.625
      }
     },
     "c712667d31354453a830f6430414e7fd": {
      "model_module": "ipysheet",
      "model_module_version": "~0.4.4",
      "model_name": "CellRangeModel",
      "state": {
       "_view_module": null,
       "_view_module_version": "",
       "column_end": 6,
       "column_start": 6,
       "row_end": 3,
       "row_start": 3,
       "style": {
        "backgroundColor": "yellow"
       },
       "type": "numeric",
       "value": 1
      }
     },
     "c7479a84f4a2425999d9705d3ea4785e": {
      "model_module": "ipysheet",
      "model_module_version": "~0.4.4",
      "model_name": "CellRangeModel",
      "state": {
       "_view_module": null,
       "_view_module_version": "",
       "type": "text",
       "value": "Value"
      }
     },
     "c8c6cf60822a422493fd3a0567bd94d6": {
      "model_module": "ipysheet",
      "model_module_version": "~0.4.4",
      "model_name": "CellRangeModel",
      "state": {
       "_view_module": null,
       "_view_module_version": "",
       "column_end": 5,
       "column_start": 5,
       "row_end": 3,
       "row_start": 3,
       "type": "text",
       "value": "Oats, Flaked"
      }
     },
     "c9e1b71cca8746b99dd0a70b9d910d62": {
      "model_module": "ipysheet",
      "model_module_version": "~0.4.4",
      "model_name": "CellRangeModel",
      "state": {
       "_view_module": null,
       "_view_module_version": "",
       "column_end": 2,
       "column_start": 2,
       "row_end": 11,
       "row_start": 11,
       "type": "text",
       "value": "4.2-5.9"
      }
     },
     "cb8b0a800f904fb6a6ca71e391e27ede": {
      "model_module": "@jupyter-widgets/controls",
      "model_module_version": "1.5.0",
      "model_name": "VBoxModel",
      "state": {
       "_dom_classes": [
        "widget-interact"
       ],
       "children": [
        "IPY_MODEL_89160d23a2dd4567b3a2c93e1ccb6eec",
        "IPY_MODEL_ad58830ed425458e98e039021f880e02"
       ],
       "layout": "IPY_MODEL_1b06bf1c3ff24681bfb3c78f4ac213fd"
      }
     },
     "cceae719d1be4f74a1a165de73b8b2b0": {
      "model_module": "ipysheet",
      "model_module_version": "~0.4.4",
      "model_name": "CellRangeModel",
      "state": {
       "_view_module": null,
       "_view_module_version": "",
       "row_end": 11,
       "row_start": 11,
       "style": {
        "backgroundColor": "red"
       },
       "type": "numeric",
       "value": 5.12
      }
     },
     "ccfd0d87a2e94944bc885904642bb4f2": {
      "model_module": "ipysheet",
      "model_module_version": "~0.4.4",
      "model_name": "CellRangeModel",
      "state": {
       "_view_module": null,
       "_view_module_version": "",
       "column_end": 19,
       "column_start": 19,
       "type": "text",
       "value": "Max Temp (F)"
      }
     },
     "d10c95316ab744bfad2586a1ed1aa48f": {
      "model_module": "ipysheet",
      "model_module_version": "~0.4.4",
      "model_name": "CellRangeModel",
      "state": {
       "_view_module": null,
       "_view_module_version": "",
       "column_end": 11,
       "column_start": 11,
       "row_end": 3,
       "row_start": 3,
       "style": {
        "backgroundColor": "yellow"
       },
       "type": "numeric",
       "value": 0.75
      }
     },
     "d1ce548cb11c422091bc98a6e84da022": {
      "model_module": "ipysheet",
      "model_module_version": "~0.4.4",
      "model_name": "CellRangeModel",
      "state": {
       "_view_module": null,
       "_view_module_version": "",
       "column_end": 0,
       "column_start": 0,
       "type": "text",
       "value": "Category"
      }
     },
     "d1fbd2a04ac841f7b5e6fb06673e6bfb": {
      "model_module": "ipysheet",
      "model_module_version": "~0.4.4",
      "model_name": "CellRangeModel",
      "state": {
       "_view_module": null,
       "_view_module_version": "",
       "column_end": 5,
       "column_start": 5,
       "row_end": 2,
       "row_start": 2,
       "type": "text",
       "value": "Black (Patent) Malt"
      }
     },
     "d2c8fbea3076492c83f9d0b6f39fd74c": {
      "model_module": "ipysheet",
      "model_module_version": "~0.4.4",
      "model_name": "CellRangeModel",
      "state": {
       "_view_module": null,
       "_view_module_version": "",
       "column_end": 7,
       "column_start": 7,
       "row_end": 7,
       "row_start": 7,
       "type": "text",
       "value": "Mash"
      }
     },
     "d51a94fcd856450cbb4e82544e625c6c": {
      "model_module": "ipysheet",
      "model_module_version": "~0.4.4",
      "model_name": "CellRangeModel",
      "state": {
       "_view_module": null,
       "_view_module_version": "",
       "row_end": 6,
       "row_start": 6,
       "style": {
        "backgroundColor": "red"
       },
       "type": "numeric",
       "value": 1.058
      }
     },
     "d656acab93ab4913b66adbba1ad4c723": {
      "model_module": "ipysheet",
      "model_module_version": "~0.4.4",
      "model_name": "CellRangeModel",
      "state": {
       "_view_module": null,
       "_view_module_version": "",
       "column_end": 0,
       "column_start": 0,
       "row_end": 17,
       "row_start": 17,
       "type": "text",
       "value": "Post-Mash Gravity"
      }
     },
     "d685e9aec55f47b0b33a5a299864d829": {
      "model_module": "ipysheet",
      "model_module_version": "~0.4.4",
      "model_name": "CellRangeModel",
      "state": {
       "_view_module": null,
       "_view_module_version": "",
       "column_end": 3,
       "column_start": 3,
       "row_end": 6,
       "row_start": 6,
       "style": {
        "backgroundColor": "red"
       },
       "type": "numeric",
       "value": ""
      }
     },
     "d7f8b5bf0b79449ea1d534838f19864a": {
      "model_module": "ipysheet",
      "model_module_version": "~0.4.4",
      "model_name": "CellRangeModel",
      "state": {
       "_view_module": null,
       "_view_module_version": "",
       "row_end": 18,
       "row_start": 18,
       "style": {
        "backgroundColor": "red"
       },
       "type": "numeric",
       "value": 1.083
      }
     },
     "da311c7fd41d4b3eb73c26caa0a089ab": {
      "model_module": "ipysheet",
      "model_module_version": "~0.4.4",
      "model_name": "CellRangeModel",
      "state": {
       "_view_module": null,
       "_view_module_version": "",
       "column_end": 12,
       "column_start": 12,
       "row_end": 2,
       "row_start": 2,
       "style": {
        "backgroundColor": "yellow"
       },
       "type": "numeric",
       "value": 60
      }
     },
     "db03d6ebb44b44d69c71b0ad172b72e3": {
      "model_module": "ipysheet",
      "model_module_version": "~0.4.4",
      "model_name": "CellRangeModel",
      "state": {
       "_view_module": null,
       "_view_module_version": "",
       "column_end": 7,
       "column_start": 7,
       "row_end": 6,
       "row_start": 6,
       "type": "text",
       "value": "Mash"
      }
     },
     "db7ffcc720a14344b3c8f8539e96e444": {
      "model_module": "ipysheet",
      "model_module_version": "~0.4.4",
      "model_name": "CellRangeModel",
      "state": {
       "_view_module": null,
       "_view_module_version": "",
       "column_end": 6,
       "column_start": 6,
       "row_end": 6,
       "row_start": 6,
       "style": {
        "backgroundColor": "yellow"
       },
       "type": "numeric",
       "value": 1.5
      }
     },
     "de1350bf97dd465db021bc9113861a02": {
      "model_module": "ipysheet",
      "model_module_version": "~0.4.4",
      "model_name": "CellRangeModel",
      "state": {
       "_view_module": null,
       "_view_module_version": "",
       "column_end": 7,
       "column_start": 7,
       "row_end": 7,
       "row_start": 7,
       "type": "text",
       "value": "Mash"
      }
     },
     "de8b298516734f17a277e63ad4e36ab0": {
      "model_module": "ipysheet",
      "model_module_version": "~0.4.4",
      "model_name": "CellRangeModel",
      "state": {
       "_view_module": null,
       "_view_module_version": "",
       "column_end": 0,
       "column_start": 0,
       "type": "text",
       "value": "Category"
      }
     },
     "dfca4c10f15d46e19105c7c87341c84c": {
      "model_module": "ipysheet",
      "model_module_version": "~0.4.4",
      "model_name": "CellRangeModel",
      "state": {
       "_view_module": null,
       "_view_module_version": "",
       "column_end": 19,
       "column_start": 19,
       "row_end": 2,
       "row_start": 2,
       "type": "numeric",
       "value": 75.2
      }
     },
     "e0d251dd399a4c178eff747f6141513a": {
      "model_module": "ipysheet",
      "model_module_version": "~0.4.4",
      "model_name": "CellRangeModel",
      "state": {
       "_view_module": null,
       "_view_module_version": "",
       "column_end": 13,
       "column_start": 13,
       "row_end": 2,
       "row_start": 2,
       "type": "numeric",
       "value": 21
      }
     },
     "e2d1344355c849c4869c1a96e5ef8735": {
      "model_module": "ipysheet",
      "model_module_version": "~0.4.4",
      "model_name": "CellRangeModel",
      "state": {
       "_view_module": null,
       "_view_module_version": "",
       "column_end": 8,
       "column_start": 8,
       "row_end": 7,
       "row_start": 7,
       "type": "numeric",
       "value": 3
      }
     },
     "e3a0f942afd64b89ac99b8cddade9635": {
      "model_module": "ipysheet",
      "model_module_version": "~0.4.4",
      "model_name": "CellRangeModel",
      "state": {
       "_view_module": null,
       "_view_module_version": "",
       "column_end": 17,
       "column_start": 17,
       "type": "text",
       "value": "Attenuation (adjusted)"
      }
     },
     "e3fe7e0ead7b43939c0fb4e2818de794": {
      "model_module": "ipysheet",
      "model_module_version": "~0.4.4",
      "model_name": "CellRangeModel",
      "state": {
       "_view_module": null,
       "_view_module_version": "",
       "row_end": 7,
       "row_start": 7,
       "style": {
        "backgroundColor": "red"
       },
       "type": "numeric",
       "value": 1.015
      }
     },
     "e4ec103a810c4c8d86ff4bd2c6147c08": {
      "model_module": "ipysheet",
      "model_module_version": "~0.4.4",
      "model_name": "CellRangeModel",
      "state": {
       "_view_module": null,
       "_view_module_version": "",
       "column_end": 11,
       "column_start": 11,
       "type": "text",
       "value": "Amount (oz)"
      }
     },
     "e59411b9771b49638ac2b519b9dd8e2e": {
      "model_module": "ipysheet",
      "model_module_version": "~0.4.4",
      "model_name": "CellRangeModel",
      "state": {
       "_view_module": null,
       "_view_module_version": "",
       "column_end": 7,
       "column_start": 7,
       "row_end": 6,
       "row_start": 6,
       "type": "text",
       "value": "Mash"
      }
     },
     "e6107063d6fa496e9061b4c4427ff709": {
      "model_module": "ipysheet",
      "model_module_version": "~0.4.4",
      "model_name": "CellRangeModel",
      "state": {
       "_view_module": null,
       "_view_module_version": "",
       "column_end": 16,
       "column_start": 16,
       "row_end": 2,
       "row_start": 2,
       "style": {
        "backgroundColor": "yellow"
       },
       "type": "numeric",
       "value": 75
      }
     },
     "e6d183a847fa4922aab7ab1f572fa7ad": {
      "model_module": "ipysheet",
      "model_module_version": "~0.4.4",
      "model_name": "CellRangeModel",
      "state": {
       "_view_module": null,
       "_view_module_version": "",
       "row_end": 17,
       "row_start": 17,
       "style": {
        "backgroundColor": "red"
       },
       "type": "numeric",
       "value": 1.051
      }
     },
     "e886ad265e2f4a4294795fe5b52e4e94": {
      "model_module": "ipysheet",
      "model_module_version": "~0.4.4",
      "model_name": "CellRangeModel",
      "state": {
       "_view_module": null,
       "_view_module_version": "",
       "column_end": 6,
       "column_start": 6,
       "row_end": 7,
       "row_start": 7,
       "style": {
        "backgroundColor": "yellow"
       },
       "type": "numeric",
       "value": 0.5
      }
     },
     "edbcab02866c4af197b71a3e46797d4a": {
      "model_module": "@jupyter-widgets/controls",
      "model_module_version": "1.5.0",
      "model_name": "DescriptionStyleModel",
      "state": {
       "description_width": ""
      }
     },
     "ef81541cad4f4036afa8ba13a5e49b31": {
      "model_module": "ipysheet",
      "model_module_version": "~0.4.4",
      "model_name": "CellRangeModel",
      "state": {
       "_view_module": null,
       "_view_module_version": "",
       "column_end": 3,
       "column_start": 3,
       "row_end": 7,
       "row_start": 7,
       "style": {
        "backgroundColor": "red"
       },
       "type": "numeric",
       "value": ""
      }
     },
     "efbef68690094510a8f4c70c3eec7425": {
      "model_module": "ipysheet",
      "model_module_version": "~0.4.4",
      "model_name": "CellRangeModel",
      "state": {
       "_view_module": null,
       "_view_module_version": "",
       "column_end": 6,
       "column_start": 6,
       "row_end": 2,
       "row_start": 2,
       "style": {
        "backgroundColor": "yellow"
       },
       "type": "numeric",
       "value": 0.25
      }
     },
     "f2adc2d3d2c14443a4f0b6e86792e4c4": {
      "model_module": "ipysheet",
      "model_module_version": "~0.4.4",
      "model_name": "CellRangeModel",
      "state": {
       "_view_module": null,
       "_view_module_version": "",
       "column_end": 8,
       "column_start": 8,
       "row_end": 2,
       "row_start": 2,
       "type": "numeric",
       "value": 1
      }
     },
     "f2b8f5b1a2094781ac830f66474d8d5a": {
      "model_module": "ipysheet",
      "model_module_version": "~0.4.4",
      "model_name": "CellRangeModel",
      "state": {
       "_view_module": null,
       "_view_module_version": "",
       "column_end": 8,
       "column_start": 8,
       "row_end": 6,
       "row_start": 6,
       "type": "numeric",
       "value": 10
      }
     },
     "f311a11ed65b4feab369fb045cdad261": {
      "model_module": "ipysheet",
      "model_module_version": "~0.4.4",
      "model_name": "CellRangeModel",
      "state": {
       "_view_module": null,
       "_view_module_version": "",
       "column_end": 7,
       "column_start": 7,
       "row_end": 2,
       "row_start": 2,
       "type": "text",
       "value": "Mash"
      }
     },
     "f4dcd9c6ed8143c2bbcc4ea95beeadc6": {
      "model_module": "ipysheet",
      "model_module_version": "~0.4.4",
      "model_name": "CellRangeModel",
      "state": {
       "_view_module": null,
       "_view_module_version": "",
       "row_end": 3,
       "row_start": 3,
       "style": {
        "backgroundColor": "yellow"
       },
       "type": "numeric",
       "value": 1.75
      }
     },
     "f505f92e1680487b804bc1dab012f979": {
      "model_module": "ipysheet",
      "model_module_version": "~0.4.4",
      "model_name": "CellRangeModel",
      "state": {
       "_view_module": null,
       "_view_module_version": "",
       "column_end": 5,
       "column_start": 5,
       "row_end": 4,
       "row_start": 4,
       "type": "text",
       "value": "Dry Extract (DME) - Light"
      }
     },
     "f565328975fd47a4bec8fb5271279b1e": {
      "model_module": "ipysheet",
      "model_module_version": "~0.4.4",
      "model_name": "CellRangeModel",
      "state": {
       "_view_module": null,
       "_view_module_version": "",
       "type": "text",
       "value": "Value"
      }
     },
     "f670c8f5e59a4ded9ca3ee805f7668c7": {
      "model_module": "@jupyter-widgets/base",
      "model_module_version": "1.2.0",
      "model_name": "LayoutModel",
      "state": {}
     },
     "f82ccd22728c4099b6d9f7d52e08450a": {
      "model_module": "ipysheet",
      "model_module_version": "~0.4.4",
      "model_name": "CellRangeModel",
      "state": {
       "_view_module": null,
       "_view_module_version": "",
       "row_end": 5,
       "row_start": 5,
       "style": {
        "backgroundColor": "yellow"
       },
       "type": "numeric",
       "value": 155
      }
     },
     "f9acb25b32ad4b86963398e4bc7e7143": {
      "model_module": "ipysheet",
      "model_module_version": "~0.4.4",
      "model_name": "CellRangeModel",
      "state": {
       "_view_module": null,
       "_view_module_version": "",
       "row_end": 4,
       "row_start": 4,
       "style": {
        "backgroundColor": "yellow"
       },
       "type": "numeric",
       "value": 45
      }
     },
     "fb792d47a1db48b88de3776c21e4151d": {
      "model_module": "ipysheet",
      "model_module_version": "~0.4.4",
      "model_name": "CellRangeModel",
      "state": {
       "_view_module": null,
       "_view_module_version": "",
       "column_end": 0,
       "column_start": 0,
       "row_end": 18,
       "row_start": 18,
       "type": "text",
       "value": "Pre-boil Gravity"
      }
     },
     "fd03b83d69584752bf11813824fe6f06": {
      "model_module": "ipysheet",
      "model_module_version": "~0.4.4",
      "model_name": "CellRangeModel",
      "state": {
       "_view_module": null,
       "_view_module_version": "",
       "column_end": 5,
       "column_start": 5,
       "row_end": 5,
       "row_start": 5,
       "type": "text",
       "value": "Dry Extract (DME) - Amber"
      }
     },
     "fd4716a3b1dc48f589d994bbb33c24c5": {
      "model_module": "ipysheet",
      "model_module_version": "~0.4.4",
      "model_name": "CellRangeModel",
      "state": {
       "_view_module": null,
       "_view_module_version": "",
       "column_end": 0,
       "column_start": 0,
       "row_end": 6,
       "row_start": 6,
       "type": "text",
       "value": "OG"
      }
     },
     "fd496811754a4a5a94bfdbd80d79ae40": {
      "model_module": "ipysheet",
      "model_module_version": "~0.4.4",
      "model_name": "CellRangeModel",
      "state": {
       "_view_module": null,
       "_view_module_version": "",
       "row_end": 6,
       "row_start": 6,
       "style": {
        "backgroundColor": "red"
       },
       "type": "numeric",
       "value": 1.056
      }
     },
     "fe3b3e202bc744b3b63b0b736dd54743": {
      "model_module": "ipysheet",
      "model_module_version": "~0.4.4",
      "model_name": "CellRangeModel",
      "state": {
       "_view_module": null,
       "_view_module_version": "",
       "column_end": 6,
       "column_start": 6,
       "type": "text",
       "value": "Amount (lbs)"
      }
     },
     "feaec598f7ed495c98bd8f717b526fc0": {
      "model_module": "ipysheet",
      "model_module_version": "~0.4.4",
      "model_name": "CellRangeModel",
      "state": {
       "_view_module": null,
       "_view_module_version": "",
       "column_end": 10,
       "column_start": 10,
       "row_end": 3,
       "row_start": 3,
       "type": "text",
       "value": "Fuggles"
      }
     },
     "feedcd79760941489eb88946e42f8f3d": {
      "model_module": "ipysheet",
      "model_module_version": "~0.4.4",
      "model_name": "CellRangeModel",
      "state": {
       "_view_module": null,
       "_view_module_version": "",
       "column_end": 11,
       "column_start": 11,
       "row_end": 2,
       "row_start": 2,
       "style": {
        "backgroundColor": "yellow"
       },
       "type": "numeric",
       "value": 0.75
      }
     }
    },
    "version_major": 2,
    "version_minor": 0
   }
  }
 },
 "nbformat": 4,
 "nbformat_minor": 4
}
