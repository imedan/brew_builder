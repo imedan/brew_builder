{
 "cells": [
  {
   "cell_type": "markdown",
   "metadata": {},
   "source": [
    "Below is a demo on how to use this brew recipe builder.\n",
    "\n",
    "The first thing to do is find the ingredients you want to use in the recipe. You can search the tables in the database within the notebook using the code below. As a note, the tables you most likely want to search are: fermentable, hop, yeast and style."
   ]
  },
  {
   "cell_type": "code",
   "execution_count": 1,
   "metadata": {},
   "outputs": [],
   "source": [
    "from brew_builder import BrewBuild, search_db, menu_select\n",
    "import numpy as np\n",
    "import sqlite3\n",
    "\n",
    "# connect to the database\n",
    "\n",
    "con = sqlite3.connect('database/default_db.sqlite')"
   ]
  },
  {
   "cell_type": "code",
   "execution_count": 2,
   "metadata": {},
   "outputs": [
    {
     "data": {
      "application/vnd.jupyter.widget-view+json": {
       "model_id": "dc96290c7ea845cdae8be533abf48ef5",
       "version_major": 2,
       "version_minor": 0
      },
      "text/plain": [
       "interactive(children=(Text(value='Dry', description='fermentable:', placeholder='Type something'), Output()), …"
      ]
     },
     "metadata": {},
     "output_type": "display_data"
    }
   ],
   "source": [
    "# search some table using connection to database\n",
    "# this will display dataframe with search results\n",
    "# you can type in the search box to change results\n",
    "menu_select('fermentable', con)"
   ]
  },
  {
   "cell_type": "markdown",
   "metadata": {},
   "source": [
    "If what you are looking for doesn't exist in the database, you can add new rows using the function below."
   ]
  },
  {
   "cell_type": "code",
   "execution_count": 3,
   "metadata": {},
   "outputs": [],
   "source": [
    "from brew_builder import add_row_table\n",
    "\n",
    "# database table name to add row to\n",
    "table_name = 'yeast'\n",
    "\n",
    "# columns to add values for\n",
    "columns = ['name', 'form', 'laboratory', 'attenuation', 'min_temperature', 'max_temperature', 'notes']\n",
    "\n",
    "# values of these columns\n",
    "values = ['Safale S-33', 'Dry', 'Safale', 75.0, 15, 20,\n",
    "          ' fruity driven strain that gives a high mouthfeel and body to the beer. ']\n",
    "\n",
    "add_row_table(con, table_name, columns, values)"
   ]
  },
  {
   "cell_type": "markdown",
   "metadata": {},
   "source": [
    "When searching for ingredients, it will be important to make notes of the id of the ingredient. You will need this to build the recipe in the next step.\n",
    "\n",
    "Once you find all of your ingredients, you can now build a recipe! This is done by initilzing the object below:"
   ]
  },
  {
   "cell_type": "code",
   "execution_count": 3,
   "metadata": {},
   "outputs": [],
   "source": [
    "# set up the grain bill\n",
    "# the format of each row is [id, amount (lbs), type (0=mash, 1=extract)]\n",
    "grain_bill = np.array([[9, 0.25, 0],\n",
    "                       [122, 1, 0],\n",
    "                       [93, 1, 1],\n",
    "                       [90, 1, 1],\n",
    "                       [13, 1.5, 0],\n",
    "                       [24, 0.5, 0]])\n",
    "\n",
    "# set up the hop bill\n",
    "# the format of each row is [id, amount (oz), boil time (min)]\n",
    "hop_bill = np.array([[62, 1, 45],\n",
    "                     [21, 0.5, 20]])\n",
    "\n",
    "# yeast id\n",
    "yeast = 3\n",
    "\n",
    "# target volume in gallons\n",
    "target_volume = 2.5\n",
    "\n",
    "# boil volume in gallons\n",
    "boil_volume = 1.75\n",
    "\n",
    "# mash temp in F\n",
    "mash_temp = 165\n",
    "\n",
    "# boil time in min\n",
    "boil_time = 45\n",
    "\n",
    "# estimated mash efficiency\n",
    "mash_efficiency = 48\n",
    "\n",
    "# the style id\n",
    "style = 64\n",
    "\n",
    "# the mash volume in gallons\n",
    "mash_volume = 1.5\n",
    "\n",
    "build = BrewBuild(grain_bill, hop_bill, yeast, target_volume,\n",
    "                               boil_volume, mash_temp, con, boil_time=boil_time,\n",
    "                               mash_efficiency=mash_efficiency, style=style, mash_volume=mash_volume)"
   ]
  },
  {
   "cell_type": "markdown",
   "metadata": {},
   "source": [
    "Once the object is setup, below are examples of some of the basic calculations you can do"
   ]
  },
  {
   "cell_type": "code",
   "execution_count": 4,
   "metadata": {},
   "outputs": [
    {
     "data": {
      "text/plain": [
       "1.056"
      ]
     },
     "execution_count": 4,
     "metadata": {},
     "output_type": "execute_result"
    }
   ],
   "source": [
    "build.calc_OG()"
   ]
  },
  {
   "cell_type": "code",
   "execution_count": 5,
   "metadata": {},
   "outputs": [
    {
     "data": {
      "text/plain": [
       "1.017"
      ]
     },
     "execution_count": 5,
     "metadata": {},
     "output_type": "execute_result"
    }
   ],
   "source": [
    "build.calc_FG()"
   ]
  },
  {
   "cell_type": "code",
   "execution_count": 6,
   "metadata": {},
   "outputs": [
    {
     "data": {
      "text/plain": [
       "5.12"
      ]
     },
     "execution_count": 6,
     "metadata": {},
     "output_type": "execute_result"
    }
   ],
   "source": [
    "build.calc_ABV(build.calc_OG(), build.calc_FG())"
   ]
  },
  {
   "cell_type": "code",
   "execution_count": 7,
   "metadata": {},
   "outputs": [
    {
     "data": {
      "text/plain": [
       "42.0"
      ]
     },
     "execution_count": 7,
     "metadata": {},
     "output_type": "execute_result"
    }
   ],
   "source": [
    "build.calc_color()"
   ]
  },
  {
   "cell_type": "code",
   "execution_count": 8,
   "metadata": {},
   "outputs": [
    {
     "data": {
      "text/plain": [
       "27.2"
      ]
     },
     "execution_count": 8,
     "metadata": {},
     "output_type": "execute_result"
    }
   ],
   "source": [
    "build.calc_IBU()"
   ]
  },
  {
   "cell_type": "markdown",
   "metadata": {},
   "source": [
    "You can also check out the dataframes with your various ingredients (and edit them as well to effect changes in the recipie)"
   ]
  },
  {
   "cell_type": "code",
   "execution_count": 9,
   "metadata": {},
   "outputs": [
    {
     "data": {
      "text/html": [
       "<div>\n",
       "<style scoped>\n",
       "    .dataframe tbody tr th:only-of-type {\n",
       "        vertical-align: middle;\n",
       "    }\n",
       "\n",
       "    .dataframe tbody tr th {\n",
       "        vertical-align: top;\n",
       "    }\n",
       "\n",
       "    .dataframe thead th {\n",
       "        text-align: right;\n",
       "    }\n",
       "</style>\n",
       "<table border=\"1\" class=\"dataframe\">\n",
       "  <thead>\n",
       "    <tr style=\"text-align: right;\">\n",
       "      <th></th>\n",
       "      <th>id</th>\n",
       "      <th>name</th>\n",
       "      <th>ftype</th>\n",
       "      <th>amount</th>\n",
       "      <th>yield</th>\n",
       "      <th>color</th>\n",
       "      <th>add_after_boil</th>\n",
       "      <th>origin</th>\n",
       "      <th>supplier</th>\n",
       "      <th>notes</th>\n",
       "      <th>...</th>\n",
       "      <th>max_in_batch</th>\n",
       "      <th>recommend_mash</th>\n",
       "      <th>is_mashed</th>\n",
       "      <th>ibu_gal_per_lb</th>\n",
       "      <th>display_unit</th>\n",
       "      <th>display_scale</th>\n",
       "      <th>deleted</th>\n",
       "      <th>display</th>\n",
       "      <th>folder</th>\n",
       "      <th>inventory_id</th>\n",
       "    </tr>\n",
       "  </thead>\n",
       "  <tbody>\n",
       "    <tr>\n",
       "      <th>0</th>\n",
       "      <td>9</td>\n",
       "      <td>Black (Patent) Malt</td>\n",
       "      <td>Grain</td>\n",
       "      <td>0.0</td>\n",
       "      <td>55.0</td>\n",
       "      <td>500.0</td>\n",
       "      <td>false</td>\n",
       "      <td>US</td>\n",
       "      <td></td>\n",
       "      <td>The darkest of all malts, use sparingly to add...</td>\n",
       "      <td>...</td>\n",
       "      <td>10.0</td>\n",
       "      <td>false</td>\n",
       "      <td>false</td>\n",
       "      <td>0.0</td>\n",
       "      <td>-1</td>\n",
       "      <td>-1</td>\n",
       "      <td>0</td>\n",
       "      <td>1</td>\n",
       "      <td></td>\n",
       "      <td>9</td>\n",
       "    </tr>\n",
       "    <tr>\n",
       "      <th>1</th>\n",
       "      <td>13</td>\n",
       "      <td>Briess - 6 Row Brewers Malt</td>\n",
       "      <td>Grain</td>\n",
       "      <td>0.0</td>\n",
       "      <td>78.0</td>\n",
       "      <td>1.8</td>\n",
       "      <td>false</td>\n",
       "      <td>US</td>\n",
       "      <td>Briess</td>\n",
       "      <td>DP 180. Base malt for all beer styles. Contrib...</td>\n",
       "      <td>...</td>\n",
       "      <td>100.0</td>\n",
       "      <td>true</td>\n",
       "      <td>true</td>\n",
       "      <td>0.0</td>\n",
       "      <td>-1</td>\n",
       "      <td>-1</td>\n",
       "      <td>0</td>\n",
       "      <td>1</td>\n",
       "      <td></td>\n",
       "      <td>13</td>\n",
       "    </tr>\n",
       "    <tr>\n",
       "      <th>2</th>\n",
       "      <td>24</td>\n",
       "      <td>Briess - Chocolate Malt</td>\n",
       "      <td>Grain</td>\n",
       "      <td>0.0</td>\n",
       "      <td>60.0</td>\n",
       "      <td>350.0</td>\n",
       "      <td>false</td>\n",
       "      <td>US</td>\n",
       "      <td>Briess</td>\n",
       "      <td>Use in all beer styles for color adjustment. U...</td>\n",
       "      <td>...</td>\n",
       "      <td>10.0</td>\n",
       "      <td>false</td>\n",
       "      <td>false</td>\n",
       "      <td>0.0</td>\n",
       "      <td>-1</td>\n",
       "      <td>-1</td>\n",
       "      <td>0</td>\n",
       "      <td>1</td>\n",
       "      <td></td>\n",
       "      <td>24</td>\n",
       "    </tr>\n",
       "    <tr>\n",
       "      <th>3</th>\n",
       "      <td>90</td>\n",
       "      <td>Dry Extract (DME) - Amber</td>\n",
       "      <td>Dry Extract</td>\n",
       "      <td>0.0</td>\n",
       "      <td>95.0</td>\n",
       "      <td>13.0</td>\n",
       "      <td>false</td>\n",
       "      <td>US</td>\n",
       "      <td></td>\n",
       "      <td></td>\n",
       "      <td>...</td>\n",
       "      <td>100.0</td>\n",
       "      <td>false</td>\n",
       "      <td>false</td>\n",
       "      <td>0.0</td>\n",
       "      <td>-1</td>\n",
       "      <td>-1</td>\n",
       "      <td>0</td>\n",
       "      <td>1</td>\n",
       "      <td></td>\n",
       "      <td>90</td>\n",
       "    </tr>\n",
       "    <tr>\n",
       "      <th>4</th>\n",
       "      <td>93</td>\n",
       "      <td>Dry Extract (DME) - Light</td>\n",
       "      <td>Dry Extract</td>\n",
       "      <td>0.0</td>\n",
       "      <td>95.0</td>\n",
       "      <td>8.0</td>\n",
       "      <td>false</td>\n",
       "      <td>US</td>\n",
       "      <td></td>\n",
       "      <td></td>\n",
       "      <td>...</td>\n",
       "      <td>100.0</td>\n",
       "      <td>false</td>\n",
       "      <td>false</td>\n",
       "      <td>0.0</td>\n",
       "      <td>-1</td>\n",
       "      <td>-1</td>\n",
       "      <td>0</td>\n",
       "      <td>1</td>\n",
       "      <td></td>\n",
       "      <td>93</td>\n",
       "    </tr>\n",
       "    <tr>\n",
       "      <th>5</th>\n",
       "      <td>122</td>\n",
       "      <td>Oats, Flaked</td>\n",
       "      <td>Grain</td>\n",
       "      <td>0.0</td>\n",
       "      <td>80.0</td>\n",
       "      <td>1.0</td>\n",
       "      <td>false</td>\n",
       "      <td>US</td>\n",
       "      <td></td>\n",
       "      <td>Oats will improve mouth feel and add a creamy ...</td>\n",
       "      <td>...</td>\n",
       "      <td>30.0</td>\n",
       "      <td>true</td>\n",
       "      <td>true</td>\n",
       "      <td>0.0</td>\n",
       "      <td>-1</td>\n",
       "      <td>-1</td>\n",
       "      <td>0</td>\n",
       "      <td>1</td>\n",
       "      <td></td>\n",
       "      <td>122</td>\n",
       "    </tr>\n",
       "  </tbody>\n",
       "</table>\n",
       "<p>6 rows × 24 columns</p>\n",
       "</div>"
      ],
      "text/plain": [
       "    id                         name        ftype  amount  yield  color  \\\n",
       "0    9          Black (Patent) Malt        Grain     0.0   55.0  500.0   \n",
       "1   13  Briess - 6 Row Brewers Malt        Grain     0.0   78.0    1.8   \n",
       "2   24      Briess - Chocolate Malt        Grain     0.0   60.0  350.0   \n",
       "3   90    Dry Extract (DME) - Amber  Dry Extract     0.0   95.0   13.0   \n",
       "4   93    Dry Extract (DME) - Light  Dry Extract     0.0   95.0    8.0   \n",
       "5  122                 Oats, Flaked        Grain     0.0   80.0    1.0   \n",
       "\n",
       "  add_after_boil origin supplier  \\\n",
       "0          false     US            \n",
       "1          false     US   Briess   \n",
       "2          false     US   Briess   \n",
       "3          false     US            \n",
       "4          false     US            \n",
       "5          false     US            \n",
       "\n",
       "                                               notes  ...  max_in_batch  \\\n",
       "0  The darkest of all malts, use sparingly to add...  ...          10.0   \n",
       "1  DP 180. Base malt for all beer styles. Contrib...  ...         100.0   \n",
       "2  Use in all beer styles for color adjustment. U...  ...          10.0   \n",
       "3                                                     ...         100.0   \n",
       "4                                                     ...         100.0   \n",
       "5  Oats will improve mouth feel and add a creamy ...  ...          30.0   \n",
       "\n",
       "   recommend_mash  is_mashed  ibu_gal_per_lb  display_unit display_scale  \\\n",
       "0           false      false             0.0            -1            -1   \n",
       "1            true       true             0.0            -1            -1   \n",
       "2           false      false             0.0            -1            -1   \n",
       "3           false      false             0.0            -1            -1   \n",
       "4           false      false             0.0            -1            -1   \n",
       "5            true       true             0.0            -1            -1   \n",
       "\n",
       "  deleted  display  folder  inventory_id  \n",
       "0       0        1                     9  \n",
       "1       0        1                    13  \n",
       "2       0        1                    24  \n",
       "3       0        1                    90  \n",
       "4       0        1                    93  \n",
       "5       0        1                   122  \n",
       "\n",
       "[6 rows x 24 columns]"
      ]
     },
     "execution_count": 9,
     "metadata": {},
     "output_type": "execute_result"
    }
   ],
   "source": [
    "build.df_grain_bill"
   ]
  },
  {
   "cell_type": "markdown",
   "metadata": {},
   "source": [
    "You can also then just build the recipe, which does all of the calculations and creates your recipe in a csv file."
   ]
  },
  {
   "cell_type": "code",
   "execution_count": 10,
   "metadata": {},
   "outputs": [],
   "source": [
    "build.build_recipe('Oatmeal_Stout_Test.csv')"
   ]
  },
  {
   "cell_type": "markdown",
   "metadata": {},
   "source": [
    "You may not be happy with the initial recipe though. So, after you have built the recipe once, you can create an interactive spreadsheet in the notebook which allows you to edit the recipe and see the effects of the changes in real time. Currently, you cant change any of the ingredients in the cells, just their values. The way to think about this sheet, it you can really change anything in a yellow cell and everything in red will be recalculated."
   ]
  },
  {
   "cell_type": "code",
   "execution_count": 11,
   "metadata": {},
   "outputs": [],
   "source": [
    "sheet = build.interactive_sheet()"
   ]
  },
  {
   "cell_type": "code",
   "execution_count": 12,
   "metadata": {},
   "outputs": [
    {
     "data": {
      "application/vnd.jupyter.widget-view+json": {
       "model_id": "1bd4ae0d6b8743e3a334c66373c831bb",
       "version_major": 2,
       "version_minor": 0
      },
      "text/plain": [
       "Sheet(cells=(Cell(column_end=0, column_start=0, row_end=0, row_start=0, type='text', value='Summary'), Cell(co…"
      ]
     },
     "metadata": {},
     "output_type": "display_data"
    }
   ],
   "source": [
    "sheet"
   ]
  },
  {
   "cell_type": "markdown",
   "metadata": {},
   "source": [
    "After making these changes in the spreadsheet above, you can actually then rewrite your recipe based on the changes you have made! This is done below."
   ]
  },
  {
   "cell_type": "code",
   "execution_count": 14,
   "metadata": {},
   "outputs": [],
   "source": [
    "build.update_recipe_from_sheet(sheet, 'Oatmeal_Stout_Edited_Test.csv')"
   ]
  },
  {
   "cell_type": "markdown",
   "metadata": {},
   "source": [
    "Also, you probably don't want to lose your editing from above (in python), so you can aslo pickle your BrewBuild object to open and play with again later!"
   ]
  },
  {
   "cell_type": "code",
   "execution_count": 15,
   "metadata": {},
   "outputs": [],
   "source": [
    "# pickle the build\n",
    "build.pickle_build('Oatmeal_Stout_test.pkl')"
   ]
  },
  {
   "cell_type": "code",
   "execution_count": 16,
   "metadata": {},
   "outputs": [],
   "source": [
    "from brew_builder import build_from_pickle\n",
    "\n",
    "# open the build again\n",
    "\n",
    "build_pkl = build_from_pickle('Oatmeal_Stout_test.pkl', con)"
   ]
  },
  {
   "cell_type": "markdown",
   "metadata": {},
   "source": [
    "We can check this build now and confirm it is the same as what we edited and saved!"
   ]
  },
  {
   "cell_type": "code",
   "execution_count": 18,
   "metadata": {},
   "outputs": [],
   "source": [
    "build_pkl.build_recipe('Oatmeal_Stout_Edited_Test.csv')"
   ]
  },
  {
   "cell_type": "code",
   "execution_count": 19,
   "metadata": {},
   "outputs": [
    {
     "data": {
      "application/vnd.jupyter.widget-view+json": {
       "model_id": "8518ddd0ece2428c8fbc080403e1d735",
       "version_major": 2,
       "version_minor": 0
      },
      "text/plain": [
       "Sheet(cells=(Cell(column_end=0, column_start=0, row_end=0, row_start=0, type='text', value='Summary'), Cell(co…"
      ]
     },
     "metadata": {},
     "output_type": "display_data"
    }
   ],
   "source": [
    "sheet = build_pkl.interactive_sheet()\n",
    "\n",
    "sheet"
   ]
  },
  {
   "cell_type": "markdown",
   "metadata": {},
   "source": [
    "Once done, it is best to then close out the connection to the database and get brewing!"
   ]
  },
  {
   "cell_type": "code",
   "execution_count": 20,
   "metadata": {},
   "outputs": [],
   "source": [
    "con.close()"
   ]
  },
  {
   "cell_type": "code",
   "execution_count": null,
   "metadata": {},
   "outputs": [],
   "source": []
  }
 ],
 "metadata": {
  "kernelspec": {
   "display_name": "Python 3",
   "language": "python",
   "name": "python3"
  },
  "language_info": {
   "codemirror_mode": {
    "name": "ipython",
    "version": 3
   },
   "file_extension": ".py",
   "mimetype": "text/x-python",
   "name": "python",
   "nbconvert_exporter": "python",
   "pygments_lexer": "ipython3",
   "version": "3.6.10"
  },
  "widgets": {
   "application/vnd.jupyter.widget-state+json": {
    "state": {
     "0144cbc30e6048b789155525d387f46d": {
      "model_module": "ipysheet",
      "model_module_version": "~0.4.4",
      "model_name": "CellRangeModel",
      "state": {
       "_view_module": null,
       "_view_module_version": "",
       "column_end": 0,
       "column_start": 0,
       "row_end": 3,
       "row_start": 3,
       "type": "text",
       "value": "Boil Size"
      }
     },
     "019ad24f95d94f3e97a8a37f11560197": {
      "model_module": "ipysheet",
      "model_module_version": "~0.4.4",
      "model_name": "CellRangeModel",
      "state": {
       "_view_module": null,
       "_view_module_version": "",
       "column_end": 2,
       "column_start": 2,
       "row_end": 11,
       "row_start": 11,
       "type": "text",
       "value": "4.2-5.9"
      }
     },
     "01f9bddf33cd4820a67add949121d96d": {
      "model_module": "ipysheet",
      "model_module_version": "~0.4.4",
      "model_name": "CellRangeModel",
      "state": {
       "_view_module": null,
       "_view_module_version": "",
       "column_end": 15,
       "column_start": 15,
       "row_end": 0,
       "row_start": 0,
       "type": "text",
       "value": "Yeast"
      }
     },
     "0258d1018ef346f09159baad2696bccd": {
      "model_module": "ipysheet",
      "model_module_version": "~0.4.4",
      "model_name": "CellRangeModel",
      "state": {
       "_view_module": null,
       "_view_module_version": "",
       "column_end": 0,
       "column_start": 0,
       "row_end": 3,
       "row_start": 3,
       "type": "text",
       "value": "Boil Size"
      }
     },
     "028db77fd5ca4ac9bfb74f6b4d518044": {
      "model_module": "ipysheet",
      "model_module_version": "~0.4.4",
      "model_name": "CellRangeModel",
      "state": {
       "_view_module": null,
       "_view_module_version": "",
       "column_end": 0,
       "column_start": 0,
       "row_end": 5,
       "row_start": 5,
       "type": "text",
       "value": "Mash Temp"
      }
     },
     "02db49c18da343de81ee84d3c1a94b3c": {
      "model_module": "ipysheet",
      "model_module_version": "~0.4.4",
      "model_name": "CellRangeModel",
      "state": {
       "_view_module": null,
       "_view_module_version": "",
       "column_end": 8,
       "column_start": 8,
       "row_end": 4,
       "row_start": 4,
       "type": "numeric",
       "value": 17
      }
     },
     "02e5f22d43aa4880aebc81bd50a53186": {
      "model_module": "ipysheet",
      "model_module_version": "~0.4.4",
      "model_name": "CellRangeModel",
      "state": {
       "_view_module": null,
       "_view_module_version": "",
       "column_end": 12,
       "column_start": 12,
       "type": "text",
       "value": "Boil Time (min)"
      }
     },
     "0317ce36f2fe491bafd975b242825c46": {
      "model_module": "ipysheet",
      "model_module_version": "~0.4.4",
      "model_name": "CellRangeModel",
      "state": {
       "_view_module": null,
       "_view_module_version": "",
       "column_end": 7,
       "column_start": 7,
       "type": "text",
       "value": "Use"
      }
     },
     "0385f413ce3346c7ae78ddb294c7e15b": {
      "model_module": "ipysheet",
      "model_module_version": "~0.4.4",
      "model_name": "CellRangeModel",
      "state": {
       "_view_module": null,
       "_view_module_version": "",
       "column_end": 6,
       "column_start": 6,
       "type": "text",
       "value": "Amount (lbs)"
      }
     },
     "039a14dfd41c479d93fd8af3a00104c3": {
      "model_module": "ipysheet",
      "model_module_version": "~0.4.4",
      "model_name": "CellRangeModel",
      "state": {
       "_view_module": null,
       "_view_module_version": "",
       "column_end": 8,
       "column_start": 8,
       "row_end": 5,
       "row_start": 5,
       "type": "numeric",
       "value": 17
      }
     },
     "03c7cbaa6c0a41969965bff601ddc189": {
      "model_module": "ipysheet",
      "model_module_version": "~0.4.4",
      "model_name": "CellRangeModel",
      "state": {
       "_view_module": null,
       "_view_module_version": "",
       "column_end": 12,
       "column_start": 12,
       "type": "text",
       "value": "Boil Time (min)"
      }
     },
     "03cab40f3b304cfbb6d4a92e99159618": {
      "model_module": "ipysheet",
      "model_module_version": "~0.4.4",
      "model_name": "CellRangeModel",
      "state": {
       "_view_module": null,
       "_view_module_version": "",
       "column_end": 12,
       "column_start": 12,
       "type": "text",
       "value": "Boil Time (min)"
      }
     },
     "03f7280df37141769e7a2f96a7dc4f63": {
      "model_module": "ipysheet",
      "model_module_version": "~0.4.4",
      "model_name": "CellRangeModel",
      "state": {
       "_view_module": null,
       "_view_module_version": "",
       "column_end": 13,
       "column_start": 13,
       "type": "text",
       "value": "IBU"
      }
     },
     "040993e26d6a4b19957bf6414fcdc2af": {
      "model_module": "ipysheet",
      "model_module_version": "~0.4.4",
      "model_name": "CellRangeModel",
      "state": {
       "_view_module": null,
       "_view_module_version": "",
       "column_end": 7,
       "column_start": 7,
       "row_end": 2,
       "row_start": 2,
       "type": "text",
       "value": "Mash"
      }
     },
     "040ae80a4e9e42a59ec62f7a1a2f63af": {
      "model_module": "ipysheet",
      "model_module_version": "~0.4.4",
      "model_name": "CellRangeModel",
      "state": {
       "_view_module": null,
       "_view_module_version": "",
       "column_end": 5,
       "column_start": 5,
       "row_end": 0,
       "row_start": 0,
       "type": "text",
       "value": "Fermentables"
      }
     },
     "0418cde0fb694184aa83edd57e140d0c": {
      "model_module": "ipysheet",
      "model_module_version": "~0.4.4",
      "model_name": "CellRangeModel",
      "state": {
       "_view_module": null,
       "_view_module_version": "",
       "column_end": 5,
       "column_start": 5,
       "type": "text",
       "value": "Name"
      }
     },
     "055d3c28841d4f5d8fdd38bae414a5ea": {
      "model_module": "ipysheet",
      "model_module_version": "~0.4.4",
      "model_name": "CellRangeModel",
      "state": {
       "_view_module": null,
       "_view_module_version": "",
       "row_end": 16,
       "row_start": 16,
       "style": {
        "backgroundColor": "yellow"
       },
       "type": "numeric",
       "value": 1.5
      }
     },
     "05c07ff999ae4b1dafa6d5af5adfc069": {
      "model_module": "ipysheet",
      "model_module_version": "~0.4.4",
      "model_name": "CellRangeModel",
      "state": {
       "_view_module": null,
       "_view_module_version": "",
       "column_end": 0,
       "column_start": 0,
       "row_end": 11,
       "row_start": 11,
       "type": "text",
       "value": "ABV"
      }
     },
     "06886ffafcfe48f4b53cb66ac1fe8c63": {
      "model_module": "ipysheet",
      "model_module_version": "~0.4.4",
      "model_name": "CellRangeModel",
      "state": {
       "_view_module": null,
       "_view_module_version": "",
       "row_end": 18,
       "row_start": 18,
       "style": {
        "backgroundColor": "red"
       },
       "type": "numeric",
       "value": 1.078
      }
     },
     "06d27836b1444268ac13f732697ef938": {
      "model_module": "ipysheet",
      "model_module_version": "~0.4.4",
      "model_name": "CellRangeModel",
      "state": {
       "_view_module": null,
       "_view_module_version": "",
       "column_end": 0,
       "column_start": 0,
       "row_end": 20,
       "row_start": 20,
       "type": "text",
       "value": "Post-boil Gravity"
      }
     },
     "06f6b77674df479c899800c56767797c": {
      "model_module": "ipysheet",
      "model_module_version": "~0.4.4",
      "model_name": "CellRangeModel",
      "state": {
       "_view_module": null,
       "_view_module_version": "",
       "column_end": 0,
       "column_start": 0,
       "row_end": 14,
       "row_start": 14,
       "type": "text",
       "value": "Brew Day Values"
      }
     },
     "072d7f91c7494359bad0bfa335e7bcd4": {
      "model_module": "ipysheet",
      "model_module_version": "~0.4.4",
      "model_name": "CellRangeModel",
      "state": {
       "_view_module": null,
       "_view_module_version": "",
       "column_end": 5,
       "column_start": 5,
       "row_end": 5,
       "row_start": 5,
       "type": "text",
       "value": "Dry Extract (DME) - Amber"
      }
     },
     "07aac9befc7f4783b897bd51b39c64d9": {
      "model_module": "ipysheet",
      "model_module_version": "~0.4.4",
      "model_name": "CellRangeModel",
      "state": {
       "_view_module": null,
       "_view_module_version": "",
       "column_end": 6,
       "column_start": 6,
       "row_end": 6,
       "row_start": 6,
       "style": {
        "backgroundColor": "yellow"
       },
       "type": "numeric",
       "value": 1.5
      }
     },
     "07b79d5f2f6c42e085cfa5ad07df4b14": {
      "model_module": "ipysheet",
      "model_module_version": "~0.4.4",
      "model_name": "CellRangeModel",
      "state": {
       "_view_module": null,
       "_view_module_version": "",
       "column_end": 2,
       "column_start": 2,
       "row_end": 7,
       "row_start": 7,
       "type": "text",
       "value": "1.01-1.018"
      }
     },
     "0836aec47abe4ae6986c0633e5ebd2ce": {
      "model_module": "ipysheet",
      "model_module_version": "~0.4.4",
      "model_name": "CellRangeModel",
      "state": {
       "_view_module": null,
       "_view_module_version": "",
       "row_end": 4,
       "row_start": 4,
       "style": {
        "backgroundColor": "yellow"
       },
       "type": "numeric",
       "value": 60
      }
     },
     "094d0deca9fc44ff9bf73a145207dde5": {
      "model_module": "ipysheet",
      "model_module_version": "~0.4.4",
      "model_name": "CellRangeModel",
      "state": {
       "_view_module": null,
       "_view_module_version": "",
       "column_end": 12,
       "column_start": 12,
       "row_end": 2,
       "row_start": 2,
       "style": {
        "backgroundColor": "yellow"
       },
       "type": "numeric",
       "value": 60
      }
     },
     "09bf80f184594d38b075aa0eb074939f": {
      "model_module": "ipysheet",
      "model_module_version": "~0.4.4",
      "model_name": "CellRangeModel",
      "state": {
       "_view_module": null,
       "_view_module_version": "",
       "column_end": 5,
       "column_start": 5,
       "row_end": 3,
       "row_start": 3,
       "type": "text",
       "value": "Oats, Flaked"
      }
     },
     "0a7af10a7aa14df8a43b21a6b2cf52fb": {
      "model_module": "ipysheet",
      "model_module_version": "~0.4.4",
      "model_name": "CellRangeModel",
      "state": {
       "_view_module": null,
       "_view_module_version": "",
       "column_end": 0,
       "column_start": 0,
       "row_end": 10,
       "row_start": 10,
       "type": "text",
       "value": "Efficiency"
      }
     },
     "0a7db95af4214a1ba9f4f9bfd43519ee": {
      "model_module": "ipysheet",
      "model_module_version": "~0.4.4",
      "model_name": "CellRangeModel",
      "state": {
       "_view_module": null,
       "_view_module_version": "",
       "row_end": 8,
       "row_start": 8,
       "style": {
        "backgroundColor": "red"
       },
       "type": "numeric",
       "value": 27.2
      }
     },
     "0a9738f7deb44cd0835fb1392ff7231e": {
      "model_module": "ipysheet",
      "model_module_version": "~0.4.4",
      "model_name": "CellRangeModel",
      "state": {
       "_view_module": null,
       "_view_module_version": "",
       "column_end": 2,
       "column_start": 2,
       "row_end": 11,
       "row_start": 11,
       "type": "text",
       "value": "4.2-5.9"
      }
     },
     "0abc7f0e0e7b4bfba3736f6e2cd33e99": {
      "model_module": "ipysheet",
      "model_module_version": "~0.4.4",
      "model_name": "CellRangeModel",
      "state": {
       "_view_module": null,
       "_view_module_version": "",
       "column_end": 3,
       "column_start": 3,
       "row_end": 7,
       "row_start": 7,
       "style": {
        "backgroundColor": "red"
       },
       "type": "numeric",
       "value": ""
      }
     },
     "0ac595e4993041a2a5823406161ea62a": {
      "model_module": "ipysheet",
      "model_module_version": "~0.4.4",
      "model_name": "CellRangeModel",
      "state": {
       "_view_module": null,
       "_view_module_version": "",
       "row_end": 17,
       "row_start": 17,
       "style": {
        "backgroundColor": "red"
       },
       "type": "numeric",
       "value": 1.044
      }
     },
     "0b1e16a8107b40418dca28a935016244": {
      "model_module": "@jupyter-widgets/base",
      "model_module_version": "1.2.0",
      "model_name": "LayoutModel",
      "state": {}
     },
     "0bc7e85a1b4f40beb355f4a84aa2297c": {
      "model_module": "ipysheet",
      "model_module_version": "~0.4.4",
      "model_name": "CellRangeModel",
      "state": {
       "_view_module": null,
       "_view_module_version": "",
       "row_end": 20,
       "row_start": 20,
       "style": {
        "backgroundColor": "red"
       },
       "type": "numeric",
       "value": 1.136
      }
     },
     "0bd0e43157b34856bc95dc9de1cfac10": {
      "model_module": "ipysheet",
      "model_module_version": "~0.4.4",
      "model_name": "CellRangeModel",
      "state": {
       "_view_module": null,
       "_view_module_version": "",
       "row_end": 3,
       "row_start": 3,
       "style": {
        "backgroundColor": "yellow"
       },
       "type": "numeric",
       "value": 1.75
      }
     },
     "0c093b8eee04447495f407aaeaa90e1f": {
      "model_module": "ipysheet",
      "model_module_version": "~0.4.4",
      "model_name": "CellRangeModel",
      "state": {
       "_view_module": null,
       "_view_module_version": "",
       "column_end": 0,
       "column_start": 0,
       "row_end": 6,
       "row_start": 6,
       "type": "text",
       "value": "OG"
      }
     },
     "0ca88ff2cc734b44883f89f5a16b16b4": {
      "model_module": "ipysheet",
      "model_module_version": "~0.4.4",
      "model_name": "CellRangeModel",
      "state": {
       "_view_module": null,
       "_view_module_version": "",
       "column_end": 0,
       "column_start": 0,
       "row_end": 20,
       "row_start": 20,
       "type": "text",
       "value": "Post-boil Gravity"
      }
     },
     "0d5eb33a5a3245aca046496e4d32a9c0": {
      "model_module": "ipysheet",
      "model_module_version": "~0.4.4",
      "model_name": "CellRangeModel",
      "state": {
       "_view_module": null,
       "_view_module_version": "",
       "column_end": 18,
       "column_start": 18,
       "type": "text",
       "value": "Min Temp (F)"
      }
     },
     "0e35ff28ce4347cc887891b2bedfa53a": {
      "model_module": "ipysheet",
      "model_module_version": "~0.4.4",
      "model_name": "CellRangeModel",
      "state": {
       "_view_module": null,
       "_view_module_version": "",
       "row_end": 19,
       "row_start": 19,
       "style": {
        "backgroundColor": "red"
       },
       "type": "numeric",
       "value": 1
      }
     },
     "0e3ab269f025427f8084c0302ce6d275": {
      "model_module": "ipysheet",
      "model_module_version": "~0.4.4",
      "model_name": "CellRangeModel",
      "state": {
       "_view_module": null,
       "_view_module_version": "",
       "column_end": 2,
       "column_start": 2,
       "row_end": 8,
       "row_start": 8,
       "type": "text",
       "value": "25.0-40.0"
      }
     },
     "0ead1b4676a04df89549e1aaffaabfe6": {
      "model_module": "ipysheet",
      "model_module_version": "~0.4.4",
      "model_name": "CellRangeModel",
      "state": {
       "_view_module": null,
       "_view_module_version": "",
       "column_end": 2,
       "column_start": 2,
       "row_end": 8,
       "row_start": 8,
       "type": "text",
       "value": "25.0-40.0"
      }
     },
     "0f0d9a1b00d44802912b14d4b7fe7067": {
      "model_module": "ipysheet",
      "model_module_version": "~0.4.4",
      "model_name": "CellRangeModel",
      "state": {
       "_view_module": null,
       "_view_module_version": "",
       "column_end": 0,
       "column_start": 0,
       "row_end": 11,
       "row_start": 11,
       "type": "text",
       "value": "ABV"
      }
     },
     "0f25e139a18949a995876100fb727ec1": {
      "model_module": "ipysheet",
      "model_module_version": "~0.4.4",
      "model_name": "CellRangeModel",
      "state": {
       "_view_module": null,
       "_view_module_version": "",
       "column_end": 18,
       "column_start": 18,
       "type": "text",
       "value": "Min Temp (F)"
      }
     },
     "0f32e140bfb142b2add3e12b816cc90c": {
      "model_module": "@jupyter-widgets/base",
      "model_module_version": "1.2.0",
      "model_name": "LayoutModel",
      "state": {}
     },
     "0f3929632d9c443487be6885f5e3462b": {
      "model_module": "ipysheet",
      "model_module_version": "~0.4.4",
      "model_name": "CellRangeModel",
      "state": {
       "_view_module": null,
       "_view_module_version": "",
       "column_end": 2,
       "column_start": 2,
       "type": "text",
       "value": "Style Min-Max"
      }
     },
     "0f6b3dc43d424f8b9692e5ecd168c9ac": {
      "model_module": "ipysheet",
      "model_module_version": "~0.4.4",
      "model_name": "CellRangeModel",
      "state": {
       "_view_module": null,
       "_view_module_version": "",
       "column_end": 10,
       "column_start": 10,
       "type": "text",
       "value": "Name"
      }
     },
     "0f8309ee34374463abfcb983fc2c27ab": {
      "model_module": "ipysheet",
      "model_module_version": "~0.4.4",
      "model_name": "CellRangeModel",
      "state": {
       "_view_module": null,
       "_view_module_version": "",
       "column_end": 3,
       "column_start": 3,
       "row_end": 8,
       "row_start": 8,
       "style": {
        "backgroundColor": "red"
       },
       "type": "numeric",
       "value": ""
      }
     },
     "109114e49f5f4bf38f3da5b86bdb3654": {
      "model_module": "ipysheet",
      "model_module_version": "~0.4.4",
      "model_name": "CellRangeModel",
      "state": {
       "_view_module": null,
       "_view_module_version": "",
       "column_end": 5,
       "column_start": 5,
       "row_end": 7,
       "row_start": 7,
       "type": "text",
       "value": "Briess - Chocolate Malt"
      }
     },
     "10b20f0147bd48528f4c577b0f99a10a": {
      "model_module": "ipysheet",
      "model_module_version": "~0.4.4",
      "model_name": "CellRangeModel",
      "state": {
       "_view_module": null,
       "_view_module_version": "",
       "column_end": 8,
       "column_start": 8,
       "row_end": 3,
       "row_start": 3,
       "type": "numeric",
       "value": 7
      }
     },
     "119e74ed6f164f67b62036673ae1cf38": {
      "model_module": "ipysheet",
      "model_module_version": "~0.4.4",
      "model_name": "CellRangeModel",
      "state": {
       "_view_module": null,
       "_view_module_version": "",
       "column_end": 2,
       "column_start": 2,
       "row_end": 9,
       "row_start": 9,
       "type": "text",
       "value": "22.0-40.0"
      }
     },
     "11e24008816e4c0f92072fb4f4d329a4": {
      "model_module": "ipysheet",
      "model_module_version": "~0.4.4",
      "model_name": "CellRangeModel",
      "state": {
       "_view_module": null,
       "_view_module_version": "",
       "column_end": 7,
       "column_start": 7,
       "row_end": 3,
       "row_start": 3,
       "type": "text",
       "value": "Mash"
      }
     },
     "1210ed8dca624add98cbfcc150b15d21": {
      "model_module": "ipysheet",
      "model_module_version": "~0.4.4",
      "model_name": "CellRangeModel",
      "state": {
       "_view_module": null,
       "_view_module_version": "",
       "column_end": 8,
       "column_start": 8,
       "row_end": 7,
       "row_start": 7,
       "type": "numeric",
       "value": 3
      }
     },
     "13c28cf5d09e4b0685f10790dfce3c69": {
      "model_module": "ipysheet",
      "model_module_version": "~0.4.4",
      "model_name": "CellRangeModel",
      "state": {
       "_view_module": null,
       "_view_module_version": "",
       "row_end": 3,
       "row_start": 3,
       "style": {
        "backgroundColor": "yellow"
       },
       "type": "numeric",
       "value": 1.75
      }
     },
     "1456e4e897f244dba6104b1eac0805d7": {
      "model_module": "ipysheet",
      "model_module_version": "~0.4.4",
      "model_name": "CellRangeModel",
      "state": {
       "_view_module": null,
       "_view_module_version": "",
       "column_end": 3,
       "column_start": 3,
       "row_end": 8,
       "row_start": 8,
       "style": {
        "backgroundColor": "red"
       },
       "type": "numeric",
       "value": ""
      }
     },
     "154e89a532d14a01b90bae5904b617b7": {
      "model_module": "ipysheet",
      "model_module_version": "~0.4.4",
      "model_name": "CellRangeModel",
      "state": {
       "_view_module": null,
       "_view_module_version": "",
       "row_end": 19,
       "row_start": 19,
       "style": {
        "backgroundColor": "red"
       },
       "type": "numeric",
       "value": 1
      }
     },
     "15d12d4dbdd740bfb81ed8e3db114744": {
      "model_module": "ipysheet",
      "model_module_version": "~0.4.4",
      "model_name": "CellRangeModel",
      "state": {
       "_view_module": null,
       "_view_module_version": "",
       "column_end": 19,
       "column_start": 19,
       "row_end": 2,
       "row_start": 2,
       "type": "numeric",
       "value": 75.2
      }
     },
     "15d4e9eae129497cbb0bcc72964cc310": {
      "model_module": "ipysheet",
      "model_module_version": "~0.4.4",
      "model_name": "CellRangeModel",
      "state": {
       "_view_module": null,
       "_view_module_version": "",
       "column_end": 13,
       "column_start": 13,
       "type": "text",
       "value": "IBU"
      }
     },
     "160e88f0ca64472f9873bfb5519d3a0e": {
      "model_module": "ipysheet",
      "model_module_version": "~0.4.4",
      "model_name": "CellRangeModel",
      "state": {
       "_view_module": null,
       "_view_module_version": "",
       "column_end": 0,
       "column_start": 0,
       "row_end": 0,
       "row_start": 0,
       "type": "text",
       "value": "Summary"
      }
     },
     "166c7db01f7347e790c9379144c5122c": {
      "model_module": "ipysheet",
      "model_module_version": "~0.4.4",
      "model_name": "SheetModel",
      "state": {
       "cells": [
        "IPY_MODEL_aa461530b40d46f3a7dfaf9cecd698bc",
        "IPY_MODEL_a2c49ad73c94421180ae25442a87a6ff",
        "IPY_MODEL_4536cd4a79d64565b56866f90be592d1",
        "IPY_MODEL_43b6d476558b4110ace82874b2c5a616",
        "IPY_MODEL_d1ce548cb11c422091bc98a6e84da022",
        "IPY_MODEL_f565328975fd47a4bec8fb5271279b1e",
        "IPY_MODEL_4e68dacf801b4ac38de74cc30c532805",
        "IPY_MODEL_b39be09b076d4b0389c0dbd4addfd9c9",
        "IPY_MODEL_29b9566457fc47bf8e8d7440ac9f6d28",
        "IPY_MODEL_fe3b3e202bc744b3b63b0b736dd54743",
        "IPY_MODEL_7a36d298bfa449ce85325b5366d84d3f",
        "IPY_MODEL_1bf1784d83534936ae9a055822bcb8df",
        "IPY_MODEL_0f6b3dc43d424f8b9692e5ecd168c9ac",
        "IPY_MODEL_e4ec103a810c4c8d86ff4bd2c6147c08",
        "IPY_MODEL_03cab40f3b304cfbb6d4a92e99159618",
        "IPY_MODEL_03f7280df37141769e7a2f96a7dc4f63",
        "IPY_MODEL_5290ff9a6d10466e8acb044267f60033",
        "IPY_MODEL_6811a4141e6348738ab5147dfe2d72d6",
        "IPY_MODEL_e3a0f942afd64b89ac99b8cddade9635",
        "IPY_MODEL_ad51abb836244c06ba37cc9aa39f8d56",
        "IPY_MODEL_48981de95d7b4059bf33c0c6ca0bd05d",
        "IPY_MODEL_a256b06694364c0498b7907444279223",
        "IPY_MODEL_4b95e363fcbc4d4282d2cca727898163",
        "IPY_MODEL_50eed7e3e55a44a49f9086567ff5ed9c",
        "IPY_MODEL_028db77fd5ca4ac9bfb74f6b4d518044",
        "IPY_MODEL_fd4716a3b1dc48f589d994bbb33c24c5",
        "IPY_MODEL_afcf1ea8cb6a4db9a5ece6f42647d6cc",
        "IPY_MODEL_aa980e457ebc4248bc3d159437960bac",
        "IPY_MODEL_23ff7efa2ced40aaaa00a92d0c317e51",
        "IPY_MODEL_95e0d33d79ad42ffa7afa138f0d8ceee",
        "IPY_MODEL_05c07ff999ae4b1dafa6d5af5adfc069",
        "IPY_MODEL_06f6b77674df479c899800c56767797c",
        "IPY_MODEL_2de5ecffa8414f64ac5e4c674c06ce49",
        "IPY_MODEL_d656acab93ab4913b66adbba1ad4c723",
        "IPY_MODEL_fb792d47a1db48b88de3776c21e4151d",
        "IPY_MODEL_32de7b2795c143d7acf17c6d673fbcd9",
        "IPY_MODEL_ad013f8ce2774a459aa27e558b64a545",
        "IPY_MODEL_d1fbd2a04ac841f7b5e6fb06673e6bfb",
        "IPY_MODEL_34a4def0c28543f191ff72edf8f931cb",
        "IPY_MODEL_f311a11ed65b4feab369fb045cdad261",
        "IPY_MODEL_37e59e22afb442dfbbd74c3005328bd2",
        "IPY_MODEL_8dded89b2d6a407da15274f3419add65",
        "IPY_MODEL_c712667d31354453a830f6430414e7fd",
        "IPY_MODEL_b32046b8b64e4c14bc61bce54f642c0e",
        "IPY_MODEL_274d8bd7f08b48eba79e5896cafd7d47",
        "IPY_MODEL_f505f92e1680487b804bc1dab012f979",
        "IPY_MODEL_21363a0d81de4da88b140818b4910677",
        "IPY_MODEL_885032d4f1f84f80b097810ff235e968",
        "IPY_MODEL_b7805b7ac29b44b5b8b33cee245aa965",
        "IPY_MODEL_c087b9ab51d8473693a408d751d6d1c7",
        "IPY_MODEL_4e32aee03116432ab28918f22877a529",
        "IPY_MODEL_4b8db34ae4c547c9b5cd7df0b9f1de16",
        "IPY_MODEL_039a14dfd41c479d93fd8af3a00104c3",
        "IPY_MODEL_3e9c43b38bfd42c0a63076bb51e5b1e5",
        "IPY_MODEL_07aac9befc7f4783b897bd51b39c64d9",
        "IPY_MODEL_db03d6ebb44b44d69c71b0ad172b72e3",
        "IPY_MODEL_9320db35c77949fcbe68cae5553b2baa",
        "IPY_MODEL_109114e49f5f4bf38f3da5b86bdb3654",
        "IPY_MODEL_2579e1124de04b6cae105b7ba142eddd",
        "IPY_MODEL_d2c8fbea3076492c83f9d0b6f39fd74c",
        "IPY_MODEL_e2d1344355c849c4869c1a96e5ef8735",
        "IPY_MODEL_307ffc2bd6d841dfbe7065af30088343",
        "IPY_MODEL_feedcd79760941489eb88946e42f8f3d",
        "IPY_MODEL_da311c7fd41d4b3eb73c26caa0a089ab",
        "IPY_MODEL_e0d251dd399a4c178eff747f6141513a",
        "IPY_MODEL_feaec598f7ed495c98bd8f717b526fc0",
        "IPY_MODEL_d10c95316ab744bfad2586a1ed1aa48f",
        "IPY_MODEL_37f338c1a9174153bf8219db495c07f9",
        "IPY_MODEL_71309548f5ad47be91c7d41019943135",
        "IPY_MODEL_79839691024944ba96ceac2207ab14d6",
        "IPY_MODEL_e6107063d6fa496e9061b4c4427ff709",
        "IPY_MODEL_44e6f2b768cd4590814b5fc3e8405f40",
        "IPY_MODEL_237ec45dd8e644ab821cd9dc1ab01207",
        "IPY_MODEL_ae9a6b3ede2244239dbb984cee1c62cb",
        "IPY_MODEL_a9ce599e29b446e78596d6e0254627ba",
        "IPY_MODEL_f4dcd9c6ed8143c2bbcc4ea95beeadc6",
        "IPY_MODEL_9c48ae29f5614b219be01964976d06df",
        "IPY_MODEL_f82ccd22728c4099b6d9f7d52e08450a",
        "IPY_MODEL_d51a94fcd856450cbb4e82544e625c6c",
        "IPY_MODEL_e3fe7e0ead7b43939c0fb4e2818de794",
        "IPY_MODEL_89d717f2ac534907989b81a6b4d940d3",
        "IPY_MODEL_4e58cd2b72de449d8e818180f566fe49",
        "IPY_MODEL_8b6658db64d7495e898607d7623ebbf3",
        "IPY_MODEL_2662cdd9b85948a6834a64be08962437",
        "IPY_MODEL_b873f5cda1944bc1bf167b58fb02d8d8",
        "IPY_MODEL_e6d183a847fa4922aab7ab1f572fa7ad",
        "IPY_MODEL_d7f8b5bf0b79449ea1d534838f19864a",
        "IPY_MODEL_154e89a532d14a01b90bae5904b617b7",
        "IPY_MODEL_be265740944347d5a15fc7a41ad9e379",
        "IPY_MODEL_5cb32af312a04a69804611c67a23e703",
        "IPY_MODEL_07b79d5f2f6c42e085cfa5ad07df4b14",
        "IPY_MODEL_83cd3f796f904a2090a2ee37d7cae15f",
        "IPY_MODEL_61d5a5c1d58d46018fd4b7be442e6817",
        "IPY_MODEL_019ad24f95d94f3e97a8a37f11560197",
        "IPY_MODEL_b110d9f0e87a432eaa3442ffee02f086",
        "IPY_MODEL_ef81541cad4f4036afa8ba13a5e49b31",
        "IPY_MODEL_2f10c3990f5b4f789682bf31430e2853",
        "IPY_MODEL_2cd3ade4242548c1a9fc2d4ba3d79d49",
        "IPY_MODEL_79bf96718efa47a981b99c27323ef149"
       ],
       "columns": 20,
       "layout": "IPY_MODEL_75e1d0e81b8e4d058870259e8fcd59fc",
       "rows": 21
      }
     },
     "16e87a94e4fe4199bace83b7dd7aaba3": {
      "model_module": "ipysheet",
      "model_module_version": "~0.4.4",
      "model_name": "CellRangeModel",
      "state": {
       "_view_module": null,
       "_view_module_version": "",
       "row_end": 4,
       "row_start": 4,
       "style": {
        "backgroundColor": "yellow"
       },
       "type": "numeric",
       "value": 60
      }
     },
     "17f4989a73d64bd3b647131dfd976d58": {
      "model_module": "ipysheet",
      "model_module_version": "~0.4.4",
      "model_name": "CellRangeModel",
      "state": {
       "_view_module": null,
       "_view_module_version": "",
       "column_end": 16,
       "column_start": 16,
       "type": "text",
       "value": "Attenuation (listed)"
      }
     },
     "1909087b5a5d40c887e9c0ea146ec20d": {
      "model_module": "ipysheet",
      "model_module_version": "~0.4.4",
      "model_name": "CellRangeModel",
      "state": {
       "_view_module": null,
       "_view_module_version": "",
       "column_end": 0,
       "column_start": 0,
       "row_end": 7,
       "row_start": 7,
       "type": "text",
       "value": "FG"
      }
     },
     "19336f39f1d44ebe98579747dce92683": {
      "model_module": "ipysheet",
      "model_module_version": "~0.4.4",
      "model_name": "CellRangeModel",
      "state": {
       "_view_module": null,
       "_view_module_version": "",
       "column_end": 0,
       "column_start": 0,
       "row_end": 17,
       "row_start": 17,
       "type": "text",
       "value": "Post-Mash Gravity"
      }
     },
     "194e414765f741198a512db4b96f0e06": {
      "model_module": "ipysheet",
      "model_module_version": "~0.4.4",
      "model_name": "CellRangeModel",
      "state": {
       "_view_module": null,
       "_view_module_version": "",
       "column_end": 7,
       "column_start": 7,
       "type": "text",
       "value": "Use"
      }
     },
     "1967a4ca5a984fe0975be343472f2d2b": {
      "model_module": "ipysheet",
      "model_module_version": "~0.4.4",
      "model_name": "CellRangeModel",
      "state": {
       "_view_module": null,
       "_view_module_version": "",
       "column_end": 16,
       "column_start": 16,
       "row_end": 2,
       "row_start": 2,
       "style": {
        "backgroundColor": "yellow"
       },
       "type": "numeric",
       "value": 75
      }
     },
     "197d37e5a9b14d2ca3d0f08e066397b1": {
      "model_module": "ipysheet",
      "model_module_version": "~0.4.4",
      "model_name": "CellRangeModel",
      "state": {
       "_view_module": null,
       "_view_module_version": "",
       "row_end": 17,
       "row_start": 17,
       "style": {
        "backgroundColor": "red"
       },
       "type": "numeric",
       "value": 1.051
      }
     },
     "19a628d0bc6d48b8aab2cc0727439ef5": {
      "model_module": "ipysheet",
      "model_module_version": "~0.4.4",
      "model_name": "CellRangeModel",
      "state": {
       "_view_module": null,
       "_view_module_version": "",
       "column_end": 5,
       "column_start": 5,
       "row_end": 7,
       "row_start": 7,
       "type": "text",
       "value": "Briess - Chocolate Malt"
      }
     },
     "1b06bf1c3ff24681bfb3c78f4ac213fd": {
      "model_module": "@jupyter-widgets/base",
      "model_module_version": "1.2.0",
      "model_name": "LayoutModel",
      "state": {}
     },
     "1b1690a0d3cc46bca3aeddaa57a3722e": {
      "model_module": "@jupyter-widgets/base",
      "model_module_version": "1.2.0",
      "model_name": "LayoutModel",
      "state": {}
     },
     "1bd4ae0d6b8743e3a334c66373c831bb": {
      "model_module": "ipysheet",
      "model_module_version": "~0.4.4",
      "model_name": "SheetModel",
      "state": {
       "cells": [
        "IPY_MODEL_bd30e379b5fa41a290cd23bc3a5b9a85",
        "IPY_MODEL_bdb8074139434287b886fc78413b3273",
        "IPY_MODEL_8849fdfbb8cb4dd0a1cba3c76cba4619",
        "IPY_MODEL_e73c98698a824973ab934ce5ff08373d",
        "IPY_MODEL_95ca0aefe55340babc14fb22c5b2d45e",
        "IPY_MODEL_6ef55c4918704eccb56fc859183f4598",
        "IPY_MODEL_612bfbfb54a14569b2c46813f44c8263",
        "IPY_MODEL_aea5520b16624062b84f341478882337",
        "IPY_MODEL_5bde9e9e648e444880bcc1fbb963030b",
        "IPY_MODEL_0385f413ce3346c7ae78ddb294c7e15b",
        "IPY_MODEL_0317ce36f2fe491bafd975b242825c46",
        "IPY_MODEL_b41b68b7324f4ca78899f4ea8c2e57cb",
        "IPY_MODEL_1d190ccb2a364ecb8e7b2ceeafcf696d",
        "IPY_MODEL_27108073047649c2be1e3cbe2568eee6",
        "IPY_MODEL_a8bb76202b524638b92f74477447ab1a",
        "IPY_MODEL_15d4e9eae129497cbb0bcc72964cc310",
        "IPY_MODEL_e2d83e57d08e4cf8b157b0e71126c37f",
        "IPY_MODEL_90c434e7d78d4ab9a90c0098e67ca601",
        "IPY_MODEL_d9b5ea2dfaec48408e1239a24a8c277c",
        "IPY_MODEL_ce49a9aa3eae44f390618e5c3c0f32a8",
        "IPY_MODEL_78f55bdcc35d4869aed16853bc75baba",
        "IPY_MODEL_dbb01924b441441abb2b549a1013ce2d",
        "IPY_MODEL_230627e82928436489453ada90a4b448",
        "IPY_MODEL_bfe49af2ef474530adbdc901300bbabf",
        "IPY_MODEL_ca2085436cde42029589755df32aa25b",
        "IPY_MODEL_0c093b8eee04447495f407aaeaa90e1f",
        "IPY_MODEL_86baf1e9a88d403b9b70f1f81c447944",
        "IPY_MODEL_f13b8a2cf46f4de796b7355e8a7e2483",
        "IPY_MODEL_ac2f07c1b09a46daa8b434091503d053",
        "IPY_MODEL_5a3c8da120554ad4983bd98a7fffaa1f",
        "IPY_MODEL_60090f6427b14f268614f55adddd6b57",
        "IPY_MODEL_3957ce4e6cc240a3aed235db243a707c",
        "IPY_MODEL_5dea532c95234758b315da7e6e4219d6",
        "IPY_MODEL_19336f39f1d44ebe98579747dce92683",
        "IPY_MODEL_58143d5d7c74492cae3b26ac66950a72",
        "IPY_MODEL_de4cdf2e937041e1a85ee87aaf2dc32e",
        "IPY_MODEL_78cbdfe6b812402e83ee5576ab9ec140",
        "IPY_MODEL_a34fd64cb8634cc29b887e47ae52142b",
        "IPY_MODEL_304b74bd5c244d1ea4e10a18c4adef2b",
        "IPY_MODEL_65d683c2f1ce43a1bec1870453bcefdc",
        "IPY_MODEL_c1bca2f2b47a4552925c282adbbec89b",
        "IPY_MODEL_09bf80f184594d38b075aa0eb074939f",
        "IPY_MODEL_7c872b0725e64c509fc20d733ed3b4bc",
        "IPY_MODEL_5f98cb17404b43ea92ce00580c8cadcc",
        "IPY_MODEL_10b20f0147bd48528f4c577b0f99a10a",
        "IPY_MODEL_70805bf7345a43ca89856a996007fa08",
        "IPY_MODEL_24399604b34b458380bdd2bf6821ed16",
        "IPY_MODEL_5bc956b532764b3a8a6e5246e891d244",
        "IPY_MODEL_832ff27f59e44bd7819519f7cab8bd3e",
        "IPY_MODEL_844e8f2a639640f6948bdd667154137c",
        "IPY_MODEL_d986a2cf8b3c48bbabec5aedd9239fb4",
        "IPY_MODEL_91fa2ddbd61c47278b042ef07688075d",
        "IPY_MODEL_4a09ee0d758844d49ddcc7bde3d54c62",
        "IPY_MODEL_262a5d6e700a4e28933fa5dbb3d911b0",
        "IPY_MODEL_9e8c03abb0df41989ffb0a5c915fdb3e",
        "IPY_MODEL_d7ee4521619546cdb4532507ad84daad",
        "IPY_MODEL_fa47074085c440b1ace796da5adb0ac1",
        "IPY_MODEL_97ac5204312441dbb15e6e387359c6f1",
        "IPY_MODEL_924b1eca4ac4445d9f03cf2f5ec90b55",
        "IPY_MODEL_501268987d404f36bcd556f4f4f270d7",
        "IPY_MODEL_8f57d4f536cd44a0b9ff2115daca7503",
        "IPY_MODEL_2535d90215bd4800bf47fb6384d5b64c",
        "IPY_MODEL_6f8a3304e89a41be97738d3f2327e821",
        "IPY_MODEL_b2a5e55a62494a889fdfd1128d51f8c5",
        "IPY_MODEL_410bdc18de4e493fb4a6cf40afd2d2f8",
        "IPY_MODEL_66bdbd2744d4404ea2e74b8e0b8de180",
        "IPY_MODEL_f9dd06087cbf4c44859ea95df25cf2f1",
        "IPY_MODEL_d456ef94bda54742b2bc26c88090a171",
        "IPY_MODEL_b41efc78471b45458ddb070d783af00b",
        "IPY_MODEL_b80cd7383741490aada0aa6a18637159",
        "IPY_MODEL_84f06bc3cdc34d71967116efebb3e16d",
        "IPY_MODEL_ae1eecbe2923443ebe64c94cf97ab366",
        "IPY_MODEL_a4461b4bd1b64fe98c3864fb3c014d51",
        "IPY_MODEL_15d12d4dbdd740bfb81ed8e3db114744",
        "IPY_MODEL_785f2dd17cb3450bb477b84693f12a4a",
        "IPY_MODEL_d7c2f80a023b4c4085f05f6b7fb25755",
        "IPY_MODEL_23e257c8069442768acc544f553c0495",
        "IPY_MODEL_b5b7444086b14e62bf2b3229a4033d30",
        "IPY_MODEL_63c0087262494cc39d315906aa7364d2",
        "IPY_MODEL_c56d6fd9945c42fc9908db92d315eeeb",
        "IPY_MODEL_466361ac30de45139d2aa788a60bc5b2",
        "IPY_MODEL_d64792f0dd0d408aaa5799e9359e165b",
        "IPY_MODEL_4a0ed81f32fd421189175a0c24320e4f",
        "IPY_MODEL_5dac8e6d8c2549ce8a42e8b96163c52d",
        "IPY_MODEL_50cf55884f8b49a4837e5f0cda871fdf",
        "IPY_MODEL_0ac595e4993041a2a5823406161ea62a",
        "IPY_MODEL_06886ffafcfe48f4b53cb66ac1fe8c63",
        "IPY_MODEL_0e35ff28ce4347cc887891b2bedfa53a",
        "IPY_MODEL_0bc7e85a1b4f40beb355f4a84aa2297c",
        "IPY_MODEL_576ecf182d424d2f8a79ec4250069b77",
        "IPY_MODEL_f5f42a370ed345f7a73f4728e1470f48",
        "IPY_MODEL_304814411b5845178c98b668743224d4",
        "IPY_MODEL_278ae35a286c4caea9e9e58c04afbc32",
        "IPY_MODEL_77748acf92d146548f02d19cc850f44c",
        "IPY_MODEL_a7de644eea6441ba80b75ca0fe9b0b17",
        "IPY_MODEL_2ac0bb19914e4063b2238ba79ce254cf",
        "IPY_MODEL_1456e4e897f244dba6104b1eac0805d7",
        "IPY_MODEL_1c18845b251140cf8dcc9f911d58c9c6",
        "IPY_MODEL_ee1be35e901644c983101e2a7fb98090"
       ],
       "columns": 20,
       "layout": "IPY_MODEL_f69172d9fd594419998750cc47ec6257",
       "rows": 21
      }
     },
     "1bf1784d83534936ae9a055822bcb8df": {
      "model_module": "ipysheet",
      "model_module_version": "~0.4.4",
      "model_name": "CellRangeModel",
      "state": {
       "_view_module": null,
       "_view_module_version": "",
       "column_end": 8,
       "column_start": 8,
       "type": "text",
       "value": "GU Contribution"
      }
     },
     "1c18845b251140cf8dcc9f911d58c9c6": {
      "model_module": "ipysheet",
      "model_module_version": "~0.4.4",
      "model_name": "CellRangeModel",
      "state": {
       "_view_module": null,
       "_view_module_version": "",
       "column_end": 3,
       "column_start": 3,
       "row_end": 9,
       "row_start": 9,
       "style": {
        "backgroundColor": "red"
       },
       "type": "numeric",
       "value": ""
      }
     },
     "1c1a2a360c3b4c839f88411a504ae60a": {
      "model_module": "ipysheet",
      "model_module_version": "~0.4.4",
      "model_name": "CellRangeModel",
      "state": {
       "_view_module": null,
       "_view_module_version": "",
       "column_end": 8,
       "column_start": 8,
       "type": "text",
       "value": "GU Contribution"
      }
     },
     "1c252f20f00a4cff8d2e2145f6912c32": {
      "model_module": "ipysheet",
      "model_module_version": "~0.4.4",
      "model_name": "CellRangeModel",
      "state": {
       "_view_module": null,
       "_view_module_version": "",
       "column_end": 18,
       "column_start": 18,
       "type": "text",
       "value": "Min Temp (F)"
      }
     },
     "1c7adfd3bd5146dab0dcd14cc32f3a12": {
      "model_module": "ipysheet",
      "model_module_version": "~0.4.4",
      "model_name": "CellRangeModel",
      "state": {
       "_view_module": null,
       "_view_module_version": "",
       "column_end": 3,
       "column_start": 3,
       "row_end": 7,
       "row_start": 7,
       "style": {
        "backgroundColor": "red"
       },
       "type": "numeric",
       "value": ""
      }
     },
     "1d190ccb2a364ecb8e7b2ceeafcf696d": {
      "model_module": "ipysheet",
      "model_module_version": "~0.4.4",
      "model_name": "CellRangeModel",
      "state": {
       "_view_module": null,
       "_view_module_version": "",
       "column_end": 10,
       "column_start": 10,
       "type": "text",
       "value": "Name"
      }
     },
     "1ef0df3d0b7b44b298a1e6c713e403ce": {
      "model_module": "ipysheet",
      "model_module_version": "~0.4.4",
      "model_name": "CellRangeModel",
      "state": {
       "_view_module": null,
       "_view_module_version": "",
       "column_end": 7,
       "column_start": 7,
       "type": "text",
       "value": "Use"
      }
     },
     "1f4a9e4700594e53898e17c0757708d9": {
      "model_module": "ipysheet",
      "model_module_version": "~0.4.4",
      "model_name": "CellRangeModel",
      "state": {
       "_view_module": null,
       "_view_module_version": "",
       "column_end": 5,
       "column_start": 5,
       "row_end": 3,
       "row_start": 3,
       "type": "text",
       "value": "Oats, Flaked"
      }
     },
     "1f82b8b20a89490dabe36550698482f3": {
      "model_module": "ipysheet",
      "model_module_version": "~0.4.4",
      "model_name": "CellRangeModel",
      "state": {
       "_view_module": null,
       "_view_module_version": "",
       "row_end": 20,
       "row_start": 20,
       "style": {
        "backgroundColor": "red"
       },
       "type": "numeric",
       "value": 1.145
      }
     },
     "20409ca93cfe4d55aa3d4a19db872714": {
      "model_module": "ipysheet",
      "model_module_version": "~0.4.4",
      "model_name": "CellRangeModel",
      "state": {
       "_view_module": null,
       "_view_module_version": "",
       "row_end": 8,
       "row_start": 8,
       "style": {
        "backgroundColor": "red"
       },
       "type": "numeric",
       "value": 25.7
      }
     },
     "20ba36171599451f8a7606a5d55acbd5": {
      "model_module": "ipysheet",
      "model_module_version": "~0.4.4",
      "model_name": "CellRangeModel",
      "state": {
       "_view_module": null,
       "_view_module_version": "",
       "column_end": 2,
       "column_start": 2,
       "row_end": 9,
       "row_start": 9,
       "type": "text",
       "value": "22.0-40.0"
      }
     },
     "20ef9035e6f446dba597c34db0ec0ea9": {
      "model_module": "ipysheet",
      "model_module_version": "~0.4.4",
      "model_name": "CellRangeModel",
      "state": {
       "_view_module": null,
       "_view_module_version": "",
       "column_end": 0,
       "column_start": 0,
       "row_end": 14,
       "row_start": 14,
       "type": "text",
       "value": "Brew Day Values"
      }
     },
     "21363a0d81de4da88b140818b4910677": {
      "model_module": "ipysheet",
      "model_module_version": "~0.4.4",
      "model_name": "CellRangeModel",
      "state": {
       "_view_module": null,
       "_view_module_version": "",
       "column_end": 6,
       "column_start": 6,
       "row_end": 4,
       "row_start": 4,
       "style": {
        "backgroundColor": "yellow"
       },
       "type": "numeric",
       "value": 1
      }
     },
     "221630080f7b42339e81e17f618c8449": {
      "model_module": "ipysheet",
      "model_module_version": "~0.4.4",
      "model_name": "CellRangeModel",
      "state": {
       "_view_module": null,
       "_view_module_version": "",
       "column_end": 19,
       "column_start": 19,
       "row_end": 2,
       "row_start": 2,
       "type": "numeric",
       "value": 75.2
      }
     },
     "230627e82928436489453ada90a4b448": {
      "model_module": "ipysheet",
      "model_module_version": "~0.4.4",
      "model_name": "CellRangeModel",
      "state": {
       "_view_module": null,
       "_view_module_version": "",
       "column_end": 0,
       "column_start": 0,
       "row_end": 3,
       "row_start": 3,
       "type": "text",
       "value": "Boil Size"
      }
     },
     "237ec45dd8e644ab821cd9dc1ab01207": {
      "model_module": "ipysheet",
      "model_module_version": "~0.4.4",
      "model_name": "CellRangeModel",
      "state": {
       "_view_module": null,
       "_view_module_version": "",
       "column_end": 18,
       "column_start": 18,
       "row_end": 2,
       "row_start": 2,
       "type": "numeric",
       "value": 59
      }
     },
     "239e56806b314c7c88d92aaa74cd7b6c": {
      "model_module": "ipysheet",
      "model_module_version": "~0.4.4",
      "model_name": "CellRangeModel",
      "state": {
       "_view_module": null,
       "_view_module_version": "",
       "column_end": 13,
       "column_start": 13,
       "row_end": 2,
       "row_start": 2,
       "type": "numeric",
       "value": 21
      }
     },
     "23e257c8069442768acc544f553c0495": {
      "model_module": "ipysheet",
      "model_module_version": "~0.4.4",
      "model_name": "CellRangeModel",
      "state": {
       "_view_module": null,
       "_view_module_version": "",
       "row_end": 4,
       "row_start": 4,
       "style": {
        "backgroundColor": "yellow"
       },
       "type": "numeric",
       "value": 60
      }
     },
     "23f91e638d9941a2963939f3a635d2db": {
      "model_module": "ipysheet",
      "model_module_version": "~0.4.4",
      "model_name": "CellRangeModel",
      "state": {
       "_view_module": null,
       "_view_module_version": "",
       "column_end": 7,
       "column_start": 7,
       "row_end": 2,
       "row_start": 2,
       "type": "text",
       "value": "Mash"
      }
     },
     "23ff7efa2ced40aaaa00a92d0c317e51": {
      "model_module": "ipysheet",
      "model_module_version": "~0.4.4",
      "model_name": "CellRangeModel",
      "state": {
       "_view_module": null,
       "_view_module_version": "",
       "column_end": 0,
       "column_start": 0,
       "row_end": 9,
       "row_start": 9,
       "type": "text",
       "value": "Color"
      }
     },
     "24399604b34b458380bdd2bf6821ed16": {
      "model_module": "ipysheet",
      "model_module_version": "~0.4.4",
      "model_name": "CellRangeModel",
      "state": {
       "_view_module": null,
       "_view_module_version": "",
       "column_end": 6,
       "column_start": 6,
       "row_end": 4,
       "row_start": 4,
       "style": {
        "backgroundColor": "yellow"
       },
       "type": "numeric",
       "value": 1
      }
     },
     "248f5b4f301d4243ab7f785e74be9298": {
      "model_module": "ipysheet",
      "model_module_version": "~0.4.4",
      "model_name": "CellRangeModel",
      "state": {
       "_view_module": null,
       "_view_module_version": "",
       "row_end": 11,
       "row_start": 11,
       "style": {
        "backgroundColor": "red"
       },
       "type": "numeric",
       "value": 5.64
      }
     },
     "2535d90215bd4800bf47fb6384d5b64c": {
      "model_module": "ipysheet",
      "model_module_version": "~0.4.4",
      "model_name": "CellRangeModel",
      "state": {
       "_view_module": null,
       "_view_module_version": "",
       "column_end": 10,
       "column_start": 10,
       "row_end": 2,
       "row_start": 2,
       "type": "text",
       "value": "Willamette"
      }
     },
     "254e7719faaf44289b97f0be5f315590": {
      "model_module": "ipysheet",
      "model_module_version": "~0.4.4",
      "model_name": "CellRangeModel",
      "state": {
       "_view_module": null,
       "_view_module_version": "",
       "column_end": 6,
       "column_start": 6,
       "row_end": 2,
       "row_start": 2,
       "style": {
        "backgroundColor": "yellow"
       },
       "type": "numeric",
       "value": 0.25
      }
     },
     "2579e1124de04b6cae105b7ba142eddd": {
      "model_module": "ipysheet",
      "model_module_version": "~0.4.4",
      "model_name": "CellRangeModel",
      "state": {
       "_view_module": null,
       "_view_module_version": "",
       "column_end": 6,
       "column_start": 6,
       "row_end": 7,
       "row_start": 7,
       "style": {
        "backgroundColor": "yellow"
       },
       "type": "numeric",
       "value": 0.25
      }
     },
     "25ca32773f0d47319b4eaa35f72a8622": {
      "model_module": "ipysheet",
      "model_module_version": "~0.4.4",
      "model_name": "CellRangeModel",
      "state": {
       "_view_module": null,
       "_view_module_version": "",
       "column_end": 15,
       "column_start": 15,
       "row_end": 0,
       "row_start": 0,
       "type": "text",
       "value": "Yeast"
      }
     },
     "262a5d6e700a4e28933fa5dbb3d911b0": {
      "model_module": "ipysheet",
      "model_module_version": "~0.4.4",
      "model_name": "CellRangeModel",
      "state": {
       "_view_module": null,
       "_view_module_version": "",
       "column_end": 5,
       "column_start": 5,
       "row_end": 6,
       "row_start": 6,
       "type": "text",
       "value": "Briess - 6 Row Brewers Malt"
      }
     },
     "2662cdd9b85948a6834a64be08962437": {
      "model_module": "ipysheet",
      "model_module_version": "~0.4.4",
      "model_name": "CellRangeModel",
      "state": {
       "_view_module": null,
       "_view_module_version": "",
       "row_end": 11,
       "row_start": 11,
       "style": {
        "backgroundColor": "red"
       },
       "type": "numeric",
       "value": 5.64
      }
     },
     "27108073047649c2be1e3cbe2568eee6": {
      "model_module": "ipysheet",
      "model_module_version": "~0.4.4",
      "model_name": "CellRangeModel",
      "state": {
       "_view_module": null,
       "_view_module_version": "",
       "column_end": 11,
       "column_start": 11,
       "type": "text",
       "value": "Amount (oz)"
      }
     },
     "274d8bd7f08b48eba79e5896cafd7d47": {
      "model_module": "ipysheet",
      "model_module_version": "~0.4.4",
      "model_name": "CellRangeModel",
      "state": {
       "_view_module": null,
       "_view_module_version": "",
       "column_end": 8,
       "column_start": 8,
       "row_end": 3,
       "row_start": 3,
       "type": "numeric",
       "value": 7
      }
     },
     "278ae35a286c4caea9e9e58c04afbc32": {
      "model_module": "ipysheet",
      "model_module_version": "~0.4.4",
      "model_name": "CellRangeModel",
      "state": {
       "_view_module": null,
       "_view_module_version": "",
       "column_end": 2,
       "column_start": 2,
       "row_end": 9,
       "row_start": 9,
       "type": "text",
       "value": "22.0-40.0"
      }
     },
     "27b6a1dd775c40eab8c5ad22fae2b2df": {
      "model_module": "ipysheet",
      "model_module_version": "~0.4.4",
      "model_name": "CellRangeModel",
      "state": {
       "_view_module": null,
       "_view_module_version": "",
       "row_end": 6,
       "row_start": 6,
       "style": {
        "backgroundColor": "red"
       },
       "type": "numeric",
       "value": 1.055
      }
     },
     "27eec10919564ee9865be17dd436b891": {
      "model_module": "ipysheet",
      "model_module_version": "~0.4.4",
      "model_name": "CellRangeModel",
      "state": {
       "_view_module": null,
       "_view_module_version": "",
       "column_end": 15,
       "column_start": 15,
       "row_end": 2,
       "row_start": 2,
       "type": "text",
       "value": "Safale S-04"
      }
     },
     "28674aedb06743419c8728d891392ef0": {
      "model_module": "ipysheet",
      "model_module_version": "~0.4.4",
      "model_name": "CellRangeModel",
      "state": {
       "_view_module": null,
       "_view_module_version": "",
       "column_end": 0,
       "column_start": 0,
       "row_end": 19,
       "row_start": 19,
       "type": "text",
       "value": "Post-boil Volume"
      }
     },
     "286d51fe461b4576a05fca6e11825472": {
      "model_module": "ipysheet",
      "model_module_version": "~0.4.4",
      "model_name": "CellRangeModel",
      "state": {
       "_view_module": null,
       "_view_module_version": "",
       "row_end": 17,
       "row_start": 17,
       "style": {
        "backgroundColor": "red"
       },
       "type": "numeric",
       "value": 1.044
      }
     },
     "289855db9adb467080d2a0233bf03da7": {
      "model_module": "ipysheet",
      "model_module_version": "~0.4.4",
      "model_name": "CellRangeModel",
      "state": {
       "_view_module": null,
       "_view_module_version": "",
       "column_end": 6,
       "column_start": 6,
       "row_end": 2,
       "row_start": 2,
       "style": {
        "backgroundColor": "yellow"
       },
       "type": "numeric",
       "value": 0.25
      }
     },
     "2898b4c0639d432b8cc8299536d03e83": {
      "model_module": "ipysheet",
      "model_module_version": "~0.4.4",
      "model_name": "CellRangeModel",
      "state": {
       "_view_module": null,
       "_view_module_version": "",
       "column_end": 5,
       "column_start": 5,
       "row_end": 3,
       "row_start": 3,
       "type": "text",
       "value": "Oats, Flaked"
      }
     },
     "28d30b3acf68454ea352b3a96b952273": {
      "model_module": "@jupyter-widgets/base",
      "model_module_version": "1.2.0",
      "model_name": "LayoutModel",
      "state": {}
     },
     "29320396267448138f093bd8cc72cb42": {
      "model_module": "ipysheet",
      "model_module_version": "~0.4.4",
      "model_name": "CellRangeModel",
      "state": {
       "_view_module": null,
       "_view_module_version": "",
       "column_end": 5,
       "column_start": 5,
       "row_end": 4,
       "row_start": 4,
       "type": "text",
       "value": "Dry Extract (DME) - Light"
      }
     },
     "299d0fc264ff477c9539f4b90f3d9eda": {
      "model_module": "ipysheet",
      "model_module_version": "~0.4.4",
      "model_name": "CellRangeModel",
      "state": {
       "_view_module": null,
       "_view_module_version": "",
       "column_end": 13,
       "column_start": 13,
       "row_end": 3,
       "row_start": 3,
       "type": "numeric",
       "value": 6.2
      }
     },
     "29b9566457fc47bf8e8d7440ac9f6d28": {
      "model_module": "ipysheet",
      "model_module_version": "~0.4.4",
      "model_name": "CellRangeModel",
      "state": {
       "_view_module": null,
       "_view_module_version": "",
       "column_end": 5,
       "column_start": 5,
       "type": "text",
       "value": "Name"
      }
     },
     "2a1eeeecb9ae4c68b70285e4f12f60ac": {
      "model_module": "ipysheet",
      "model_module_version": "~0.4.4",
      "model_name": "CellRangeModel",
      "state": {
       "_view_module": null,
       "_view_module_version": "",
       "row_end": 16,
       "row_start": 16,
       "style": {
        "backgroundColor": "yellow"
       },
       "type": "numeric",
       "value": 1.5
      }
     },
     "2ac0bb19914e4063b2238ba79ce254cf": {
      "model_module": "ipysheet",
      "model_module_version": "~0.4.4",
      "model_name": "CellRangeModel",
      "state": {
       "_view_module": null,
       "_view_module_version": "",
       "column_end": 3,
       "column_start": 3,
       "row_end": 7,
       "row_start": 7,
       "style": {
        "backgroundColor": "red"
       },
       "type": "numeric",
       "value": ""
      }
     },
     "2af13f4e8479498d97b2a3d7f298ea70": {
      "model_module": "ipysheet",
      "model_module_version": "~0.4.4",
      "model_name": "CellRangeModel",
      "state": {
       "_view_module": null,
       "_view_module_version": "",
       "column_end": 16,
       "column_start": 16,
       "row_end": 2,
       "row_start": 2,
       "style": {
        "backgroundColor": "yellow"
       },
       "type": "numeric",
       "value": 75
      }
     },
     "2bb7c0f4d7454064a7eb20260a010cba": {
      "model_module": "ipysheet",
      "model_module_version": "~0.4.4",
      "model_name": "CellRangeModel",
      "state": {
       "_view_module": null,
       "_view_module_version": "",
       "column_end": 11,
       "column_start": 11,
       "row_end": 3,
       "row_start": 3,
       "style": {
        "backgroundColor": "yellow"
       },
       "type": "numeric",
       "value": 0.75
      }
     },
     "2bee72ca5bf04cbcb550f175421bcce3": {
      "model_module": "ipysheet",
      "model_module_version": "~0.4.4",
      "model_name": "CellRangeModel",
      "state": {
       "_view_module": null,
       "_view_module_version": "",
       "column_end": 0,
       "column_start": 0,
       "row_end": 8,
       "row_start": 8,
       "type": "text",
       "value": "Bitterness"
      }
     },
     "2bf252f6d3ef47ec8ae88fd497684dba": {
      "model_module": "ipysheet",
      "model_module_version": "~0.4.4",
      "model_name": "CellRangeModel",
      "state": {
       "_view_module": null,
       "_view_module_version": "",
       "column_end": 13,
       "column_start": 13,
       "row_end": 2,
       "row_start": 2,
       "type": "numeric",
       "value": 21
      }
     },
     "2c24c82e81d947e8a81d566aa3d536a5": {
      "model_module": "ipysheet",
      "model_module_version": "~0.4.4",
      "model_name": "CellRangeModel",
      "state": {
       "_view_module": null,
       "_view_module_version": "",
       "column_end": 0,
       "column_start": 0,
       "row_end": 6,
       "row_start": 6,
       "type": "text",
       "value": "OG"
      }
     },
     "2cd3ade4242548c1a9fc2d4ba3d79d49": {
      "model_module": "ipysheet",
      "model_module_version": "~0.4.4",
      "model_name": "CellRangeModel",
      "state": {
       "_view_module": null,
       "_view_module_version": "",
       "column_end": 3,
       "column_start": 3,
       "row_end": 9,
       "row_start": 9,
       "style": {
        "backgroundColor": "red"
       },
       "type": "numeric",
       "value": ""
      }
     },
     "2dc4c98430b34939a311e0abe7a29b22": {
      "model_module": "@jupyter-widgets/base",
      "model_module_version": "1.2.0",
      "model_name": "LayoutModel",
      "state": {}
     },
     "2de5ecffa8414f64ac5e4c674c06ce49": {
      "model_module": "ipysheet",
      "model_module_version": "~0.4.4",
      "model_name": "CellRangeModel",
      "state": {
       "_view_module": null,
       "_view_module_version": "",
       "column_end": 0,
       "column_start": 0,
       "row_end": 16,
       "row_start": 16,
       "type": "text",
       "value": "Mash Volume"
      }
     },
     "2de9d10c3cfc4b19bdbbd2aec4543628": {
      "model_module": "ipysheet",
      "model_module_version": "~0.4.4",
      "model_name": "CellRangeModel",
      "state": {
       "_view_module": null,
       "_view_module_version": "",
       "column_end": 0,
       "column_start": 0,
       "row_end": 10,
       "row_start": 10,
       "type": "text",
       "value": "Efficiency"
      }
     },
     "2f03ef3ef2814842913ad8f81b60b11c": {
      "model_module": "ipysheet",
      "model_module_version": "~0.4.4",
      "model_name": "CellRangeModel",
      "state": {
       "_view_module": null,
       "_view_module_version": "",
       "column_end": 6,
       "column_start": 6,
       "row_end": 6,
       "row_start": 6,
       "style": {
        "backgroundColor": "yellow"
       },
       "type": "numeric",
       "value": 1.5
      }
     },
     "2f10c3990f5b4f789682bf31430e2853": {
      "model_module": "ipysheet",
      "model_module_version": "~0.4.4",
      "model_name": "CellRangeModel",
      "state": {
       "_view_module": null,
       "_view_module_version": "",
       "column_end": 3,
       "column_start": 3,
       "row_end": 8,
       "row_start": 8,
       "style": {
        "backgroundColor": "red"
       },
       "type": "numeric",
       "value": ""
      }
     },
     "2f6110424cf242aab0f691a70265b0e6": {
      "model_module": "ipysheet",
      "model_module_version": "~0.4.4",
      "model_name": "CellRangeModel",
      "state": {
       "_view_module": null,
       "_view_module_version": "",
       "column_end": 12,
       "column_start": 12,
       "row_end": 2,
       "row_start": 2,
       "style": {
        "backgroundColor": "yellow"
       },
       "type": "numeric",
       "value": 45
      }
     },
     "303ef8ba12fd415fbf4b93be9b5e9d67": {
      "model_module": "@jupyter-widgets/controls",
      "model_module_version": "1.5.0",
      "model_name": "TextModel",
      "state": {
       "description": "fermentable:",
       "layout": "IPY_MODEL_c1bd5a39cf0e40aaaf0bdfcab7050893",
       "placeholder": "Type something",
       "style": "IPY_MODEL_69e0e86ef14f4d708123344925aea8a7",
       "value": "honey"
      }
     },
     "304814411b5845178c98b668743224d4": {
      "model_module": "ipysheet",
      "model_module_version": "~0.4.4",
      "model_name": "CellRangeModel",
      "state": {
       "_view_module": null,
       "_view_module_version": "",
       "column_end": 2,
       "column_start": 2,
       "row_end": 8,
       "row_start": 8,
       "type": "text",
       "value": "25.0-40.0"
      }
     },
     "304b74bd5c244d1ea4e10a18c4adef2b": {
      "model_module": "ipysheet",
      "model_module_version": "~0.4.4",
      "model_name": "CellRangeModel",
      "state": {
       "_view_module": null,
       "_view_module_version": "",
       "column_end": 6,
       "column_start": 6,
       "row_end": 2,
       "row_start": 2,
       "style": {
        "backgroundColor": "yellow"
       },
       "type": "numeric",
       "value": 0.25
      }
     },
     "307ffc2bd6d841dfbe7065af30088343": {
      "model_module": "ipysheet",
      "model_module_version": "~0.4.4",
      "model_name": "CellRangeModel",
      "state": {
       "_view_module": null,
       "_view_module_version": "",
       "column_end": 10,
       "column_start": 10,
       "row_end": 2,
       "row_start": 2,
       "type": "text",
       "value": "Willamette"
      }
     },
     "30ee5e70b4b5495b9eacab220c3b32ff": {
      "model_module": "ipysheet",
      "model_module_version": "~0.4.4",
      "model_name": "CellRangeModel",
      "state": {
       "_view_module": null,
       "_view_module_version": "",
       "column_end": 0,
       "column_start": 0,
       "row_end": 4,
       "row_start": 4,
       "type": "text",
       "value": "Boil Time"
      }
     },
     "315af1a4505f431a9d9922b6c67110c2": {
      "model_module": "ipysheet",
      "model_module_version": "~0.4.4",
      "model_name": "CellRangeModel",
      "state": {
       "_view_module": null,
       "_view_module_version": "",
       "column_end": 8,
       "column_start": 8,
       "row_end": 4,
       "row_start": 4,
       "type": "numeric",
       "value": 17
      }
     },
     "315dc832a43c4412ac3d2c656fa9cd6a": {
      "model_module": "ipysheet",
      "model_module_version": "~0.4.4",
      "model_name": "CellRangeModel",
      "state": {
       "_view_module": null,
       "_view_module_version": "",
       "column_end": 3,
       "column_start": 3,
       "row_end": 6,
       "row_start": 6,
       "style": {
        "backgroundColor": "red"
       },
       "type": "numeric",
       "value": ""
      }
     },
     "32262812b21b420fbffe485fa9cec76d": {
      "model_module": "ipysheet",
      "model_module_version": "~0.4.4",
      "model_name": "CellRangeModel",
      "state": {
       "_view_module": null,
       "_view_module_version": "",
       "column_end": 0,
       "column_start": 0,
       "row_end": 16,
       "row_start": 16,
       "type": "text",
       "value": "Mash Volume"
      }
     },
     "32c5d364f4ad46bd803172a34abdbd03": {
      "model_module": "ipysheet",
      "model_module_version": "~0.4.4",
      "model_name": "CellRangeModel",
      "state": {
       "_view_module": null,
       "_view_module_version": "",
       "column_end": 2,
       "column_start": 2,
       "type": "text",
       "value": "Style Min-Max"
      }
     },
     "32de7b2795c143d7acf17c6d673fbcd9": {
      "model_module": "ipysheet",
      "model_module_version": "~0.4.4",
      "model_name": "CellRangeModel",
      "state": {
       "_view_module": null,
       "_view_module_version": "",
       "column_end": 0,
       "column_start": 0,
       "row_end": 19,
       "row_start": 19,
       "type": "text",
       "value": "Post-boil Volume"
      }
     },
     "3317464120654cd4a87f6ca102b041e2": {
      "model_module": "ipysheet",
      "model_module_version": "~0.4.4",
      "model_name": "CellRangeModel",
      "state": {
       "_view_module": null,
       "_view_module_version": "",
       "column_end": 10,
       "column_start": 10,
       "row_end": 2,
       "row_start": 2,
       "type": "text",
       "value": "Willamette"
      }
     },
     "336d5d6b40ad4a79b62678d02c0ca466": {
      "model_module": "ipysheet",
      "model_module_version": "~0.4.4",
      "model_name": "CellRangeModel",
      "state": {
       "_view_module": null,
       "_view_module_version": "",
       "column_end": 8,
       "column_start": 8,
       "row_end": 4,
       "row_start": 4,
       "type": "numeric",
       "value": 17
      }
     },
     "338f5153ecf649cd811e15210a79f58b": {
      "model_module": "ipysheet",
      "model_module_version": "~0.4.4",
      "model_name": "CellRangeModel",
      "state": {
       "_view_module": null,
       "_view_module_version": "",
       "column_end": 3,
       "column_start": 3,
       "row_end": 11,
       "row_start": 11,
       "style": {
        "backgroundColor": "red"
       },
       "type": "numeric",
       "value": ""
      }
     },
     "34a4def0c28543f191ff72edf8f931cb": {
      "model_module": "ipysheet",
      "model_module_version": "~0.4.4",
      "model_name": "CellRangeModel",
      "state": {
       "_view_module": null,
       "_view_module_version": "",
       "column_end": 6,
       "column_start": 6,
       "row_end": 2,
       "row_start": 2,
       "style": {
        "backgroundColor": "yellow"
       },
       "type": "numeric",
       "value": 0.25
      }
     },
     "34b2d704760d49c096691dfefae229dc": {
      "model_module": "@jupyter-widgets/output",
      "model_module_version": "1.0.0",
      "model_name": "OutputModel",
      "state": {
       "layout": "IPY_MODEL_2dc4c98430b34939a311e0abe7a29b22",
       "outputs": [
        {
         "data": {
          "text/html": "<div>\n<style scoped>\n    .dataframe tbody tr th:only-of-type {\n        vertical-align: middle;\n    }\n\n    .dataframe tbody tr th {\n        vertical-align: top;\n    }\n\n    .dataframe thead th {\n        text-align: right;\n    }\n</style>\n<table border=\"1\" class=\"dataframe\">\n  <thead>\n    <tr style=\"text-align: right;\">\n      <th></th>\n      <th>id</th>\n      <th>name</th>\n      <th>ftype</th>\n      <th>amount</th>\n      <th>yield</th>\n      <th>color</th>\n      <th>add_after_boil</th>\n      <th>origin</th>\n      <th>supplier</th>\n      <th>notes</th>\n      <th>...</th>\n      <th>max_in_batch</th>\n      <th>recommend_mash</th>\n      <th>is_mashed</th>\n      <th>ibu_gal_per_lb</th>\n      <th>display_unit</th>\n      <th>display_scale</th>\n      <th>deleted</th>\n      <th>display</th>\n      <th>folder</th>\n      <th>inventory_id</th>\n    </tr>\n  </thead>\n  <tbody>\n    <tr>\n      <th>89</th>\n      <td>90</td>\n      <td>Dry Extract (DME) - Amber</td>\n      <td>Dry Extract</td>\n      <td>0.0</td>\n      <td>95.0</td>\n      <td>13.0</td>\n      <td>false</td>\n      <td>US</td>\n      <td></td>\n      <td></td>\n      <td>...</td>\n      <td>100.0</td>\n      <td>false</td>\n      <td>false</td>\n      <td>0.0</td>\n      <td>-1</td>\n      <td>-1</td>\n      <td>0</td>\n      <td>1</td>\n      <td></td>\n      <td>90</td>\n    </tr>\n    <tr>\n      <th>90</th>\n      <td>91</td>\n      <td>Dry Extract (DME) - Dark</td>\n      <td>Dry Extract</td>\n      <td>0.0</td>\n      <td>95.0</td>\n      <td>18.0</td>\n      <td>false</td>\n      <td>US</td>\n      <td></td>\n      <td></td>\n      <td>...</td>\n      <td>100.0</td>\n      <td>false</td>\n      <td>false</td>\n      <td>0.0</td>\n      <td>-1</td>\n      <td>-1</td>\n      <td>0</td>\n      <td>1</td>\n      <td></td>\n      <td>91</td>\n    </tr>\n    <tr>\n      <th>91</th>\n      <td>92</td>\n      <td>Dry Extract (DME) - Extra Light</td>\n      <td>Dry Extract</td>\n      <td>0.0</td>\n      <td>95.0</td>\n      <td>3.0</td>\n      <td>false</td>\n      <td>US</td>\n      <td></td>\n      <td></td>\n      <td>...</td>\n      <td>100.0</td>\n      <td>false</td>\n      <td>false</td>\n      <td>0.0</td>\n      <td>-1</td>\n      <td>-1</td>\n      <td>0</td>\n      <td>1</td>\n      <td></td>\n      <td>92</td>\n    </tr>\n    <tr>\n      <th>92</th>\n      <td>93</td>\n      <td>Dry Extract (DME) - Light</td>\n      <td>Dry Extract</td>\n      <td>0.0</td>\n      <td>95.0</td>\n      <td>8.0</td>\n      <td>false</td>\n      <td>US</td>\n      <td></td>\n      <td></td>\n      <td>...</td>\n      <td>100.0</td>\n      <td>false</td>\n      <td>false</td>\n      <td>0.0</td>\n      <td>-1</td>\n      <td>-1</td>\n      <td>0</td>\n      <td>1</td>\n      <td></td>\n      <td>93</td>\n    </tr>\n    <tr>\n      <th>93</th>\n      <td>94</td>\n      <td>Dry Extract (DME) - Wheat</td>\n      <td>Dry Extract</td>\n      <td>0.0</td>\n      <td>95.0</td>\n      <td>8.0</td>\n      <td>false</td>\n      <td>US</td>\n      <td></td>\n      <td></td>\n      <td>...</td>\n      <td>100.0</td>\n      <td>false</td>\n      <td>false</td>\n      <td>0.0</td>\n      <td>-1</td>\n      <td>-1</td>\n      <td>0</td>\n      <td>1</td>\n      <td></td>\n      <td>94</td>\n    </tr>\n  </tbody>\n</table>\n<p>5 rows × 24 columns</p>\n</div>",
          "text/plain": "    id                             name        ftype  amount  yield  color  \\\n89  90        Dry Extract (DME) - Amber  Dry Extract     0.0   95.0   13.0   \n90  91         Dry Extract (DME) - Dark  Dry Extract     0.0   95.0   18.0   \n91  92  Dry Extract (DME) - Extra Light  Dry Extract     0.0   95.0    3.0   \n92  93        Dry Extract (DME) - Light  Dry Extract     0.0   95.0    8.0   \n93  94        Dry Extract (DME) - Wheat  Dry Extract     0.0   95.0    8.0   \n\n   add_after_boil origin supplier notes  ...  max_in_batch  recommend_mash  \\\n89          false     US                 ...         100.0           false   \n90          false     US                 ...         100.0           false   \n91          false     US                 ...         100.0           false   \n92          false     US                 ...         100.0           false   \n93          false     US                 ...         100.0           false   \n\n    is_mashed  ibu_gal_per_lb  display_unit display_scale deleted  display  \\\n89      false             0.0            -1            -1       0        1   \n90      false             0.0            -1            -1       0        1   \n91      false             0.0            -1            -1       0        1   \n92      false             0.0            -1            -1       0        1   \n93      false             0.0            -1            -1       0        1   \n\n    folder  inventory_id  \n89                    90  \n90                    91  \n91                    92  \n92                    93  \n93                    94  \n\n[5 rows x 24 columns]"
         },
         "metadata": {},
         "output_type": "display_data"
        }
       ]
      }
     },
     "34bc309f796a4f7b817a3a8fe3d52537": {
      "model_module": "ipysheet",
      "model_module_version": "~0.4.4",
      "model_name": "CellRangeModel",
      "state": {
       "_view_module": null,
       "_view_module_version": "",
       "column_end": 7,
       "column_start": 7,
       "type": "text",
       "value": "Use"
      }
     },
     "34ca0567deee479ea3d28209d663e65d": {
      "model_module": "ipysheet",
      "model_module_version": "~0.4.4",
      "model_name": "CellRangeModel",
      "state": {
       "_view_module": null,
       "_view_module_version": "",
       "column_end": 7,
       "column_start": 7,
       "row_end": 2,
       "row_start": 2,
       "type": "text",
       "value": "Mash"
      }
     },
     "34d1832422f3433c8d6ccd67408982ad": {
      "model_module": "ipysheet",
      "model_module_version": "~0.4.4",
      "model_name": "CellRangeModel",
      "state": {
       "_view_module": null,
       "_view_module_version": "",
       "column_end": 7,
       "column_start": 7,
       "type": "text",
       "value": "Use"
      }
     },
     "34e5716190ba44db81ec3e19269aaf24": {
      "model_module": "ipysheet",
      "model_module_version": "~0.4.4",
      "model_name": "CellRangeModel",
      "state": {
       "_view_module": null,
       "_view_module_version": "",
       "column_end": 2,
       "column_start": 2,
       "row_end": 8,
       "row_start": 8,
       "type": "text",
       "value": "25.0-40.0"
      }
     },
     "35a755263b2843f1868c9706a9bf6bb2": {
      "model_module": "ipysheet",
      "model_module_version": "~0.4.4",
      "model_name": "CellRangeModel",
      "state": {
       "_view_module": null,
       "_view_module_version": "",
       "column_end": 2,
       "column_start": 2,
       "row_end": 9,
       "row_start": 9,
       "type": "text",
       "value": "22.0-40.0"
      }
     },
     "3664abada064457a96b061a3608a21ca": {
      "model_module": "ipysheet",
      "model_module_version": "~0.4.4",
      "model_name": "CellRangeModel",
      "state": {
       "_view_module": null,
       "_view_module_version": "",
       "column_end": 8,
       "column_start": 8,
       "row_end": 3,
       "row_start": 3,
       "type": "numeric",
       "value": 7
      }
     },
     "369abfa9eff9417c9420a1e446ff1849": {
      "model_module": "ipysheet",
      "model_module_version": "~0.4.4",
      "model_name": "CellRangeModel",
      "state": {
       "_view_module": null,
       "_view_module_version": "",
       "column_end": 8,
       "column_start": 8,
       "row_end": 4,
       "row_start": 4,
       "type": "numeric",
       "value": 17
      }
     },
     "37102fa72bf64a29a32d8d3fea0d67f9": {
      "model_module": "ipysheet",
      "model_module_version": "~0.4.4",
      "model_name": "CellRangeModel",
      "state": {
       "_view_module": null,
       "_view_module_version": "",
       "type": "text",
       "value": "Value"
      }
     },
     "37486476e2514cad80dc16ff322040ed": {
      "model_module": "ipysheet",
      "model_module_version": "~0.4.4",
      "model_name": "CellRangeModel",
      "state": {
       "_view_module": null,
       "_view_module_version": "",
       "column_end": 3,
       "column_start": 3,
       "row_end": 8,
       "row_start": 8,
       "style": {
        "backgroundColor": "red"
       },
       "type": "numeric",
       "value": ""
      }
     },
     "37b55f1853b34746a5924c32050f406c": {
      "model_module": "ipysheet",
      "model_module_version": "~0.4.4",
      "model_name": "CellRangeModel",
      "state": {
       "_view_module": null,
       "_view_module_version": "",
       "column_end": 19,
       "column_start": 19,
       "type": "text",
       "value": "Max Temp (F)"
      }
     },
     "37c6e2629d4e4e91a250bdea62d85ee3": {
      "model_module": "ipysheet",
      "model_module_version": "~0.4.4",
      "model_name": "CellRangeModel",
      "state": {
       "_view_module": null,
       "_view_module_version": "",
       "column_end": 0,
       "column_start": 0,
       "row_end": 5,
       "row_start": 5,
       "type": "text",
       "value": "Mash Temp"
      }
     },
     "37e59e22afb442dfbbd74c3005328bd2": {
      "model_module": "ipysheet",
      "model_module_version": "~0.4.4",
      "model_name": "CellRangeModel",
      "state": {
       "_view_module": null,
       "_view_module_version": "",
       "column_end": 8,
       "column_start": 8,
       "row_end": 2,
       "row_start": 2,
       "type": "numeric",
       "value": 1
      }
     },
     "37f338c1a9174153bf8219db495c07f9": {
      "model_module": "ipysheet",
      "model_module_version": "~0.4.4",
      "model_name": "CellRangeModel",
      "state": {
       "_view_module": null,
       "_view_module_version": "",
       "column_end": 12,
       "column_start": 12,
       "row_end": 3,
       "row_start": 3,
       "style": {
        "backgroundColor": "yellow"
       },
       "type": "numeric",
       "value": 20
      }
     },
     "38f65e1bf6f04a7b98c9a9df6c14da21": {
      "model_module": "ipysheet",
      "model_module_version": "~0.4.4",
      "model_name": "CellRangeModel",
      "state": {
       "_view_module": null,
       "_view_module_version": "",
       "column_end": 2,
       "column_start": 2,
       "row_end": 7,
       "row_start": 7,
       "type": "text",
       "value": "1.01-1.018"
      }
     },
     "3917b6fafa62469fa1b01c18689002b5": {
      "model_module": "@jupyter-widgets/controls",
      "model_module_version": "1.5.0",
      "model_name": "TextModel",
      "state": {
       "description": "fermentable:",
       "layout": "IPY_MODEL_66f129fec84247609e2cb95cf7f12f1e",
       "placeholder": "Type something",
       "style": "IPY_MODEL_b4c911ab4992438293b2d11b0c3e2fcc",
       "value": "black"
      }
     },
     "39296edc55f449bda495b4ad69cd1e92": {
      "model_module": "ipysheet",
      "model_module_version": "~0.4.4",
      "model_name": "CellRangeModel",
      "state": {
       "_view_module": null,
       "_view_module_version": "",
       "column_end": 6,
       "column_start": 6,
       "row_end": 6,
       "row_start": 6,
       "style": {
        "backgroundColor": "yellow"
       },
       "type": "numeric",
       "value": 1.5
      }
     },
     "3957ce4e6cc240a3aed235db243a707c": {
      "model_module": "ipysheet",
      "model_module_version": "~0.4.4",
      "model_name": "CellRangeModel",
      "state": {
       "_view_module": null,
       "_view_module_version": "",
       "column_end": 0,
       "column_start": 0,
       "row_end": 14,
       "row_start": 14,
       "type": "text",
       "value": "Brew Day Values"
      }
     },
     "39a15388023a4de2807f457d8094e9fc": {
      "model_module": "ipysheet",
      "model_module_version": "~0.4.4",
      "model_name": "CellRangeModel",
      "state": {
       "_view_module": null,
       "_view_module_version": "",
       "column_end": 19,
       "column_start": 19,
       "row_end": 2,
       "row_start": 2,
       "type": "numeric",
       "value": 75.2
      }
     },
     "3b10a790d2414382a68e7beebbc58bb2": {
      "model_module": "ipysheet",
      "model_module_version": "~0.4.4",
      "model_name": "CellRangeModel",
      "state": {
       "_view_module": null,
       "_view_module_version": "",
       "column_end": 12,
       "column_start": 12,
       "row_end": 3,
       "row_start": 3,
       "style": {
        "backgroundColor": "yellow"
       },
       "type": "numeric",
       "value": 20
      }
     },
     "3b25c8d2283642cda861aa68cdcd26fa": {
      "model_module": "ipysheet",
      "model_module_version": "~0.4.4",
      "model_name": "CellRangeModel",
      "state": {
       "_view_module": null,
       "_view_module_version": "",
       "column_end": 0,
       "column_start": 0,
       "row_end": 7,
       "row_start": 7,
       "type": "text",
       "value": "FG"
      }
     },
     "3bae89511b934cf5b1cc5aa186a8e589": {
      "model_module": "ipysheet",
      "model_module_version": "~0.4.4",
      "model_name": "CellRangeModel",
      "state": {
       "_view_module": null,
       "_view_module_version": "",
       "column_end": 5,
       "column_start": 5,
       "row_end": 2,
       "row_start": 2,
       "type": "text",
       "value": "Black (Patent) Malt"
      }
     },
     "3bb89c7823374063b49578cdb313cb15": {
      "model_module": "ipysheet",
      "model_module_version": "~0.4.4",
      "model_name": "CellRangeModel",
      "state": {
       "_view_module": null,
       "_view_module_version": "",
       "column_end": 6,
       "column_start": 6,
       "row_end": 6,
       "row_start": 6,
       "style": {
        "backgroundColor": "yellow"
       },
       "type": "numeric",
       "value": 1.5
      }
     },
     "3c3c54dda55543b1872ec68afaa18973": {
      "model_module": "@jupyter-widgets/output",
      "model_module_version": "1.0.0",
      "model_name": "OutputModel",
      "state": {
       "layout": "IPY_MODEL_a112c7aceac64a7387f35a329357065c",
       "outputs": [
        {
         "data": {
          "text/html": "<div>\n<style scoped>\n    .dataframe tbody tr th:only-of-type {\n        vertical-align: middle;\n    }\n\n    .dataframe tbody tr th {\n        vertical-align: top;\n    }\n\n    .dataframe thead th {\n        text-align: right;\n    }\n</style>\n<table border=\"1\" class=\"dataframe\">\n  <thead>\n    <tr style=\"text-align: right;\">\n      <th></th>\n      <th>id</th>\n      <th>name</th>\n      <th>ftype</th>\n      <th>amount</th>\n      <th>yield</th>\n      <th>color</th>\n      <th>add_after_boil</th>\n      <th>origin</th>\n      <th>supplier</th>\n      <th>notes</th>\n      <th>...</th>\n      <th>max_in_batch</th>\n      <th>recommend_mash</th>\n      <th>is_mashed</th>\n      <th>ibu_gal_per_lb</th>\n      <th>display_unit</th>\n      <th>display_scale</th>\n      <th>deleted</th>\n      <th>display</th>\n      <th>folder</th>\n      <th>inventory_id</th>\n    </tr>\n  </thead>\n  <tbody>\n    <tr>\n      <th>95</th>\n      <td>96</td>\n      <td>Honey</td>\n      <td>Extract</td>\n      <td>0.000000</td>\n      <td>75.0</td>\n      <td>1.0</td>\n      <td>false</td>\n      <td>US</td>\n      <td></td>\n      <td></td>\n      <td>...</td>\n      <td>100.0</td>\n      <td>false</td>\n      <td>false</td>\n      <td>0.0</td>\n      <td>-1</td>\n      <td>-1</td>\n      <td>0</td>\n      <td>1</td>\n      <td></td>\n      <td>96</td>\n    </tr>\n    <tr>\n      <th>96</th>\n      <td>97</td>\n      <td>Honey Malt</td>\n      <td>Grain</td>\n      <td>0.000000</td>\n      <td>80.0</td>\n      <td>25.0</td>\n      <td>false</td>\n      <td>Canada</td>\n      <td></td>\n      <td>This Canadian malt imparts a honey-like flavor...</td>\n      <td>...</td>\n      <td>10.0</td>\n      <td>true</td>\n      <td>false</td>\n      <td>0.0</td>\n      <td>-1</td>\n      <td>-1</td>\n      <td>0</td>\n      <td>1</td>\n      <td></td>\n      <td>97</td>\n    </tr>\n    <tr>\n      <th>209</th>\n      <td>210</td>\n      <td>Honey Malt</td>\n      <td>Grain</td>\n      <td>0.226796</td>\n      <td>80.0</td>\n      <td>25.0</td>\n      <td>false</td>\n      <td>Canada</td>\n      <td></td>\n      <td>This Canadian malt imparts a honey-like flavor...</td>\n      <td>...</td>\n      <td>10.0</td>\n      <td>true</td>\n      <td>true</td>\n      <td>0.0</td>\n      <td>-1</td>\n      <td>-1</td>\n      <td>0</td>\n      <td>0</td>\n      <td></td>\n      <td>210</td>\n    </tr>\n    <tr>\n      <th>279</th>\n      <td>280</td>\n      <td>Honey Malt</td>\n      <td>Grain</td>\n      <td>0.226796</td>\n      <td>80.0</td>\n      <td>25.0</td>\n      <td>false</td>\n      <td>Canada</td>\n      <td></td>\n      <td>This Canadian malt imparts a honey-like flavor...</td>\n      <td>...</td>\n      <td>10.0</td>\n      <td>true</td>\n      <td>false</td>\n      <td>0.0</td>\n      <td>-1</td>\n      <td>-1</td>\n      <td>0</td>\n      <td>0</td>\n      <td></td>\n      <td>280</td>\n    </tr>\n  </tbody>\n</table>\n<p>4 rows × 24 columns</p>\n</div>",
          "text/plain": "      id        name    ftype    amount  yield  color add_after_boil  origin  \\\n95    96       Honey  Extract  0.000000   75.0    1.0          false      US   \n96    97  Honey Malt    Grain  0.000000   80.0   25.0          false  Canada   \n209  210  Honey Malt    Grain  0.226796   80.0   25.0          false  Canada   \n279  280  Honey Malt    Grain  0.226796   80.0   25.0          false  Canada   \n\n    supplier                                              notes  ...  \\\n95                                                               ...   \n96            This Canadian malt imparts a honey-like flavor...  ...   \n209           This Canadian malt imparts a honey-like flavor...  ...   \n279           This Canadian malt imparts a honey-like flavor...  ...   \n\n     max_in_batch  recommend_mash  is_mashed  ibu_gal_per_lb  display_unit  \\\n95          100.0           false      false             0.0            -1   \n96           10.0            true      false             0.0            -1   \n209          10.0            true       true             0.0            -1   \n279          10.0            true      false             0.0            -1   \n\n    display_scale deleted  display  folder  inventory_id  \n95             -1       0        1                    96  \n96             -1       0        1                    97  \n209            -1       0        0                   210  \n279            -1       0        0                   280  \n\n[4 rows x 24 columns]"
         },
         "metadata": {},
         "output_type": "display_data"
        }
       ]
      }
     },
     "3cccca222e324f7895955c519acca4ac": {
      "model_module": "ipysheet",
      "model_module_version": "~0.4.4",
      "model_name": "CellRangeModel",
      "state": {
       "_view_module": null,
       "_view_module_version": "",
       "row_end": 10,
       "row_start": 10,
       "style": {
        "backgroundColor": "yellow"
       },
       "type": "numeric",
       "value": 48
      }
     },
     "3cebac3f392c43bebaad7d3ccb31332c": {
      "model_module": "ipysheet",
      "model_module_version": "~0.4.4",
      "model_name": "CellRangeModel",
      "state": {
       "_view_module": null,
       "_view_module_version": "",
       "column_end": 0,
       "column_start": 0,
       "row_end": 10,
       "row_start": 10,
       "type": "text",
       "value": "Efficiency"
      }
     },
     "3dc2703773604c8f813c648fc2a2188e": {
      "model_module": "ipysheet",
      "model_module_version": "~0.4.4",
      "model_name": "CellRangeModel",
      "state": {
       "_view_module": null,
       "_view_module_version": "",
       "column_end": 8,
       "column_start": 8,
       "row_end": 3,
       "row_start": 3,
       "type": "numeric",
       "value": 7
      }
     },
     "3e0b0339ccaf41b380f5f24cc86874ab": {
      "model_module": "ipysheet",
      "model_module_version": "~0.4.4",
      "model_name": "SheetModel",
      "state": {
       "cells": [
        "IPY_MODEL_160e88f0ca64472f9873bfb5519d3a0e",
        "IPY_MODEL_7aa9ab9b178e432ab791e3d87d66b873",
        "IPY_MODEL_5f2f5a18a0b0434cac8b6ae749a07549",
        "IPY_MODEL_867f5fd297204379810166680c8e9712",
        "IPY_MODEL_de8b298516734f17a277e63ad4e36ab0",
        "IPY_MODEL_c7479a84f4a2425999d9705d3ea4785e",
        "IPY_MODEL_0f3929632d9c443487be6885f5e3462b",
        "IPY_MODEL_ab6b33f58ede482caf1ca3cc38f82f24",
        "IPY_MODEL_0418cde0fb694184aa83edd57e140d0c",
        "IPY_MODEL_4c6c32912fcf4bccb93e177637ebdd14",
        "IPY_MODEL_34d1832422f3433c8d6ccd67408982ad",
        "IPY_MODEL_1c1a2a360c3b4c839f88411a504ae60a",
        "IPY_MODEL_a1b95ec8955945e486d78fc0b1ce2635",
        "IPY_MODEL_49f112d7b3c146e6aedbde3c23063605",
        "IPY_MODEL_7d15ec8effb14a7cab94cfbb208dd772",
        "IPY_MODEL_4a19e16f8e754af088ed345562e25f69",
        "IPY_MODEL_88fe6ca7332e469db17dc1e15f5d5f2b",
        "IPY_MODEL_b9de2650785a455397312516ef56f034",
        "IPY_MODEL_4ac28588874c495cb9f50dff53dfb578",
        "IPY_MODEL_c201cabe2c8f42e4adb65f66c6315b09",
        "IPY_MODEL_ccfd0d87a2e94944bc885904642bb4f2",
        "IPY_MODEL_8d8acdb99be24bb592c97b775aa47bc0",
        "IPY_MODEL_bd054ea4886940229bdc89836b76746f",
        "IPY_MODEL_c0627793dba94ddc9036209e30218396",
        "IPY_MODEL_6cd035f0a3ae49fe8888c5a1be082ebe",
        "IPY_MODEL_90153b3ff9a84ae091c50fc39bd73789",
        "IPY_MODEL_1909087b5a5d40c887e9c0ea146ec20d",
        "IPY_MODEL_2bee72ca5bf04cbcb550f175421bcce3",
        "IPY_MODEL_4da47d26e6204763953175b60d88c2cb",
        "IPY_MODEL_2de9d10c3cfc4b19bdbbd2aec4543628",
        "IPY_MODEL_0f0d9a1b00d44802912b14d4b7fe7067",
        "IPY_MODEL_64a3625d273f43a39bfb9bd1ccef7e74",
        "IPY_MODEL_4abdf0eeb02d4417accb20f3d41c9f2a",
        "IPY_MODEL_5f42dfb5059247ce89a771d1313b0f84",
        "IPY_MODEL_8c38a6e47a1742e996e37f3ca58d9122",
        "IPY_MODEL_7df46c98958d476e9e2f8b5c738109ef",
        "IPY_MODEL_414fd82b099c4162b0cfaa0308b85917",
        "IPY_MODEL_76b99d9e6af245e6a6bdf9cea0633213",
        "IPY_MODEL_efbef68690094510a8f4c70c3eec7425",
        "IPY_MODEL_3f48ffe4009a4465b48596414312cd45",
        "IPY_MODEL_f2adc2d3d2c14443a4f0b6e86792e4c4",
        "IPY_MODEL_c8c6cf60822a422493fd3a0567bd94d6",
        "IPY_MODEL_a14508f8bcec4295a1cd28ae8f3e1c93",
        "IPY_MODEL_5ba91438455547aea9b3445a001bcb3c",
        "IPY_MODEL_3664abada064457a96b061a3608a21ca",
        "IPY_MODEL_29320396267448138f093bd8cc72cb42",
        "IPY_MODEL_bc9433c9e1314177a14ecd2371d13a7b",
        "IPY_MODEL_c0986c6d25dc425da029f76622bc5a49",
        "IPY_MODEL_315af1a4505f431a9d9922b6c67110c2",
        "IPY_MODEL_fd03b83d69584752bf11813824fe6f06",
        "IPY_MODEL_c2b410bace3945a09bfdeb16ee45632e",
        "IPY_MODEL_a67541946e064e7ebc2dc13b106b9ff4",
        "IPY_MODEL_8c296bde3589409983321eb041fb8ea8",
        "IPY_MODEL_a166865d91e34caeafaebabbf1b67cef",
        "IPY_MODEL_db7ffcc720a14344b3c8f8539e96e444",
        "IPY_MODEL_e59411b9771b49638ac2b519b9dd8e2e",
        "IPY_MODEL_f2b8f5b1a2094781ac830f66474d8d5a",
        "IPY_MODEL_6b3e30973ca04f6d920bb54498007608",
        "IPY_MODEL_e886ad265e2f4a4294795fe5b52e4e94",
        "IPY_MODEL_de1350bf97dd465db021bc9113861a02",
        "IPY_MODEL_b131fd0e3da24bb990e38aca569b5a48",
        "IPY_MODEL_4a303451eb3049909bfc1e6168a2a2e5",
        "IPY_MODEL_c184011a493e4720878076d53dd53555",
        "IPY_MODEL_2f6110424cf242aab0f691a70265b0e6",
        "IPY_MODEL_239e56806b314c7c88d92aaa74cd7b6c",
        "IPY_MODEL_c2be015cc7f44174bd0af1419a2e44a5",
        "IPY_MODEL_406f8c2f5111465397a0f4c88e5e6575",
        "IPY_MODEL_9a0686aa4ce94b62ae3ab4d74dda2536",
        "IPY_MODEL_a97528eacd274cca8662f31d40d1ea89",
        "IPY_MODEL_27eec10919564ee9865be17dd436b891",
        "IPY_MODEL_a5db18346bab4b44badb9cb62af41d13",
        "IPY_MODEL_c3d330f9b8234d21988a1e1f1bbf0a8f",
        "IPY_MODEL_4986b26bf74f4a7c850dcb87a7ef758b",
        "IPY_MODEL_dfca4c10f15d46e19105c7c87341c84c",
        "IPY_MODEL_a0d279c0e219487dbc56644496b699df",
        "IPY_MODEL_0bd0e43157b34856bc95dc9de1cfac10",
        "IPY_MODEL_f9acb25b32ad4b86963398e4bc7e7143",
        "IPY_MODEL_6b5c6af66a5e4020b16c00f14c556f90",
        "IPY_MODEL_fd496811754a4a5a94bfdbd80d79ae40",
        "IPY_MODEL_6ee0429db6fb46e28528f3bdb313a439",
        "IPY_MODEL_0a7db95af4214a1ba9f4f9bfd43519ee",
        "IPY_MODEL_c37c1d979e5d4075aecdc7d814ff4060",
        "IPY_MODEL_9c30304a2a834d808ba4c966490a5d2b",
        "IPY_MODEL_cceae719d1be4f74a1a165de73b8b2b0",
        "IPY_MODEL_915b2884319f42c98fd4794b184479bf",
        "IPY_MODEL_9819d255cf31427b951d72bf35bc723b",
        "IPY_MODEL_7be8a56a96b44e8da2120bb151d95922",
        "IPY_MODEL_ad545bb8a52947f9a3940054b39da3fe",
        "IPY_MODEL_874fd9e8a07b4b64b578f678ec5397dd",
        "IPY_MODEL_a72d22dd42a246119592fd357b508c73",
        "IPY_MODEL_38f65e1bf6f04a7b98c9a9df6c14da21",
        "IPY_MODEL_0e3ab269f025427f8084c0302ce6d275",
        "IPY_MODEL_20ba36171599451f8a7606a5d55acbd5",
        "IPY_MODEL_c9e1b71cca8746b99dd0a70b9d910d62",
        "IPY_MODEL_d685e9aec55f47b0b33a5a299864d829",
        "IPY_MODEL_6e1b5774a24143c686a54b4b1e075d1d",
        "IPY_MODEL_7c55ef8d7d70405b899684fc30b7fdea",
        "IPY_MODEL_7da57e06a97b4e90bdc0b370df606bbc",
        "IPY_MODEL_338f5153ecf649cd811e15210a79f58b"
       ],
       "columns": 20,
       "layout": "IPY_MODEL_5bc453c0b71645169a5202189a456d54",
       "rows": 21
      }
     },
     "3e9c43b38bfd42c0a63076bb51e5b1e5": {
      "model_module": "ipysheet",
      "model_module_version": "~0.4.4",
      "model_name": "CellRangeModel",
      "state": {
       "_view_module": null,
       "_view_module_version": "",
       "column_end": 5,
       "column_start": 5,
       "row_end": 6,
       "row_start": 6,
       "type": "text",
       "value": "Briess - 6 Row Brewers Malt"
      }
     },
     "3eebbd5538e34e6f853cdc27a14e9d2a": {
      "model_module": "ipysheet",
      "model_module_version": "~0.4.4",
      "model_name": "CellRangeModel",
      "state": {
       "_view_module": null,
       "_view_module_version": "",
       "column_end": 17,
       "column_start": 17,
       "row_end": 2,
       "row_start": 2,
       "style": {
        "backgroundColor": "red"
       },
       "type": "numeric",
       "value": 73.125
      }
     },
     "3f48ffe4009a4465b48596414312cd45": {
      "model_module": "ipysheet",
      "model_module_version": "~0.4.4",
      "model_name": "CellRangeModel",
      "state": {
       "_view_module": null,
       "_view_module_version": "",
       "column_end": 7,
       "column_start": 7,
       "row_end": 2,
       "row_start": 2,
       "type": "text",
       "value": "Mash"
      }
     },
     "406f8c2f5111465397a0f4c88e5e6575": {
      "model_module": "ipysheet",
      "model_module_version": "~0.4.4",
      "model_name": "CellRangeModel",
      "state": {
       "_view_module": null,
       "_view_module_version": "",
       "column_end": 11,
       "column_start": 11,
       "row_end": 3,
       "row_start": 3,
       "style": {
        "backgroundColor": "yellow"
       },
       "type": "numeric",
       "value": 0.5
      }
     },
     "410bdc18de4e493fb4a6cf40afd2d2f8": {
      "model_module": "ipysheet",
      "model_module_version": "~0.4.4",
      "model_name": "CellRangeModel",
      "state": {
       "_view_module": null,
       "_view_module_version": "",
       "column_end": 13,
       "column_start": 13,
       "row_end": 2,
       "row_start": 2,
       "type": "numeric",
       "value": 21
      }
     },
     "414fd82b099c4162b0cfaa0308b85917": {
      "model_module": "ipysheet",
      "model_module_version": "~0.4.4",
      "model_name": "CellRangeModel",
      "state": {
       "_view_module": null,
       "_view_module_version": "",
       "column_end": 0,
       "column_start": 0,
       "row_end": 20,
       "row_start": 20,
       "type": "text",
       "value": "Post-boil Gravity"
      }
     },
     "4163111b254346c5ad15ec0d7643d307": {
      "model_module": "ipysheet",
      "model_module_version": "~0.4.4",
      "model_name": "CellRangeModel",
      "state": {
       "_view_module": null,
       "_view_module_version": "",
       "row_end": 8,
       "row_start": 8,
       "style": {
        "backgroundColor": "red"
       },
       "type": "numeric",
       "value": 29.8
      }
     },
     "4192572fb40248ea96ea7d70801875db": {
      "model_module": "ipysheet",
      "model_module_version": "~0.4.4",
      "model_name": "CellRangeModel",
      "state": {
       "_view_module": null,
       "_view_module_version": "",
       "column_end": 0,
       "column_start": 0,
       "row_end": 10,
       "row_start": 10,
       "type": "text",
       "value": "Efficiency"
      }
     },
     "41d617c5f6f34c078c0f65aa8ac101c2": {
      "model_module": "ipysheet",
      "model_module_version": "~0.4.4",
      "model_name": "CellRangeModel",
      "state": {
       "_view_module": null,
       "_view_module_version": "",
       "column_end": 3,
       "column_start": 3,
       "row_end": 11,
       "row_start": 11,
       "style": {
        "backgroundColor": "red"
       },
       "type": "numeric",
       "value": ""
      }
     },
     "41eb6482874e4453959cd7dac914527a": {
      "model_module": "ipysheet",
      "model_module_version": "~0.4.4",
      "model_name": "CellRangeModel",
      "state": {
       "_view_module": null,
       "_view_module_version": "",
       "row_end": 16,
       "row_start": 16,
       "style": {
        "backgroundColor": "yellow"
       },
       "type": "numeric",
       "value": 1.5
      }
     },
     "425bbd3e052c4f3c8a7abdfc4c699121": {
      "model_module": "ipysheet",
      "model_module_version": "~0.4.4",
      "model_name": "CellRangeModel",
      "state": {
       "_view_module": null,
       "_view_module_version": "",
       "column_end": 2,
       "column_start": 2,
       "row_end": 11,
       "row_start": 11,
       "type": "text",
       "value": "4.2-5.9"
      }
     },
     "426820006fdb4d869fe5432dc70f3ab3": {
      "model_module": "ipysheet",
      "model_module_version": "~0.4.4",
      "model_name": "CellRangeModel",
      "state": {
       "_view_module": null,
       "_view_module_version": "",
       "column_end": 0,
       "column_start": 0,
       "row_end": 0,
       "row_start": 0,
       "type": "text",
       "value": "Summary"
      }
     },
     "42f732fa6faf44d6a779861cab4eabef": {
      "model_module": "ipysheet",
      "model_module_version": "~0.4.4",
      "model_name": "CellRangeModel",
      "state": {
       "_view_module": null,
       "_view_module_version": "",
       "column_end": 8,
       "column_start": 8,
       "row_end": 4,
       "row_start": 4,
       "type": "numeric",
       "value": 17
      }
     },
     "43b6d476558b4110ace82874b2c5a616": {
      "model_module": "ipysheet",
      "model_module_version": "~0.4.4",
      "model_name": "CellRangeModel",
      "state": {
       "_view_module": null,
       "_view_module_version": "",
       "column_end": 15,
       "column_start": 15,
       "row_end": 0,
       "row_start": 0,
       "type": "text",
       "value": "Yeast"
      }
     },
     "43c4151344e2447289808a4b6e5cccc7": {
      "model_module": "ipysheet",
      "model_module_version": "~0.4.4",
      "model_name": "CellRangeModel",
      "state": {
       "_view_module": null,
       "_view_module_version": "",
       "column_end": 8,
       "column_start": 8,
       "row_end": 5,
       "row_start": 5,
       "type": "numeric",
       "value": 17
      }
     },
     "445c1fa6031a41f0a1bd8e8194e7c79a": {
      "model_module": "ipysheet",
      "model_module_version": "~0.4.4",
      "model_name": "CellRangeModel",
      "state": {
       "_view_module": null,
       "_view_module_version": "",
       "column_end": 8,
       "column_start": 8,
       "row_end": 6,
       "row_start": 6,
       "type": "numeric",
       "value": 10
      }
     },
     "44e6f2b768cd4590814b5fc3e8405f40": {
      "model_module": "ipysheet",
      "model_module_version": "~0.4.4",
      "model_name": "CellRangeModel",
      "state": {
       "_view_module": null,
       "_view_module_version": "",
       "column_end": 17,
       "column_start": 17,
       "row_end": 2,
       "row_start": 2,
       "style": {
        "backgroundColor": "red"
       },
       "type": "numeric",
       "value": 73.125
      }
     },
     "4536cd4a79d64565b56866f90be592d1": {
      "model_module": "ipysheet",
      "model_module_version": "~0.4.4",
      "model_name": "CellRangeModel",
      "state": {
       "_view_module": null,
       "_view_module_version": "",
       "column_end": 10,
       "column_start": 10,
       "row_end": 0,
       "row_start": 0,
       "type": "text",
       "value": "Hops"
      }
     },
     "45af118600e34f51864bcceb40df3065": {
      "model_module": "ipysheet",
      "model_module_version": "~0.4.4",
      "model_name": "CellRangeModel",
      "state": {
       "_view_module": null,
       "_view_module_version": "",
       "column_end": 10,
       "column_start": 10,
       "type": "text",
       "value": "Name"
      }
     },
     "466361ac30de45139d2aa788a60bc5b2": {
      "model_module": "ipysheet",
      "model_module_version": "~0.4.4",
      "model_name": "CellRangeModel",
      "state": {
       "_view_module": null,
       "_view_module_version": "",
       "row_end": 8,
       "row_start": 8,
       "style": {
        "backgroundColor": "red"
       },
       "type": "numeric",
       "value": 29.8
      }
     },
     "4750a354962848dc9118c13acf79b2ed": {
      "model_module": "ipysheet",
      "model_module_version": "~0.4.4",
      "model_name": "CellRangeModel",
      "state": {
       "_view_module": null,
       "_view_module_version": "",
       "column_end": 17,
       "column_start": 17,
       "type": "text",
       "value": "Attenuation (adjusted)"
      }
     },
     "476a9c509c6b44e9b77fb51958779e90": {
      "model_module": "ipysheet",
      "model_module_version": "~0.4.4",
      "model_name": "CellRangeModel",
      "state": {
       "_view_module": null,
       "_view_module_version": "",
       "row_end": 17,
       "row_start": 17,
       "style": {
        "backgroundColor": "red"
       },
       "type": "numeric",
       "value": 1.044
      }
     },
     "47a4789566c746538f8aa6d9b06da53f": {
      "model_module": "ipysheet",
      "model_module_version": "~0.4.4",
      "model_name": "CellRangeModel",
      "state": {
       "_view_module": null,
       "_view_module_version": "",
       "column_end": 13,
       "column_start": 13,
       "row_end": 2,
       "row_start": 2,
       "type": "numeric",
       "value": 23.4
      }
     },
     "47dcbc9ba39e437a9c4f1f817e5d9bea": {
      "model_module": "ipysheet",
      "model_module_version": "~0.4.4",
      "model_name": "CellRangeModel",
      "state": {
       "_view_module": null,
       "_view_module_version": "",
       "column_end": 12,
       "column_start": 12,
       "row_end": 3,
       "row_start": 3,
       "style": {
        "backgroundColor": "yellow"
       },
       "type": "numeric",
       "value": 20
      }
     },
     "47e47da650524476bc8812930cd63d58": {
      "model_module": "ipysheet",
      "model_module_version": "~0.4.4",
      "model_name": "CellRangeModel",
      "state": {
       "_view_module": null,
       "_view_module_version": "",
       "column_end": 5,
       "column_start": 5,
       "row_end": 6,
       "row_start": 6,
       "type": "text",
       "value": "Briess - 6 Row Brewers Malt"
      }
     },
     "48981de95d7b4059bf33c0c6ca0bd05d": {
      "model_module": "ipysheet",
      "model_module_version": "~0.4.4",
      "model_name": "CellRangeModel",
      "state": {
       "_view_module": null,
       "_view_module_version": "",
       "column_end": 19,
       "column_start": 19,
       "type": "text",
       "value": "Max Temp (F)"
      }
     },
     "48fd83a885d446d1aa22b9af4b151164": {
      "model_module": "ipysheet",
      "model_module_version": "~0.4.4",
      "model_name": "CellRangeModel",
      "state": {
       "_view_module": null,
       "_view_module_version": "",
       "row_end": 7,
       "row_start": 7,
       "style": {
        "backgroundColor": "red"
       },
       "type": "numeric",
       "value": 1.014
      }
     },
     "493f0a6c5404481ab356b4d02610f248": {
      "model_module": "ipysheet",
      "model_module_version": "~0.4.4",
      "model_name": "CellRangeModel",
      "state": {
       "_view_module": null,
       "_view_module_version": "",
       "column_end": 10,
       "column_start": 10,
       "row_end": 3,
       "row_start": 3,
       "type": "text",
       "value": "Fuggles"
      }
     },
     "496306241bcb47e09b1a0d3d6affdb9c": {
      "model_module": "ipysheet",
      "model_module_version": "~0.4.4",
      "model_name": "CellRangeModel",
      "state": {
       "_view_module": null,
       "_view_module_version": "",
       "column_end": 15,
       "column_start": 15,
       "type": "text",
       "value": "Name"
      }
     },
     "4986b26bf74f4a7c850dcb87a7ef758b": {
      "model_module": "ipysheet",
      "model_module_version": "~0.4.4",
      "model_name": "CellRangeModel",
      "state": {
       "_view_module": null,
       "_view_module_version": "",
       "column_end": 18,
       "column_start": 18,
       "row_end": 2,
       "row_start": 2,
       "type": "numeric",
       "value": 59
      }
     },
     "49d258a48bed496a9bb6f0d324d0717a": {
      "model_module": "ipysheet",
      "model_module_version": "~0.4.4",
      "model_name": "CellRangeModel",
      "state": {
       "_view_module": null,
       "_view_module_version": "",
       "row_end": 20,
       "row_start": 20,
       "style": {
        "backgroundColor": "red"
       },
       "type": "numeric",
       "value": 1.136
      }
     },
     "49d687d3af8446b7800294b77e611872": {
      "model_module": "ipysheet",
      "model_module_version": "~0.4.4",
      "model_name": "CellRangeModel",
      "state": {
       "_view_module": null,
       "_view_module_version": "",
       "column_end": 7,
       "column_start": 7,
       "row_end": 5,
       "row_start": 5,
       "type": "text",
       "value": "Extract"
      }
     },
     "49f112d7b3c146e6aedbde3c23063605": {
      "model_module": "ipysheet",
      "model_module_version": "~0.4.4",
      "model_name": "CellRangeModel",
      "state": {
       "_view_module": null,
       "_view_module_version": "",
       "column_end": 11,
       "column_start": 11,
       "type": "text",
       "value": "Amount (oz)"
      }
     },
     "4a09ee0d758844d49ddcc7bde3d54c62": {
      "model_module": "ipysheet",
      "model_module_version": "~0.4.4",
      "model_name": "CellRangeModel",
      "state": {
       "_view_module": null,
       "_view_module_version": "",
       "column_end": 8,
       "column_start": 8,
       "row_end": 5,
       "row_start": 5,
       "type": "numeric",
       "value": 17
      }
     },
     "4a0ed81f32fd421189175a0c24320e4f": {
      "model_module": "ipysheet",
      "model_module_version": "~0.4.4",
      "model_name": "CellRangeModel",
      "state": {
       "_view_module": null,
       "_view_module_version": "",
       "row_end": 10,
       "row_start": 10,
       "style": {
        "backgroundColor": "yellow"
       },
       "type": "numeric",
       "value": 48
      }
     },
     "4a19e16f8e754af088ed345562e25f69": {
      "model_module": "ipysheet",
      "model_module_version": "~0.4.4",
      "model_name": "CellRangeModel",
      "state": {
       "_view_module": null,
       "_view_module_version": "",
       "column_end": 13,
       "column_start": 13,
       "type": "text",
       "value": "IBU"
      }
     },
     "4a303451eb3049909bfc1e6168a2a2e5": {
      "model_module": "ipysheet",
      "model_module_version": "~0.4.4",
      "model_name": "CellRangeModel",
      "state": {
       "_view_module": null,
       "_view_module_version": "",
       "column_end": 10,
       "column_start": 10,
       "row_end": 2,
       "row_start": 2,
       "type": "text",
       "value": "Willamette"
      }
     },
     "4aa0bff227fd4a31886bb31feb899886": {
      "model_module": "@jupyter-widgets/controls",
      "model_module_version": "1.5.0",
      "model_name": "VBoxModel",
      "state": {
       "_dom_classes": [
        "widget-interact"
       ],
       "children": [
        "IPY_MODEL_3917b6fafa62469fa1b01c18689002b5",
        "IPY_MODEL_f7e5d2c44c7648cbbe51587d0b423b08"
       ],
       "layout": "IPY_MODEL_28d30b3acf68454ea352b3a96b952273"
      }
     },
     "4abdf0eeb02d4417accb20f3d41c9f2a": {
      "model_module": "ipysheet",
      "model_module_version": "~0.4.4",
      "model_name": "CellRangeModel",
      "state": {
       "_view_module": null,
       "_view_module_version": "",
       "column_end": 0,
       "column_start": 0,
       "row_end": 16,
       "row_start": 16,
       "type": "text",
       "value": "Mash Volume"
      }
     },
     "4ac28588874c495cb9f50dff53dfb578": {
      "model_module": "ipysheet",
      "model_module_version": "~0.4.4",
      "model_name": "CellRangeModel",
      "state": {
       "_view_module": null,
       "_view_module_version": "",
       "column_end": 17,
       "column_start": 17,
       "type": "text",
       "value": "Attenuation (adjusted)"
      }
     },
     "4b8db34ae4c547c9b5cd7df0b9f1de16": {
      "model_module": "ipysheet",
      "model_module_version": "~0.4.4",
      "model_name": "CellRangeModel",
      "state": {
       "_view_module": null,
       "_view_module_version": "",
       "column_end": 7,
       "column_start": 7,
       "row_end": 5,
       "row_start": 5,
       "type": "text",
       "value": "Extract"
      }
     },
     "4b95e363fcbc4d4282d2cca727898163": {
      "model_module": "ipysheet",
      "model_module_version": "~0.4.4",
      "model_name": "CellRangeModel",
      "state": {
       "_view_module": null,
       "_view_module_version": "",
       "column_end": 0,
       "column_start": 0,
       "row_end": 3,
       "row_start": 3,
       "type": "text",
       "value": "Boil Size"
      }
     },
     "4c6c32912fcf4bccb93e177637ebdd14": {
      "model_module": "ipysheet",
      "model_module_version": "~0.4.4",
      "model_name": "CellRangeModel",
      "state": {
       "_view_module": null,
       "_view_module_version": "",
       "column_end": 6,
       "column_start": 6,
       "type": "text",
       "value": "Amount (lbs)"
      }
     },
     "4d23c267f3a4443bbb3b649d2b1dea6f": {
      "model_module": "@jupyter-widgets/controls",
      "model_module_version": "1.5.0",
      "model_name": "DescriptionStyleModel",
      "state": {
       "description_width": ""
      }
     },
     "4da47d26e6204763953175b60d88c2cb": {
      "model_module": "ipysheet",
      "model_module_version": "~0.4.4",
      "model_name": "CellRangeModel",
      "state": {
       "_view_module": null,
       "_view_module_version": "",
       "column_end": 0,
       "column_start": 0,
       "row_end": 9,
       "row_start": 9,
       "type": "text",
       "value": "Color"
      }
     },
     "4dd31d2d288f46ce87c17fa969747b41": {
      "model_module": "ipysheet",
      "model_module_version": "~0.4.4",
      "model_name": "CellRangeModel",
      "state": {
       "_view_module": null,
       "_view_module_version": "",
       "row_end": 9,
       "row_start": 9,
       "style": {
        "backgroundColor": "red"
       },
       "type": "numeric",
       "value": 33.9
      }
     },
     "4e32aee03116432ab28918f22877a529": {
      "model_module": "ipysheet",
      "model_module_version": "~0.4.4",
      "model_name": "CellRangeModel",
      "state": {
       "_view_module": null,
       "_view_module_version": "",
       "column_end": 6,
       "column_start": 6,
       "row_end": 5,
       "row_start": 5,
       "style": {
        "backgroundColor": "yellow"
       },
       "type": "numeric",
       "value": 1
      }
     },
     "4e52cb3ae2d1428b88590b14ee7fe78f": {
      "model_module": "ipysheet",
      "model_module_version": "~0.4.4",
      "model_name": "CellRangeModel",
      "state": {
       "_view_module": null,
       "_view_module_version": "",
       "column_end": 5,
       "column_start": 5,
       "row_end": 2,
       "row_start": 2,
       "type": "text",
       "value": "Black (Patent) Malt"
      }
     },
     "4e58cd2b72de449d8e818180f566fe49": {
      "model_module": "ipysheet",
      "model_module_version": "~0.4.4",
      "model_name": "CellRangeModel",
      "state": {
       "_view_module": null,
       "_view_module_version": "",
       "row_end": 9,
       "row_start": 9,
       "style": {
        "backgroundColor": "red"
       },
       "type": "numeric",
       "value": 33.9
      }
     },
     "4e68dacf801b4ac38de74cc30c532805": {
      "model_module": "ipysheet",
      "model_module_version": "~0.4.4",
      "model_name": "CellRangeModel",
      "state": {
       "_view_module": null,
       "_view_module_version": "",
       "column_end": 2,
       "column_start": 2,
       "type": "text",
       "value": "Style Min-Max"
      }
     },
     "4ecf32b13f0647d3b851fc40f6d28828": {
      "model_module": "ipysheet",
      "model_module_version": "~0.4.4",
      "model_name": "CellRangeModel",
      "state": {
       "_view_module": null,
       "_view_module_version": "",
       "column_end": 5,
       "column_start": 5,
       "row_end": 3,
       "row_start": 3,
       "type": "text",
       "value": "Oats, Flaked"
      }
     },
     "4f8c5b289927420ba53ad4679f84f597": {
      "model_module": "ipysheet",
      "model_module_version": "~0.4.4",
      "model_name": "CellRangeModel",
      "state": {
       "_view_module": null,
       "_view_module_version": "",
       "type": "text",
       "value": "Value"
      }
     },
     "4f8e9a427bd74b10b7de1f53f9f087e0": {
      "model_module": "ipysheet",
      "model_module_version": "~0.4.4",
      "model_name": "CellRangeModel",
      "state": {
       "_view_module": null,
       "_view_module_version": "",
       "column_end": 3,
       "column_start": 3,
       "row_end": 6,
       "row_start": 6,
       "style": {
        "backgroundColor": "red"
       },
       "type": "numeric",
       "value": ""
      }
     },
     "501268987d404f36bcd556f4f4f270d7": {
      "model_module": "ipysheet",
      "model_module_version": "~0.4.4",
      "model_name": "CellRangeModel",
      "state": {
       "_view_module": null,
       "_view_module_version": "",
       "column_end": 7,
       "column_start": 7,
       "row_end": 7,
       "row_start": 7,
       "type": "text",
       "value": "Mash"
      }
     },
     "50cf55884f8b49a4837e5f0cda871fdf": {
      "model_module": "ipysheet",
      "model_module_version": "~0.4.4",
      "model_name": "CellRangeModel",
      "state": {
       "_view_module": null,
       "_view_module_version": "",
       "row_end": 16,
       "row_start": 16,
       "style": {
        "backgroundColor": "yellow"
       },
       "type": "numeric",
       "value": 1.5
      }
     },
     "50eed7e3e55a44a49f9086567ff5ed9c": {
      "model_module": "ipysheet",
      "model_module_version": "~0.4.4",
      "model_name": "CellRangeModel",
      "state": {
       "_view_module": null,
       "_view_module_version": "",
       "column_end": 0,
       "column_start": 0,
       "row_end": 4,
       "row_start": 4,
       "type": "text",
       "value": "Boil Time"
      }
     },
     "5168d26559b746a1a390a4504603acff": {
      "model_module": "ipysheet",
      "model_module_version": "~0.4.4",
      "model_name": "CellRangeModel",
      "state": {
       "_view_module": null,
       "_view_module_version": "",
       "column_end": 6,
       "column_start": 6,
       "row_end": 7,
       "row_start": 7,
       "style": {
        "backgroundColor": "yellow"
       },
       "type": "numeric",
       "value": 0.25
      }
     },
     "51c22658eef247c19c18438c85029fee": {
      "model_module": "ipysheet",
      "model_module_version": "~0.4.4",
      "model_name": "CellRangeModel",
      "state": {
       "_view_module": null,
       "_view_module_version": "",
       "column_end": 7,
       "column_start": 7,
       "row_end": 7,
       "row_start": 7,
       "type": "text",
       "value": "Mash"
      }
     },
     "5216308ef03340b38f0da3d189300292": {
      "model_module": "@jupyter-widgets/base",
      "model_module_version": "1.2.0",
      "model_name": "LayoutModel",
      "state": {
       "height": "auto",
       "width": "auto"
      }
     },
     "5290ff9a6d10466e8acb044267f60033": {
      "model_module": "ipysheet",
      "model_module_version": "~0.4.4",
      "model_name": "CellRangeModel",
      "state": {
       "_view_module": null,
       "_view_module_version": "",
       "column_end": 15,
       "column_start": 15,
       "type": "text",
       "value": "Name"
      }
     },
     "52eb5d98f02a48d1bca73dd81d5e07cb": {
      "model_module": "ipysheet",
      "model_module_version": "~0.4.4",
      "model_name": "CellRangeModel",
      "state": {
       "_view_module": null,
       "_view_module_version": "",
       "column_end": 12,
       "column_start": 12,
       "row_end": 3,
       "row_start": 3,
       "style": {
        "backgroundColor": "yellow"
       },
       "type": "numeric",
       "value": 20
      }
     },
     "5401074649a14b85a1111e4d7447b378": {
      "model_module": "ipysheet",
      "model_module_version": "~0.4.4",
      "model_name": "CellRangeModel",
      "state": {
       "_view_module": null,
       "_view_module_version": "",
       "column_end": 2,
       "column_start": 2,
       "type": "text",
       "value": "Style Min-Max"
      }
     },
     "544194549765436888b5126bd85dbd93": {
      "model_module": "@jupyter-widgets/base",
      "model_module_version": "1.2.0",
      "model_name": "LayoutModel",
      "state": {}
     },
     "5454c8ada3c047a799ef61fd8653048b": {
      "model_module": "ipysheet",
      "model_module_version": "~0.4.4",
      "model_name": "CellRangeModel",
      "state": {
       "_view_module": null,
       "_view_module_version": "",
       "column_end": 0,
       "column_start": 0,
       "row_end": 6,
       "row_start": 6,
       "type": "text",
       "value": "OG"
      }
     },
     "550193aa7af54aa08039a923f2e60666": {
      "model_module": "ipysheet",
      "model_module_version": "~0.4.4",
      "model_name": "CellRangeModel",
      "state": {
       "_view_module": null,
       "_view_module_version": "",
       "column_end": 0,
       "column_start": 0,
       "row_end": 9,
       "row_start": 9,
       "type": "text",
       "value": "Color"
      }
     },
     "565f9b440ec0401eb852ccc32f3eb66b": {
      "model_module": "@jupyter-widgets/controls",
      "model_module_version": "1.5.0",
      "model_name": "VBoxModel",
      "state": {
       "_dom_classes": [
        "widget-interact"
       ],
       "children": [
        "IPY_MODEL_8fccadbf808d4f8680bea4b5d7c1633f",
        "IPY_MODEL_99daed0db05d4e468d82eb5b3b42171c"
       ],
       "layout": "IPY_MODEL_e4da9bb6b01645ee8fad375829beef09"
      }
     },
     "569626e615e3411d8cadb05e492d0e87": {
      "model_module": "ipysheet",
      "model_module_version": "~0.4.4",
      "model_name": "CellRangeModel",
      "state": {
       "_view_module": null,
       "_view_module_version": "",
       "column_end": 16,
       "column_start": 16,
       "type": "text",
       "value": "Attenuation (listed)"
      }
     },
     "56c2c554ee584a5ca970c7f8bbb06e29": {
      "model_module": "ipysheet",
      "model_module_version": "~0.4.4",
      "model_name": "CellRangeModel",
      "state": {
       "_view_module": null,
       "_view_module_version": "",
       "column_end": 0,
       "column_start": 0,
       "row_end": 14,
       "row_start": 14,
       "type": "text",
       "value": "Brew Day Values"
      }
     },
     "56ed6b392c2c482ea9fab35d58d43190": {
      "model_module": "ipysheet",
      "model_module_version": "~0.4.4",
      "model_name": "CellRangeModel",
      "state": {
       "_view_module": null,
       "_view_module_version": "",
       "column_end": 3,
       "column_start": 3,
       "row_end": 7,
       "row_start": 7,
       "style": {
        "backgroundColor": "red"
       },
       "type": "numeric",
       "value": ""
      }
     },
     "576ecf182d424d2f8a79ec4250069b77": {
      "model_module": "ipysheet",
      "model_module_version": "~0.4.4",
      "model_name": "CellRangeModel",
      "state": {
       "_view_module": null,
       "_view_module_version": "",
       "column_end": 2,
       "column_start": 2,
       "row_end": 6,
       "row_start": 6,
       "type": "text",
       "value": "1.048-1.065"
      }
     },
     "5788150224aa41918e7e00caa8299827": {
      "model_module": "ipysheet",
      "model_module_version": "~0.4.4",
      "model_name": "CellRangeModel",
      "state": {
       "_view_module": null,
       "_view_module_version": "",
       "row_end": 2,
       "row_start": 2,
       "style": {
        "backgroundColor": "yellow"
       },
       "type": "numeric",
       "value": 2.5
      }
     },
     "57c991bf82c344198a55cb9175e83611": {
      "model_module": "ipysheet",
      "model_module_version": "~0.4.4",
      "model_name": "CellRangeModel",
      "state": {
       "_view_module": null,
       "_view_module_version": "",
       "column_end": 18,
       "column_start": 18,
       "row_end": 2,
       "row_start": 2,
       "type": "numeric",
       "value": 59
      }
     },
     "58143d5d7c74492cae3b26ac66950a72": {
      "model_module": "ipysheet",
      "model_module_version": "~0.4.4",
      "model_name": "CellRangeModel",
      "state": {
       "_view_module": null,
       "_view_module_version": "",
       "column_end": 0,
       "column_start": 0,
       "row_end": 18,
       "row_start": 18,
       "type": "text",
       "value": "Pre-boil Gravity"
      }
     },
     "5816feff301a426b9bfed27a011dd533": {
      "model_module": "ipysheet",
      "model_module_version": "~0.4.4",
      "model_name": "CellRangeModel",
      "state": {
       "_view_module": null,
       "_view_module_version": "",
       "row_end": 6,
       "row_start": 6,
       "style": {
        "backgroundColor": "red"
       },
       "type": "numeric",
       "value": 1.055
      }
     },
     "58864ee048454d2eb981aa08f346cc41": {
      "model_module": "ipysheet",
      "model_module_version": "~0.4.4",
      "model_name": "CellRangeModel",
      "state": {
       "_view_module": null,
       "_view_module_version": "",
       "column_end": 8,
       "column_start": 8,
       "row_end": 5,
       "row_start": 5,
       "type": "numeric",
       "value": 17
      }
     },
     "58935ff16c034a2ea384aaa976dbff15": {
      "model_module": "ipysheet",
      "model_module_version": "~0.4.4",
      "model_name": "CellRangeModel",
      "state": {
       "_view_module": null,
       "_view_module_version": "",
       "column_end": 0,
       "column_start": 0,
       "row_end": 0,
       "row_start": 0,
       "type": "text",
       "value": "Summary"
      }
     },
     "59111b302d00422b8183a6da2629e0e8": {
      "model_module": "ipysheet",
      "model_module_version": "~0.4.4",
      "model_name": "CellRangeModel",
      "state": {
       "_view_module": null,
       "_view_module_version": "",
       "column_end": 11,
       "column_start": 11,
       "row_end": 3,
       "row_start": 3,
       "style": {
        "backgroundColor": "yellow"
       },
       "type": "numeric",
       "value": 0.5
      }
     },
     "596ba688eaea4c5c9afa09a82e41b3fd": {
      "model_module": "ipysheet",
      "model_module_version": "~0.4.4",
      "model_name": "CellRangeModel",
      "state": {
       "_view_module": null,
       "_view_module_version": "",
       "column_end": 12,
       "column_start": 12,
       "type": "text",
       "value": "Boil Time (min)"
      }
     },
     "5a3c8da120554ad4983bd98a7fffaa1f": {
      "model_module": "ipysheet",
      "model_module_version": "~0.4.4",
      "model_name": "CellRangeModel",
      "state": {
       "_view_module": null,
       "_view_module_version": "",
       "column_end": 0,
       "column_start": 0,
       "row_end": 10,
       "row_start": 10,
       "type": "text",
       "value": "Efficiency"
      }
     },
     "5a51cd9c52834344bde071023375f929": {
      "model_module": "ipysheet",
      "model_module_version": "~0.4.4",
      "model_name": "CellRangeModel",
      "state": {
       "_view_module": null,
       "_view_module_version": "",
       "row_end": 18,
       "row_start": 18,
       "style": {
        "backgroundColor": "red"
       },
       "type": "numeric",
       "value": 1.078
      }
     },
     "5a7eb6a3c29141c29e3024d3c749e940": {
      "model_module": "ipysheet",
      "model_module_version": "~0.4.4",
      "model_name": "CellRangeModel",
      "state": {
       "_view_module": null,
       "_view_module_version": "",
       "column_end": 0,
       "column_start": 0,
       "row_end": 2,
       "row_start": 2,
       "type": "text",
       "value": "Batch Size"
      }
     },
     "5aa9debd8197453585ca32bb4fc23675": {
      "model_module": "ipysheet",
      "model_module_version": "~0.4.4",
      "model_name": "CellRangeModel",
      "state": {
       "_view_module": null,
       "_view_module_version": "",
       "row_end": 9,
       "row_start": 9,
       "style": {
        "backgroundColor": "red"
       },
       "type": "numeric",
       "value": 33.9
      }
     },
     "5ad616ac37374c0aabb4b3e7b01fd067": {
      "model_module": "ipysheet",
      "model_module_version": "~0.4.4",
      "model_name": "CellRangeModel",
      "state": {
       "_view_module": null,
       "_view_module_version": "",
       "row_end": 8,
       "row_start": 8,
       "style": {
        "backgroundColor": "red"
       },
       "type": "numeric",
       "value": 29.8
      }
     },
     "5ba91438455547aea9b3445a001bcb3c": {
      "model_module": "ipysheet",
      "model_module_version": "~0.4.4",
      "model_name": "CellRangeModel",
      "state": {
       "_view_module": null,
       "_view_module_version": "",
       "column_end": 7,
       "column_start": 7,
       "row_end": 3,
       "row_start": 3,
       "type": "text",
       "value": "Mash"
      }
     },
     "5bc453c0b71645169a5202189a456d54": {
      "model_module": "@jupyter-widgets/base",
      "model_module_version": "1.2.0",
      "model_name": "LayoutModel",
      "state": {
       "height": "auto",
       "width": "auto"
      }
     },
     "5bc956b532764b3a8a6e5246e891d244": {
      "model_module": "ipysheet",
      "model_module_version": "~0.4.4",
      "model_name": "CellRangeModel",
      "state": {
       "_view_module": null,
       "_view_module_version": "",
       "column_end": 7,
       "column_start": 7,
       "row_end": 4,
       "row_start": 4,
       "type": "text",
       "value": "Extract"
      }
     },
     "5bde9e9e648e444880bcc1fbb963030b": {
      "model_module": "ipysheet",
      "model_module_version": "~0.4.4",
      "model_name": "CellRangeModel",
      "state": {
       "_view_module": null,
       "_view_module_version": "",
       "column_end": 5,
       "column_start": 5,
       "type": "text",
       "value": "Name"
      }
     },
     "5c13b2f94a704fbc92e8a4811491a790": {
      "model_module": "ipysheet",
      "model_module_version": "~0.4.4",
      "model_name": "CellRangeModel",
      "state": {
       "_view_module": null,
       "_view_module_version": "",
       "column_end": 6,
       "column_start": 6,
       "type": "text",
       "value": "Amount (lbs)"
      }
     },
     "5cb32af312a04a69804611c67a23e703": {
      "model_module": "ipysheet",
      "model_module_version": "~0.4.4",
      "model_name": "CellRangeModel",
      "state": {
       "_view_module": null,
       "_view_module_version": "",
       "column_end": 2,
       "column_start": 2,
       "row_end": 6,
       "row_start": 6,
       "type": "text",
       "value": "1.048-1.065"
      }
     },
     "5d95c96d6ca14d7286cc6db333550963": {
      "model_module": "ipysheet",
      "model_module_version": "~0.4.4",
      "model_name": "CellRangeModel",
      "state": {
       "_view_module": null,
       "_view_module_version": "",
       "column_end": 5,
       "column_start": 5,
       "row_end": 0,
       "row_start": 0,
       "type": "text",
       "value": "Fermentables"
      }
     },
     "5dac8e6d8c2549ce8a42e8b96163c52d": {
      "model_module": "ipysheet",
      "model_module_version": "~0.4.4",
      "model_name": "CellRangeModel",
      "state": {
       "_view_module": null,
       "_view_module_version": "",
       "row_end": 11,
       "row_start": 11,
       "style": {
        "backgroundColor": "red"
       },
       "type": "numeric",
       "value": 5.38
      }
     },
     "5dea532c95234758b315da7e6e4219d6": {
      "model_module": "ipysheet",
      "model_module_version": "~0.4.4",
      "model_name": "CellRangeModel",
      "state": {
       "_view_module": null,
       "_view_module_version": "",
       "column_end": 0,
       "column_start": 0,
       "row_end": 16,
       "row_start": 16,
       "type": "text",
       "value": "Mash Volume"
      }
     },
     "5e8c885a09564f7c9f453a4538bdddf9": {
      "model_module": "ipysheet",
      "model_module_version": "~0.4.4",
      "model_name": "CellRangeModel",
      "state": {
       "_view_module": null,
       "_view_module_version": "",
       "column_end": 13,
       "column_start": 13,
       "row_end": 2,
       "row_start": 2,
       "type": "numeric",
       "value": 21
      }
     },
     "5eb56e6b64854a118061f53c34b0b73a": {
      "model_module": "ipysheet",
      "model_module_version": "~0.4.4",
      "model_name": "CellRangeModel",
      "state": {
       "_view_module": null,
       "_view_module_version": "",
       "column_end": 13,
       "column_start": 13,
       "type": "text",
       "value": "IBU"
      }
     },
     "5ef42f0ce70d4edbbf84c0832c2a44aa": {
      "model_module": "@jupyter-widgets/base",
      "model_module_version": "1.2.0",
      "model_name": "LayoutModel",
      "state": {}
     },
     "5f2f5a18a0b0434cac8b6ae749a07549": {
      "model_module": "ipysheet",
      "model_module_version": "~0.4.4",
      "model_name": "CellRangeModel",
      "state": {
       "_view_module": null,
       "_view_module_version": "",
       "column_end": 10,
       "column_start": 10,
       "row_end": 0,
       "row_start": 0,
       "type": "text",
       "value": "Hops"
      }
     },
     "5f42dfb5059247ce89a771d1313b0f84": {
      "model_module": "ipysheet",
      "model_module_version": "~0.4.4",
      "model_name": "CellRangeModel",
      "state": {
       "_view_module": null,
       "_view_module_version": "",
       "column_end": 0,
       "column_start": 0,
       "row_end": 17,
       "row_start": 17,
       "type": "text",
       "value": "Post-Mash Gravity"
      }
     },
     "5f4dc4337c2d45ada4e5dd515f3f2589": {
      "model_module": "ipysheet",
      "model_module_version": "~0.4.4",
      "model_name": "CellRangeModel",
      "state": {
       "_view_module": null,
       "_view_module_version": "",
       "column_end": 8,
       "column_start": 8,
       "type": "text",
       "value": "GU Contribution"
      }
     },
     "5f98cb17404b43ea92ce00580c8cadcc": {
      "model_module": "ipysheet",
      "model_module_version": "~0.4.4",
      "model_name": "CellRangeModel",
      "state": {
       "_view_module": null,
       "_view_module_version": "",
       "column_end": 7,
       "column_start": 7,
       "row_end": 3,
       "row_start": 3,
       "type": "text",
       "value": "Mash"
      }
     },
     "60090f6427b14f268614f55adddd6b57": {
      "model_module": "ipysheet",
      "model_module_version": "~0.4.4",
      "model_name": "CellRangeModel",
      "state": {
       "_view_module": null,
       "_view_module_version": "",
       "column_end": 0,
       "column_start": 0,
       "row_end": 11,
       "row_start": 11,
       "type": "text",
       "value": "ABV"
      }
     },
     "612bfbfb54a14569b2c46813f44c8263": {
      "model_module": "ipysheet",
      "model_module_version": "~0.4.4",
      "model_name": "CellRangeModel",
      "state": {
       "_view_module": null,
       "_view_module_version": "",
       "column_end": 2,
       "column_start": 2,
       "type": "text",
       "value": "Style Min-Max"
      }
     },
     "61d5a5c1d58d46018fd4b7be442e6817": {
      "model_module": "ipysheet",
      "model_module_version": "~0.4.4",
      "model_name": "CellRangeModel",
      "state": {
       "_view_module": null,
       "_view_module_version": "",
       "column_end": 2,
       "column_start": 2,
       "row_end": 9,
       "row_start": 9,
       "type": "text",
       "value": "22.0-40.0"
      }
     },
     "626d552366c34e1e9b549c26d86e7863": {
      "model_module": "ipysheet",
      "model_module_version": "~0.4.4",
      "model_name": "CellRangeModel",
      "state": {
       "_view_module": null,
       "_view_module_version": "",
       "column_end": 13,
       "column_start": 13,
       "row_end": 3,
       "row_start": 3,
       "type": "numeric",
       "value": 6.2
      }
     },
     "62bd274f1165445796575da55a83ca6f": {
      "model_module": "ipysheet",
      "model_module_version": "~0.4.4",
      "model_name": "CellRangeModel",
      "state": {
       "_view_module": null,
       "_view_module_version": "",
       "row_end": 19,
       "row_start": 19,
       "style": {
        "backgroundColor": "red"
       },
       "type": "numeric",
       "value": 1
      }
     },
     "62e0ae500c604cd8973341682492d4f9": {
      "model_module": "ipysheet",
      "model_module_version": "~0.4.4",
      "model_name": "CellRangeModel",
      "state": {
       "_view_module": null,
       "_view_module_version": "",
       "column_end": 0,
       "column_start": 0,
       "row_end": 4,
       "row_start": 4,
       "type": "text",
       "value": "Boil Time"
      }
     },
     "63115c802fbe461f8e0745be813f331a": {
      "model_module": "ipysheet",
      "model_module_version": "~0.4.4",
      "model_name": "CellRangeModel",
      "state": {
       "_view_module": null,
       "_view_module_version": "",
       "column_end": 6,
       "column_start": 6,
       "type": "text",
       "value": "Amount (lbs)"
      }
     },
     "63c0087262494cc39d315906aa7364d2": {
      "model_module": "ipysheet",
      "model_module_version": "~0.4.4",
      "model_name": "CellRangeModel",
      "state": {
       "_view_module": null,
       "_view_module_version": "",
       "row_end": 6,
       "row_start": 6,
       "style": {
        "backgroundColor": "red"
       },
       "type": "numeric",
       "value": 1.055
      }
     },
     "6449b0d9a9264dbeb78e6ce6bc6969f9": {
      "model_module": "ipysheet",
      "model_module_version": "~0.4.4",
      "model_name": "CellRangeModel",
      "state": {
       "_view_module": null,
       "_view_module_version": "",
       "column_end": 5,
       "column_start": 5,
       "row_end": 4,
       "row_start": 4,
       "type": "text",
       "value": "Dry Extract (DME) - Light"
      }
     },
     "64a3625d273f43a39bfb9bd1ccef7e74": {
      "model_module": "ipysheet",
      "model_module_version": "~0.4.4",
      "model_name": "CellRangeModel",
      "state": {
       "_view_module": null,
       "_view_module_version": "",
       "column_end": 0,
       "column_start": 0,
       "row_end": 14,
       "row_start": 14,
       "type": "text",
       "value": "Brew Day Values"
      }
     },
     "65785416119e4bb5bb673e7fe688c7bd": {
      "model_module": "ipysheet",
      "model_module_version": "~0.4.4",
      "model_name": "CellRangeModel",
      "state": {
       "_view_module": null,
       "_view_module_version": "",
       "column_end": 2,
       "column_start": 2,
       "row_end": 7,
       "row_start": 7,
       "type": "text",
       "value": "1.01-1.018"
      }
     },
     "65b84cdc3cf94746bfe9a6a0c9539178": {
      "model_module": "ipysheet",
      "model_module_version": "~0.4.4",
      "model_name": "SheetModel",
      "state": {
       "cells": [
        "IPY_MODEL_91b241a5a1b94fb38fb6f5058a5299ba",
        "IPY_MODEL_7da4ec23f8ff4ee3b672135540afe6c8",
        "IPY_MODEL_b4279e9292c348a3841beb3d000b153e",
        "IPY_MODEL_9f303df46a1646108321b58c031959c5",
        "IPY_MODEL_b4a16421fc0f45f3af82e14e6ace937b",
        "IPY_MODEL_a29ef30aafa3495a828464b761b1e6cf",
        "IPY_MODEL_32c5d364f4ad46bd803172a34abdbd03",
        "IPY_MODEL_b3f488330acc4c2ea82274a499abcde1",
        "IPY_MODEL_a763f23f2aaa462292f6f5c8396a5f7f",
        "IPY_MODEL_5c13b2f94a704fbc92e8a4811491a790",
        "IPY_MODEL_f99c4af9b0d043b8b303ecbb0d18d292",
        "IPY_MODEL_5f4dc4337c2d45ada4e5dd515f3f2589",
        "IPY_MODEL_8d164e4addd74dbe8b1d892ad1145bf6",
        "IPY_MODEL_8f15cf18001944ea9a0dab91960fb075",
        "IPY_MODEL_02e5f22d43aa4880aebc81bd50a53186",
        "IPY_MODEL_a183536dfe8743e2b0d3ba6e8d165bfe",
        "IPY_MODEL_783e2a58a3ac420c909336c19f0c8d62",
        "IPY_MODEL_e19094af719a44c58a1b869ff881b73a",
        "IPY_MODEL_f3419b6a239f4bcaa907dff5a661ce7c",
        "IPY_MODEL_0f25e139a18949a995876100fb727ec1",
        "IPY_MODEL_37b55f1853b34746a5924c32050f406c",
        "IPY_MODEL_b4c43c7614a340af82e0f08d1450540b",
        "IPY_MODEL_0144cbc30e6048b789155525d387f46d",
        "IPY_MODEL_77d4d7ec5b06472a83e4299fe3649ec4",
        "IPY_MODEL_37c6e2629d4e4e91a250bdea62d85ee3",
        "IPY_MODEL_2c24c82e81d947e8a81d566aa3d536a5",
        "IPY_MODEL_80c8431567f64809acfaea01d4087d8e",
        "IPY_MODEL_70f1b2d77f0841119bd0232a745058b9",
        "IPY_MODEL_88edb47d7e2546e1bd7a4f599ebcdf5b",
        "IPY_MODEL_8771e8e612cd4d9289948f1114bec4ac",
        "IPY_MODEL_acd02bf1c2694838a4b47e14739836d6",
        "IPY_MODEL_20ef9035e6f446dba597c34db0ec0ea9",
        "IPY_MODEL_32262812b21b420fbffe485fa9cec76d",
        "IPY_MODEL_b88f457a804c436c85267f9723adbf6c",
        "IPY_MODEL_9115d424aa4748a382a8a1d963d2ee88",
        "IPY_MODEL_8ca35fc601dd46c69ff1bd293d5335f7",
        "IPY_MODEL_0ca88ff2cc734b44883f89f5a16b16b4",
        "IPY_MODEL_4e52cb3ae2d1428b88590b14ee7fe78f",
        "IPY_MODEL_80822b5ba44a4bfe91845eadf082b5e1",
        "IPY_MODEL_34ca0567deee479ea3d28209d663e65d",
        "IPY_MODEL_c41e03f7283142769d1c1223769d4fe5",
        "IPY_MODEL_b6934b57281d412390caa88360abe634",
        "IPY_MODEL_75dda776bafc48408c36b8ac1ee00f3b",
        "IPY_MODEL_c7c29db4a9504123af0e4e90bb15a80f",
        "IPY_MODEL_3dc2703773604c8f813c648fc2a2188e",
        "IPY_MODEL_a85c36180c8d4223b92d4a4856ed4901",
        "IPY_MODEL_f8d897426c8947b8a14cb900c13bf63d",
        "IPY_MODEL_df343ec05dc040c1a73da6857a1944cf",
        "IPY_MODEL_369abfa9eff9417c9420a1e446ff1849",
        "IPY_MODEL_7e11303b98f54fd79a0de56d8205a131",
        "IPY_MODEL_d19b5bef7e6b41fbb300948cdc15759a",
        "IPY_MODEL_d2b65ae124c64a9e84fad47b523314c3",
        "IPY_MODEL_d0fc85d0913a44978d8df8e2b94c29c9",
        "IPY_MODEL_fcee7fd533224caca6e9d67fa3bfa924",
        "IPY_MODEL_3bb89c7823374063b49578cdb313cb15",
        "IPY_MODEL_b92f8a0315a649099974abf4e45997cc",
        "IPY_MODEL_b9ef8bfee3c2434bb4d902deaf49a5f2",
        "IPY_MODEL_19a628d0bc6d48b8aab2cc0727439ef5",
        "IPY_MODEL_a7498363ba8445bf8601796cdb541669",
        "IPY_MODEL_931cf84ef46240bab8b695c577b1ec85",
        "IPY_MODEL_a9ea61248cc8446fa0aae5ddfe5dc2d8",
        "IPY_MODEL_d9f7c81e3e9249af9b3b82241c02c90a",
        "IPY_MODEL_aa1cb0ba1d424dfeac22b9115ac393be",
        "IPY_MODEL_094d0deca9fc44ff9bf73a145207dde5",
        "IPY_MODEL_6847c007e8b448f4954b1fd342e83c64",
        "IPY_MODEL_9b094260f75347d486a34ab4dd93d1cc",
        "IPY_MODEL_83644508e67f4969a56ef43e7695ba07",
        "IPY_MODEL_52eb5d98f02a48d1bca73dd81d5e07cb",
        "IPY_MODEL_299d0fc264ff477c9539f4b90f3d9eda",
        "IPY_MODEL_8549a3d856e84d79a564452c985cad0d",
        "IPY_MODEL_8202c982030249c083e5492107f111e8",
        "IPY_MODEL_ab946e3aab2b4ccf912d6f90dd59b5cc",
        "IPY_MODEL_a6b7bc9f24d94cc2965572e1281d1b60",
        "IPY_MODEL_39a15388023a4de2807f457d8094e9fc",
        "IPY_MODEL_77342860f93b47cbbe39783287e5731f",
        "IPY_MODEL_ce692ff465c048d393a95560bc6d6620",
        "IPY_MODEL_dc2e9523be7947ccbbe9306371a0fbe6",
        "IPY_MODEL_e5a824d71ea6412f88a5e2f9dfca91dd",
        "IPY_MODEL_fa3f413e8f3f4007af29e547200a945d",
        "IPY_MODEL_48fd83a885d446d1aa22b9af4b151164",
        "IPY_MODEL_e335bd53277c4ffeaaa18ad7cc7f7f81",
        "IPY_MODEL_8eddb1fe65eb4ecfb96baac60aa7781a",
        "IPY_MODEL_3cccca222e324f7895955c519acca4ac",
        "IPY_MODEL_f9db1d76fdfe457b886b7c11cac866f4",
        "IPY_MODEL_d7ad1e57c77d4a30ad1c069c2defc327",
        "IPY_MODEL_286d51fe461b4576a05fca6e11825472",
        "IPY_MODEL_5a51cd9c52834344bde071023375f929",
        "IPY_MODEL_91d514bf48e14b7db49bfb5168b767d5",
        "IPY_MODEL_49d258a48bed496a9bb6f0d324d0717a",
        "IPY_MODEL_673eedf947134496af376d58cc1eee72",
        "IPY_MODEL_8f6fe74dde594aab80db7bdd192e4058",
        "IPY_MODEL_f1298836d7ff4e388b64d8a250587d7a",
        "IPY_MODEL_119e74ed6f164f67b62036673ae1cf38",
        "IPY_MODEL_425bbd3e052c4f3c8a7abdfc4c699121",
        "IPY_MODEL_e787b0c54fbd48a4a643dc7bc445c9b9",
        "IPY_MODEL_56ed6b392c2c482ea9fab35d58d43190",
        "IPY_MODEL_37486476e2514cad80dc16ff322040ed",
        "IPY_MODEL_77f55aec914340dd88d40f5d73019c89",
        "IPY_MODEL_f687abf8ba2b480c8a74fdee3f15952a"
       ],
       "columns": 20,
       "layout": "IPY_MODEL_5216308ef03340b38f0da3d189300292",
       "rows": 21
      }
     },
     "65d683c2f1ce43a1bec1870453bcefdc": {
      "model_module": "ipysheet",
      "model_module_version": "~0.4.4",
      "model_name": "CellRangeModel",
      "state": {
       "_view_module": null,
       "_view_module_version": "",
       "column_end": 7,
       "column_start": 7,
       "row_end": 2,
       "row_start": 2,
       "type": "text",
       "value": "Mash"
      }
     },
     "66049c6d1f854502a7fdd031a2a98120": {
      "model_module": "ipysheet",
      "model_module_version": "~0.4.4",
      "model_name": "CellRangeModel",
      "state": {
       "_view_module": null,
       "_view_module_version": "",
       "column_end": 7,
       "column_start": 7,
       "row_end": 5,
       "row_start": 5,
       "type": "text",
       "value": "Extract"
      }
     },
     "66bdbd2744d4404ea2e74b8e0b8de180": {
      "model_module": "ipysheet",
      "model_module_version": "~0.4.4",
      "model_name": "CellRangeModel",
      "state": {
       "_view_module": null,
       "_view_module_version": "",
       "column_end": 10,
       "column_start": 10,
       "row_end": 3,
       "row_start": 3,
       "type": "text",
       "value": "Fuggles"
      }
     },
     "66f129fec84247609e2cb95cf7f12f1e": {
      "model_module": "@jupyter-widgets/base",
      "model_module_version": "1.2.0",
      "model_name": "LayoutModel",
      "state": {}
     },
     "673eedf947134496af376d58cc1eee72": {
      "model_module": "ipysheet",
      "model_module_version": "~0.4.4",
      "model_name": "CellRangeModel",
      "state": {
       "_view_module": null,
       "_view_module_version": "",
       "column_end": 2,
       "column_start": 2,
       "row_end": 6,
       "row_start": 6,
       "type": "text",
       "value": "1.048-1.065"
      }
     },
     "677e2660c51b4ba3bbf46d461056adbd": {
      "model_module": "ipysheet",
      "model_module_version": "~0.4.4",
      "model_name": "CellRangeModel",
      "state": {
       "_view_module": null,
       "_view_module_version": "",
       "column_end": 0,
       "column_start": 0,
       "row_end": 6,
       "row_start": 6,
       "type": "text",
       "value": "OG"
      }
     },
     "6811a4141e6348738ab5147dfe2d72d6": {
      "model_module": "ipysheet",
      "model_module_version": "~0.4.4",
      "model_name": "CellRangeModel",
      "state": {
       "_view_module": null,
       "_view_module_version": "",
       "column_end": 16,
       "column_start": 16,
       "type": "text",
       "value": "Attenuation (listed)"
      }
     },
     "6847c007e8b448f4954b1fd342e83c64": {
      "model_module": "ipysheet",
      "model_module_version": "~0.4.4",
      "model_name": "CellRangeModel",
      "state": {
       "_view_module": null,
       "_view_module_version": "",
       "column_end": 13,
       "column_start": 13,
       "row_end": 2,
       "row_start": 2,
       "type": "numeric",
       "value": 21
      }
     },
     "69033c4d387f44fc880d0b4214ba3178": {
      "model_module": "ipysheet",
      "model_module_version": "~0.4.4",
      "model_name": "CellRangeModel",
      "state": {
       "_view_module": null,
       "_view_module_version": "",
       "column_end": 2,
       "column_start": 2,
       "row_end": 9,
       "row_start": 9,
       "type": "text",
       "value": "22.0-40.0"
      }
     },
     "695c7589e0774ab2a7d6f3628f62c8a4": {
      "model_module": "ipysheet",
      "model_module_version": "~0.4.4",
      "model_name": "CellRangeModel",
      "state": {
       "_view_module": null,
       "_view_module_version": "",
       "column_end": 2,
       "column_start": 2,
       "row_end": 11,
       "row_start": 11,
       "type": "text",
       "value": "4.2-5.9"
      }
     },
     "69836e42aa28439d8b905e86748fc7e0": {
      "model_module": "@jupyter-widgets/controls",
      "model_module_version": "1.5.0",
      "model_name": "TextModel",
      "state": {
       "description": "fermentable:",
       "layout": "IPY_MODEL_c367f8c399a94eadacdf0dc4218e6207",
       "placeholder": "Type something",
       "style": "IPY_MODEL_4d23c267f3a4443bbb3b649d2b1dea6f",
       "value": "black"
      }
     },
     "699d15ac1ca843a5998e9340d38e1161": {
      "model_module": "ipysheet",
      "model_module_version": "~0.4.4",
      "model_name": "CellRangeModel",
      "state": {
       "_view_module": null,
       "_view_module_version": "",
       "column_end": 0,
       "column_start": 0,
       "row_end": 5,
       "row_start": 5,
       "type": "text",
       "value": "Mash Temp"
      }
     },
     "69e0e86ef14f4d708123344925aea8a7": {
      "model_module": "@jupyter-widgets/controls",
      "model_module_version": "1.5.0",
      "model_name": "DescriptionStyleModel",
      "state": {
       "description_width": ""
      }
     },
     "6a933a7d95ed45129620cddb24526e04": {
      "model_module": "ipysheet",
      "model_module_version": "~0.4.4",
      "model_name": "CellRangeModel",
      "state": {
       "_view_module": null,
       "_view_module_version": "",
       "column_end": 8,
       "column_start": 8,
       "row_end": 3,
       "row_start": 3,
       "type": "numeric",
       "value": 7
      }
     },
     "6ae9dd585e904a1b8976160f12b04a41": {
      "model_module": "ipysheet",
      "model_module_version": "~0.4.4",
      "model_name": "CellRangeModel",
      "state": {
       "_view_module": null,
       "_view_module_version": "",
       "row_end": 5,
       "row_start": 5,
       "style": {
        "backgroundColor": "yellow"
       },
       "type": "numeric",
       "value": 155
      }
     },
     "6b3e30973ca04f6d920bb54498007608": {
      "model_module": "ipysheet",
      "model_module_version": "~0.4.4",
      "model_name": "CellRangeModel",
      "state": {
       "_view_module": null,
       "_view_module_version": "",
       "column_end": 5,
       "column_start": 5,
       "row_end": 7,
       "row_start": 7,
       "type": "text",
       "value": "Briess - Chocolate Malt"
      }
     },
     "6b5c6af66a5e4020b16c00f14c556f90": {
      "model_module": "ipysheet",
      "model_module_version": "~0.4.4",
      "model_name": "CellRangeModel",
      "state": {
       "_view_module": null,
       "_view_module_version": "",
       "row_end": 5,
       "row_start": 5,
       "style": {
        "backgroundColor": "yellow"
       },
       "type": "numeric",
       "value": 165
      }
     },
     "6c3c8a9304fe40d1a721ddca9e4c31c4": {
      "model_module": "ipysheet",
      "model_module_version": "~0.4.4",
      "model_name": "CellRangeModel",
      "state": {
       "_view_module": null,
       "_view_module_version": "",
       "column_end": 3,
       "column_start": 3,
       "row_end": 6,
       "row_start": 6,
       "style": {
        "backgroundColor": "red"
       },
       "type": "numeric",
       "value": ""
      }
     },
     "6cc1a0a0045543fba40868083609958c": {
      "model_module": "ipysheet",
      "model_module_version": "~0.4.4",
      "model_name": "CellRangeModel",
      "state": {
       "_view_module": null,
       "_view_module_version": "",
       "column_end": 0,
       "column_start": 0,
       "row_end": 18,
       "row_start": 18,
       "type": "text",
       "value": "Pre-boil Gravity"
      }
     },
     "6cd035f0a3ae49fe8888c5a1be082ebe": {
      "model_module": "ipysheet",
      "model_module_version": "~0.4.4",
      "model_name": "CellRangeModel",
      "state": {
       "_view_module": null,
       "_view_module_version": "",
       "column_end": 0,
       "column_start": 0,
       "row_end": 5,
       "row_start": 5,
       "type": "text",
       "value": "Mash Temp"
      }
     },
     "6d7346e2e1574907aa7c0b39b0686600": {
      "model_module": "ipysheet",
      "model_module_version": "~0.4.4",
      "model_name": "CellRangeModel",
      "state": {
       "_view_module": null,
       "_view_module_version": "",
       "column_end": 0,
       "column_start": 0,
       "row_end": 18,
       "row_start": 18,
       "type": "text",
       "value": "Pre-boil Gravity"
      }
     },
     "6dcf96c7c6ce4e6ba7f29ec17256902f": {
      "model_module": "ipysheet",
      "model_module_version": "~0.4.4",
      "model_name": "CellRangeModel",
      "state": {
       "_view_module": null,
       "_view_module_version": "",
       "column_end": 0,
       "column_start": 0,
       "row_end": 3,
       "row_start": 3,
       "type": "text",
       "value": "Boil Size"
      }
     },
     "6e1b5774a24143c686a54b4b1e075d1d": {
      "model_module": "ipysheet",
      "model_module_version": "~0.4.4",
      "model_name": "CellRangeModel",
      "state": {
       "_view_module": null,
       "_view_module_version": "",
       "column_end": 3,
       "column_start": 3,
       "row_end": 7,
       "row_start": 7,
       "style": {
        "backgroundColor": "red"
       },
       "type": "numeric",
       "value": ""
      }
     },
     "6eb9962dd11d4735abbd2518f3f5999c": {
      "model_module": "ipysheet",
      "model_module_version": "~0.4.4",
      "model_name": "CellRangeModel",
      "state": {
       "_view_module": null,
       "_view_module_version": "",
       "column_end": 6,
       "column_start": 6,
       "type": "text",
       "value": "Amount (lbs)"
      }
     },
     "6eda861dec004b51a8225f2796e01b82": {
      "model_module": "ipysheet",
      "model_module_version": "~0.4.4",
      "model_name": "CellRangeModel",
      "state": {
       "_view_module": null,
       "_view_module_version": "",
       "column_end": 8,
       "column_start": 8,
       "row_end": 7,
       "row_start": 7,
       "type": "numeric",
       "value": 3
      }
     },
     "6ee0429db6fb46e28528f3bdb313a439": {
      "model_module": "ipysheet",
      "model_module_version": "~0.4.4",
      "model_name": "CellRangeModel",
      "state": {
       "_view_module": null,
       "_view_module_version": "",
       "row_end": 7,
       "row_start": 7,
       "style": {
        "backgroundColor": "red"
       },
       "type": "numeric",
       "value": 1.017
      }
     },
     "6ef55c4918704eccb56fc859183f4598": {
      "model_module": "ipysheet",
      "model_module_version": "~0.4.4",
      "model_name": "CellRangeModel",
      "state": {
       "_view_module": null,
       "_view_module_version": "",
       "type": "text",
       "value": "Value"
      }
     },
     "6f8a3304e89a41be97738d3f2327e821": {
      "model_module": "ipysheet",
      "model_module_version": "~0.4.4",
      "model_name": "CellRangeModel",
      "state": {
       "_view_module": null,
       "_view_module_version": "",
       "column_end": 11,
       "column_start": 11,
       "row_end": 2,
       "row_start": 2,
       "style": {
        "backgroundColor": "yellow"
       },
       "type": "numeric",
       "value": 1
      }
     },
     "6f9678318659453da159fc065eee7fab": {
      "model_module": "ipysheet",
      "model_module_version": "~0.4.4",
      "model_name": "CellRangeModel",
      "state": {
       "_view_module": null,
       "_view_module_version": "",
       "column_end": 0,
       "column_start": 0,
       "row_end": 11,
       "row_start": 11,
       "type": "text",
       "value": "ABV"
      }
     },
     "70805bf7345a43ca89856a996007fa08": {
      "model_module": "ipysheet",
      "model_module_version": "~0.4.4",
      "model_name": "CellRangeModel",
      "state": {
       "_view_module": null,
       "_view_module_version": "",
       "column_end": 5,
       "column_start": 5,
       "row_end": 4,
       "row_start": 4,
       "type": "text",
       "value": "Dry Extract (DME) - Light"
      }
     },
     "708ce3aaae6847b8a71919883a5d4840": {
      "model_module": "ipysheet",
      "model_module_version": "~0.4.4",
      "model_name": "CellRangeModel",
      "state": {
       "_view_module": null,
       "_view_module_version": "",
       "column_end": 17,
       "column_start": 17,
       "row_end": 2,
       "row_start": 2,
       "style": {
        "backgroundColor": "red"
       },
       "type": "numeric",
       "value": 73.125
      }
     },
     "70ecb3c8378e4f7097dfdccd5416f94c": {
      "model_module": "ipysheet",
      "model_module_version": "~0.4.4",
      "model_name": "CellRangeModel",
      "state": {
       "_view_module": null,
       "_view_module_version": "",
       "column_end": 2,
       "column_start": 2,
       "type": "text",
       "value": "Style Min-Max"
      }
     },
     "70f1b2d77f0841119bd0232a745058b9": {
      "model_module": "ipysheet",
      "model_module_version": "~0.4.4",
      "model_name": "CellRangeModel",
      "state": {
       "_view_module": null,
       "_view_module_version": "",
       "column_end": 0,
       "column_start": 0,
       "row_end": 8,
       "row_start": 8,
       "type": "text",
       "value": "Bitterness"
      }
     },
     "71309548f5ad47be91c7d41019943135": {
      "model_module": "ipysheet",
      "model_module_version": "~0.4.4",
      "model_name": "CellRangeModel",
      "state": {
       "_view_module": null,
       "_view_module_version": "",
       "column_end": 13,
       "column_start": 13,
       "row_end": 3,
       "row_start": 3,
       "type": "numeric",
       "value": 6.2
      }
     },
     "7136e182f8a54ffc909c7fbead3636f4": {
      "model_module": "ipysheet",
      "model_module_version": "~0.4.4",
      "model_name": "CellRangeModel",
      "state": {
       "_view_module": null,
       "_view_module_version": "",
       "column_end": 10,
       "column_start": 10,
       "row_end": 0,
       "row_start": 0,
       "type": "text",
       "value": "Hops"
      }
     },
     "716610d9820a4d8697edafb291674fe8": {
      "model_module": "ipysheet",
      "model_module_version": "~0.4.4",
      "model_name": "CellRangeModel",
      "state": {
       "_view_module": null,
       "_view_module_version": "",
       "column_end": 8,
       "column_start": 8,
       "row_end": 2,
       "row_start": 2,
       "type": "numeric",
       "value": 1
      }
     },
     "724f464882cd4a7284ad4145e1ddb7aa": {
      "model_module": "ipysheet",
      "model_module_version": "~0.4.4",
      "model_name": "CellRangeModel",
      "state": {
       "_view_module": null,
       "_view_module_version": "",
       "column_end": 3,
       "column_start": 3,
       "row_end": 7,
       "row_start": 7,
       "style": {
        "backgroundColor": "red"
       },
       "type": "numeric",
       "value": ""
      }
     },
     "728caacedc5d41988dd02911d8f4fb1a": {
      "model_module": "ipysheet",
      "model_module_version": "~0.4.4",
      "model_name": "CellRangeModel",
      "state": {
       "_view_module": null,
       "_view_module_version": "",
       "column_end": 2,
       "column_start": 2,
       "row_end": 6,
       "row_start": 6,
       "type": "text",
       "value": "1.048-1.065"
      }
     },
     "7385e75bdb4c448c84ffd2246c46da01": {
      "model_module": "ipysheet",
      "model_module_version": "~0.4.4",
      "model_name": "CellRangeModel",
      "state": {
       "_view_module": null,
       "_view_module_version": "",
       "row_end": 5,
       "row_start": 5,
       "style": {
        "backgroundColor": "yellow"
       },
       "type": "numeric",
       "value": 155
      }
     },
     "7434d75b864849408b0e965b11388bca": {
      "model_module": "ipysheet",
      "model_module_version": "~0.4.4",
      "model_name": "CellRangeModel",
      "state": {
       "_view_module": null,
       "_view_module_version": "",
       "column_end": 0,
       "column_start": 0,
       "row_end": 14,
       "row_start": 14,
       "type": "text",
       "value": "Brew Day Values"
      }
     },
     "74d80e956bc4499090f6d12e6bb2291d": {
      "model_module": "ipysheet",
      "model_module_version": "~0.4.4",
      "model_name": "CellRangeModel",
      "state": {
       "_view_module": null,
       "_view_module_version": "",
       "column_end": 0,
       "column_start": 0,
       "row_end": 20,
       "row_start": 20,
       "type": "text",
       "value": "Post-boil Gravity"
      }
     },
     "75ae25105eae469eb0bca26e14219a17": {
      "model_module": "ipysheet",
      "model_module_version": "~0.4.4",
      "model_name": "CellRangeModel",
      "state": {
       "_view_module": null,
       "_view_module_version": "",
       "column_end": 7,
       "column_start": 7,
       "row_end": 2,
       "row_start": 2,
       "type": "text",
       "value": "Mash"
      }
     },
     "75d3956262fb4198b377bd338517eb70": {
      "model_module": "ipysheet",
      "model_module_version": "~0.4.4",
      "model_name": "CellRangeModel",
      "state": {
       "_view_module": null,
       "_view_module_version": "",
       "column_end": 6,
       "column_start": 6,
       "row_end": 4,
       "row_start": 4,
       "style": {
        "backgroundColor": "yellow"
       },
       "type": "numeric",
       "value": 1
      }
     },
     "75dda776bafc48408c36b8ac1ee00f3b": {
      "model_module": "ipysheet",
      "model_module_version": "~0.4.4",
      "model_name": "CellRangeModel",
      "state": {
       "_view_module": null,
       "_view_module_version": "",
       "column_end": 6,
       "column_start": 6,
       "row_end": 3,
       "row_start": 3,
       "style": {
        "backgroundColor": "yellow"
       },
       "type": "numeric",
       "value": 1
      }
     },
     "75e1d0e81b8e4d058870259e8fcd59fc": {
      "model_module": "@jupyter-widgets/base",
      "model_module_version": "1.2.0",
      "model_name": "LayoutModel",
      "state": {
       "height": "auto",
       "width": "auto"
      }
     },
     "7632a20428a546e78809308f7f8ea287": {
      "model_module": "@jupyter-widgets/base",
      "model_module_version": "1.2.0",
      "model_name": "LayoutModel",
      "state": {}
     },
     "76b99d9e6af245e6a6bdf9cea0633213": {
      "model_module": "ipysheet",
      "model_module_version": "~0.4.4",
      "model_name": "CellRangeModel",
      "state": {
       "_view_module": null,
       "_view_module_version": "",
       "column_end": 5,
       "column_start": 5,
       "row_end": 2,
       "row_start": 2,
       "type": "text",
       "value": "Black (Patent) Malt"
      }
     },
     "76c171736c034fa7b820edcb707a1705": {
      "model_module": "ipysheet",
      "model_module_version": "~0.4.4",
      "model_name": "CellRangeModel",
      "state": {
       "_view_module": null,
       "_view_module_version": "",
       "column_end": 18,
       "column_start": 18,
       "row_end": 2,
       "row_start": 2,
       "type": "numeric",
       "value": 59
      }
     },
     "76f98b50a2294e87a486bca5d4a3c986": {
      "model_module": "ipysheet",
      "model_module_version": "~0.4.4",
      "model_name": "CellRangeModel",
      "state": {
       "_view_module": null,
       "_view_module_version": "",
       "column_end": 0,
       "column_start": 0,
       "row_end": 9,
       "row_start": 9,
       "type": "text",
       "value": "Color"
      }
     },
     "770f169de17048fc9555f5014910efea": {
      "model_module": "ipysheet",
      "model_module_version": "~0.4.4",
      "model_name": "CellRangeModel",
      "state": {
       "_view_module": null,
       "_view_module_version": "",
       "column_end": 0,
       "column_start": 0,
       "row_end": 11,
       "row_start": 11,
       "type": "text",
       "value": "ABV"
      }
     },
     "77342860f93b47cbbe39783287e5731f": {
      "model_module": "ipysheet",
      "model_module_version": "~0.4.4",
      "model_name": "CellRangeModel",
      "state": {
       "_view_module": null,
       "_view_module_version": "",
       "row_end": 2,
       "row_start": 2,
       "style": {
        "backgroundColor": "yellow"
       },
       "type": "numeric",
       "value": 2.5
      }
     },
     "77748acf92d146548f02d19cc850f44c": {
      "model_module": "ipysheet",
      "model_module_version": "~0.4.4",
      "model_name": "CellRangeModel",
      "state": {
       "_view_module": null,
       "_view_module_version": "",
       "column_end": 2,
       "column_start": 2,
       "row_end": 11,
       "row_start": 11,
       "type": "text",
       "value": "4.2-5.9"
      }
     },
     "7785a1a3de184906b9f5b576a7293a00": {
      "model_module": "ipysheet",
      "model_module_version": "~0.4.4",
      "model_name": "CellRangeModel",
      "state": {
       "_view_module": null,
       "_view_module_version": "",
       "row_end": 7,
       "row_start": 7,
       "style": {
        "backgroundColor": "red"
       },
       "type": "numeric",
       "value": 1.014
      }
     },
     "77d4d7ec5b06472a83e4299fe3649ec4": {
      "model_module": "ipysheet",
      "model_module_version": "~0.4.4",
      "model_name": "CellRangeModel",
      "state": {
       "_view_module": null,
       "_view_module_version": "",
       "column_end": 0,
       "column_start": 0,
       "row_end": 4,
       "row_start": 4,
       "type": "text",
       "value": "Boil Time"
      }
     },
     "77e376acda664b7ab5b183d5f20006dc": {
      "model_module": "@jupyter-widgets/controls",
      "model_module_version": "1.5.0",
      "model_name": "DescriptionStyleModel",
      "state": {
       "description_width": ""
      }
     },
     "77e774f7aad8477a915e9969e2ca135f": {
      "model_module": "ipysheet",
      "model_module_version": "~0.4.4",
      "model_name": "CellRangeModel",
      "state": {
       "_view_module": null,
       "_view_module_version": "",
       "column_end": 19,
       "column_start": 19,
       "type": "text",
       "value": "Max Temp (F)"
      }
     },
     "77f55aec914340dd88d40f5d73019c89": {
      "model_module": "ipysheet",
      "model_module_version": "~0.4.4",
      "model_name": "CellRangeModel",
      "state": {
       "_view_module": null,
       "_view_module_version": "",
       "column_end": 3,
       "column_start": 3,
       "row_end": 9,
       "row_start": 9,
       "style": {
        "backgroundColor": "red"
       },
       "type": "numeric",
       "value": ""
      }
     },
     "783e2a58a3ac420c909336c19f0c8d62": {
      "model_module": "ipysheet",
      "model_module_version": "~0.4.4",
      "model_name": "CellRangeModel",
      "state": {
       "_view_module": null,
       "_view_module_version": "",
       "column_end": 15,
       "column_start": 15,
       "type": "text",
       "value": "Name"
      }
     },
     "785f2dd17cb3450bb477b84693f12a4a": {
      "model_module": "ipysheet",
      "model_module_version": "~0.4.4",
      "model_name": "CellRangeModel",
      "state": {
       "_view_module": null,
       "_view_module_version": "",
       "row_end": 2,
       "row_start": 2,
       "style": {
        "backgroundColor": "yellow"
       },
       "type": "numeric",
       "value": 2.5
      }
     },
     "78b0dfc5011c45f9958df01f3a09385d": {
      "model_module": "ipysheet",
      "model_module_version": "~0.4.4",
      "model_name": "CellRangeModel",
      "state": {
       "_view_module": null,
       "_view_module_version": "",
       "column_end": 15,
       "column_start": 15,
       "row_end": 0,
       "row_start": 0,
       "type": "text",
       "value": "Yeast"
      }
     },
     "78cbdfe6b812402e83ee5576ab9ec140": {
      "model_module": "ipysheet",
      "model_module_version": "~0.4.4",
      "model_name": "CellRangeModel",
      "state": {
       "_view_module": null,
       "_view_module_version": "",
       "column_end": 0,
       "column_start": 0,
       "row_end": 20,
       "row_start": 20,
       "type": "text",
       "value": "Post-boil Gravity"
      }
     },
     "78f55bdcc35d4869aed16853bc75baba": {
      "model_module": "ipysheet",
      "model_module_version": "~0.4.4",
      "model_name": "CellRangeModel",
      "state": {
       "_view_module": null,
       "_view_module_version": "",
       "column_end": 19,
       "column_start": 19,
       "type": "text",
       "value": "Max Temp (F)"
      }
     },
     "78fcb46e07f748689a4510f1a17620f9": {
      "model_module": "ipysheet",
      "model_module_version": "~0.4.4",
      "model_name": "CellRangeModel",
      "state": {
       "_view_module": null,
       "_view_module_version": "",
       "column_end": 0,
       "column_start": 0,
       "row_end": 0,
       "row_start": 0,
       "type": "text",
       "value": "Summary"
      }
     },
     "7926f66bb6734656839d0d2c8a97e6e8": {
      "model_module": "ipysheet",
      "model_module_version": "~0.4.4",
      "model_name": "CellRangeModel",
      "state": {
       "_view_module": null,
       "_view_module_version": "",
       "column_end": 6,
       "column_start": 6,
       "row_end": 3,
       "row_start": 3,
       "style": {
        "backgroundColor": "yellow"
       },
       "type": "numeric",
       "value": 1
      }
     },
     "79839691024944ba96ceac2207ab14d6": {
      "model_module": "ipysheet",
      "model_module_version": "~0.4.4",
      "model_name": "CellRangeModel",
      "state": {
       "_view_module": null,
       "_view_module_version": "",
       "column_end": 15,
       "column_start": 15,
       "row_end": 2,
       "row_start": 2,
       "type": "text",
       "value": "Safale S-04"
      }
     },
     "79bf96718efa47a981b99c27323ef149": {
      "model_module": "ipysheet",
      "model_module_version": "~0.4.4",
      "model_name": "CellRangeModel",
      "state": {
       "_view_module": null,
       "_view_module_version": "",
       "column_end": 3,
       "column_start": 3,
       "row_end": 11,
       "row_start": 11,
       "style": {
        "backgroundColor": "red"
       },
       "type": "numeric",
       "value": ""
      }
     },
     "7a36d298bfa449ce85325b5366d84d3f": {
      "model_module": "ipysheet",
      "model_module_version": "~0.4.4",
      "model_name": "CellRangeModel",
      "state": {
       "_view_module": null,
       "_view_module_version": "",
       "column_end": 7,
       "column_start": 7,
       "type": "text",
       "value": "Use"
      }
     },
     "7aa9ab9b178e432ab791e3d87d66b873": {
      "model_module": "ipysheet",
      "model_module_version": "~0.4.4",
      "model_name": "CellRangeModel",
      "state": {
       "_view_module": null,
       "_view_module_version": "",
       "column_end": 5,
       "column_start": 5,
       "row_end": 0,
       "row_start": 0,
       "type": "text",
       "value": "Fermentables"
      }
     },
     "7bdf6337b0df41508c59c1ab11d2dcc8": {
      "model_module": "ipysheet",
      "model_module_version": "~0.4.4",
      "model_name": "CellRangeModel",
      "state": {
       "_view_module": null,
       "_view_module_version": "",
       "column_end": 16,
       "column_start": 16,
       "row_end": 2,
       "row_start": 2,
       "style": {
        "backgroundColor": "yellow"
       },
       "type": "numeric",
       "value": 75
      }
     },
     "7be8a56a96b44e8da2120bb151d95922": {
      "model_module": "ipysheet",
      "model_module_version": "~0.4.4",
      "model_name": "CellRangeModel",
      "state": {
       "_view_module": null,
       "_view_module_version": "",
       "row_end": 18,
       "row_start": 18,
       "style": {
        "backgroundColor": "red"
       },
       "type": "numeric",
       "value": 1.08
      }
     },
     "7c04fae28c87409eab9b03315d58fe07": {
      "model_module": "ipysheet",
      "model_module_version": "~0.4.4",
      "model_name": "CellRangeModel",
      "state": {
       "_view_module": null,
       "_view_module_version": "",
       "column_end": 5,
       "column_start": 5,
       "row_end": 7,
       "row_start": 7,
       "type": "text",
       "value": "Briess - Chocolate Malt"
      }
     },
     "7c3927ac808f48cd986ebecc7695adf1": {
      "model_module": "ipysheet",
      "model_module_version": "~0.4.4",
      "model_name": "CellRangeModel",
      "state": {
       "_view_module": null,
       "_view_module_version": "",
       "column_end": 13,
       "column_start": 13,
       "row_end": 3,
       "row_start": 3,
       "type": "numeric",
       "value": 6.2
      }
     },
     "7c55ef8d7d70405b899684fc30b7fdea": {
      "model_module": "ipysheet",
      "model_module_version": "~0.4.4",
      "model_name": "CellRangeModel",
      "state": {
       "_view_module": null,
       "_view_module_version": "",
       "column_end": 3,
       "column_start": 3,
       "row_end": 8,
       "row_start": 8,
       "style": {
        "backgroundColor": "red"
       },
       "type": "numeric",
       "value": ""
      }
     },
     "7c872b0725e64c509fc20d733ed3b4bc": {
      "model_module": "ipysheet",
      "model_module_version": "~0.4.4",
      "model_name": "CellRangeModel",
      "state": {
       "_view_module": null,
       "_view_module_version": "",
       "column_end": 6,
       "column_start": 6,
       "row_end": 3,
       "row_start": 3,
       "style": {
        "backgroundColor": "yellow"
       },
       "type": "numeric",
       "value": 1
      }
     },
     "7c8f3a2c8bf14bc7baa005232412877c": {
      "model_module": "ipysheet",
      "model_module_version": "~0.4.4",
      "model_name": "CellRangeModel",
      "state": {
       "_view_module": null,
       "_view_module_version": "",
       "column_end": 15,
       "column_start": 15,
       "type": "text",
       "value": "Name"
      }
     },
     "7cdae3c917084ecc8b176efd480d2398": {
      "model_module": "ipysheet",
      "model_module_version": "~0.4.4",
      "model_name": "CellRangeModel",
      "state": {
       "_view_module": null,
       "_view_module_version": "",
       "column_end": 10,
       "column_start": 10,
       "type": "text",
       "value": "Name"
      }
     },
     "7d15ec8effb14a7cab94cfbb208dd772": {
      "model_module": "ipysheet",
      "model_module_version": "~0.4.4",
      "model_name": "CellRangeModel",
      "state": {
       "_view_module": null,
       "_view_module_version": "",
       "column_end": 12,
       "column_start": 12,
       "type": "text",
       "value": "Boil Time (min)"
      }
     },
     "7d3f21f2c83841ef98d28954368dff27": {
      "model_module": "ipysheet",
      "model_module_version": "~0.4.4",
      "model_name": "CellRangeModel",
      "state": {
       "_view_module": null,
       "_view_module_version": "",
       "column_end": 7,
       "column_start": 7,
       "row_end": 7,
       "row_start": 7,
       "type": "text",
       "value": "Mash"
      }
     },
     "7da4ec23f8ff4ee3b672135540afe6c8": {
      "model_module": "ipysheet",
      "model_module_version": "~0.4.4",
      "model_name": "CellRangeModel",
      "state": {
       "_view_module": null,
       "_view_module_version": "",
       "column_end": 5,
       "column_start": 5,
       "row_end": 0,
       "row_start": 0,
       "type": "text",
       "value": "Fermentables"
      }
     },
     "7da57e06a97b4e90bdc0b370df606bbc": {
      "model_module": "ipysheet",
      "model_module_version": "~0.4.4",
      "model_name": "CellRangeModel",
      "state": {
       "_view_module": null,
       "_view_module_version": "",
       "column_end": 3,
       "column_start": 3,
       "row_end": 9,
       "row_start": 9,
       "style": {
        "backgroundColor": "red"
       },
       "type": "numeric",
       "value": "X"
      }
     },
     "7df46c98958d476e9e2f8b5c738109ef": {
      "model_module": "ipysheet",
      "model_module_version": "~0.4.4",
      "model_name": "CellRangeModel",
      "state": {
       "_view_module": null,
       "_view_module_version": "",
       "column_end": 0,
       "column_start": 0,
       "row_end": 19,
       "row_start": 19,
       "type": "text",
       "value": "Post-boil Volume"
      }
     },
     "7e082051ff5443909fd2de9a6c3d7494": {
      "model_module": "ipysheet",
      "model_module_version": "~0.4.4",
      "model_name": "CellRangeModel",
      "state": {
       "_view_module": null,
       "_view_module_version": "",
       "column_end": 12,
       "column_start": 12,
       "row_end": 2,
       "row_start": 2,
       "style": {
        "backgroundColor": "yellow"
       },
       "type": "numeric",
       "value": 60
      }
     },
     "7e11303b98f54fd79a0de56d8205a131": {
      "model_module": "ipysheet",
      "model_module_version": "~0.4.4",
      "model_name": "CellRangeModel",
      "state": {
       "_view_module": null,
       "_view_module_version": "",
       "column_end": 5,
       "column_start": 5,
       "row_end": 5,
       "row_start": 5,
       "type": "text",
       "value": "Dry Extract (DME) - Amber"
      }
     },
     "7e235758b149443182c8b2c2357a7de5": {
      "model_module": "ipysheet",
      "model_module_version": "~0.4.4",
      "model_name": "CellRangeModel",
      "state": {
       "_view_module": null,
       "_view_module_version": "",
       "column_end": 2,
       "column_start": 2,
       "row_end": 8,
       "row_start": 8,
       "type": "text",
       "value": "25.0-40.0"
      }
     },
     "80822b5ba44a4bfe91845eadf082b5e1": {
      "model_module": "ipysheet",
      "model_module_version": "~0.4.4",
      "model_name": "CellRangeModel",
      "state": {
       "_view_module": null,
       "_view_module_version": "",
       "column_end": 6,
       "column_start": 6,
       "row_end": 2,
       "row_start": 2,
       "style": {
        "backgroundColor": "yellow"
       },
       "type": "numeric",
       "value": 0.25
      }
     },
     "80c8431567f64809acfaea01d4087d8e": {
      "model_module": "ipysheet",
      "model_module_version": "~0.4.4",
      "model_name": "CellRangeModel",
      "state": {
       "_view_module": null,
       "_view_module_version": "",
       "column_end": 0,
       "column_start": 0,
       "row_end": 7,
       "row_start": 7,
       "type": "text",
       "value": "FG"
      }
     },
     "81e88a761e8841509ca3e104d539dfd5": {
      "model_module": "ipysheet",
      "model_module_version": "~0.4.4",
      "model_name": "CellRangeModel",
      "state": {
       "_view_module": null,
       "_view_module_version": "",
       "column_end": 0,
       "column_start": 0,
       "row_end": 16,
       "row_start": 16,
       "type": "text",
       "value": "Mash Volume"
      }
     },
     "8202c982030249c083e5492107f111e8": {
      "model_module": "ipysheet",
      "model_module_version": "~0.4.4",
      "model_name": "CellRangeModel",
      "state": {
       "_view_module": null,
       "_view_module_version": "",
       "column_end": 16,
       "column_start": 16,
       "row_end": 2,
       "row_start": 2,
       "style": {
        "backgroundColor": "yellow"
       },
       "type": "numeric",
       "value": 75
      }
     },
     "832ff27f59e44bd7819519f7cab8bd3e": {
      "model_module": "ipysheet",
      "model_module_version": "~0.4.4",
      "model_name": "CellRangeModel",
      "state": {
       "_view_module": null,
       "_view_module_version": "",
       "column_end": 8,
       "column_start": 8,
       "row_end": 4,
       "row_start": 4,
       "type": "numeric",
       "value": 17
      }
     },
     "83644508e67f4969a56ef43e7695ba07": {
      "model_module": "ipysheet",
      "model_module_version": "~0.4.4",
      "model_name": "CellRangeModel",
      "state": {
       "_view_module": null,
       "_view_module_version": "",
       "column_end": 11,
       "column_start": 11,
       "row_end": 3,
       "row_start": 3,
       "style": {
        "backgroundColor": "yellow"
       },
       "type": "numeric",
       "value": 0.5
      }
     },
     "839e44b942d04bfc817526f621daeeac": {
      "model_module": "ipysheet",
      "model_module_version": "~0.4.4",
      "model_name": "CellRangeModel",
      "state": {
       "_view_module": null,
       "_view_module_version": "",
       "row_end": 6,
       "row_start": 6,
       "style": {
        "backgroundColor": "red"
       },
       "type": "numeric",
       "value": 1.058
      }
     },
     "83a74b038a704438b3373572e3fb49c5": {
      "model_module": "ipysheet",
      "model_module_version": "~0.4.4",
      "model_name": "CellRangeModel",
      "state": {
       "_view_module": null,
       "_view_module_version": "",
       "column_end": 11,
       "column_start": 11,
       "row_end": 2,
       "row_start": 2,
       "style": {
        "backgroundColor": "yellow"
       },
       "type": "numeric",
       "value": 0.75
      }
     },
     "83cd3f796f904a2090a2ee37d7cae15f": {
      "model_module": "ipysheet",
      "model_module_version": "~0.4.4",
      "model_name": "CellRangeModel",
      "state": {
       "_view_module": null,
       "_view_module_version": "",
       "column_end": 2,
       "column_start": 2,
       "row_end": 8,
       "row_start": 8,
       "type": "text",
       "value": "25.0-40.0"
      }
     },
     "83ce3bb58a644e16a67a64f3e9205817": {
      "model_module": "ipysheet",
      "model_module_version": "~0.4.4",
      "model_name": "CellRangeModel",
      "state": {
       "_view_module": null,
       "_view_module_version": "",
       "column_end": 0,
       "column_start": 0,
       "type": "text",
       "value": "Category"
      }
     },
     "844e8f2a639640f6948bdd667154137c": {
      "model_module": "ipysheet",
      "model_module_version": "~0.4.4",
      "model_name": "CellRangeModel",
      "state": {
       "_view_module": null,
       "_view_module_version": "",
       "column_end": 5,
       "column_start": 5,
       "row_end": 5,
       "row_start": 5,
       "type": "text",
       "value": "Dry Extract (DME) - Amber"
      }
     },
     "8472ea033e17466a9286d2b4fb9bc3a2": {
      "model_module": "ipysheet",
      "model_module_version": "~0.4.4",
      "model_name": "CellRangeModel",
      "state": {
       "_view_module": null,
       "_view_module_version": "",
       "column_end": 0,
       "column_start": 0,
       "row_end": 11,
       "row_start": 11,
       "type": "text",
       "value": "ABV"
      }
     },
     "84f06bc3cdc34d71967116efebb3e16d": {
      "model_module": "ipysheet",
      "model_module_version": "~0.4.4",
      "model_name": "CellRangeModel",
      "state": {
       "_view_module": null,
       "_view_module_version": "",
       "column_end": 16,
       "column_start": 16,
       "row_end": 2,
       "row_start": 2,
       "style": {
        "backgroundColor": "yellow"
       },
       "type": "numeric",
       "value": 75
      }
     },
     "8518ddd0ece2428c8fbc080403e1d735": {
      "model_module": "ipysheet",
      "model_module_version": "~0.4.4",
      "model_name": "SheetModel",
      "state": {
       "cells": [
        "IPY_MODEL_58935ff16c034a2ea384aaa976dbff15",
        "IPY_MODEL_5d95c96d6ca14d7286cc6db333550963",
        "IPY_MODEL_ac93d2c32f784564b015a57594cbaed8",
        "IPY_MODEL_25ca32773f0d47319b4eaa35f72a8622",
        "IPY_MODEL_83ce3bb58a644e16a67a64f3e9205817",
        "IPY_MODEL_dd8381a58c6445e182bfae8d12393704",
        "IPY_MODEL_70ecb3c8378e4f7097dfdccd5416f94c",
        "IPY_MODEL_e3923fcdbe1b4315b2a445bd0eec92b6",
        "IPY_MODEL_a3110718cb5c4bf7998cfc1d393fbe20",
        "IPY_MODEL_6eb9962dd11d4735abbd2518f3f5999c",
        "IPY_MODEL_34bc309f796a4f7b817a3a8fe3d52537",
        "IPY_MODEL_b317a7268fd64ae98b95fe8f14e9007f",
        "IPY_MODEL_7cdae3c917084ecc8b176efd480d2398",
        "IPY_MODEL_f5d4f74e57cb484ba988080e2165bb86",
        "IPY_MODEL_03c7cbaa6c0a41969965bff601ddc189",
        "IPY_MODEL_a85583aa5445434f9a078bfd116cfb5a",
        "IPY_MODEL_496306241bcb47e09b1a0d3d6affdb9c",
        "IPY_MODEL_c6f3eeed40f84670859354a9a8c143c3",
        "IPY_MODEL_dc245c03bbf3436286972018681d7a10",
        "IPY_MODEL_c434abbae43c4ce1bf3ef657912377fd",
        "IPY_MODEL_ea600db2fd8d4c1083c2af7af6c1bd9b",
        "IPY_MODEL_f0ac0151ba444a72b9c5195d371bda62",
        "IPY_MODEL_ff2b078989c742ce90b52df2e904f082",
        "IPY_MODEL_30ee5e70b4b5495b9eacab220c3b32ff",
        "IPY_MODEL_e0bfc993c89948258595d5b79f286536",
        "IPY_MODEL_d0b001cd0b8c4ecaa6a2bbceef974279",
        "IPY_MODEL_e0e9b7139dc4488aa1b154a420d81d20",
        "IPY_MODEL_a6503d7dcdfc46fdabfa200f63b99566",
        "IPY_MODEL_76f98b50a2294e87a486bca5d4a3c986",
        "IPY_MODEL_0a7af10a7aa14df8a43b21a6b2cf52fb",
        "IPY_MODEL_6f9678318659453da159fc065eee7fab",
        "IPY_MODEL_56c2c554ee584a5ca970c7f8bbb06e29",
        "IPY_MODEL_81e88a761e8841509ca3e104d539dfd5",
        "IPY_MODEL_ae124b0e040d4a6486daa73ae532d632",
        "IPY_MODEL_e6c6eace601a49e7a6f3297d732bc751",
        "IPY_MODEL_cd842ebeda1c49cea2e2f0694504478a",
        "IPY_MODEL_74d80e956bc4499090f6d12e6bb2291d",
        "IPY_MODEL_3bae89511b934cf5b1cc5aa186a8e589",
        "IPY_MODEL_254e7719faaf44289b97f0be5f315590",
        "IPY_MODEL_75ae25105eae469eb0bca26e14219a17",
        "IPY_MODEL_c8749572f3af406681624853cbad203c",
        "IPY_MODEL_2898b4c0639d432b8cc8299536d03e83",
        "IPY_MODEL_e09daafaf27f43d2ab7791932268f032",
        "IPY_MODEL_c891f3f9196f43eda5a9aee31b9e86e6",
        "IPY_MODEL_9b04abf9eb2a44fc820d926dff056900",
        "IPY_MODEL_ece4163e474b4fa6b8947627d2bf24f5",
        "IPY_MODEL_aede13e8982847f2a51f2c1f85ffe6d6",
        "IPY_MODEL_86c5567a8f664f53b2ce8b09dfef532a",
        "IPY_MODEL_336d5d6b40ad4a79b62678d02c0ca466",
        "IPY_MODEL_9eecdf97f3fd4df4a04d99463ed43dcb",
        "IPY_MODEL_d771ddba2ec44bb39857c5406939624a",
        "IPY_MODEL_66049c6d1f854502a7fdd031a2a98120",
        "IPY_MODEL_43c4151344e2447289808a4b6e5cccc7",
        "IPY_MODEL_47e47da650524476bc8812930cd63d58",
        "IPY_MODEL_39296edc55f449bda495b4ad69cd1e92",
        "IPY_MODEL_ebc20ecacb8b4e9ea967cd0f87c9b0fe",
        "IPY_MODEL_a622ec46c6474c539428b56a12f9d0cc",
        "IPY_MODEL_7c04fae28c87409eab9b03315d58fe07",
        "IPY_MODEL_88cd02a389c04ca1b3723313ee04acef",
        "IPY_MODEL_51c22658eef247c19c18438c85029fee",
        "IPY_MODEL_cf76e3ebcc3a4f30ab9b58fd185d9cb3",
        "IPY_MODEL_3317464120654cd4a87f6ca102b041e2",
        "IPY_MODEL_a6598c11435b45fcaa7bbfca9f02e3fd",
        "IPY_MODEL_7e082051ff5443909fd2de9a6c3d7494",
        "IPY_MODEL_47a4789566c746538f8aa6d9b06da53f",
        "IPY_MODEL_493f0a6c5404481ab356b4d02610f248",
        "IPY_MODEL_59111b302d00422b8183a6da2629e0e8",
        "IPY_MODEL_3b10a790d2414382a68e7beebbc58bb2",
        "IPY_MODEL_892b9346fdd449bba32a64ddb9081bf9",
        "IPY_MODEL_e3e0e3d124614c6bb81546db6824eb29",
        "IPY_MODEL_7bdf6337b0df41508c59c1ab11d2dcc8",
        "IPY_MODEL_d06e42b723f84407a40251c2acdd397f",
        "IPY_MODEL_76c171736c034fa7b820edcb707a1705",
        "IPY_MODEL_221630080f7b42339e81e17f618c8449",
        "IPY_MODEL_5788150224aa41918e7e00caa8299827",
        "IPY_MODEL_13c28cf5d09e4b0685f10790dfce3c69",
        "IPY_MODEL_89ac2b1f64474dbfa21707010eca58c8",
        "IPY_MODEL_7385e75bdb4c448c84ffd2246c46da01",
        "IPY_MODEL_5816feff301a426b9bfed27a011dd533",
        "IPY_MODEL_dabc5f4ef98c4df7842f3edd0ced0fe7",
        "IPY_MODEL_5ad616ac37374c0aabb4b3e7b01fd067",
        "IPY_MODEL_5aa9debd8197453585ca32bb4fc23675",
        "IPY_MODEL_aeb9425396bb4c069991743626993c4c",
        "IPY_MODEL_89d84f86884d40a1bfd0e91f639b0344",
        "IPY_MODEL_055d3c28841d4f5d8fdd38bae414a5ea",
        "IPY_MODEL_476a9c509c6b44e9b77fb51958779e90",
        "IPY_MODEL_905eafe7b0314a35a28524d188dc420d",
        "IPY_MODEL_a2aac10e8f24448381b4c4c90c938d50",
        "IPY_MODEL_893c1b9eb6f047e19903be2844e0c26c",
        "IPY_MODEL_728caacedc5d41988dd02911d8f4fb1a",
        "IPY_MODEL_c7f00b399d2a45e894a7ca114f823eff",
        "IPY_MODEL_7e235758b149443182c8b2c2357a7de5",
        "IPY_MODEL_35a755263b2843f1868c9706a9bf6bb2",
        "IPY_MODEL_695c7589e0774ab2a7d6f3628f62c8a4",
        "IPY_MODEL_4f8e9a427bd74b10b7de1f53f9f087e0",
        "IPY_MODEL_724f464882cd4a7284ad4145e1ddb7aa",
        "IPY_MODEL_ad1d3941f958437f83c0c58bdc4b9869",
        "IPY_MODEL_e06eb69b09ab4bf88021fae6b9794cd7",
        "IPY_MODEL_ca3d44c0a9f14097b00d4462a995b5e0"
       ],
       "columns": 20,
       "layout": "IPY_MODEL_b61571bb02924398b78bb71e8c5dd0b3",
       "rows": 21
      }
     },
     "8549a3d856e84d79a564452c985cad0d": {
      "model_module": "ipysheet",
      "model_module_version": "~0.4.4",
      "model_name": "CellRangeModel",
      "state": {
       "_view_module": null,
       "_view_module_version": "",
       "column_end": 15,
       "column_start": 15,
       "row_end": 2,
       "row_start": 2,
       "type": "text",
       "value": "Safale S-04"
      }
     },
     "857e8a4a0f8141f4ab7870c132a1ea1f": {
      "model_module": "ipysheet",
      "model_module_version": "~0.4.4",
      "model_name": "CellRangeModel",
      "state": {
       "_view_module": null,
       "_view_module_version": "",
       "row_end": 18,
       "row_start": 18,
       "style": {
        "backgroundColor": "red"
       },
       "type": "numeric",
       "value": 1.083
      }
     },
     "867f5fd297204379810166680c8e9712": {
      "model_module": "ipysheet",
      "model_module_version": "~0.4.4",
      "model_name": "CellRangeModel",
      "state": {
       "_view_module": null,
       "_view_module_version": "",
       "column_end": 15,
       "column_start": 15,
       "row_end": 0,
       "row_start": 0,
       "type": "text",
       "value": "Yeast"
      }
     },
     "86baf1e9a88d403b9b70f1f81c447944": {
      "model_module": "ipysheet",
      "model_module_version": "~0.4.4",
      "model_name": "CellRangeModel",
      "state": {
       "_view_module": null,
       "_view_module_version": "",
       "column_end": 0,
       "column_start": 0,
       "row_end": 7,
       "row_start": 7,
       "type": "text",
       "value": "FG"
      }
     },
     "86c5567a8f664f53b2ce8b09dfef532a": {
      "model_module": "ipysheet",
      "model_module_version": "~0.4.4",
      "model_name": "CellRangeModel",
      "state": {
       "_view_module": null,
       "_view_module_version": "",
       "column_end": 7,
       "column_start": 7,
       "row_end": 4,
       "row_start": 4,
       "type": "text",
       "value": "Extract"
      }
     },
     "874fd9e8a07b4b64b578f678ec5397dd": {
      "model_module": "ipysheet",
      "model_module_version": "~0.4.4",
      "model_name": "CellRangeModel",
      "state": {
       "_view_module": null,
       "_view_module_version": "",
       "row_end": 20,
       "row_start": 20,
       "style": {
        "backgroundColor": "red"
       },
       "type": "numeric",
       "value": 1.118
      }
     },
     "8771e8e612cd4d9289948f1114bec4ac": {
      "model_module": "ipysheet",
      "model_module_version": "~0.4.4",
      "model_name": "CellRangeModel",
      "state": {
       "_view_module": null,
       "_view_module_version": "",
       "column_end": 0,
       "column_start": 0,
       "row_end": 10,
       "row_start": 10,
       "type": "text",
       "value": "Efficiency"
      }
     },
     "8849fdfbb8cb4dd0a1cba3c76cba4619": {
      "model_module": "ipysheet",
      "model_module_version": "~0.4.4",
      "model_name": "CellRangeModel",
      "state": {
       "_view_module": null,
       "_view_module_version": "",
       "column_end": 10,
       "column_start": 10,
       "row_end": 0,
       "row_start": 0,
       "type": "text",
       "value": "Hops"
      }
     },
     "885032d4f1f84f80b097810ff235e968": {
      "model_module": "ipysheet",
      "model_module_version": "~0.4.4",
      "model_name": "CellRangeModel",
      "state": {
       "_view_module": null,
       "_view_module_version": "",
       "column_end": 7,
       "column_start": 7,
       "row_end": 4,
       "row_start": 4,
       "type": "text",
       "value": "Extract"
      }
     },
     "88cd02a389c04ca1b3723313ee04acef": {
      "model_module": "ipysheet",
      "model_module_version": "~0.4.4",
      "model_name": "CellRangeModel",
      "state": {
       "_view_module": null,
       "_view_module_version": "",
       "column_end": 6,
       "column_start": 6,
       "row_end": 7,
       "row_start": 7,
       "style": {
        "backgroundColor": "yellow"
       },
       "type": "numeric",
       "value": 0.25
      }
     },
     "88edb47d7e2546e1bd7a4f599ebcdf5b": {
      "model_module": "ipysheet",
      "model_module_version": "~0.4.4",
      "model_name": "CellRangeModel",
      "state": {
       "_view_module": null,
       "_view_module_version": "",
       "column_end": 0,
       "column_start": 0,
       "row_end": 9,
       "row_start": 9,
       "type": "text",
       "value": "Color"
      }
     },
     "88fe6ca7332e469db17dc1e15f5d5f2b": {
      "model_module": "ipysheet",
      "model_module_version": "~0.4.4",
      "model_name": "CellRangeModel",
      "state": {
       "_view_module": null,
       "_view_module_version": "",
       "column_end": 15,
       "column_start": 15,
       "type": "text",
       "value": "Name"
      }
     },
     "89160d23a2dd4567b3a2c93e1ccb6eec": {
      "model_module": "@jupyter-widgets/controls",
      "model_module_version": "1.5.0",
      "model_name": "TextModel",
      "state": {
       "description": "fermentable:",
       "layout": "IPY_MODEL_0f32e140bfb142b2add3e12b816cc90c",
       "placeholder": "Type something",
       "style": "IPY_MODEL_edbcab02866c4af197b71a3e46797d4a",
       "value": "honey"
      }
     },
     "892b9346fdd449bba32a64ddb9081bf9": {
      "model_module": "ipysheet",
      "model_module_version": "~0.4.4",
      "model_name": "CellRangeModel",
      "state": {
       "_view_module": null,
       "_view_module_version": "",
       "column_end": 13,
       "column_start": 13,
       "row_end": 3,
       "row_start": 3,
       "type": "numeric",
       "value": 6.4
      }
     },
     "893c1b9eb6f047e19903be2844e0c26c": {
      "model_module": "ipysheet",
      "model_module_version": "~0.4.4",
      "model_name": "CellRangeModel",
      "state": {
       "_view_module": null,
       "_view_module_version": "",
       "row_end": 20,
       "row_start": 20,
       "style": {
        "backgroundColor": "red"
       },
       "type": "numeric",
       "value": 1.136
      }
     },
     "89ac2b1f64474dbfa21707010eca58c8": {
      "model_module": "ipysheet",
      "model_module_version": "~0.4.4",
      "model_name": "CellRangeModel",
      "state": {
       "_view_module": null,
       "_view_module_version": "",
       "row_end": 4,
       "row_start": 4,
       "style": {
        "backgroundColor": "yellow"
       },
       "type": "numeric",
       "value": 60
      }
     },
     "89d717f2ac534907989b81a6b4d940d3": {
      "model_module": "ipysheet",
      "model_module_version": "~0.4.4",
      "model_name": "CellRangeModel",
      "state": {
       "_view_module": null,
       "_view_module_version": "",
       "row_end": 8,
       "row_start": 8,
       "style": {
        "backgroundColor": "red"
       },
       "type": "numeric",
       "value": 25.7
      }
     },
     "89d84f86884d40a1bfd0e91f639b0344": {
      "model_module": "ipysheet",
      "model_module_version": "~0.4.4",
      "model_name": "CellRangeModel",
      "state": {
       "_view_module": null,
       "_view_module_version": "",
       "row_end": 11,
       "row_start": 11,
       "style": {
        "backgroundColor": "red"
       },
       "type": "numeric",
       "value": 5.38
      }
     },
     "89eb1d155d524b73b2dffd01f91d175c": {
      "model_module": "ipysheet",
      "model_module_version": "~0.4.4",
      "model_name": "CellRangeModel",
      "state": {
       "_view_module": null,
       "_view_module_version": "",
       "column_end": 11,
       "column_start": 11,
       "type": "text",
       "value": "Amount (oz)"
      }
     },
     "8aa66e1865e64c78a082ff5794e96750": {
      "model_module": "@jupyter-widgets/controls",
      "model_module_version": "1.5.0",
      "model_name": "VBoxModel",
      "state": {
       "_dom_classes": [
        "widget-interact"
       ],
       "children": [
        "IPY_MODEL_303ef8ba12fd415fbf4b93be9b5e9d67",
        "IPY_MODEL_3c3c54dda55543b1872ec68afaa18973"
       ],
       "layout": "IPY_MODEL_dfd0229b288d4ebb8d6cb0ca147e667b"
      }
     },
     "8adccd89aa98495b9796ca2498d1e4d9": {
      "model_module": "ipysheet",
      "model_module_version": "~0.4.4",
      "model_name": "CellRangeModel",
      "state": {
       "_view_module": null,
       "_view_module_version": "",
       "column_end": 2,
       "column_start": 2,
       "type": "text",
       "value": "Style Min-Max"
      }
     },
     "8b43ee9b26f54c758cc35df608de2741": {
      "model_module": "@jupyter-widgets/controls",
      "model_module_version": "1.5.0",
      "model_name": "VBoxModel",
      "state": {
       "_dom_classes": [
        "widget-interact"
       ],
       "children": [
        "IPY_MODEL_c1bd748190774e3f9eef1ad7d01fe6ec",
        "IPY_MODEL_34b2d704760d49c096691dfefae229dc"
       ],
       "layout": "IPY_MODEL_f670c8f5e59a4ded9ca3ee805f7668c7"
      }
     },
     "8b6658db64d7495e898607d7623ebbf3": {
      "model_module": "ipysheet",
      "model_module_version": "~0.4.4",
      "model_name": "CellRangeModel",
      "state": {
       "_view_module": null,
       "_view_module_version": "",
       "row_end": 10,
       "row_start": 10,
       "style": {
        "backgroundColor": "yellow"
       },
       "type": "numeric",
       "value": 55
      }
     },
     "8bc032420bc24756bac45c961b103b4a": {
      "model_module": "ipysheet",
      "model_module_version": "~0.4.4",
      "model_name": "CellRangeModel",
      "state": {
       "_view_module": null,
       "_view_module_version": "",
       "column_end": 7,
       "column_start": 7,
       "row_end": 4,
       "row_start": 4,
       "type": "text",
       "value": "Extract"
      }
     },
     "8c296bde3589409983321eb041fb8ea8": {
      "model_module": "ipysheet",
      "model_module_version": "~0.4.4",
      "model_name": "CellRangeModel",
      "state": {
       "_view_module": null,
       "_view_module_version": "",
       "column_end": 8,
       "column_start": 8,
       "row_end": 5,
       "row_start": 5,
       "type": "numeric",
       "value": 17
      }
     },
     "8c38a6e47a1742e996e37f3ca58d9122": {
      "model_module": "ipysheet",
      "model_module_version": "~0.4.4",
      "model_name": "CellRangeModel",
      "state": {
       "_view_module": null,
       "_view_module_version": "",
       "column_end": 0,
       "column_start": 0,
       "row_end": 18,
       "row_start": 18,
       "type": "text",
       "value": "Pre-boil Gravity"
      }
     },
     "8ca35fc601dd46c69ff1bd293d5335f7": {
      "model_module": "ipysheet",
      "model_module_version": "~0.4.4",
      "model_name": "CellRangeModel",
      "state": {
       "_view_module": null,
       "_view_module_version": "",
       "column_end": 0,
       "column_start": 0,
       "row_end": 19,
       "row_start": 19,
       "type": "text",
       "value": "Post-boil Volume"
      }
     },
     "8d11f39d521e432f918ce285255234bd": {
      "model_module": "ipysheet",
      "model_module_version": "~0.4.4",
      "model_name": "CellRangeModel",
      "state": {
       "_view_module": null,
       "_view_module_version": "",
       "column_end": 8,
       "column_start": 8,
       "row_end": 3,
       "row_start": 3,
       "type": "numeric",
       "value": 7
      }
     },
     "8d164e4addd74dbe8b1d892ad1145bf6": {
      "model_module": "ipysheet",
      "model_module_version": "~0.4.4",
      "model_name": "CellRangeModel",
      "state": {
       "_view_module": null,
       "_view_module_version": "",
       "column_end": 10,
       "column_start": 10,
       "type": "text",
       "value": "Name"
      }
     },
     "8d8acdb99be24bb592c97b775aa47bc0": {
      "model_module": "ipysheet",
      "model_module_version": "~0.4.4",
      "model_name": "CellRangeModel",
      "state": {
       "_view_module": null,
       "_view_module_version": "",
       "column_end": 0,
       "column_start": 0,
       "row_end": 2,
       "row_start": 2,
       "type": "text",
       "value": "Batch Size"
      }
     },
     "8dded89b2d6a407da15274f3419add65": {
      "model_module": "ipysheet",
      "model_module_version": "~0.4.4",
      "model_name": "CellRangeModel",
      "state": {
       "_view_module": null,
       "_view_module_version": "",
       "column_end": 5,
       "column_start": 5,
       "row_end": 3,
       "row_start": 3,
       "type": "text",
       "value": "Oats, Flaked"
      }
     },
     "8e04a7675ddb453a8b471d2a1d920a78": {
      "model_module": "ipysheet",
      "model_module_version": "~0.4.4",
      "model_name": "CellRangeModel",
      "state": {
       "_view_module": null,
       "_view_module_version": "",
       "column_end": 7,
       "column_start": 7,
       "row_end": 4,
       "row_start": 4,
       "type": "text",
       "value": "Extract"
      }
     },
     "8eda2e9d781e47c4bdde6f4648d9a106": {
      "model_module": "ipysheet",
      "model_module_version": "~0.4.4",
      "model_name": "CellRangeModel",
      "state": {
       "_view_module": null,
       "_view_module_version": "",
       "row_end": 10,
       "row_start": 10,
       "style": {
        "backgroundColor": "yellow"
       },
       "type": "numeric",
       "value": 55
      }
     },
     "8eddb1fe65eb4ecfb96baac60aa7781a": {
      "model_module": "ipysheet",
      "model_module_version": "~0.4.4",
      "model_name": "CellRangeModel",
      "state": {
       "_view_module": null,
       "_view_module_version": "",
       "row_end": 9,
       "row_start": 9,
       "style": {
        "backgroundColor": "red"
       },
       "type": "numeric",
       "value": 33.9
      }
     },
     "8f15cf18001944ea9a0dab91960fb075": {
      "model_module": "ipysheet",
      "model_module_version": "~0.4.4",
      "model_name": "CellRangeModel",
      "state": {
       "_view_module": null,
       "_view_module_version": "",
       "column_end": 11,
       "column_start": 11,
       "type": "text",
       "value": "Amount (oz)"
      }
     },
     "8f57d4f536cd44a0b9ff2115daca7503": {
      "model_module": "ipysheet",
      "model_module_version": "~0.4.4",
      "model_name": "CellRangeModel",
      "state": {
       "_view_module": null,
       "_view_module_version": "",
       "column_end": 8,
       "column_start": 8,
       "row_end": 7,
       "row_start": 7,
       "type": "numeric",
       "value": 3
      }
     },
     "8f6fe74dde594aab80db7bdd192e4058": {
      "model_module": "ipysheet",
      "model_module_version": "~0.4.4",
      "model_name": "CellRangeModel",
      "state": {
       "_view_module": null,
       "_view_module_version": "",
       "column_end": 2,
       "column_start": 2,
       "row_end": 7,
       "row_start": 7,
       "type": "text",
       "value": "1.01-1.018"
      }
     },
     "8fa5255999c44aac8004c241e69b72b5": {
      "model_module": "@jupyter-widgets/base",
      "model_module_version": "1.2.0",
      "model_name": "LayoutModel",
      "state": {
       "height": "auto",
       "width": "auto"
      }
     },
     "8fccadbf808d4f8680bea4b5d7c1633f": {
      "model_module": "@jupyter-widgets/controls",
      "model_module_version": "1.5.0",
      "model_name": "TextModel",
      "state": {
       "description": "fermentable:",
       "layout": "IPY_MODEL_7632a20428a546e78809308f7f8ea287",
       "placeholder": "Type something",
       "style": "IPY_MODEL_d40439ea289e417b9410b498ebc0f245",
       "value": "black"
      }
     },
     "90153b3ff9a84ae091c50fc39bd73789": {
      "model_module": "ipysheet",
      "model_module_version": "~0.4.4",
      "model_name": "CellRangeModel",
      "state": {
       "_view_module": null,
       "_view_module_version": "",
       "column_end": 0,
       "column_start": 0,
       "row_end": 6,
       "row_start": 6,
       "type": "text",
       "value": "OG"
      }
     },
     "903fb7884c664cc99370aa5316527d95": {
      "model_module": "ipysheet",
      "model_module_version": "~0.4.4",
      "model_name": "CellRangeModel",
      "state": {
       "_view_module": null,
       "_view_module_version": "",
       "column_end": 8,
       "column_start": 8,
       "type": "text",
       "value": "GU Contribution"
      }
     },
     "905eafe7b0314a35a28524d188dc420d": {
      "model_module": "ipysheet",
      "model_module_version": "~0.4.4",
      "model_name": "CellRangeModel",
      "state": {
       "_view_module": null,
       "_view_module_version": "",
       "row_end": 18,
       "row_start": 18,
       "style": {
        "backgroundColor": "red"
       },
       "type": "numeric",
       "value": 1.078
      }
     },
     "90c434e7d78d4ab9a90c0098e67ca601": {
      "model_module": "ipysheet",
      "model_module_version": "~0.4.4",
      "model_name": "CellRangeModel",
      "state": {
       "_view_module": null,
       "_view_module_version": "",
       "column_end": 16,
       "column_start": 16,
       "type": "text",
       "value": "Attenuation (listed)"
      }
     },
     "9115d424aa4748a382a8a1d963d2ee88": {
      "model_module": "ipysheet",
      "model_module_version": "~0.4.4",
      "model_name": "CellRangeModel",
      "state": {
       "_view_module": null,
       "_view_module_version": "",
       "column_end": 0,
       "column_start": 0,
       "row_end": 18,
       "row_start": 18,
       "type": "text",
       "value": "Pre-boil Gravity"
      }
     },
     "915b2884319f42c98fd4794b184479bf": {
      "model_module": "ipysheet",
      "model_module_version": "~0.4.4",
      "model_name": "CellRangeModel",
      "state": {
       "_view_module": null,
       "_view_module_version": "",
       "row_end": 16,
       "row_start": 16,
       "style": {
        "backgroundColor": "yellow"
       },
       "type": "numeric",
       "value": 1.5
      }
     },
     "91b241a5a1b94fb38fb6f5058a5299ba": {
      "model_module": "ipysheet",
      "model_module_version": "~0.4.4",
      "model_name": "CellRangeModel",
      "state": {
       "_view_module": null,
       "_view_module_version": "",
       "column_end": 0,
       "column_start": 0,
       "row_end": 0,
       "row_start": 0,
       "type": "text",
       "value": "Summary"
      }
     },
     "91d514bf48e14b7db49bfb5168b767d5": {
      "model_module": "ipysheet",
      "model_module_version": "~0.4.4",
      "model_name": "CellRangeModel",
      "state": {
       "_view_module": null,
       "_view_module_version": "",
       "row_end": 19,
       "row_start": 19,
       "style": {
        "backgroundColor": "red"
       },
       "type": "numeric",
       "value": 1
      }
     },
     "91fa2ddbd61c47278b042ef07688075d": {
      "model_module": "ipysheet",
      "model_module_version": "~0.4.4",
      "model_name": "CellRangeModel",
      "state": {
       "_view_module": null,
       "_view_module_version": "",
       "column_end": 7,
       "column_start": 7,
       "row_end": 5,
       "row_start": 5,
       "type": "text",
       "value": "Extract"
      }
     },
     "924b1eca4ac4445d9f03cf2f5ec90b55": {
      "model_module": "ipysheet",
      "model_module_version": "~0.4.4",
      "model_name": "CellRangeModel",
      "state": {
       "_view_module": null,
       "_view_module_version": "",
       "column_end": 6,
       "column_start": 6,
       "row_end": 7,
       "row_start": 7,
       "style": {
        "backgroundColor": "yellow"
       },
       "type": "numeric",
       "value": 0.25
      }
     },
     "929ed722490941ff932f8e6e36ec4982": {
      "model_module": "ipysheet",
      "model_module_version": "~0.4.4",
      "model_name": "CellRangeModel",
      "state": {
       "_view_module": null,
       "_view_module_version": "",
       "column_end": 5,
       "column_start": 5,
       "row_end": 7,
       "row_start": 7,
       "type": "text",
       "value": "Briess - Chocolate Malt"
      }
     },
     "931cf84ef46240bab8b695c577b1ec85": {
      "model_module": "ipysheet",
      "model_module_version": "~0.4.4",
      "model_name": "CellRangeModel",
      "state": {
       "_view_module": null,
       "_view_module_version": "",
       "column_end": 7,
       "column_start": 7,
       "row_end": 7,
       "row_start": 7,
       "type": "text",
       "value": "Mash"
      }
     },
     "9320db35c77949fcbe68cae5553b2baa": {
      "model_module": "ipysheet",
      "model_module_version": "~0.4.4",
      "model_name": "CellRangeModel",
      "state": {
       "_view_module": null,
       "_view_module_version": "",
       "column_end": 8,
       "column_start": 8,
       "row_end": 6,
       "row_start": 6,
       "type": "numeric",
       "value": 10
      }
     },
     "9351cd4fb60d45afbdd700b22f965a66": {
      "model_module": "ipysheet",
      "model_module_version": "~0.4.4",
      "model_name": "CellRangeModel",
      "state": {
       "_view_module": null,
       "_view_module_version": "",
       "column_end": 5,
       "column_start": 5,
       "row_end": 6,
       "row_start": 6,
       "type": "text",
       "value": "Briess - 6 Row Brewers Malt"
      }
     },
     "95ca0aefe55340babc14fb22c5b2d45e": {
      "model_module": "ipysheet",
      "model_module_version": "~0.4.4",
      "model_name": "CellRangeModel",
      "state": {
       "_view_module": null,
       "_view_module_version": "",
       "column_end": 0,
       "column_start": 0,
       "type": "text",
       "value": "Category"
      }
     },
     "95e0d33d79ad42ffa7afa138f0d8ceee": {
      "model_module": "ipysheet",
      "model_module_version": "~0.4.4",
      "model_name": "CellRangeModel",
      "state": {
       "_view_module": null,
       "_view_module_version": "",
       "column_end": 0,
       "column_start": 0,
       "row_end": 10,
       "row_start": 10,
       "type": "text",
       "value": "Efficiency"
      }
     },
     "97ac5204312441dbb15e6e387359c6f1": {
      "model_module": "ipysheet",
      "model_module_version": "~0.4.4",
      "model_name": "CellRangeModel",
      "state": {
       "_view_module": null,
       "_view_module_version": "",
       "column_end": 5,
       "column_start": 5,
       "row_end": 7,
       "row_start": 7,
       "type": "text",
       "value": "Briess - Chocolate Malt"
      }
     },
     "9819d255cf31427b951d72bf35bc723b": {
      "model_module": "ipysheet",
      "model_module_version": "~0.4.4",
      "model_name": "CellRangeModel",
      "state": {
       "_view_module": null,
       "_view_module_version": "",
       "row_end": 17,
       "row_start": 17,
       "style": {
        "backgroundColor": "red"
       },
       "type": "numeric",
       "value": 1.049
      }
     },
     "984e5d5e5c714d53ba90330e971bef07": {
      "model_module": "ipysheet",
      "model_module_version": "~0.4.4",
      "model_name": "CellRangeModel",
      "state": {
       "_view_module": null,
       "_view_module_version": "",
       "column_end": 0,
       "column_start": 0,
       "row_end": 20,
       "row_start": 20,
       "type": "text",
       "value": "Post-boil Gravity"
      }
     },
     "98612c6650694e1dba754597b9878ee5": {
      "model_module": "ipysheet",
      "model_module_version": "~0.4.4",
      "model_name": "CellRangeModel",
      "state": {
       "_view_module": null,
       "_view_module_version": "",
       "column_end": 13,
       "column_start": 13,
       "type": "text",
       "value": "IBU"
      }
     },
     "986a33d0b5634af394daa7c26ad8209d": {
      "model_module": "ipysheet",
      "model_module_version": "~0.4.4",
      "model_name": "CellRangeModel",
      "state": {
       "_view_module": null,
       "_view_module_version": "",
       "column_end": 19,
       "column_start": 19,
       "type": "text",
       "value": "Max Temp (F)"
      }
     },
     "99d631d73fde4da381bb2bf99ca498cf": {
      "model_module": "ipysheet",
      "model_module_version": "~0.4.4",
      "model_name": "CellRangeModel",
      "state": {
       "_view_module": null,
       "_view_module_version": "",
       "row_end": 3,
       "row_start": 3,
       "style": {
        "backgroundColor": "yellow"
       },
       "type": "numeric",
       "value": 1.75
      }
     },
     "99daed0db05d4e468d82eb5b3b42171c": {
      "model_module": "@jupyter-widgets/output",
      "model_module_version": "1.0.0",
      "model_name": "OutputModel",
      "state": {
       "layout": "IPY_MODEL_a09c05e0a38e427d87fe1f1c35eabefd",
       "outputs": [
        {
         "data": {
          "text/html": "<div>\n<style scoped>\n    .dataframe tbody tr th:only-of-type {\n        vertical-align: middle;\n    }\n\n    .dataframe tbody tr th {\n        vertical-align: top;\n    }\n\n    .dataframe thead th {\n        text-align: right;\n    }\n</style>\n<table border=\"1\" class=\"dataframe\">\n  <thead>\n    <tr style=\"text-align: right;\">\n      <th></th>\n      <th>id</th>\n      <th>name</th>\n      <th>ftype</th>\n      <th>amount</th>\n      <th>yield</th>\n      <th>color</th>\n      <th>add_after_boil</th>\n      <th>origin</th>\n      <th>supplier</th>\n      <th>notes</th>\n      <th>...</th>\n      <th>max_in_batch</th>\n      <th>recommend_mash</th>\n      <th>is_mashed</th>\n      <th>ibu_gal_per_lb</th>\n      <th>display_unit</th>\n      <th>display_scale</th>\n      <th>deleted</th>\n      <th>display</th>\n      <th>folder</th>\n      <th>inventory_id</th>\n    </tr>\n  </thead>\n  <tbody>\n    <tr>\n      <th>8</th>\n      <td>9</td>\n      <td>Black (Patent) Malt</td>\n      <td>Grain</td>\n      <td>0.000000</td>\n      <td>55.0</td>\n      <td>500.0</td>\n      <td>false</td>\n      <td>US</td>\n      <td></td>\n      <td>The darkest of all malts, use sparingly to add...</td>\n      <td>...</td>\n      <td>10.0</td>\n      <td>false</td>\n      <td>false</td>\n      <td>0.0</td>\n      <td>-1</td>\n      <td>-1</td>\n      <td>0</td>\n      <td>1</td>\n      <td></td>\n      <td>9</td>\n    </tr>\n    <tr>\n      <th>9</th>\n      <td>10</td>\n      <td>Black Barley (Roast Barley)</td>\n      <td>Grain</td>\n      <td>0.000000</td>\n      <td>55.0</td>\n      <td>500.0</td>\n      <td>false</td>\n      <td>US</td>\n      <td></td>\n      <td>Use 10 to 12% to impart a distinct, roasted fl...</td>\n      <td>...</td>\n      <td>10.0</td>\n      <td>false</td>\n      <td>false</td>\n      <td>0.0</td>\n      <td>-1</td>\n      <td>-1</td>\n      <td>0</td>\n      <td>1</td>\n      <td></td>\n      <td>10</td>\n    </tr>\n    <tr>\n      <th>15</th>\n      <td>16</td>\n      <td>Briess - Black Barley</td>\n      <td>Grain</td>\n      <td>0.000000</td>\n      <td>55.0</td>\n      <td>500.0</td>\n      <td>false</td>\n      <td>US</td>\n      <td>Briess</td>\n      <td>Contributes color and rich, sharp flavor chara...</td>\n      <td>...</td>\n      <td>7.0</td>\n      <td>false</td>\n      <td>false</td>\n      <td>0.0</td>\n      <td>-1</td>\n      <td>-1</td>\n      <td>0</td>\n      <td>1</td>\n      <td></td>\n      <td>16</td>\n    </tr>\n    <tr>\n      <th>16</th>\n      <td>17</td>\n      <td>Briess - Black Malt</td>\n      <td>Grain</td>\n      <td>0.000000</td>\n      <td>55.0</td>\n      <td>500.0</td>\n      <td>false</td>\n      <td>US</td>\n      <td>Briess</td>\n      <td>Color adjustment for all beer styles. Use with...</td>\n      <td>...</td>\n      <td>10.0</td>\n      <td>false</td>\n      <td>false</td>\n      <td>0.0</td>\n      <td>-1</td>\n      <td>-1</td>\n      <td>0</td>\n      <td>1</td>\n      <td></td>\n      <td>17</td>\n    </tr>\n    <tr>\n      <th>17</th>\n      <td>18</td>\n      <td>Briess - Black Malted Barley Flour</td>\n      <td>Grain</td>\n      <td>0.000000</td>\n      <td>55.0</td>\n      <td>500.0</td>\n      <td>false</td>\n      <td>US</td>\n      <td>Briess</td>\n      <td>Color adjustment for all beer styles.</td>\n      <td>...</td>\n      <td>10.0</td>\n      <td>false</td>\n      <td>false</td>\n      <td>0.0</td>\n      <td>-1</td>\n      <td>-1</td>\n      <td>0</td>\n      <td>1</td>\n      <td></td>\n      <td>18</td>\n    </tr>\n    <tr>\n      <th>18</th>\n      <td>19</td>\n      <td>Briess - Blackprinz Malt</td>\n      <td>Grain</td>\n      <td>0.000000</td>\n      <td>78.0</td>\n      <td>500.0</td>\n      <td>false</td>\n      <td>US</td>\n      <td>Briess</td>\n      <td>Bitterless black malt that can be used in any ...</td>\n      <td>...</td>\n      <td>10.0</td>\n      <td>false</td>\n      <td>false</td>\n      <td>0.0</td>\n      <td>-1</td>\n      <td>-1</td>\n      <td>0</td>\n      <td>1</td>\n      <td></td>\n      <td>19</td>\n    </tr>\n    <tr>\n      <th>41</th>\n      <td>42</td>\n      <td>Briess DME - Maltoferm A-6001 (Black Malt Extr...</td>\n      <td>Dry Extract</td>\n      <td>0.000000</td>\n      <td>95.0</td>\n      <td>500.0</td>\n      <td>false</td>\n      <td>US</td>\n      <td></td>\n      <td></td>\n      <td>...</td>\n      <td>100.0</td>\n      <td>false</td>\n      <td>false</td>\n      <td>0.0</td>\n      <td>-1</td>\n      <td>-1</td>\n      <td>0</td>\n      <td>1</td>\n      <td></td>\n      <td>42</td>\n    </tr>\n    <tr>\n      <th>46</th>\n      <td>47</td>\n      <td>Briess LME - Maltoferm A-6000 (Black Malt Extr...</td>\n      <td>Extract</td>\n      <td>0.000000</td>\n      <td>78.0</td>\n      <td>500.0</td>\n      <td>false</td>\n      <td>US</td>\n      <td></td>\n      <td></td>\n      <td>...</td>\n      <td>100.0</td>\n      <td>false</td>\n      <td>false</td>\n      <td>0.0</td>\n      <td>-1</td>\n      <td>-1</td>\n      <td>0</td>\n      <td>1</td>\n      <td></td>\n      <td>47</td>\n    </tr>\n    <tr>\n      <th>145</th>\n      <td>146</td>\n      <td>Simpsons - Black Malt</td>\n      <td>Grain</td>\n      <td>0.000000</td>\n      <td>70.0</td>\n      <td>550.0</td>\n      <td>false</td>\n      <td>UK</td>\n      <td></td>\n      <td></td>\n      <td>...</td>\n      <td>10.0</td>\n      <td>true</td>\n      <td>false</td>\n      <td>0.0</td>\n      <td>-1</td>\n      <td>-1</td>\n      <td>0</td>\n      <td>1</td>\n      <td></td>\n      <td>146</td>\n    </tr>\n    <tr>\n      <th>224</th>\n      <td>225</td>\n      <td>Simpsons - Black Malt</td>\n      <td>Grain</td>\n      <td>0.226796</td>\n      <td>70.0</td>\n      <td>550.0</td>\n      <td>false</td>\n      <td>UK</td>\n      <td></td>\n      <td></td>\n      <td>...</td>\n      <td>10.0</td>\n      <td>true</td>\n      <td>true</td>\n      <td>0.0</td>\n      <td>-1</td>\n      <td>-1</td>\n      <td>0</td>\n      <td>0</td>\n      <td></td>\n      <td>225</td>\n    </tr>\n    <tr>\n      <th>228</th>\n      <td>229</td>\n      <td>Simpsons - Black Malt</td>\n      <td>Grain</td>\n      <td>0.226796</td>\n      <td>70.0</td>\n      <td>550.0</td>\n      <td>false</td>\n      <td>UK</td>\n      <td></td>\n      <td></td>\n      <td>...</td>\n      <td>10.0</td>\n      <td>true</td>\n      <td>true</td>\n      <td>0.0</td>\n      <td>-1</td>\n      <td>-1</td>\n      <td>0</td>\n      <td>0</td>\n      <td></td>\n      <td>229</td>\n    </tr>\n    <tr>\n      <th>260</th>\n      <td>261</td>\n      <td>Simpsons - Black Malt</td>\n      <td>Grain</td>\n      <td>0.056699</td>\n      <td>70.0</td>\n      <td>550.0</td>\n      <td>false</td>\n      <td>UK</td>\n      <td></td>\n      <td></td>\n      <td>...</td>\n      <td>10.0</td>\n      <td>true</td>\n      <td>true</td>\n      <td>0.0</td>\n      <td>-1</td>\n      <td>-1</td>\n      <td>0</td>\n      <td>0</td>\n      <td></td>\n      <td>261</td>\n    </tr>\n    <tr>\n      <th>291</th>\n      <td>292</td>\n      <td>Simpsons - Black Malt</td>\n      <td>Grain</td>\n      <td>0.226796</td>\n      <td>70.0</td>\n      <td>550.0</td>\n      <td>false</td>\n      <td>UK</td>\n      <td></td>\n      <td></td>\n      <td>...</td>\n      <td>10.0</td>\n      <td>true</td>\n      <td>false</td>\n      <td>0.0</td>\n      <td>-1</td>\n      <td>-1</td>\n      <td>0</td>\n      <td>0</td>\n      <td></td>\n      <td>292</td>\n    </tr>\n    <tr>\n      <th>298</th>\n      <td>299</td>\n      <td>Simpsons - Black Malt</td>\n      <td>Grain</td>\n      <td>0.226796</td>\n      <td>70.0</td>\n      <td>550.0</td>\n      <td>false</td>\n      <td>UK</td>\n      <td></td>\n      <td></td>\n      <td>...</td>\n      <td>10.0</td>\n      <td>true</td>\n      <td>false</td>\n      <td>0.0</td>\n      <td>-1</td>\n      <td>-1</td>\n      <td>0</td>\n      <td>0</td>\n      <td></td>\n      <td>299</td>\n    </tr>\n    <tr>\n      <th>322</th>\n      <td>323</td>\n      <td>Briess - 2 Row Black Malt</td>\n      <td>Grain</td>\n      <td>0.000000</td>\n      <td>55.0</td>\n      <td>500.0</td>\n      <td>false</td>\n      <td>US</td>\n      <td>Briess</td>\n      <td>2-Row. Color adjustment for all beer styles. U...</td>\n      <td>...</td>\n      <td>10.0</td>\n      <td>false</td>\n      <td>false</td>\n      <td>0.0</td>\n      <td>-1</td>\n      <td>-1</td>\n      <td>0</td>\n      <td>1</td>\n      <td></td>\n      <td>323</td>\n    </tr>\n  </tbody>\n</table>\n<p>15 rows × 24 columns</p>\n</div>",
          "text/plain": "      id                                               name        ftype  \\\n8      9                                Black (Patent) Malt        Grain   \n9     10                        Black Barley (Roast Barley)        Grain   \n15    16                              Briess - Black Barley        Grain   \n16    17                                Briess - Black Malt        Grain   \n17    18                 Briess - Black Malted Barley Flour        Grain   \n18    19                           Briess - Blackprinz Malt        Grain   \n41    42  Briess DME - Maltoferm A-6001 (Black Malt Extr...  Dry Extract   \n46    47  Briess LME - Maltoferm A-6000 (Black Malt Extr...      Extract   \n145  146                              Simpsons - Black Malt        Grain   \n224  225                              Simpsons - Black Malt        Grain   \n228  229                              Simpsons - Black Malt        Grain   \n260  261                              Simpsons - Black Malt        Grain   \n291  292                              Simpsons - Black Malt        Grain   \n298  299                              Simpsons - Black Malt        Grain   \n322  323                          Briess - 2 Row Black Malt        Grain   \n\n       amount  yield  color add_after_boil origin supplier  \\\n8    0.000000   55.0  500.0          false     US            \n9    0.000000   55.0  500.0          false     US            \n15   0.000000   55.0  500.0          false     US   Briess   \n16   0.000000   55.0  500.0          false     US   Briess   \n17   0.000000   55.0  500.0          false     US   Briess   \n18   0.000000   78.0  500.0          false     US   Briess   \n41   0.000000   95.0  500.0          false     US            \n46   0.000000   78.0  500.0          false     US            \n145  0.000000   70.0  550.0          false     UK            \n224  0.226796   70.0  550.0          false     UK            \n228  0.226796   70.0  550.0          false     UK            \n260  0.056699   70.0  550.0          false     UK            \n291  0.226796   70.0  550.0          false     UK            \n298  0.226796   70.0  550.0          false     UK            \n322  0.000000   55.0  500.0          false     US   Briess   \n\n                                                 notes  ...  max_in_batch  \\\n8    The darkest of all malts, use sparingly to add...  ...          10.0   \n9    Use 10 to 12% to impart a distinct, roasted fl...  ...          10.0   \n15   Contributes color and rich, sharp flavor chara...  ...           7.0   \n16   Color adjustment for all beer styles. Use with...  ...          10.0   \n17               Color adjustment for all beer styles.  ...          10.0   \n18   Bitterless black malt that can be used in any ...  ...          10.0   \n41                                                      ...         100.0   \n46                                                      ...         100.0   \n145                                                     ...          10.0   \n224                                                     ...          10.0   \n228                                                     ...          10.0   \n260                                                     ...          10.0   \n291                                                     ...          10.0   \n298                                                     ...          10.0   \n322  2-Row. Color adjustment for all beer styles. U...  ...          10.0   \n\n     recommend_mash  is_mashed  ibu_gal_per_lb  display_unit display_scale  \\\n8             false      false             0.0            -1            -1   \n9             false      false             0.0            -1            -1   \n15            false      false             0.0            -1            -1   \n16            false      false             0.0            -1            -1   \n17            false      false             0.0            -1            -1   \n18            false      false             0.0            -1            -1   \n41            false      false             0.0            -1            -1   \n46            false      false             0.0            -1            -1   \n145            true      false             0.0            -1            -1   \n224            true       true             0.0            -1            -1   \n228            true       true             0.0            -1            -1   \n260            true       true             0.0            -1            -1   \n291            true      false             0.0            -1            -1   \n298            true      false             0.0            -1            -1   \n322           false      false             0.0            -1            -1   \n\n    deleted  display  folder  inventory_id  \n8         0        1                     9  \n9         0        1                    10  \n15        0        1                    16  \n16        0        1                    17  \n17        0        1                    18  \n18        0        1                    19  \n41        0        1                    42  \n46        0        1                    47  \n145       0        1                   146  \n224       0        0                   225  \n228       0        0                   229  \n260       0        0                   261  \n291       0        0                   292  \n298       0        0                   299  \n322       0        1                   323  \n\n[15 rows x 24 columns]"
         },
         "metadata": {},
         "output_type": "display_data"
        }
       ]
      }
     },
     "99dc89b442914a64960f258bd70ce34d": {
      "model_module": "ipysheet",
      "model_module_version": "~0.4.4",
      "model_name": "CellRangeModel",
      "state": {
       "_view_module": null,
       "_view_module_version": "",
       "column_end": 12,
       "column_start": 12,
       "row_end": 2,
       "row_start": 2,
       "style": {
        "backgroundColor": "yellow"
       },
       "type": "numeric",
       "value": 60
      }
     },
     "9a0686aa4ce94b62ae3ab4d74dda2536": {
      "model_module": "ipysheet",
      "model_module_version": "~0.4.4",
      "model_name": "CellRangeModel",
      "state": {
       "_view_module": null,
       "_view_module_version": "",
       "column_end": 12,
       "column_start": 12,
       "row_end": 3,
       "row_start": 3,
       "style": {
        "backgroundColor": "yellow"
       },
       "type": "numeric",
       "value": 20
      }
     },
     "9a27a31a0771415881307225a9d46f0b": {
      "model_module": "ipysheet",
      "model_module_version": "~0.4.4",
      "model_name": "CellRangeModel",
      "state": {
       "_view_module": null,
       "_view_module_version": "",
       "column_end": 12,
       "column_start": 12,
       "row_end": 3,
       "row_start": 3,
       "style": {
        "backgroundColor": "yellow"
       },
       "type": "numeric",
       "value": 20
      }
     },
     "9b04abf9eb2a44fc820d926dff056900": {
      "model_module": "ipysheet",
      "model_module_version": "~0.4.4",
      "model_name": "CellRangeModel",
      "state": {
       "_view_module": null,
       "_view_module_version": "",
       "column_end": 8,
       "column_start": 8,
       "row_end": 3,
       "row_start": 3,
       "type": "numeric",
       "value": 7
      }
     },
     "9b094260f75347d486a34ab4dd93d1cc": {
      "model_module": "ipysheet",
      "model_module_version": "~0.4.4",
      "model_name": "CellRangeModel",
      "state": {
       "_view_module": null,
       "_view_module_version": "",
       "column_end": 10,
       "column_start": 10,
       "row_end": 3,
       "row_start": 3,
       "type": "text",
       "value": "Fuggles"
      }
     },
     "9bda7bd7bde14a829b8c16593b2304bf": {
      "model_module": "ipysheet",
      "model_module_version": "~0.4.4",
      "model_name": "CellRangeModel",
      "state": {
       "_view_module": null,
       "_view_module_version": "",
       "column_end": 3,
       "column_start": 3,
       "type": "text",
       "value": "Style Fit?"
      }
     },
     "9c30304a2a834d808ba4c966490a5d2b": {
      "model_module": "ipysheet",
      "model_module_version": "~0.4.4",
      "model_name": "CellRangeModel",
      "state": {
       "_view_module": null,
       "_view_module_version": "",
       "row_end": 10,
       "row_start": 10,
       "style": {
        "backgroundColor": "yellow"
       },
       "type": "numeric",
       "value": 48
      }
     },
     "9c48ae29f5614b219be01964976d06df": {
      "model_module": "ipysheet",
      "model_module_version": "~0.4.4",
      "model_name": "CellRangeModel",
      "state": {
       "_view_module": null,
       "_view_module_version": "",
       "row_end": 4,
       "row_start": 4,
       "style": {
        "backgroundColor": "yellow"
       },
       "type": "numeric",
       "value": 60
      }
     },
     "9c6cf3eede864ba0bf97afa87b2dc9fb": {
      "model_module": "ipysheet",
      "model_module_version": "~0.4.4",
      "model_name": "CellRangeModel",
      "state": {
       "_view_module": null,
       "_view_module_version": "",
       "column_end": 19,
       "column_start": 19,
       "row_end": 2,
       "row_start": 2,
       "type": "numeric",
       "value": 75.2
      }
     },
     "9da3c79c01c2490aabac697bec264390": {
      "model_module": "ipysheet",
      "model_module_version": "~0.4.4",
      "model_name": "CellRangeModel",
      "state": {
       "_view_module": null,
       "_view_module_version": "",
       "column_end": 19,
       "column_start": 19,
       "row_end": 2,
       "row_start": 2,
       "type": "numeric",
       "value": 75.2
      }
     },
     "9e8c03abb0df41989ffb0a5c915fdb3e": {
      "model_module": "ipysheet",
      "model_module_version": "~0.4.4",
      "model_name": "CellRangeModel",
      "state": {
       "_view_module": null,
       "_view_module_version": "",
       "column_end": 6,
       "column_start": 6,
       "row_end": 6,
       "row_start": 6,
       "style": {
        "backgroundColor": "yellow"
       },
       "type": "numeric",
       "value": 1.5
      }
     },
     "9e90112429704673af687cd12dd5e411": {
      "model_module": "ipysheet",
      "model_module_version": "~0.4.4",
      "model_name": "CellRangeModel",
      "state": {
       "_view_module": null,
       "_view_module_version": "",
       "column_end": 0,
       "column_start": 0,
       "type": "text",
       "value": "Category"
      }
     },
     "9eecdf97f3fd4df4a04d99463ed43dcb": {
      "model_module": "ipysheet",
      "model_module_version": "~0.4.4",
      "model_name": "CellRangeModel",
      "state": {
       "_view_module": null,
       "_view_module_version": "",
       "column_end": 5,
       "column_start": 5,
       "row_end": 5,
       "row_start": 5,
       "type": "text",
       "value": "Dry Extract (DME) - Amber"
      }
     },
     "9f303df46a1646108321b58c031959c5": {
      "model_module": "ipysheet",
      "model_module_version": "~0.4.4",
      "model_name": "CellRangeModel",
      "state": {
       "_view_module": null,
       "_view_module_version": "",
       "column_end": 15,
       "column_start": 15,
       "row_end": 0,
       "row_start": 0,
       "type": "text",
       "value": "Yeast"
      }
     },
     "9fad881052664ca4a2e6028054b49fdb": {
      "model_module": "ipysheet",
      "model_module_version": "~0.4.4",
      "model_name": "CellRangeModel",
      "state": {
       "_view_module": null,
       "_view_module_version": "",
       "column_end": 10,
       "column_start": 10,
       "row_end": 2,
       "row_start": 2,
       "type": "text",
       "value": "Willamette"
      }
     },
     "a09c05e0a38e427d87fe1f1c35eabefd": {
      "model_module": "@jupyter-widgets/base",
      "model_module_version": "1.2.0",
      "model_name": "LayoutModel",
      "state": {}
     },
     "a0d279c0e219487dbc56644496b699df": {
      "model_module": "ipysheet",
      "model_module_version": "~0.4.4",
      "model_name": "CellRangeModel",
      "state": {
       "_view_module": null,
       "_view_module_version": "",
       "row_end": 2,
       "row_start": 2,
       "style": {
        "backgroundColor": "yellow"
       },
       "type": "numeric",
       "value": 2.5
      }
     },
     "a112c7aceac64a7387f35a329357065c": {
      "model_module": "@jupyter-widgets/base",
      "model_module_version": "1.2.0",
      "model_name": "LayoutModel",
      "state": {}
     },
     "a14508f8bcec4295a1cd28ae8f3e1c93": {
      "model_module": "ipysheet",
      "model_module_version": "~0.4.4",
      "model_name": "CellRangeModel",
      "state": {
       "_view_module": null,
       "_view_module_version": "",
       "column_end": 6,
       "column_start": 6,
       "row_end": 3,
       "row_start": 3,
       "style": {
        "backgroundColor": "yellow"
       },
       "type": "numeric",
       "value": 1
      }
     },
     "a166865d91e34caeafaebabbf1b67cef": {
      "model_module": "ipysheet",
      "model_module_version": "~0.4.4",
      "model_name": "CellRangeModel",
      "state": {
       "_view_module": null,
       "_view_module_version": "",
       "column_end": 5,
       "column_start": 5,
       "row_end": 6,
       "row_start": 6,
       "type": "text",
       "value": "Briess - 6 Row Brewers Malt"
      }
     },
     "a183536dfe8743e2b0d3ba6e8d165bfe": {
      "model_module": "ipysheet",
      "model_module_version": "~0.4.4",
      "model_name": "CellRangeModel",
      "state": {
       "_view_module": null,
       "_view_module_version": "",
       "column_end": 13,
       "column_start": 13,
       "type": "text",
       "value": "IBU"
      }
     },
     "a1b95ec8955945e486d78fc0b1ce2635": {
      "model_module": "ipysheet",
      "model_module_version": "~0.4.4",
      "model_name": "CellRangeModel",
      "state": {
       "_view_module": null,
       "_view_module_version": "",
       "column_end": 10,
       "column_start": 10,
       "type": "text",
       "value": "Name"
      }
     },
     "a1cb69a7561a449a9a7ae97f3e8ea7f8": {
      "model_module": "ipysheet",
      "model_module_version": "~0.4.4",
      "model_name": "CellRangeModel",
      "state": {
       "_view_module": null,
       "_view_module_version": "",
       "row_end": 19,
       "row_start": 19,
       "style": {
        "backgroundColor": "red"
       },
       "type": "numeric",
       "value": 1
      }
     },
     "a21fe8b0623c4ad495198b2d54293bbe": {
      "model_module": "ipysheet",
      "model_module_version": "~0.4.4",
      "model_name": "CellRangeModel",
      "state": {
       "_view_module": null,
       "_view_module_version": "",
       "column_end": 2,
       "column_start": 2,
       "row_end": 9,
       "row_start": 9,
       "type": "text",
       "value": "22.0-40.0"
      }
     },
     "a256b06694364c0498b7907444279223": {
      "model_module": "ipysheet",
      "model_module_version": "~0.4.4",
      "model_name": "CellRangeModel",
      "state": {
       "_view_module": null,
       "_view_module_version": "",
       "column_end": 0,
       "column_start": 0,
       "row_end": 2,
       "row_start": 2,
       "type": "text",
       "value": "Batch Size"
      }
     },
     "a29ef30aafa3495a828464b761b1e6cf": {
      "model_module": "ipysheet",
      "model_module_version": "~0.4.4",
      "model_name": "CellRangeModel",
      "state": {
       "_view_module": null,
       "_view_module_version": "",
       "type": "text",
       "value": "Value"
      }
     },
     "a2aac10e8f24448381b4c4c90c938d50": {
      "model_module": "ipysheet",
      "model_module_version": "~0.4.4",
      "model_name": "CellRangeModel",
      "state": {
       "_view_module": null,
       "_view_module_version": "",
       "row_end": 19,
       "row_start": 19,
       "style": {
        "backgroundColor": "red"
       },
       "type": "numeric",
       "value": 1
      }
     },
     "a2c49ad73c94421180ae25442a87a6ff": {
      "model_module": "ipysheet",
      "model_module_version": "~0.4.4",
      "model_name": "CellRangeModel",
      "state": {
       "_view_module": null,
       "_view_module_version": "",
       "column_end": 5,
       "column_start": 5,
       "row_end": 0,
       "row_start": 0,
       "type": "text",
       "value": "Fermentables"
      }
     },
     "a3110718cb5c4bf7998cfc1d393fbe20": {
      "model_module": "ipysheet",
      "model_module_version": "~0.4.4",
      "model_name": "CellRangeModel",
      "state": {
       "_view_module": null,
       "_view_module_version": "",
       "column_end": 5,
       "column_start": 5,
       "type": "text",
       "value": "Name"
      }
     },
     "a34fd64cb8634cc29b887e47ae52142b": {
      "model_module": "ipysheet",
      "model_module_version": "~0.4.4",
      "model_name": "CellRangeModel",
      "state": {
       "_view_module": null,
       "_view_module_version": "",
       "column_end": 5,
       "column_start": 5,
       "row_end": 2,
       "row_start": 2,
       "type": "text",
       "value": "Black (Patent) Malt"
      }
     },
     "a391303d91f8468abcb4aeb43b69ca09": {
      "model_module": "ipysheet",
      "model_module_version": "~0.4.4",
      "model_name": "CellRangeModel",
      "state": {
       "_view_module": null,
       "_view_module_version": "",
       "column_end": 8,
       "column_start": 8,
       "row_end": 5,
       "row_start": 5,
       "type": "numeric",
       "value": 17
      }
     },
     "a3a822c635984f3bafa86f98f5c1ae6e": {
      "model_module": "ipysheet",
      "model_module_version": "~0.4.4",
      "model_name": "CellRangeModel",
      "state": {
       "_view_module": null,
       "_view_module_version": "",
       "column_end": 8,
       "column_start": 8,
       "row_end": 6,
       "row_start": 6,
       "type": "numeric",
       "value": 10
      }
     },
     "a410b30974d446d792867e46954ead04": {
      "model_module": "ipysheet",
      "model_module_version": "~0.4.4",
      "model_name": "CellRangeModel",
      "state": {
       "_view_module": null,
       "_view_module_version": "",
       "column_end": 11,
       "column_start": 11,
       "row_end": 3,
       "row_start": 3,
       "style": {
        "backgroundColor": "yellow"
       },
       "type": "numeric",
       "value": 0.5
      }
     },
     "a41bc43ff64d46a1af39cf876a31e535": {
      "model_module": "ipysheet",
      "model_module_version": "~0.4.4",
      "model_name": "CellRangeModel",
      "state": {
       "_view_module": null,
       "_view_module_version": "",
       "column_end": 15,
       "column_start": 15,
       "type": "text",
       "value": "Name"
      }
     },
     "a4461b4bd1b64fe98c3864fb3c014d51": {
      "model_module": "ipysheet",
      "model_module_version": "~0.4.4",
      "model_name": "CellRangeModel",
      "state": {
       "_view_module": null,
       "_view_module_version": "",
       "column_end": 18,
       "column_start": 18,
       "row_end": 2,
       "row_start": 2,
       "type": "numeric",
       "value": 59
      }
     },
     "a5db18346bab4b44badb9cb62af41d13": {
      "model_module": "ipysheet",
      "model_module_version": "~0.4.4",
      "model_name": "CellRangeModel",
      "state": {
       "_view_module": null,
       "_view_module_version": "",
       "column_end": 16,
       "column_start": 16,
       "row_end": 2,
       "row_start": 2,
       "style": {
        "backgroundColor": "yellow"
       },
       "type": "numeric",
       "value": 75
      }
     },
     "a622ec46c6474c539428b56a12f9d0cc": {
      "model_module": "ipysheet",
      "model_module_version": "~0.4.4",
      "model_name": "CellRangeModel",
      "state": {
       "_view_module": null,
       "_view_module_version": "",
       "column_end": 8,
       "column_start": 8,
       "row_end": 6,
       "row_start": 6,
       "type": "numeric",
       "value": 10
      }
     },
     "a6503d7dcdfc46fdabfa200f63b99566": {
      "model_module": "ipysheet",
      "model_module_version": "~0.4.4",
      "model_name": "CellRangeModel",
      "state": {
       "_view_module": null,
       "_view_module_version": "",
       "column_end": 0,
       "column_start": 0,
       "row_end": 8,
       "row_start": 8,
       "type": "text",
       "value": "Bitterness"
      }
     },
     "a6598c11435b45fcaa7bbfca9f02e3fd": {
      "model_module": "ipysheet",
      "model_module_version": "~0.4.4",
      "model_name": "CellRangeModel",
      "state": {
       "_view_module": null,
       "_view_module_version": "",
       "column_end": 11,
       "column_start": 11,
       "row_end": 2,
       "row_start": 2,
       "style": {
        "backgroundColor": "yellow"
       },
       "type": "numeric",
       "value": 1
      }
     },
     "a67541946e064e7ebc2dc13b106b9ff4": {
      "model_module": "ipysheet",
      "model_module_version": "~0.4.4",
      "model_name": "CellRangeModel",
      "state": {
       "_view_module": null,
       "_view_module_version": "",
       "column_end": 7,
       "column_start": 7,
       "row_end": 5,
       "row_start": 5,
       "type": "text",
       "value": "Extract"
      }
     },
     "a67ea3b89cf94defbac8a95562dc94c3": {
      "model_module": "@jupyter-widgets/base",
      "model_module_version": "1.2.0",
      "model_name": "LayoutModel",
      "state": {}
     },
     "a6b7bc9f24d94cc2965572e1281d1b60": {
      "model_module": "ipysheet",
      "model_module_version": "~0.4.4",
      "model_name": "CellRangeModel",
      "state": {
       "_view_module": null,
       "_view_module_version": "",
       "column_end": 18,
       "column_start": 18,
       "row_end": 2,
       "row_start": 2,
       "type": "numeric",
       "value": 59
      }
     },
     "a72d22dd42a246119592fd357b508c73": {
      "model_module": "ipysheet",
      "model_module_version": "~0.4.4",
      "model_name": "CellRangeModel",
      "state": {
       "_view_module": null,
       "_view_module_version": "",
       "column_end": 2,
       "column_start": 2,
       "row_end": 6,
       "row_start": 6,
       "type": "text",
       "value": "1.048-1.065"
      }
     },
     "a73d633cdee74b0b8e974284ccd23268": {
      "model_module": "ipysheet",
      "model_module_version": "~0.4.4",
      "model_name": "CellRangeModel",
      "state": {
       "_view_module": null,
       "_view_module_version": "",
       "column_end": 5,
       "column_start": 5,
       "type": "text",
       "value": "Name"
      }
     },
     "a7498363ba8445bf8601796cdb541669": {
      "model_module": "ipysheet",
      "model_module_version": "~0.4.4",
      "model_name": "CellRangeModel",
      "state": {
       "_view_module": null,
       "_view_module_version": "",
       "column_end": 6,
       "column_start": 6,
       "row_end": 7,
       "row_start": 7,
       "style": {
        "backgroundColor": "yellow"
       },
       "type": "numeric",
       "value": 0.25
      }
     },
     "a763f23f2aaa462292f6f5c8396a5f7f": {
      "model_module": "ipysheet",
      "model_module_version": "~0.4.4",
      "model_name": "CellRangeModel",
      "state": {
       "_view_module": null,
       "_view_module_version": "",
       "column_end": 5,
       "column_start": 5,
       "type": "text",
       "value": "Name"
      }
     },
     "a777545b25b24ab78f2e5da16e8b3aa2": {
      "model_module": "ipysheet",
      "model_module_version": "~0.4.4",
      "model_name": "CellRangeModel",
      "state": {
       "_view_module": null,
       "_view_module_version": "",
       "column_end": 5,
       "column_start": 5,
       "row_end": 4,
       "row_start": 4,
       "type": "text",
       "value": "Dry Extract (DME) - Light"
      }
     },
     "a7d550bc58fd44ffbaa75d9e59247ae6": {
      "model_module": "ipysheet",
      "model_module_version": "~0.4.4",
      "model_name": "CellRangeModel",
      "state": {
       "_view_module": null,
       "_view_module_version": "",
       "column_end": 12,
       "column_start": 12,
       "row_end": 2,
       "row_start": 2,
       "style": {
        "backgroundColor": "yellow"
       },
       "type": "numeric",
       "value": 60
      }
     },
     "a7de644eea6441ba80b75ca0fe9b0b17": {
      "model_module": "ipysheet",
      "model_module_version": "~0.4.4",
      "model_name": "CellRangeModel",
      "state": {
       "_view_module": null,
       "_view_module_version": "",
       "column_end": 3,
       "column_start": 3,
       "row_end": 6,
       "row_start": 6,
       "style": {
        "backgroundColor": "red"
       },
       "type": "numeric",
       "value": ""
      }
     },
     "a85583aa5445434f9a078bfd116cfb5a": {
      "model_module": "ipysheet",
      "model_module_version": "~0.4.4",
      "model_name": "CellRangeModel",
      "state": {
       "_view_module": null,
       "_view_module_version": "",
       "column_end": 13,
       "column_start": 13,
       "type": "text",
       "value": "IBU"
      }
     },
     "a85c36180c8d4223b92d4a4856ed4901": {
      "model_module": "ipysheet",
      "model_module_version": "~0.4.4",
      "model_name": "CellRangeModel",
      "state": {
       "_view_module": null,
       "_view_module_version": "",
       "column_end": 5,
       "column_start": 5,
       "row_end": 4,
       "row_start": 4,
       "type": "text",
       "value": "Dry Extract (DME) - Light"
      }
     },
     "a8bb76202b524638b92f74477447ab1a": {
      "model_module": "ipysheet",
      "model_module_version": "~0.4.4",
      "model_name": "CellRangeModel",
      "state": {
       "_view_module": null,
       "_view_module_version": "",
       "column_end": 12,
       "column_start": 12,
       "type": "text",
       "value": "Boil Time (min)"
      }
     },
     "a97528eacd274cca8662f31d40d1ea89": {
      "model_module": "ipysheet",
      "model_module_version": "~0.4.4",
      "model_name": "CellRangeModel",
      "state": {
       "_view_module": null,
       "_view_module_version": "",
       "column_end": 13,
       "column_start": 13,
       "row_end": 3,
       "row_start": 3,
       "type": "numeric",
       "value": 6.2
      }
     },
     "a9c94081a58c4965a5abd819fec18882": {
      "model_module": "ipysheet",
      "model_module_version": "~0.4.4",
      "model_name": "CellRangeModel",
      "state": {
       "_view_module": null,
       "_view_module_version": "",
       "column_end": 0,
       "column_start": 0,
       "row_end": 14,
       "row_start": 14,
       "type": "text",
       "value": "Brew Day Values"
      }
     },
     "a9ce599e29b446e78596d6e0254627ba": {
      "model_module": "ipysheet",
      "model_module_version": "~0.4.4",
      "model_name": "CellRangeModel",
      "state": {
       "_view_module": null,
       "_view_module_version": "",
       "row_end": 2,
       "row_start": 2,
       "style": {
        "backgroundColor": "yellow"
       },
       "type": "numeric",
       "value": 2.5
      }
     },
     "a9ea61248cc8446fa0aae5ddfe5dc2d8": {
      "model_module": "ipysheet",
      "model_module_version": "~0.4.4",
      "model_name": "CellRangeModel",
      "state": {
       "_view_module": null,
       "_view_module_version": "",
       "column_end": 8,
       "column_start": 8,
       "row_end": 7,
       "row_start": 7,
       "type": "numeric",
       "value": 3
      }
     },
     "aa1cb0ba1d424dfeac22b9115ac393be": {
      "model_module": "ipysheet",
      "model_module_version": "~0.4.4",
      "model_name": "CellRangeModel",
      "state": {
       "_view_module": null,
       "_view_module_version": "",
       "column_end": 11,
       "column_start": 11,
       "row_end": 2,
       "row_start": 2,
       "style": {
        "backgroundColor": "yellow"
       },
       "type": "numeric",
       "value": 1
      }
     },
     "aa461530b40d46f3a7dfaf9cecd698bc": {
      "model_module": "ipysheet",
      "model_module_version": "~0.4.4",
      "model_name": "CellRangeModel",
      "state": {
       "_view_module": null,
       "_view_module_version": "",
       "column_end": 0,
       "column_start": 0,
       "row_end": 0,
       "row_start": 0,
       "type": "text",
       "value": "Summary"
      }
     },
     "aa980e457ebc4248bc3d159437960bac": {
      "model_module": "ipysheet",
      "model_module_version": "~0.4.4",
      "model_name": "CellRangeModel",
      "state": {
       "_view_module": null,
       "_view_module_version": "",
       "column_end": 0,
       "column_start": 0,
       "row_end": 8,
       "row_start": 8,
       "type": "text",
       "value": "Bitterness"
      }
     },
     "ab6b33f58ede482caf1ca3cc38f82f24": {
      "model_module": "ipysheet",
      "model_module_version": "~0.4.4",
      "model_name": "CellRangeModel",
      "state": {
       "_view_module": null,
       "_view_module_version": "",
       "column_end": 3,
       "column_start": 3,
       "type": "text",
       "value": "Style Fit?"
      }
     },
     "ab946e3aab2b4ccf912d6f90dd59b5cc": {
      "model_module": "ipysheet",
      "model_module_version": "~0.4.4",
      "model_name": "CellRangeModel",
      "state": {
       "_view_module": null,
       "_view_module_version": "",
       "column_end": 17,
       "column_start": 17,
       "row_end": 2,
       "row_start": 2,
       "style": {
        "backgroundColor": "red"
       },
       "type": "numeric",
       "value": 73.125
      }
     },
     "aba6782bb5dc4967bef35a309e7df1a7": {
      "model_module": "ipysheet",
      "model_module_version": "~0.4.4",
      "model_name": "CellRangeModel",
      "state": {
       "_view_module": null,
       "_view_module_version": "",
       "column_end": 0,
       "column_start": 0,
       "row_end": 5,
       "row_start": 5,
       "type": "text",
       "value": "Mash Temp"
      }
     },
     "ac2f07c1b09a46daa8b434091503d053": {
      "model_module": "ipysheet",
      "model_module_version": "~0.4.4",
      "model_name": "CellRangeModel",
      "state": {
       "_view_module": null,
       "_view_module_version": "",
       "column_end": 0,
       "column_start": 0,
       "row_end": 9,
       "row_start": 9,
       "type": "text",
       "value": "Color"
      }
     },
     "ac93d2c32f784564b015a57594cbaed8": {
      "model_module": "ipysheet",
      "model_module_version": "~0.4.4",
      "model_name": "CellRangeModel",
      "state": {
       "_view_module": null,
       "_view_module_version": "",
       "column_end": 10,
       "column_start": 10,
       "row_end": 0,
       "row_start": 0,
       "type": "text",
       "value": "Hops"
      }
     },
     "acd02bf1c2694838a4b47e14739836d6": {
      "model_module": "ipysheet",
      "model_module_version": "~0.4.4",
      "model_name": "CellRangeModel",
      "state": {
       "_view_module": null,
       "_view_module_version": "",
       "column_end": 0,
       "column_start": 0,
       "row_end": 11,
       "row_start": 11,
       "type": "text",
       "value": "ABV"
      }
     },
     "ad013f8ce2774a459aa27e558b64a545": {
      "model_module": "ipysheet",
      "model_module_version": "~0.4.4",
      "model_name": "CellRangeModel",
      "state": {
       "_view_module": null,
       "_view_module_version": "",
       "column_end": 0,
       "column_start": 0,
       "row_end": 20,
       "row_start": 20,
       "type": "text",
       "value": "Post-boil Gravity"
      }
     },
     "ad1d3941f958437f83c0c58bdc4b9869": {
      "model_module": "ipysheet",
      "model_module_version": "~0.4.4",
      "model_name": "CellRangeModel",
      "state": {
       "_view_module": null,
       "_view_module_version": "",
       "column_end": 3,
       "column_start": 3,
       "row_end": 8,
       "row_start": 8,
       "style": {
        "backgroundColor": "red"
       },
       "type": "numeric",
       "value": ""
      }
     },
     "ad51abb836244c06ba37cc9aa39f8d56": {
      "model_module": "ipysheet",
      "model_module_version": "~0.4.4",
      "model_name": "CellRangeModel",
      "state": {
       "_view_module": null,
       "_view_module_version": "",
       "column_end": 18,
       "column_start": 18,
       "type": "text",
       "value": "Min Temp (F)"
      }
     },
     "ad545bb8a52947f9a3940054b39da3fe": {
      "model_module": "ipysheet",
      "model_module_version": "~0.4.4",
      "model_name": "CellRangeModel",
      "state": {
       "_view_module": null,
       "_view_module_version": "",
       "row_end": 19,
       "row_start": 19,
       "style": {
        "backgroundColor": "red"
       },
       "type": "numeric",
       "value": 1.1875
      }
     },
     "ad58830ed425458e98e039021f880e02": {
      "model_module": "@jupyter-widgets/output",
      "model_module_version": "1.0.0",
      "model_name": "OutputModel",
      "state": {
       "layout": "IPY_MODEL_544194549765436888b5126bd85dbd93",
       "outputs": [
        {
         "data": {
          "text/html": "<div>\n<style scoped>\n    .dataframe tbody tr th:only-of-type {\n        vertical-align: middle;\n    }\n\n    .dataframe tbody tr th {\n        vertical-align: top;\n    }\n\n    .dataframe thead th {\n        text-align: right;\n    }\n</style>\n<table border=\"1\" class=\"dataframe\">\n  <thead>\n    <tr style=\"text-align: right;\">\n      <th></th>\n      <th>id</th>\n      <th>name</th>\n      <th>ftype</th>\n      <th>amount</th>\n      <th>yield</th>\n      <th>color</th>\n      <th>add_after_boil</th>\n      <th>origin</th>\n      <th>supplier</th>\n      <th>notes</th>\n      <th>...</th>\n      <th>max_in_batch</th>\n      <th>recommend_mash</th>\n      <th>is_mashed</th>\n      <th>ibu_gal_per_lb</th>\n      <th>display_unit</th>\n      <th>display_scale</th>\n      <th>deleted</th>\n      <th>display</th>\n      <th>folder</th>\n      <th>inventory_id</th>\n    </tr>\n  </thead>\n  <tbody>\n    <tr>\n      <th>95</th>\n      <td>96</td>\n      <td>Honey</td>\n      <td>Extract</td>\n      <td>0.000000</td>\n      <td>75.0</td>\n      <td>1.0</td>\n      <td>false</td>\n      <td>US</td>\n      <td></td>\n      <td></td>\n      <td>...</td>\n      <td>100.0</td>\n      <td>false</td>\n      <td>false</td>\n      <td>0.0</td>\n      <td>-1</td>\n      <td>-1</td>\n      <td>0</td>\n      <td>1</td>\n      <td></td>\n      <td>96</td>\n    </tr>\n    <tr>\n      <th>96</th>\n      <td>97</td>\n      <td>Honey Malt</td>\n      <td>Grain</td>\n      <td>0.000000</td>\n      <td>80.0</td>\n      <td>25.0</td>\n      <td>false</td>\n      <td>Canada</td>\n      <td></td>\n      <td>This Canadian malt imparts a honey-like flavor...</td>\n      <td>...</td>\n      <td>10.0</td>\n      <td>true</td>\n      <td>false</td>\n      <td>0.0</td>\n      <td>-1</td>\n      <td>-1</td>\n      <td>0</td>\n      <td>1</td>\n      <td></td>\n      <td>97</td>\n    </tr>\n    <tr>\n      <th>209</th>\n      <td>210</td>\n      <td>Honey Malt</td>\n      <td>Grain</td>\n      <td>0.226796</td>\n      <td>80.0</td>\n      <td>25.0</td>\n      <td>false</td>\n      <td>Canada</td>\n      <td></td>\n      <td>This Canadian malt imparts a honey-like flavor...</td>\n      <td>...</td>\n      <td>10.0</td>\n      <td>true</td>\n      <td>true</td>\n      <td>0.0</td>\n      <td>-1</td>\n      <td>-1</td>\n      <td>0</td>\n      <td>0</td>\n      <td></td>\n      <td>210</td>\n    </tr>\n    <tr>\n      <th>279</th>\n      <td>280</td>\n      <td>Honey Malt</td>\n      <td>Grain</td>\n      <td>0.226796</td>\n      <td>80.0</td>\n      <td>25.0</td>\n      <td>false</td>\n      <td>Canada</td>\n      <td></td>\n      <td>This Canadian malt imparts a honey-like flavor...</td>\n      <td>...</td>\n      <td>10.0</td>\n      <td>true</td>\n      <td>false</td>\n      <td>0.0</td>\n      <td>-1</td>\n      <td>-1</td>\n      <td>0</td>\n      <td>0</td>\n      <td></td>\n      <td>280</td>\n    </tr>\n  </tbody>\n</table>\n<p>4 rows × 24 columns</p>\n</div>",
          "text/plain": "      id        name    ftype    amount  yield  color add_after_boil  origin  \\\n95    96       Honey  Extract  0.000000   75.0    1.0          false      US   \n96    97  Honey Malt    Grain  0.000000   80.0   25.0          false  Canada   \n209  210  Honey Malt    Grain  0.226796   80.0   25.0          false  Canada   \n279  280  Honey Malt    Grain  0.226796   80.0   25.0          false  Canada   \n\n    supplier                                              notes  ...  \\\n95                                                               ...   \n96            This Canadian malt imparts a honey-like flavor...  ...   \n209           This Canadian malt imparts a honey-like flavor...  ...   \n279           This Canadian malt imparts a honey-like flavor...  ...   \n\n     max_in_batch  recommend_mash  is_mashed  ibu_gal_per_lb  display_unit  \\\n95          100.0           false      false             0.0            -1   \n96           10.0            true      false             0.0            -1   \n209          10.0            true       true             0.0            -1   \n279          10.0            true      false             0.0            -1   \n\n    display_scale deleted  display  folder  inventory_id  \n95             -1       0        1                    96  \n96             -1       0        1                    97  \n209            -1       0        0                   210  \n279            -1       0        0                   280  \n\n[4 rows x 24 columns]"
         },
         "metadata": {},
         "output_type": "display_data"
        }
       ]
      }
     },
     "ae124b0e040d4a6486daa73ae532d632": {
      "model_module": "ipysheet",
      "model_module_version": "~0.4.4",
      "model_name": "CellRangeModel",
      "state": {
       "_view_module": null,
       "_view_module_version": "",
       "column_end": 0,
       "column_start": 0,
       "row_end": 17,
       "row_start": 17,
       "type": "text",
       "value": "Post-Mash Gravity"
      }
     },
     "ae1eecbe2923443ebe64c94cf97ab366": {
      "model_module": "ipysheet",
      "model_module_version": "~0.4.4",
      "model_name": "CellRangeModel",
      "state": {
       "_view_module": null,
       "_view_module_version": "",
       "column_end": 17,
       "column_start": 17,
       "row_end": 2,
       "row_start": 2,
       "style": {
        "backgroundColor": "red"
       },
       "type": "numeric",
       "value": 73.125
      }
     },
     "ae9a6b3ede2244239dbb984cee1c62cb": {
      "model_module": "ipysheet",
      "model_module_version": "~0.4.4",
      "model_name": "CellRangeModel",
      "state": {
       "_view_module": null,
       "_view_module_version": "",
       "column_end": 19,
       "column_start": 19,
       "row_end": 2,
       "row_start": 2,
       "type": "numeric",
       "value": 75.2
      }
     },
     "aea5520b16624062b84f341478882337": {
      "model_module": "ipysheet",
      "model_module_version": "~0.4.4",
      "model_name": "CellRangeModel",
      "state": {
       "_view_module": null,
       "_view_module_version": "",
       "column_end": 3,
       "column_start": 3,
       "type": "text",
       "value": "Style Fit?"
      }
     },
     "aeb9425396bb4c069991743626993c4c": {
      "model_module": "ipysheet",
      "model_module_version": "~0.4.4",
      "model_name": "CellRangeModel",
      "state": {
       "_view_module": null,
       "_view_module_version": "",
       "row_end": 10,
       "row_start": 10,
       "style": {
        "backgroundColor": "yellow"
       },
       "type": "numeric",
       "value": 48
      }
     },
     "aede13e8982847f2a51f2c1f85ffe6d6": {
      "model_module": "ipysheet",
      "model_module_version": "~0.4.4",
      "model_name": "CellRangeModel",
      "state": {
       "_view_module": null,
       "_view_module_version": "",
       "column_end": 6,
       "column_start": 6,
       "row_end": 4,
       "row_start": 4,
       "style": {
        "backgroundColor": "yellow"
       },
       "type": "numeric",
       "value": 1
      }
     },
     "af1812d731ec4ce7864a6e040f8b9019": {
      "model_module": "@jupyter-widgets/base",
      "model_module_version": "1.2.0",
      "model_name": "LayoutModel",
      "state": {
       "height": "auto",
       "width": "auto"
      }
     },
     "afcf1ea8cb6a4db9a5ece6f42647d6cc": {
      "model_module": "ipysheet",
      "model_module_version": "~0.4.4",
      "model_name": "CellRangeModel",
      "state": {
       "_view_module": null,
       "_view_module_version": "",
       "column_end": 0,
       "column_start": 0,
       "row_end": 7,
       "row_start": 7,
       "type": "text",
       "value": "FG"
      }
     },
     "b110d9f0e87a432eaa3442ffee02f086": {
      "model_module": "ipysheet",
      "model_module_version": "~0.4.4",
      "model_name": "CellRangeModel",
      "state": {
       "_view_module": null,
       "_view_module_version": "",
       "column_end": 3,
       "column_start": 3,
       "row_end": 6,
       "row_start": 6,
       "style": {
        "backgroundColor": "red"
       },
       "type": "numeric",
       "value": ""
      }
     },
     "b131fd0e3da24bb990e38aca569b5a48": {
      "model_module": "ipysheet",
      "model_module_version": "~0.4.4",
      "model_name": "CellRangeModel",
      "state": {
       "_view_module": null,
       "_view_module_version": "",
       "column_end": 8,
       "column_start": 8,
       "row_end": 7,
       "row_start": 7,
       "type": "numeric",
       "value": 3
      }
     },
     "b16a07b3f87441d988369579e60325cb": {
      "model_module": "ipysheet",
      "model_module_version": "~0.4.4",
      "model_name": "CellRangeModel",
      "state": {
       "_view_module": null,
       "_view_module_version": "",
       "column_end": 3,
       "column_start": 3,
       "row_end": 9,
       "row_start": 9,
       "style": {
        "backgroundColor": "red"
       },
       "type": "numeric",
       "value": ""
      }
     },
     "b1b3c4c40f8a4bad92b2834defc319c3": {
      "model_module": "ipysheet",
      "model_module_version": "~0.4.4",
      "model_name": "CellRangeModel",
      "state": {
       "_view_module": null,
       "_view_module_version": "",
       "row_end": 17,
       "row_start": 17,
       "style": {
        "backgroundColor": "red"
       },
       "type": "numeric",
       "value": 1.044
      }
     },
     "b277e919ab8f4d42963decfdd2d03fee": {
      "model_module": "ipysheet",
      "model_module_version": "~0.4.4",
      "model_name": "CellRangeModel",
      "state": {
       "_view_module": null,
       "_view_module_version": "",
       "column_end": 0,
       "column_start": 0,
       "row_end": 19,
       "row_start": 19,
       "type": "text",
       "value": "Post-boil Volume"
      }
     },
     "b2a5e55a62494a889fdfd1128d51f8c5": {
      "model_module": "ipysheet",
      "model_module_version": "~0.4.4",
      "model_name": "CellRangeModel",
      "state": {
       "_view_module": null,
       "_view_module_version": "",
       "column_end": 12,
       "column_start": 12,
       "row_end": 2,
       "row_start": 2,
       "style": {
        "backgroundColor": "yellow"
       },
       "type": "numeric",
       "value": 60
      }
     },
     "b317a7268fd64ae98b95fe8f14e9007f": {
      "model_module": "ipysheet",
      "model_module_version": "~0.4.4",
      "model_name": "CellRangeModel",
      "state": {
       "_view_module": null,
       "_view_module_version": "",
       "column_end": 8,
       "column_start": 8,
       "type": "text",
       "value": "GU Contribution"
      }
     },
     "b32046b8b64e4c14bc61bce54f642c0e": {
      "model_module": "ipysheet",
      "model_module_version": "~0.4.4",
      "model_name": "CellRangeModel",
      "state": {
       "_view_module": null,
       "_view_module_version": "",
       "column_end": 7,
       "column_start": 7,
       "row_end": 3,
       "row_start": 3,
       "type": "text",
       "value": "Mash"
      }
     },
     "b34a46380d9f405eb561a1f2d48f9696": {
      "model_module": "ipysheet",
      "model_module_version": "~0.4.4",
      "model_name": "CellRangeModel",
      "state": {
       "_view_module": null,
       "_view_module_version": "",
       "column_end": 0,
       "column_start": 0,
       "row_end": 16,
       "row_start": 16,
       "type": "text",
       "value": "Mash Volume"
      }
     },
     "b39be09b076d4b0389c0dbd4addfd9c9": {
      "model_module": "ipysheet",
      "model_module_version": "~0.4.4",
      "model_name": "CellRangeModel",
      "state": {
       "_view_module": null,
       "_view_module_version": "",
       "column_end": 3,
       "column_start": 3,
       "type": "text",
       "value": "Style Fit?"
      }
     },
     "b3a6af1f4e0a4b41937db19e833c6932": {
      "model_module": "ipysheet",
      "model_module_version": "~0.4.4",
      "model_name": "CellRangeModel",
      "state": {
       "_view_module": null,
       "_view_module_version": "",
       "column_end": 3,
       "column_start": 3,
       "row_end": 9,
       "row_start": 9,
       "style": {
        "backgroundColor": "red"
       },
       "type": "numeric",
       "value": ""
      }
     },
     "b3f488330acc4c2ea82274a499abcde1": {
      "model_module": "ipysheet",
      "model_module_version": "~0.4.4",
      "model_name": "CellRangeModel",
      "state": {
       "_view_module": null,
       "_view_module_version": "",
       "column_end": 3,
       "column_start": 3,
       "type": "text",
       "value": "Style Fit?"
      }
     },
     "b41b68b7324f4ca78899f4ea8c2e57cb": {
      "model_module": "ipysheet",
      "model_module_version": "~0.4.4",
      "model_name": "CellRangeModel",
      "state": {
       "_view_module": null,
       "_view_module_version": "",
       "column_end": 8,
       "column_start": 8,
       "type": "text",
       "value": "GU Contribution"
      }
     },
     "b41efc78471b45458ddb070d783af00b": {
      "model_module": "ipysheet",
      "model_module_version": "~0.4.4",
      "model_name": "CellRangeModel",
      "state": {
       "_view_module": null,
       "_view_module_version": "",
       "column_end": 13,
       "column_start": 13,
       "row_end": 3,
       "row_start": 3,
       "type": "numeric",
       "value": 6.2
      }
     },
     "b4279e9292c348a3841beb3d000b153e": {
      "model_module": "ipysheet",
      "model_module_version": "~0.4.4",
      "model_name": "CellRangeModel",
      "state": {
       "_view_module": null,
       "_view_module_version": "",
       "column_end": 10,
       "column_start": 10,
       "row_end": 0,
       "row_start": 0,
       "type": "text",
       "value": "Hops"
      }
     },
     "b444fb655ee043f4afc059abe59354e6": {
      "model_module": "ipysheet",
      "model_module_version": "~0.4.4",
      "model_name": "CellRangeModel",
      "state": {
       "_view_module": null,
       "_view_module_version": "",
       "column_end": 5,
       "column_start": 5,
       "row_end": 7,
       "row_start": 7,
       "type": "text",
       "value": "Briess - Chocolate Malt"
      }
     },
     "b462bbf5eedd4156aa2ff6074eedac91": {
      "model_module": "ipysheet",
      "model_module_version": "~0.4.4",
      "model_name": "SheetModel",
      "state": {
       "cells": [
        "IPY_MODEL_426820006fdb4d869fe5432dc70f3ab3",
        "IPY_MODEL_040ae80a4e9e42a59ec62f7a1a2f63af",
        "IPY_MODEL_c8cb52f103964990a8166f9ad124bddc",
        "IPY_MODEL_78b0dfc5011c45f9958df01f3a09385d",
        "IPY_MODEL_bbaa075a3dba444db0cb252489e8bb35",
        "IPY_MODEL_4f8c5b289927420ba53ad4679f84f597",
        "IPY_MODEL_8adccd89aa98495b9796ca2498d1e4d9",
        "IPY_MODEL_fd78d92c1f6442b2b9552c68497ea5e9",
        "IPY_MODEL_a73d633cdee74b0b8e974284ccd23268",
        "IPY_MODEL_f6d9ae865a034f06a7ed0348af6222f5",
        "IPY_MODEL_194e414765f741198a512db4b96f0e06",
        "IPY_MODEL_903fb7884c664cc99370aa5316527d95",
        "IPY_MODEL_45af118600e34f51864bcceb40df3065",
        "IPY_MODEL_fc93642477fa4977a33c78bc77abe29a",
        "IPY_MODEL_596ba688eaea4c5c9afa09a82e41b3fd",
        "IPY_MODEL_98612c6650694e1dba754597b9878ee5",
        "IPY_MODEL_a41bc43ff64d46a1af39cf876a31e535",
        "IPY_MODEL_569626e615e3411d8cadb05e492d0e87",
        "IPY_MODEL_4750a354962848dc9118c13acf79b2ed",
        "IPY_MODEL_1c252f20f00a4cff8d2e2145f6912c32",
        "IPY_MODEL_77e774f7aad8477a915e9969e2ca135f",
        "IPY_MODEL_5a7eb6a3c29141c29e3024d3c749e940",
        "IPY_MODEL_6dcf96c7c6ce4e6ba7f29ec17256902f",
        "IPY_MODEL_efe1ad2dca8647688ac6a14525a1fb4d",
        "IPY_MODEL_699d15ac1ca843a5998e9340d38e1161",
        "IPY_MODEL_5454c8ada3c047a799ef61fd8653048b",
        "IPY_MODEL_3b25c8d2283642cda861aa68cdcd26fa",
        "IPY_MODEL_b568c602c2574063b6997baf89c3da04",
        "IPY_MODEL_550193aa7af54aa08039a923f2e60666",
        "IPY_MODEL_4192572fb40248ea96ea7d70801875db",
        "IPY_MODEL_8472ea033e17466a9286d2b4fb9bc3a2",
        "IPY_MODEL_a9c94081a58c4965a5abd819fec18882",
        "IPY_MODEL_b34a46380d9f405eb561a1f2d48f9696",
        "IPY_MODEL_d3f5ae09cd3c432d94ce69e53469530a",
        "IPY_MODEL_6cc1a0a0045543fba40868083609958c",
        "IPY_MODEL_28674aedb06743419c8728d891392ef0",
        "IPY_MODEL_984e5d5e5c714d53ba90330e971bef07",
        "IPY_MODEL_c5b6fb8a000c49329cd2addde2bf8314",
        "IPY_MODEL_d843b21c809a44c6ba07288450449ac0",
        "IPY_MODEL_23f91e638d9941a2963939f3a635d2db",
        "IPY_MODEL_d618790827244d079f721b42f2dd05f2",
        "IPY_MODEL_4ecf32b13f0647d3b851fc40f6d28828",
        "IPY_MODEL_7926f66bb6734656839d0d2c8a97e6e8",
        "IPY_MODEL_f79e7aca88474b18a12cec38fa314036",
        "IPY_MODEL_6a933a7d95ed45129620cddb24526e04",
        "IPY_MODEL_6449b0d9a9264dbeb78e6ce6bc6969f9",
        "IPY_MODEL_feef77019bd84c6f9951417bc18c70ae",
        "IPY_MODEL_8bc032420bc24756bac45c961b103b4a",
        "IPY_MODEL_42f732fa6faf44d6a779861cab4eabef",
        "IPY_MODEL_e2b31cb94f544fb8b2ced4e746c59343",
        "IPY_MODEL_ed31b3e20849435eb644015ce6f67379",
        "IPY_MODEL_49d687d3af8446b7800294b77e611872",
        "IPY_MODEL_58864ee048454d2eb981aa08f346cc41",
        "IPY_MODEL_cc22394feae04d948dc28602cbebb81e",
        "IPY_MODEL_c4326138610d41e4b0baae94442cba55",
        "IPY_MODEL_d2d336ff224f48eaaab445bac0253153",
        "IPY_MODEL_a3a822c635984f3bafa86f98f5c1ae6e",
        "IPY_MODEL_929ed722490941ff932f8e6e36ec4982",
        "IPY_MODEL_5168d26559b746a1a390a4504603acff",
        "IPY_MODEL_db724b609384485eaaf524e3a28419fb",
        "IPY_MODEL_6eda861dec004b51a8225f2796e01b82",
        "IPY_MODEL_9fad881052664ca4a2e6028054b49fdb",
        "IPY_MODEL_83a74b038a704438b3373572e3fb49c5",
        "IPY_MODEL_99dc89b442914a64960f258bd70ce34d",
        "IPY_MODEL_5e8c885a09564f7c9f453a4538bdddf9",
        "IPY_MODEL_b8bfddc46bf2405f98416281536c4382",
        "IPY_MODEL_2bb7c0f4d7454064a7eb20260a010cba",
        "IPY_MODEL_9a27a31a0771415881307225a9d46f0b",
        "IPY_MODEL_7c3927ac808f48cd986ebecc7695adf1",
        "IPY_MODEL_d154af75d2ab438e8d6bf4de4db3df02",
        "IPY_MODEL_2af13f4e8479498d97b2a3d7f298ea70",
        "IPY_MODEL_708ce3aaae6847b8a71919883a5d4840",
        "IPY_MODEL_e44aa91db7464c5db9f7fc490aef15c2",
        "IPY_MODEL_9c6cf3eede864ba0bf97afa87b2dc9fb",
        "IPY_MODEL_c6051ae3c2df4bd3aa43718bc380a6bb",
        "IPY_MODEL_99d631d73fde4da381bb2bf99ca498cf",
        "IPY_MODEL_16e87a94e4fe4199bace83b7dd7aaba3",
        "IPY_MODEL_6ae9dd585e904a1b8976160f12b04a41",
        "IPY_MODEL_839e44b942d04bfc817526f621daeeac",
        "IPY_MODEL_e965f07c2d604d1e8b106fe83a7e935e",
        "IPY_MODEL_20409ca93cfe4d55aa3d4a19db872714",
        "IPY_MODEL_4dd31d2d288f46ce87c17fa969747b41",
        "IPY_MODEL_8eda2e9d781e47c4bdde6f4648d9a106",
        "IPY_MODEL_248f5b4f301d4243ab7f785e74be9298",
        "IPY_MODEL_41eb6482874e4453959cd7dac914527a",
        "IPY_MODEL_197d37e5a9b14d2ca3d0f08e066397b1",
        "IPY_MODEL_857e8a4a0f8141f4ab7870c132a1ea1f",
        "IPY_MODEL_a1cb69a7561a449a9a7ae97f3e8ea7f8",
        "IPY_MODEL_1f82b8b20a89490dabe36550698482f3",
        "IPY_MODEL_cd3c838d0462425cb7f9d04ac068b3fa",
        "IPY_MODEL_65785416119e4bb5bb673e7fe688c7bd",
        "IPY_MODEL_0ead1b4676a04df89549e1aaffaabfe6",
        "IPY_MODEL_a21fe8b0623c4ad495198b2d54293bbe",
        "IPY_MODEL_b49501dd06844723986670544ec05831",
        "IPY_MODEL_6c3c8a9304fe40d1a721ddca9e4c31c4",
        "IPY_MODEL_1c7adfd3bd5146dab0dcd14cc32f3a12",
        "IPY_MODEL_0f8309ee34374463abfcb983fc2c27ab",
        "IPY_MODEL_b3a6af1f4e0a4b41937db19e833c6932",
        "IPY_MODEL_d2f3e02a15a5406cbe77dd7056af13d3"
       ],
       "columns": 20,
       "layout": "IPY_MODEL_af1812d731ec4ce7864a6e040f8b9019",
       "rows": 21
      }
     },
     "b49501dd06844723986670544ec05831": {
      "model_module": "ipysheet",
      "model_module_version": "~0.4.4",
      "model_name": "CellRangeModel",
      "state": {
       "_view_module": null,
       "_view_module_version": "",
       "column_end": 2,
       "column_start": 2,
       "row_end": 11,
       "row_start": 11,
       "type": "text",
       "value": "4.2-5.9"
      }
     },
     "b4a16421fc0f45f3af82e14e6ace937b": {
      "model_module": "ipysheet",
      "model_module_version": "~0.4.4",
      "model_name": "CellRangeModel",
      "state": {
       "_view_module": null,
       "_view_module_version": "",
       "column_end": 0,
       "column_start": 0,
       "type": "text",
       "value": "Category"
      }
     },
     "b4c43c7614a340af82e0f08d1450540b": {
      "model_module": "ipysheet",
      "model_module_version": "~0.4.4",
      "model_name": "CellRangeModel",
      "state": {
       "_view_module": null,
       "_view_module_version": "",
       "column_end": 0,
       "column_start": 0,
       "row_end": 2,
       "row_start": 2,
       "type": "text",
       "value": "Batch Size"
      }
     },
     "b4c911ab4992438293b2d11b0c3e2fcc": {
      "model_module": "@jupyter-widgets/controls",
      "model_module_version": "1.5.0",
      "model_name": "DescriptionStyleModel",
      "state": {
       "description_width": ""
      }
     },
     "b4f63d13efb94679bd379926b68200d0": {
      "model_module": "ipysheet",
      "model_module_version": "~0.4.4",
      "model_name": "CellRangeModel",
      "state": {
       "_view_module": null,
       "_view_module_version": "",
       "column_end": 5,
       "column_start": 5,
       "row_end": 2,
       "row_start": 2,
       "type": "text",
       "value": "Black (Patent) Malt"
      }
     },
     "b568c602c2574063b6997baf89c3da04": {
      "model_module": "ipysheet",
      "model_module_version": "~0.4.4",
      "model_name": "CellRangeModel",
      "state": {
       "_view_module": null,
       "_view_module_version": "",
       "column_end": 0,
       "column_start": 0,
       "row_end": 8,
       "row_start": 8,
       "type": "text",
       "value": "Bitterness"
      }
     },
     "b5b7444086b14e62bf2b3229a4033d30": {
      "model_module": "ipysheet",
      "model_module_version": "~0.4.4",
      "model_name": "CellRangeModel",
      "state": {
       "_view_module": null,
       "_view_module_version": "",
       "row_end": 5,
       "row_start": 5,
       "style": {
        "backgroundColor": "yellow"
       },
       "type": "numeric",
       "value": 155
      }
     },
     "b61571bb02924398b78bb71e8c5dd0b3": {
      "model_module": "@jupyter-widgets/base",
      "model_module_version": "1.2.0",
      "model_name": "LayoutModel",
      "state": {
       "height": "auto",
       "width": "auto"
      }
     },
     "b66d3616f14941b98990123562ebb550": {
      "model_module": "ipysheet",
      "model_module_version": "~0.4.4",
      "model_name": "CellRangeModel",
      "state": {
       "_view_module": null,
       "_view_module_version": "",
       "column_end": 0,
       "column_start": 0,
       "row_end": 2,
       "row_start": 2,
       "type": "text",
       "value": "Batch Size"
      }
     },
     "b6934b57281d412390caa88360abe634": {
      "model_module": "ipysheet",
      "model_module_version": "~0.4.4",
      "model_name": "CellRangeModel",
      "state": {
       "_view_module": null,
       "_view_module_version": "",
       "column_end": 5,
       "column_start": 5,
       "row_end": 3,
       "row_start": 3,
       "type": "text",
       "value": "Oats, Flaked"
      }
     },
     "b70cc07b5f804a8d8c53f1ec0bb106c9": {
      "model_module": "ipysheet",
      "model_module_version": "~0.4.4",
      "model_name": "CellRangeModel",
      "state": {
       "_view_module": null,
       "_view_module_version": "",
       "column_end": 6,
       "column_start": 6,
       "row_end": 3,
       "row_start": 3,
       "style": {
        "backgroundColor": "yellow"
       },
       "type": "numeric",
       "value": 1
      }
     },
     "b7805b7ac29b44b5b8b33cee245aa965": {
      "model_module": "ipysheet",
      "model_module_version": "~0.4.4",
      "model_name": "CellRangeModel",
      "state": {
       "_view_module": null,
       "_view_module_version": "",
       "column_end": 8,
       "column_start": 8,
       "row_end": 4,
       "row_start": 4,
       "type": "numeric",
       "value": 17
      }
     },
     "b80cd7383741490aada0aa6a18637159": {
      "model_module": "ipysheet",
      "model_module_version": "~0.4.4",
      "model_name": "CellRangeModel",
      "state": {
       "_view_module": null,
       "_view_module_version": "",
       "column_end": 15,
       "column_start": 15,
       "row_end": 2,
       "row_start": 2,
       "type": "text",
       "value": "Safale S-04"
      }
     },
     "b873f5cda1944bc1bf167b58fb02d8d8": {
      "model_module": "ipysheet",
      "model_module_version": "~0.4.4",
      "model_name": "CellRangeModel",
      "state": {
       "_view_module": null,
       "_view_module_version": "",
       "row_end": 16,
       "row_start": 16,
       "style": {
        "backgroundColor": "yellow"
       },
       "type": "numeric",
       "value": 1.5
      }
     },
     "b88f457a804c436c85267f9723adbf6c": {
      "model_module": "ipysheet",
      "model_module_version": "~0.4.4",
      "model_name": "CellRangeModel",
      "state": {
       "_view_module": null,
       "_view_module_version": "",
       "column_end": 0,
       "column_start": 0,
       "row_end": 17,
       "row_start": 17,
       "type": "text",
       "value": "Post-Mash Gravity"
      }
     },
     "b8bfddc46bf2405f98416281536c4382": {
      "model_module": "ipysheet",
      "model_module_version": "~0.4.4",
      "model_name": "CellRangeModel",
      "state": {
       "_view_module": null,
       "_view_module_version": "",
       "column_end": 10,
       "column_start": 10,
       "row_end": 3,
       "row_start": 3,
       "type": "text",
       "value": "Fuggles"
      }
     },
     "b92f8a0315a649099974abf4e45997cc": {
      "model_module": "ipysheet",
      "model_module_version": "~0.4.4",
      "model_name": "CellRangeModel",
      "state": {
       "_view_module": null,
       "_view_module_version": "",
       "column_end": 7,
       "column_start": 7,
       "row_end": 6,
       "row_start": 6,
       "type": "text",
       "value": "Mash"
      }
     },
     "b9de2650785a455397312516ef56f034": {
      "model_module": "ipysheet",
      "model_module_version": "~0.4.4",
      "model_name": "CellRangeModel",
      "state": {
       "_view_module": null,
       "_view_module_version": "",
       "column_end": 16,
       "column_start": 16,
       "type": "text",
       "value": "Attenuation (listed)"
      }
     },
     "b9ef8bfee3c2434bb4d902deaf49a5f2": {
      "model_module": "ipysheet",
      "model_module_version": "~0.4.4",
      "model_name": "CellRangeModel",
      "state": {
       "_view_module": null,
       "_view_module_version": "",
       "column_end": 8,
       "column_start": 8,
       "row_end": 6,
       "row_start": 6,
       "type": "numeric",
       "value": 10
      }
     },
     "bb07d40925a84a2eb6639ee1b4b7d813": {
      "model_module": "ipysheet",
      "model_module_version": "~0.4.4",
      "model_name": "CellRangeModel",
      "state": {
       "_view_module": null,
       "_view_module_version": "",
       "column_end": 10,
       "column_start": 10,
       "type": "text",
       "value": "Name"
      }
     },
     "bbaa075a3dba444db0cb252489e8bb35": {
      "model_module": "ipysheet",
      "model_module_version": "~0.4.4",
      "model_name": "CellRangeModel",
      "state": {
       "_view_module": null,
       "_view_module_version": "",
       "column_end": 0,
       "column_start": 0,
       "type": "text",
       "value": "Category"
      }
     },
     "bc14268972144e6ebd366b3ec7d50543": {
      "model_module": "ipysheet",
      "model_module_version": "~0.4.4",
      "model_name": "CellRangeModel",
      "state": {
       "_view_module": null,
       "_view_module_version": "",
       "row_end": 9,
       "row_start": 9,
       "style": {
        "backgroundColor": "red"
       },
       "type": "numeric",
       "value": 33.9
      }
     },
     "bc9433c9e1314177a14ecd2371d13a7b": {
      "model_module": "ipysheet",
      "model_module_version": "~0.4.4",
      "model_name": "CellRangeModel",
      "state": {
       "_view_module": null,
       "_view_module_version": "",
       "column_end": 6,
       "column_start": 6,
       "row_end": 4,
       "row_start": 4,
       "style": {
        "backgroundColor": "yellow"
       },
       "type": "numeric",
       "value": 1
      }
     },
     "bd054ea4886940229bdc89836b76746f": {
      "model_module": "ipysheet",
      "model_module_version": "~0.4.4",
      "model_name": "CellRangeModel",
      "state": {
       "_view_module": null,
       "_view_module_version": "",
       "column_end": 0,
       "column_start": 0,
       "row_end": 3,
       "row_start": 3,
       "type": "text",
       "value": "Boil Size"
      }
     },
     "bd30e379b5fa41a290cd23bc3a5b9a85": {
      "model_module": "ipysheet",
      "model_module_version": "~0.4.4",
      "model_name": "CellRangeModel",
      "state": {
       "_view_module": null,
       "_view_module_version": "",
       "column_end": 0,
       "column_start": 0,
       "row_end": 0,
       "row_start": 0,
       "type": "text",
       "value": "Summary"
      }
     },
     "bdb8074139434287b886fc78413b3273": {
      "model_module": "ipysheet",
      "model_module_version": "~0.4.4",
      "model_name": "CellRangeModel",
      "state": {
       "_view_module": null,
       "_view_module_version": "",
       "column_end": 5,
       "column_start": 5,
       "row_end": 0,
       "row_start": 0,
       "type": "text",
       "value": "Fermentables"
      }
     },
     "be265740944347d5a15fc7a41ad9e379": {
      "model_module": "ipysheet",
      "model_module_version": "~0.4.4",
      "model_name": "CellRangeModel",
      "state": {
       "_view_module": null,
       "_view_module_version": "",
       "row_end": 20,
       "row_start": 20,
       "style": {
        "backgroundColor": "red"
       },
       "type": "numeric",
       "value": 1.145
      }
     },
     "bfe49af2ef474530adbdc901300bbabf": {
      "model_module": "ipysheet",
      "model_module_version": "~0.4.4",
      "model_name": "CellRangeModel",
      "state": {
       "_view_module": null,
       "_view_module_version": "",
       "column_end": 0,
       "column_start": 0,
       "row_end": 4,
       "row_start": 4,
       "type": "text",
       "value": "Boil Time"
      }
     },
     "c0627793dba94ddc9036209e30218396": {
      "model_module": "ipysheet",
      "model_module_version": "~0.4.4",
      "model_name": "CellRangeModel",
      "state": {
       "_view_module": null,
       "_view_module_version": "",
       "column_end": 0,
       "column_start": 0,
       "row_end": 4,
       "row_start": 4,
       "type": "text",
       "value": "Boil Time"
      }
     },
     "c087b9ab51d8473693a408d751d6d1c7": {
      "model_module": "ipysheet",
      "model_module_version": "~0.4.4",
      "model_name": "CellRangeModel",
      "state": {
       "_view_module": null,
       "_view_module_version": "",
       "column_end": 5,
       "column_start": 5,
       "row_end": 5,
       "row_start": 5,
       "type": "text",
       "value": "Dry Extract (DME) - Amber"
      }
     },
     "c0986c6d25dc425da029f76622bc5a49": {
      "model_module": "ipysheet",
      "model_module_version": "~0.4.4",
      "model_name": "CellRangeModel",
      "state": {
       "_view_module": null,
       "_view_module_version": "",
       "column_end": 7,
       "column_start": 7,
       "row_end": 4,
       "row_start": 4,
       "type": "text",
       "value": "Extract"
      }
     },
     "c184011a493e4720878076d53dd53555": {
      "model_module": "ipysheet",
      "model_module_version": "~0.4.4",
      "model_name": "CellRangeModel",
      "state": {
       "_view_module": null,
       "_view_module_version": "",
       "column_end": 11,
       "column_start": 11,
       "row_end": 2,
       "row_start": 2,
       "style": {
        "backgroundColor": "yellow"
       },
       "type": "numeric",
       "value": 1
      }
     },
     "c1bca2f2b47a4552925c282adbbec89b": {
      "model_module": "ipysheet",
      "model_module_version": "~0.4.4",
      "model_name": "CellRangeModel",
      "state": {
       "_view_module": null,
       "_view_module_version": "",
       "column_end": 8,
       "column_start": 8,
       "row_end": 2,
       "row_start": 2,
       "type": "numeric",
       "value": 1
      }
     },
     "c1bd5a39cf0e40aaaf0bdfcab7050893": {
      "model_module": "@jupyter-widgets/base",
      "model_module_version": "1.2.0",
      "model_name": "LayoutModel",
      "state": {}
     },
     "c1bd748190774e3f9eef1ad7d01fe6ec": {
      "model_module": "@jupyter-widgets/controls",
      "model_module_version": "1.5.0",
      "model_name": "TextModel",
      "state": {
       "description": "fermentable:",
       "layout": "IPY_MODEL_1b1690a0d3cc46bca3aeddaa57a3722e",
       "placeholder": "Type something",
       "style": "IPY_MODEL_77e376acda664b7ab5b183d5f20006dc",
       "value": "Dry"
      }
     },
     "c201cabe2c8f42e4adb65f66c6315b09": {
      "model_module": "ipysheet",
      "model_module_version": "~0.4.4",
      "model_name": "CellRangeModel",
      "state": {
       "_view_module": null,
       "_view_module_version": "",
       "column_end": 18,
       "column_start": 18,
       "type": "text",
       "value": "Min Temp (F)"
      }
     },
     "c2b410bace3945a09bfdeb16ee45632e": {
      "model_module": "ipysheet",
      "model_module_version": "~0.4.4",
      "model_name": "CellRangeModel",
      "state": {
       "_view_module": null,
       "_view_module_version": "",
       "column_end": 6,
       "column_start": 6,
       "row_end": 5,
       "row_start": 5,
       "style": {
        "backgroundColor": "yellow"
       },
       "type": "numeric",
       "value": 1
      }
     },
     "c2be015cc7f44174bd0af1419a2e44a5": {
      "model_module": "ipysheet",
      "model_module_version": "~0.4.4",
      "model_name": "CellRangeModel",
      "state": {
       "_view_module": null,
       "_view_module_version": "",
       "column_end": 10,
       "column_start": 10,
       "row_end": 3,
       "row_start": 3,
       "type": "text",
       "value": "Fuggles"
      }
     },
     "c367f8c399a94eadacdf0dc4218e6207": {
      "model_module": "@jupyter-widgets/base",
      "model_module_version": "1.2.0",
      "model_name": "LayoutModel",
      "state": {}
     },
     "c37c1d979e5d4075aecdc7d814ff4060": {
      "model_module": "ipysheet",
      "model_module_version": "~0.4.4",
      "model_name": "CellRangeModel",
      "state": {
       "_view_module": null,
       "_view_module_version": "",
       "row_end": 9,
       "row_start": 9,
       "style": {
        "backgroundColor": "red"
       },
       "type": "numeric",
       "value": 42
      }
     },
     "c3d330f9b8234d21988a1e1f1bbf0a8f": {
      "model_module": "ipysheet",
      "model_module_version": "~0.4.4",
      "model_name": "CellRangeModel",
      "state": {
       "_view_module": null,
       "_view_module_version": "",
       "column_end": 17,
       "column_start": 17,
       "row_end": 2,
       "row_start": 2,
       "style": {
        "backgroundColor": "red"
       },
       "type": "numeric",
       "value": 60.625
      }
     },
     "c41e03f7283142769d1c1223769d4fe5": {
      "model_module": "ipysheet",
      "model_module_version": "~0.4.4",
      "model_name": "CellRangeModel",
      "state": {
       "_view_module": null,
       "_view_module_version": "",
       "column_end": 8,
       "column_start": 8,
       "row_end": 2,
       "row_start": 2,
       "type": "numeric",
       "value": 1
      }
     },
     "c4326138610d41e4b0baae94442cba55": {
      "model_module": "ipysheet",
      "model_module_version": "~0.4.4",
      "model_name": "CellRangeModel",
      "state": {
       "_view_module": null,
       "_view_module_version": "",
       "column_end": 6,
       "column_start": 6,
       "row_end": 6,
       "row_start": 6,
       "style": {
        "backgroundColor": "yellow"
       },
       "type": "numeric",
       "value": 1.5
      }
     },
     "c434abbae43c4ce1bf3ef657912377fd": {
      "model_module": "ipysheet",
      "model_module_version": "~0.4.4",
      "model_name": "CellRangeModel",
      "state": {
       "_view_module": null,
       "_view_module_version": "",
       "column_end": 18,
       "column_start": 18,
       "type": "text",
       "value": "Min Temp (F)"
      }
     },
     "c4daf9b7127c44c0b4dac54242a61878": {
      "model_module": "ipysheet",
      "model_module_version": "~0.4.4",
      "model_name": "CellRangeModel",
      "state": {
       "_view_module": null,
       "_view_module_version": "",
       "column_end": 7,
       "column_start": 7,
       "row_end": 6,
       "row_start": 6,
       "type": "text",
       "value": "Mash"
      }
     },
     "c55042df839d46fe92a9f999cc14a9dd": {
      "model_module": "ipysheet",
      "model_module_version": "~0.4.4",
      "model_name": "CellRangeModel",
      "state": {
       "_view_module": null,
       "_view_module_version": "",
       "row_end": 3,
       "row_start": 3,
       "style": {
        "backgroundColor": "yellow"
       },
       "type": "numeric",
       "value": 1.75
      }
     },
     "c56d6fd9945c42fc9908db92d315eeeb": {
      "model_module": "ipysheet",
      "model_module_version": "~0.4.4",
      "model_name": "CellRangeModel",
      "state": {
       "_view_module": null,
       "_view_module_version": "",
       "row_end": 7,
       "row_start": 7,
       "style": {
        "backgroundColor": "red"
       },
       "type": "numeric",
       "value": 1.014
      }
     },
     "c5b6fb8a000c49329cd2addde2bf8314": {
      "model_module": "ipysheet",
      "model_module_version": "~0.4.4",
      "model_name": "CellRangeModel",
      "state": {
       "_view_module": null,
       "_view_module_version": "",
       "column_end": 5,
       "column_start": 5,
       "row_end": 2,
       "row_start": 2,
       "type": "text",
       "value": "Black (Patent) Malt"
      }
     },
     "c6051ae3c2df4bd3aa43718bc380a6bb": {
      "model_module": "ipysheet",
      "model_module_version": "~0.4.4",
      "model_name": "CellRangeModel",
      "state": {
       "_view_module": null,
       "_view_module_version": "",
       "row_end": 2,
       "row_start": 2,
       "style": {
        "backgroundColor": "yellow"
       },
       "type": "numeric",
       "value": 2.5
      }
     },
     "c6f3eeed40f84670859354a9a8c143c3": {
      "model_module": "ipysheet",
      "model_module_version": "~0.4.4",
      "model_name": "CellRangeModel",
      "state": {
       "_view_module": null,
       "_view_module_version": "",
       "column_end": 16,
       "column_start": 16,
       "type": "text",
       "value": "Attenuation (listed)"
      }
     },
     "c712667d31354453a830f6430414e7fd": {
      "model_module": "ipysheet",
      "model_module_version": "~0.4.4",
      "model_name": "CellRangeModel",
      "state": {
       "_view_module": null,
       "_view_module_version": "",
       "column_end": 6,
       "column_start": 6,
       "row_end": 3,
       "row_start": 3,
       "style": {
        "backgroundColor": "yellow"
       },
       "type": "numeric",
       "value": 1
      }
     },
     "c7479a84f4a2425999d9705d3ea4785e": {
      "model_module": "ipysheet",
      "model_module_version": "~0.4.4",
      "model_name": "CellRangeModel",
      "state": {
       "_view_module": null,
       "_view_module_version": "",
       "type": "text",
       "value": "Value"
      }
     },
     "c7c29db4a9504123af0e4e90bb15a80f": {
      "model_module": "ipysheet",
      "model_module_version": "~0.4.4",
      "model_name": "CellRangeModel",
      "state": {
       "_view_module": null,
       "_view_module_version": "",
       "column_end": 7,
       "column_start": 7,
       "row_end": 3,
       "row_start": 3,
       "type": "text",
       "value": "Mash"
      }
     },
     "c7f00b399d2a45e894a7ca114f823eff": {
      "model_module": "ipysheet",
      "model_module_version": "~0.4.4",
      "model_name": "CellRangeModel",
      "state": {
       "_view_module": null,
       "_view_module_version": "",
       "column_end": 2,
       "column_start": 2,
       "row_end": 7,
       "row_start": 7,
       "type": "text",
       "value": "1.01-1.018"
      }
     },
     "c8749572f3af406681624853cbad203c": {
      "model_module": "ipysheet",
      "model_module_version": "~0.4.4",
      "model_name": "CellRangeModel",
      "state": {
       "_view_module": null,
       "_view_module_version": "",
       "column_end": 8,
       "column_start": 8,
       "row_end": 2,
       "row_start": 2,
       "type": "numeric",
       "value": 1
      }
     },
     "c8838be3e9fa40e1ba49abb65c9ca417": {
      "model_module": "ipysheet",
      "model_module_version": "~0.4.4",
      "model_name": "CellRangeModel",
      "state": {
       "_view_module": null,
       "_view_module_version": "",
       "row_end": 18,
       "row_start": 18,
       "style": {
        "backgroundColor": "red"
       },
       "type": "numeric",
       "value": 1.078
      }
     },
     "c891f3f9196f43eda5a9aee31b9e86e6": {
      "model_module": "ipysheet",
      "model_module_version": "~0.4.4",
      "model_name": "CellRangeModel",
      "state": {
       "_view_module": null,
       "_view_module_version": "",
       "column_end": 7,
       "column_start": 7,
       "row_end": 3,
       "row_start": 3,
       "type": "text",
       "value": "Mash"
      }
     },
     "c8c6cf60822a422493fd3a0567bd94d6": {
      "model_module": "ipysheet",
      "model_module_version": "~0.4.4",
      "model_name": "CellRangeModel",
      "state": {
       "_view_module": null,
       "_view_module_version": "",
       "column_end": 5,
       "column_start": 5,
       "row_end": 3,
       "row_start": 3,
       "type": "text",
       "value": "Oats, Flaked"
      }
     },
     "c8cb52f103964990a8166f9ad124bddc": {
      "model_module": "ipysheet",
      "model_module_version": "~0.4.4",
      "model_name": "CellRangeModel",
      "state": {
       "_view_module": null,
       "_view_module_version": "",
       "column_end": 10,
       "column_start": 10,
       "row_end": 0,
       "row_start": 0,
       "type": "text",
       "value": "Hops"
      }
     },
     "c8f15b9e9d2449c686db101f96459659": {
      "model_module": "ipysheet",
      "model_module_version": "~0.4.4",
      "model_name": "CellRangeModel",
      "state": {
       "_view_module": null,
       "_view_module_version": "",
       "column_end": 2,
       "column_start": 2,
       "row_end": 7,
       "row_start": 7,
       "type": "text",
       "value": "1.01-1.018"
      }
     },
     "c9e1b71cca8746b99dd0a70b9d910d62": {
      "model_module": "ipysheet",
      "model_module_version": "~0.4.4",
      "model_name": "CellRangeModel",
      "state": {
       "_view_module": null,
       "_view_module_version": "",
       "column_end": 2,
       "column_start": 2,
       "row_end": 11,
       "row_start": 11,
       "type": "text",
       "value": "4.2-5.9"
      }
     },
     "ca2085436cde42029589755df32aa25b": {
      "model_module": "ipysheet",
      "model_module_version": "~0.4.4",
      "model_name": "CellRangeModel",
      "state": {
       "_view_module": null,
       "_view_module_version": "",
       "column_end": 0,
       "column_start": 0,
       "row_end": 5,
       "row_start": 5,
       "type": "text",
       "value": "Mash Temp"
      }
     },
     "ca3d44c0a9f14097b00d4462a995b5e0": {
      "model_module": "ipysheet",
      "model_module_version": "~0.4.4",
      "model_name": "CellRangeModel",
      "state": {
       "_view_module": null,
       "_view_module_version": "",
       "column_end": 3,
       "column_start": 3,
       "row_end": 11,
       "row_start": 11,
       "style": {
        "backgroundColor": "red"
       },
       "type": "numeric",
       "value": ""
      }
     },
     "ca429be1f2f549fd806149ccfb729e01": {
      "model_module": "ipysheet",
      "model_module_version": "~0.4.4",
      "model_name": "CellRangeModel",
      "state": {
       "_view_module": null,
       "_view_module_version": "",
       "row_end": 20,
       "row_start": 20,
       "style": {
        "backgroundColor": "red"
       },
       "type": "numeric",
       "value": 1.136
      }
     },
     "cadf7eb5b5ca46d891ccc0990dc2ebf4": {
      "model_module": "ipysheet",
      "model_module_version": "~0.4.4",
      "model_name": "CellRangeModel",
      "state": {
       "_view_module": null,
       "_view_module_version": "",
       "column_end": 10,
       "column_start": 10,
       "row_end": 3,
       "row_start": 3,
       "type": "text",
       "value": "Fuggles"
      }
     },
     "cb8b0a800f904fb6a6ca71e391e27ede": {
      "model_module": "@jupyter-widgets/controls",
      "model_module_version": "1.5.0",
      "model_name": "VBoxModel",
      "state": {
       "_dom_classes": [
        "widget-interact"
       ],
       "children": [
        "IPY_MODEL_89160d23a2dd4567b3a2c93e1ccb6eec",
        "IPY_MODEL_ad58830ed425458e98e039021f880e02"
       ],
       "layout": "IPY_MODEL_1b06bf1c3ff24681bfb3c78f4ac213fd"
      }
     },
     "cc22394feae04d948dc28602cbebb81e": {
      "model_module": "ipysheet",
      "model_module_version": "~0.4.4",
      "model_name": "CellRangeModel",
      "state": {
       "_view_module": null,
       "_view_module_version": "",
       "column_end": 5,
       "column_start": 5,
       "row_end": 6,
       "row_start": 6,
       "type": "text",
       "value": "Briess - 6 Row Brewers Malt"
      }
     },
     "cceae719d1be4f74a1a165de73b8b2b0": {
      "model_module": "ipysheet",
      "model_module_version": "~0.4.4",
      "model_name": "CellRangeModel",
      "state": {
       "_view_module": null,
       "_view_module_version": "",
       "row_end": 11,
       "row_start": 11,
       "style": {
        "backgroundColor": "red"
       },
       "type": "numeric",
       "value": 5.12
      }
     },
     "ccfd0d87a2e94944bc885904642bb4f2": {
      "model_module": "ipysheet",
      "model_module_version": "~0.4.4",
      "model_name": "CellRangeModel",
      "state": {
       "_view_module": null,
       "_view_module_version": "",
       "column_end": 19,
       "column_start": 19,
       "type": "text",
       "value": "Max Temp (F)"
      }
     },
     "cd108a41ed724537b1621827d236261a": {
      "model_module": "ipysheet",
      "model_module_version": "~0.4.4",
      "model_name": "CellRangeModel",
      "state": {
       "_view_module": null,
       "_view_module_version": "",
       "column_end": 0,
       "column_start": 0,
       "row_end": 8,
       "row_start": 8,
       "type": "text",
       "value": "Bitterness"
      }
     },
     "cd3c838d0462425cb7f9d04ac068b3fa": {
      "model_module": "ipysheet",
      "model_module_version": "~0.4.4",
      "model_name": "CellRangeModel",
      "state": {
       "_view_module": null,
       "_view_module_version": "",
       "column_end": 2,
       "column_start": 2,
       "row_end": 6,
       "row_start": 6,
       "type": "text",
       "value": "1.048-1.065"
      }
     },
     "cd842ebeda1c49cea2e2f0694504478a": {
      "model_module": "ipysheet",
      "model_module_version": "~0.4.4",
      "model_name": "CellRangeModel",
      "state": {
       "_view_module": null,
       "_view_module_version": "",
       "column_end": 0,
       "column_start": 0,
       "row_end": 19,
       "row_start": 19,
       "type": "text",
       "value": "Post-boil Volume"
      }
     },
     "ce49a9aa3eae44f390618e5c3c0f32a8": {
      "model_module": "ipysheet",
      "model_module_version": "~0.4.4",
      "model_name": "CellRangeModel",
      "state": {
       "_view_module": null,
       "_view_module_version": "",
       "column_end": 18,
       "column_start": 18,
       "type": "text",
       "value": "Min Temp (F)"
      }
     },
     "ce692ff465c048d393a95560bc6d6620": {
      "model_module": "ipysheet",
      "model_module_version": "~0.4.4",
      "model_name": "CellRangeModel",
      "state": {
       "_view_module": null,
       "_view_module_version": "",
       "row_end": 3,
       "row_start": 3,
       "style": {
        "backgroundColor": "yellow"
       },
       "type": "numeric",
       "value": 1.75
      }
     },
     "cf76e3ebcc3a4f30ab9b58fd185d9cb3": {
      "model_module": "ipysheet",
      "model_module_version": "~0.4.4",
      "model_name": "CellRangeModel",
      "state": {
       "_view_module": null,
       "_view_module_version": "",
       "column_end": 8,
       "column_start": 8,
       "row_end": 7,
       "row_start": 7,
       "type": "numeric",
       "value": 1
      }
     },
     "cfd9718952be43c4b0fdc3adc8d1e4d3": {
      "model_module": "ipysheet",
      "model_module_version": "~0.4.4",
      "model_name": "CellRangeModel",
      "state": {
       "_view_module": null,
       "_view_module_version": "",
       "column_end": 10,
       "column_start": 10,
       "row_end": 2,
       "row_start": 2,
       "type": "text",
       "value": "Willamette"
      }
     },
     "d0105f9c9250495987d48d27e8b60486": {
      "model_module": "ipysheet",
      "model_module_version": "~0.4.4",
      "model_name": "CellRangeModel",
      "state": {
       "_view_module": null,
       "_view_module_version": "",
       "column_end": 15,
       "column_start": 15,
       "row_end": 2,
       "row_start": 2,
       "type": "text",
       "value": "Safale S-04"
      }
     },
     "d06e42b723f84407a40251c2acdd397f": {
      "model_module": "ipysheet",
      "model_module_version": "~0.4.4",
      "model_name": "CellRangeModel",
      "state": {
       "_view_module": null,
       "_view_module_version": "",
       "column_end": 17,
       "column_start": 17,
       "row_end": 2,
       "row_start": 2,
       "style": {
        "backgroundColor": "red"
       },
       "type": "numeric",
       "value": 73.125
      }
     },
     "d0b001cd0b8c4ecaa6a2bbceef974279": {
      "model_module": "ipysheet",
      "model_module_version": "~0.4.4",
      "model_name": "CellRangeModel",
      "state": {
       "_view_module": null,
       "_view_module_version": "",
       "column_end": 0,
       "column_start": 0,
       "row_end": 6,
       "row_start": 6,
       "type": "text",
       "value": "OG"
      }
     },
     "d0bcfac04abb409e9981a0a523721727": {
      "model_module": "ipysheet",
      "model_module_version": "~0.4.4",
      "model_name": "CellRangeModel",
      "state": {
       "_view_module": null,
       "_view_module_version": "",
       "row_end": 2,
       "row_start": 2,
       "style": {
        "backgroundColor": "yellow"
       },
       "type": "numeric",
       "value": 2.5
      }
     },
     "d0fc85d0913a44978d8df8e2b94c29c9": {
      "model_module": "ipysheet",
      "model_module_version": "~0.4.4",
      "model_name": "CellRangeModel",
      "state": {
       "_view_module": null,
       "_view_module_version": "",
       "column_end": 8,
       "column_start": 8,
       "row_end": 5,
       "row_start": 5,
       "type": "numeric",
       "value": 17
      }
     },
     "d10c95316ab744bfad2586a1ed1aa48f": {
      "model_module": "ipysheet",
      "model_module_version": "~0.4.4",
      "model_name": "CellRangeModel",
      "state": {
       "_view_module": null,
       "_view_module_version": "",
       "column_end": 11,
       "column_start": 11,
       "row_end": 3,
       "row_start": 3,
       "style": {
        "backgroundColor": "yellow"
       },
       "type": "numeric",
       "value": 0.75
      }
     },
     "d154af75d2ab438e8d6bf4de4db3df02": {
      "model_module": "ipysheet",
      "model_module_version": "~0.4.4",
      "model_name": "CellRangeModel",
      "state": {
       "_view_module": null,
       "_view_module_version": "",
       "column_end": 15,
       "column_start": 15,
       "row_end": 2,
       "row_start": 2,
       "type": "text",
       "value": "Safale S-04"
      }
     },
     "d19b5bef7e6b41fbb300948cdc15759a": {
      "model_module": "ipysheet",
      "model_module_version": "~0.4.4",
      "model_name": "CellRangeModel",
      "state": {
       "_view_module": null,
       "_view_module_version": "",
       "column_end": 6,
       "column_start": 6,
       "row_end": 5,
       "row_start": 5,
       "style": {
        "backgroundColor": "yellow"
       },
       "type": "numeric",
       "value": 1
      }
     },
     "d1ce548cb11c422091bc98a6e84da022": {
      "model_module": "ipysheet",
      "model_module_version": "~0.4.4",
      "model_name": "CellRangeModel",
      "state": {
       "_view_module": null,
       "_view_module_version": "",
       "column_end": 0,
       "column_start": 0,
       "type": "text",
       "value": "Category"
      }
     },
     "d1fbd2a04ac841f7b5e6fb06673e6bfb": {
      "model_module": "ipysheet",
      "model_module_version": "~0.4.4",
      "model_name": "CellRangeModel",
      "state": {
       "_view_module": null,
       "_view_module_version": "",
       "column_end": 5,
       "column_start": 5,
       "row_end": 2,
       "row_start": 2,
       "type": "text",
       "value": "Black (Patent) Malt"
      }
     },
     "d2b65ae124c64a9e84fad47b523314c3": {
      "model_module": "ipysheet",
      "model_module_version": "~0.4.4",
      "model_name": "CellRangeModel",
      "state": {
       "_view_module": null,
       "_view_module_version": "",
       "column_end": 7,
       "column_start": 7,
       "row_end": 5,
       "row_start": 5,
       "type": "text",
       "value": "Extract"
      }
     },
     "d2c8fbea3076492c83f9d0b6f39fd74c": {
      "model_module": "ipysheet",
      "model_module_version": "~0.4.4",
      "model_name": "CellRangeModel",
      "state": {
       "_view_module": null,
       "_view_module_version": "",
       "column_end": 7,
       "column_start": 7,
       "row_end": 7,
       "row_start": 7,
       "type": "text",
       "value": "Mash"
      }
     },
     "d2d336ff224f48eaaab445bac0253153": {
      "model_module": "ipysheet",
      "model_module_version": "~0.4.4",
      "model_name": "CellRangeModel",
      "state": {
       "_view_module": null,
       "_view_module_version": "",
       "column_end": 7,
       "column_start": 7,
       "row_end": 6,
       "row_start": 6,
       "type": "text",
       "value": "Mash"
      }
     },
     "d2f3e02a15a5406cbe77dd7056af13d3": {
      "model_module": "ipysheet",
      "model_module_version": "~0.4.4",
      "model_name": "CellRangeModel",
      "state": {
       "_view_module": null,
       "_view_module_version": "",
       "column_end": 3,
       "column_start": 3,
       "row_end": 11,
       "row_start": 11,
       "style": {
        "backgroundColor": "red"
       },
       "type": "numeric",
       "value": ""
      }
     },
     "d33780f19cdf4693896981748d2d017b": {
      "model_module": "ipysheet",
      "model_module_version": "~0.4.4",
      "model_name": "CellRangeModel",
      "state": {
       "_view_module": null,
       "_view_module_version": "",
       "row_end": 5,
       "row_start": 5,
       "style": {
        "backgroundColor": "yellow"
       },
       "type": "numeric",
       "value": 155
      }
     },
     "d3f5ae09cd3c432d94ce69e53469530a": {
      "model_module": "ipysheet",
      "model_module_version": "~0.4.4",
      "model_name": "CellRangeModel",
      "state": {
       "_view_module": null,
       "_view_module_version": "",
       "column_end": 0,
       "column_start": 0,
       "row_end": 17,
       "row_start": 17,
       "type": "text",
       "value": "Post-Mash Gravity"
      }
     },
     "d40439ea289e417b9410b498ebc0f245": {
      "model_module": "@jupyter-widgets/controls",
      "model_module_version": "1.5.0",
      "model_name": "DescriptionStyleModel",
      "state": {
       "description_width": ""
      }
     },
     "d456ef94bda54742b2bc26c88090a171": {
      "model_module": "ipysheet",
      "model_module_version": "~0.4.4",
      "model_name": "CellRangeModel",
      "state": {
       "_view_module": null,
       "_view_module_version": "",
       "column_end": 12,
       "column_start": 12,
       "row_end": 3,
       "row_start": 3,
       "style": {
        "backgroundColor": "yellow"
       },
       "type": "numeric",
       "value": 20
      }
     },
     "d4705d7dbd3243f7bb567e1d122f4044": {
      "model_module": "ipysheet",
      "model_module_version": "~0.4.4",
      "model_name": "CellRangeModel",
      "state": {
       "_view_module": null,
       "_view_module_version": "",
       "column_end": 0,
       "column_start": 0,
       "row_end": 9,
       "row_start": 9,
       "type": "text",
       "value": "Color"
      }
     },
     "d515d7b2db3243c99056587688b7e1d4": {
      "model_module": "ipysheet",
      "model_module_version": "~0.4.4",
      "model_name": "CellRangeModel",
      "state": {
       "_view_module": null,
       "_view_module_version": "",
       "column_end": 2,
       "column_start": 2,
       "row_end": 6,
       "row_start": 6,
       "type": "text",
       "value": "1.048-1.065"
      }
     },
     "d51a94fcd856450cbb4e82544e625c6c": {
      "model_module": "ipysheet",
      "model_module_version": "~0.4.4",
      "model_name": "CellRangeModel",
      "state": {
       "_view_module": null,
       "_view_module_version": "",
       "row_end": 6,
       "row_start": 6,
       "style": {
        "backgroundColor": "red"
       },
       "type": "numeric",
       "value": 1.058
      }
     },
     "d618790827244d079f721b42f2dd05f2": {
      "model_module": "ipysheet",
      "model_module_version": "~0.4.4",
      "model_name": "CellRangeModel",
      "state": {
       "_view_module": null,
       "_view_module_version": "",
       "column_end": 8,
       "column_start": 8,
       "row_end": 2,
       "row_start": 2,
       "type": "numeric",
       "value": 1
      }
     },
     "d64792f0dd0d408aaa5799e9359e165b": {
      "model_module": "ipysheet",
      "model_module_version": "~0.4.4",
      "model_name": "CellRangeModel",
      "state": {
       "_view_module": null,
       "_view_module_version": "",
       "row_end": 9,
       "row_start": 9,
       "style": {
        "backgroundColor": "red"
       },
       "type": "numeric",
       "value": 33.9
      }
     },
     "d656acab93ab4913b66adbba1ad4c723": {
      "model_module": "ipysheet",
      "model_module_version": "~0.4.4",
      "model_name": "CellRangeModel",
      "state": {
       "_view_module": null,
       "_view_module_version": "",
       "column_end": 0,
       "column_start": 0,
       "row_end": 17,
       "row_start": 17,
       "type": "text",
       "value": "Post-Mash Gravity"
      }
     },
     "d685e9aec55f47b0b33a5a299864d829": {
      "model_module": "ipysheet",
      "model_module_version": "~0.4.4",
      "model_name": "CellRangeModel",
      "state": {
       "_view_module": null,
       "_view_module_version": "",
       "column_end": 3,
       "column_start": 3,
       "row_end": 6,
       "row_start": 6,
       "style": {
        "backgroundColor": "red"
       },
       "type": "numeric",
       "value": ""
      }
     },
     "d771ddba2ec44bb39857c5406939624a": {
      "model_module": "ipysheet",
      "model_module_version": "~0.4.4",
      "model_name": "CellRangeModel",
      "state": {
       "_view_module": null,
       "_view_module_version": "",
       "column_end": 6,
       "column_start": 6,
       "row_end": 5,
       "row_start": 5,
       "style": {
        "backgroundColor": "yellow"
       },
       "type": "numeric",
       "value": 1
      }
     },
     "d7ad1e57c77d4a30ad1c069c2defc327": {
      "model_module": "ipysheet",
      "model_module_version": "~0.4.4",
      "model_name": "CellRangeModel",
      "state": {
       "_view_module": null,
       "_view_module_version": "",
       "row_end": 16,
       "row_start": 16,
       "style": {
        "backgroundColor": "yellow"
       },
       "type": "numeric",
       "value": 1.5
      }
     },
     "d7c2f80a023b4c4085f05f6b7fb25755": {
      "model_module": "ipysheet",
      "model_module_version": "~0.4.4",
      "model_name": "CellRangeModel",
      "state": {
       "_view_module": null,
       "_view_module_version": "",
       "row_end": 3,
       "row_start": 3,
       "style": {
        "backgroundColor": "yellow"
       },
       "type": "numeric",
       "value": 1.75
      }
     },
     "d7ee4521619546cdb4532507ad84daad": {
      "model_module": "ipysheet",
      "model_module_version": "~0.4.4",
      "model_name": "CellRangeModel",
      "state": {
       "_view_module": null,
       "_view_module_version": "",
       "column_end": 7,
       "column_start": 7,
       "row_end": 6,
       "row_start": 6,
       "type": "text",
       "value": "Mash"
      }
     },
     "d7f8b5bf0b79449ea1d534838f19864a": {
      "model_module": "ipysheet",
      "model_module_version": "~0.4.4",
      "model_name": "CellRangeModel",
      "state": {
       "_view_module": null,
       "_view_module_version": "",
       "row_end": 18,
       "row_start": 18,
       "style": {
        "backgroundColor": "red"
       },
       "type": "numeric",
       "value": 1.083
      }
     },
     "d843b21c809a44c6ba07288450449ac0": {
      "model_module": "ipysheet",
      "model_module_version": "~0.4.4",
      "model_name": "CellRangeModel",
      "state": {
       "_view_module": null,
       "_view_module_version": "",
       "column_end": 6,
       "column_start": 6,
       "row_end": 2,
       "row_start": 2,
       "style": {
        "backgroundColor": "yellow"
       },
       "type": "numeric",
       "value": 0.25
      }
     },
     "d986a2cf8b3c48bbabec5aedd9239fb4": {
      "model_module": "ipysheet",
      "model_module_version": "~0.4.4",
      "model_name": "CellRangeModel",
      "state": {
       "_view_module": null,
       "_view_module_version": "",
       "column_end": 6,
       "column_start": 6,
       "row_end": 5,
       "row_start": 5,
       "style": {
        "backgroundColor": "yellow"
       },
       "type": "numeric",
       "value": 1
      }
     },
     "d9b5ea2dfaec48408e1239a24a8c277c": {
      "model_module": "ipysheet",
      "model_module_version": "~0.4.4",
      "model_name": "CellRangeModel",
      "state": {
       "_view_module": null,
       "_view_module_version": "",
       "column_end": 17,
       "column_start": 17,
       "type": "text",
       "value": "Attenuation (adjusted)"
      }
     },
     "d9ea399c32a14ca28a5cddbf10e946e0": {
      "model_module": "ipysheet",
      "model_module_version": "~0.4.4",
      "model_name": "CellRangeModel",
      "state": {
       "_view_module": null,
       "_view_module_version": "",
       "column_end": 6,
       "column_start": 6,
       "row_end": 7,
       "row_start": 7,
       "style": {
        "backgroundColor": "yellow"
       },
       "type": "numeric",
       "value": 0.25
      }
     },
     "d9f7c81e3e9249af9b3b82241c02c90a": {
      "model_module": "ipysheet",
      "model_module_version": "~0.4.4",
      "model_name": "CellRangeModel",
      "state": {
       "_view_module": null,
       "_view_module_version": "",
       "column_end": 10,
       "column_start": 10,
       "row_end": 2,
       "row_start": 2,
       "type": "text",
       "value": "Willamette"
      }
     },
     "da311c7fd41d4b3eb73c26caa0a089ab": {
      "model_module": "ipysheet",
      "model_module_version": "~0.4.4",
      "model_name": "CellRangeModel",
      "state": {
       "_view_module": null,
       "_view_module_version": "",
       "column_end": 12,
       "column_start": 12,
       "row_end": 2,
       "row_start": 2,
       "style": {
        "backgroundColor": "yellow"
       },
       "type": "numeric",
       "value": 60
      }
     },
     "dabc5f4ef98c4df7842f3edd0ced0fe7": {
      "model_module": "ipysheet",
      "model_module_version": "~0.4.4",
      "model_name": "CellRangeModel",
      "state": {
       "_view_module": null,
       "_view_module_version": "",
       "row_end": 7,
       "row_start": 7,
       "style": {
        "backgroundColor": "red"
       },
       "type": "numeric",
       "value": 1.014
      }
     },
     "db03d6ebb44b44d69c71b0ad172b72e3": {
      "model_module": "ipysheet",
      "model_module_version": "~0.4.4",
      "model_name": "CellRangeModel",
      "state": {
       "_view_module": null,
       "_view_module_version": "",
       "column_end": 7,
       "column_start": 7,
       "row_end": 6,
       "row_start": 6,
       "type": "text",
       "value": "Mash"
      }
     },
     "db724b609384485eaaf524e3a28419fb": {
      "model_module": "ipysheet",
      "model_module_version": "~0.4.4",
      "model_name": "CellRangeModel",
      "state": {
       "_view_module": null,
       "_view_module_version": "",
       "column_end": 7,
       "column_start": 7,
       "row_end": 7,
       "row_start": 7,
       "type": "text",
       "value": "Mash"
      }
     },
     "db7ffcc720a14344b3c8f8539e96e444": {
      "model_module": "ipysheet",
      "model_module_version": "~0.4.4",
      "model_name": "CellRangeModel",
      "state": {
       "_view_module": null,
       "_view_module_version": "",
       "column_end": 6,
       "column_start": 6,
       "row_end": 6,
       "row_start": 6,
       "style": {
        "backgroundColor": "yellow"
       },
       "type": "numeric",
       "value": 1.5
      }
     },
     "dbb01924b441441abb2b549a1013ce2d": {
      "model_module": "ipysheet",
      "model_module_version": "~0.4.4",
      "model_name": "CellRangeModel",
      "state": {
       "_view_module": null,
       "_view_module_version": "",
       "column_end": 0,
       "column_start": 0,
       "row_end": 2,
       "row_start": 2,
       "type": "text",
       "value": "Batch Size"
      }
     },
     "dc245c03bbf3436286972018681d7a10": {
      "model_module": "ipysheet",
      "model_module_version": "~0.4.4",
      "model_name": "CellRangeModel",
      "state": {
       "_view_module": null,
       "_view_module_version": "",
       "column_end": 17,
       "column_start": 17,
       "type": "text",
       "value": "Attenuation (adjusted)"
      }
     },
     "dc2e9523be7947ccbbe9306371a0fbe6": {
      "model_module": "ipysheet",
      "model_module_version": "~0.4.4",
      "model_name": "CellRangeModel",
      "state": {
       "_view_module": null,
       "_view_module_version": "",
       "row_end": 4,
       "row_start": 4,
       "style": {
        "backgroundColor": "yellow"
       },
       "type": "numeric",
       "value": 60
      }
     },
     "dc96290c7ea845cdae8be533abf48ef5": {
      "model_module": "@jupyter-widgets/controls",
      "model_module_version": "1.5.0",
      "model_name": "VBoxModel",
      "state": {
       "_dom_classes": [
        "widget-interact"
       ],
       "children": [
        "IPY_MODEL_69836e42aa28439d8b905e86748fc7e0",
        "IPY_MODEL_f7fd195e996e4f14bad93c3a45282cab"
       ],
       "layout": "IPY_MODEL_a67ea3b89cf94defbac8a95562dc94c3"
      }
     },
     "dd8381a58c6445e182bfae8d12393704": {
      "model_module": "ipysheet",
      "model_module_version": "~0.4.4",
      "model_name": "CellRangeModel",
      "state": {
       "_view_module": null,
       "_view_module_version": "",
       "type": "text",
       "value": "Value"
      }
     },
     "de1350bf97dd465db021bc9113861a02": {
      "model_module": "ipysheet",
      "model_module_version": "~0.4.4",
      "model_name": "CellRangeModel",
      "state": {
       "_view_module": null,
       "_view_module_version": "",
       "column_end": 7,
       "column_start": 7,
       "row_end": 7,
       "row_start": 7,
       "type": "text",
       "value": "Mash"
      }
     },
     "de4cdf2e937041e1a85ee87aaf2dc32e": {
      "model_module": "ipysheet",
      "model_module_version": "~0.4.4",
      "model_name": "CellRangeModel",
      "state": {
       "_view_module": null,
       "_view_module_version": "",
       "column_end": 0,
       "column_start": 0,
       "row_end": 19,
       "row_start": 19,
       "type": "text",
       "value": "Post-boil Volume"
      }
     },
     "de8b298516734f17a277e63ad4e36ab0": {
      "model_module": "ipysheet",
      "model_module_version": "~0.4.4",
      "model_name": "CellRangeModel",
      "state": {
       "_view_module": null,
       "_view_module_version": "",
       "column_end": 0,
       "column_start": 0,
       "type": "text",
       "value": "Category"
      }
     },
     "df343ec05dc040c1a73da6857a1944cf": {
      "model_module": "ipysheet",
      "model_module_version": "~0.4.4",
      "model_name": "CellRangeModel",
      "state": {
       "_view_module": null,
       "_view_module_version": "",
       "column_end": 7,
       "column_start": 7,
       "row_end": 4,
       "row_start": 4,
       "type": "text",
       "value": "Extract"
      }
     },
     "dfca4c10f15d46e19105c7c87341c84c": {
      "model_module": "ipysheet",
      "model_module_version": "~0.4.4",
      "model_name": "CellRangeModel",
      "state": {
       "_view_module": null,
       "_view_module_version": "",
       "column_end": 19,
       "column_start": 19,
       "row_end": 2,
       "row_start": 2,
       "type": "numeric",
       "value": 75.2
      }
     },
     "dfd0229b288d4ebb8d6cb0ca147e667b": {
      "model_module": "@jupyter-widgets/base",
      "model_module_version": "1.2.0",
      "model_name": "LayoutModel",
      "state": {}
     },
     "e06eb69b09ab4bf88021fae6b9794cd7": {
      "model_module": "ipysheet",
      "model_module_version": "~0.4.4",
      "model_name": "CellRangeModel",
      "state": {
       "_view_module": null,
       "_view_module_version": "",
       "column_end": 3,
       "column_start": 3,
       "row_end": 9,
       "row_start": 9,
       "style": {
        "backgroundColor": "red"
       },
       "type": "numeric",
       "value": ""
      }
     },
     "e09daafaf27f43d2ab7791932268f032": {
      "model_module": "ipysheet",
      "model_module_version": "~0.4.4",
      "model_name": "CellRangeModel",
      "state": {
       "_view_module": null,
       "_view_module_version": "",
       "column_end": 6,
       "column_start": 6,
       "row_end": 3,
       "row_start": 3,
       "style": {
        "backgroundColor": "yellow"
       },
       "type": "numeric",
       "value": 1
      }
     },
     "e0bfc993c89948258595d5b79f286536": {
      "model_module": "ipysheet",
      "model_module_version": "~0.4.4",
      "model_name": "CellRangeModel",
      "state": {
       "_view_module": null,
       "_view_module_version": "",
       "column_end": 0,
       "column_start": 0,
       "row_end": 5,
       "row_start": 5,
       "type": "text",
       "value": "Mash Temp"
      }
     },
     "e0d251dd399a4c178eff747f6141513a": {
      "model_module": "ipysheet",
      "model_module_version": "~0.4.4",
      "model_name": "CellRangeModel",
      "state": {
       "_view_module": null,
       "_view_module_version": "",
       "column_end": 13,
       "column_start": 13,
       "row_end": 2,
       "row_start": 2,
       "type": "numeric",
       "value": 21
      }
     },
     "e0e9b7139dc4488aa1b154a420d81d20": {
      "model_module": "ipysheet",
      "model_module_version": "~0.4.4",
      "model_name": "CellRangeModel",
      "state": {
       "_view_module": null,
       "_view_module_version": "",
       "column_end": 0,
       "column_start": 0,
       "row_end": 7,
       "row_start": 7,
       "type": "text",
       "value": "FG"
      }
     },
     "e19094af719a44c58a1b869ff881b73a": {
      "model_module": "ipysheet",
      "model_module_version": "~0.4.4",
      "model_name": "CellRangeModel",
      "state": {
       "_view_module": null,
       "_view_module_version": "",
       "column_end": 16,
       "column_start": 16,
       "type": "text",
       "value": "Attenuation (listed)"
      }
     },
     "e2b31cb94f544fb8b2ced4e746c59343": {
      "model_module": "ipysheet",
      "model_module_version": "~0.4.4",
      "model_name": "CellRangeModel",
      "state": {
       "_view_module": null,
       "_view_module_version": "",
       "column_end": 5,
       "column_start": 5,
       "row_end": 5,
       "row_start": 5,
       "type": "text",
       "value": "Dry Extract (DME) - Amber"
      }
     },
     "e2d1344355c849c4869c1a96e5ef8735": {
      "model_module": "ipysheet",
      "model_module_version": "~0.4.4",
      "model_name": "CellRangeModel",
      "state": {
       "_view_module": null,
       "_view_module_version": "",
       "column_end": 8,
       "column_start": 8,
       "row_end": 7,
       "row_start": 7,
       "type": "numeric",
       "value": 3
      }
     },
     "e2d83e57d08e4cf8b157b0e71126c37f": {
      "model_module": "ipysheet",
      "model_module_version": "~0.4.4",
      "model_name": "CellRangeModel",
      "state": {
       "_view_module": null,
       "_view_module_version": "",
       "column_end": 15,
       "column_start": 15,
       "type": "text",
       "value": "Name"
      }
     },
     "e2f0a03760b246aba749c55cafa8b342": {
      "model_module": "ipysheet",
      "model_module_version": "~0.4.4",
      "model_name": "CellRangeModel",
      "state": {
       "_view_module": null,
       "_view_module_version": "",
       "row_end": 11,
       "row_start": 11,
       "style": {
        "backgroundColor": "red"
       },
       "type": "numeric",
       "value": 5.38
      }
     },
     "e335bd53277c4ffeaaa18ad7cc7f7f81": {
      "model_module": "ipysheet",
      "model_module_version": "~0.4.4",
      "model_name": "CellRangeModel",
      "state": {
       "_view_module": null,
       "_view_module_version": "",
       "row_end": 8,
       "row_start": 8,
       "style": {
        "backgroundColor": "red"
       },
       "type": "numeric",
       "value": 29.8
      }
     },
     "e3923fcdbe1b4315b2a445bd0eec92b6": {
      "model_module": "ipysheet",
      "model_module_version": "~0.4.4",
      "model_name": "CellRangeModel",
      "state": {
       "_view_module": null,
       "_view_module_version": "",
       "column_end": 3,
       "column_start": 3,
       "type": "text",
       "value": "Style Fit?"
      }
     },
     "e394f5ee8f4c42deac696947297bb597": {
      "model_module": "ipysheet",
      "model_module_version": "~0.4.4",
      "model_name": "CellRangeModel",
      "state": {
       "_view_module": null,
       "_view_module_version": "",
       "column_end": 17,
       "column_start": 17,
       "type": "text",
       "value": "Attenuation (adjusted)"
      }
     },
     "e3a0f942afd64b89ac99b8cddade9635": {
      "model_module": "ipysheet",
      "model_module_version": "~0.4.4",
      "model_name": "CellRangeModel",
      "state": {
       "_view_module": null,
       "_view_module_version": "",
       "column_end": 17,
       "column_start": 17,
       "type": "text",
       "value": "Attenuation (adjusted)"
      }
     },
     "e3e0e3d124614c6bb81546db6824eb29": {
      "model_module": "ipysheet",
      "model_module_version": "~0.4.4",
      "model_name": "CellRangeModel",
      "state": {
       "_view_module": null,
       "_view_module_version": "",
       "column_end": 15,
       "column_start": 15,
       "row_end": 2,
       "row_start": 2,
       "type": "text",
       "value": "Safale S-04"
      }
     },
     "e3fe7e0ead7b43939c0fb4e2818de794": {
      "model_module": "ipysheet",
      "model_module_version": "~0.4.4",
      "model_name": "CellRangeModel",
      "state": {
       "_view_module": null,
       "_view_module_version": "",
       "row_end": 7,
       "row_start": 7,
       "style": {
        "backgroundColor": "red"
       },
       "type": "numeric",
       "value": 1.015
      }
     },
     "e44aa91db7464c5db9f7fc490aef15c2": {
      "model_module": "ipysheet",
      "model_module_version": "~0.4.4",
      "model_name": "CellRangeModel",
      "state": {
       "_view_module": null,
       "_view_module_version": "",
       "column_end": 18,
       "column_start": 18,
       "row_end": 2,
       "row_start": 2,
       "type": "numeric",
       "value": 59
      }
     },
     "e4da9bb6b01645ee8fad375829beef09": {
      "model_module": "@jupyter-widgets/base",
      "model_module_version": "1.2.0",
      "model_name": "LayoutModel",
      "state": {}
     },
     "e4ec103a810c4c8d86ff4bd2c6147c08": {
      "model_module": "ipysheet",
      "model_module_version": "~0.4.4",
      "model_name": "CellRangeModel",
      "state": {
       "_view_module": null,
       "_view_module_version": "",
       "column_end": 11,
       "column_start": 11,
       "type": "text",
       "value": "Amount (oz)"
      }
     },
     "e570b311edc44e84a31eb1f9c27e1cd4": {
      "model_module": "ipysheet",
      "model_module_version": "~0.4.4",
      "model_name": "CellRangeModel",
      "state": {
       "_view_module": null,
       "_view_module_version": "",
       "column_end": 7,
       "column_start": 7,
       "row_end": 5,
       "row_start": 5,
       "type": "text",
       "value": "Extract"
      }
     },
     "e59411b9771b49638ac2b519b9dd8e2e": {
      "model_module": "ipysheet",
      "model_module_version": "~0.4.4",
      "model_name": "CellRangeModel",
      "state": {
       "_view_module": null,
       "_view_module_version": "",
       "column_end": 7,
       "column_start": 7,
       "row_end": 6,
       "row_start": 6,
       "type": "text",
       "value": "Mash"
      }
     },
     "e5a824d71ea6412f88a5e2f9dfca91dd": {
      "model_module": "ipysheet",
      "model_module_version": "~0.4.4",
      "model_name": "CellRangeModel",
      "state": {
       "_view_module": null,
       "_view_module_version": "",
       "row_end": 5,
       "row_start": 5,
       "style": {
        "backgroundColor": "yellow"
       },
       "type": "numeric",
       "value": 155
      }
     },
     "e6107063d6fa496e9061b4c4427ff709": {
      "model_module": "ipysheet",
      "model_module_version": "~0.4.4",
      "model_name": "CellRangeModel",
      "state": {
       "_view_module": null,
       "_view_module_version": "",
       "column_end": 16,
       "column_start": 16,
       "row_end": 2,
       "row_start": 2,
       "style": {
        "backgroundColor": "yellow"
       },
       "type": "numeric",
       "value": 75
      }
     },
     "e6c6eace601a49e7a6f3297d732bc751": {
      "model_module": "ipysheet",
      "model_module_version": "~0.4.4",
      "model_name": "CellRangeModel",
      "state": {
       "_view_module": null,
       "_view_module_version": "",
       "column_end": 0,
       "column_start": 0,
       "row_end": 18,
       "row_start": 18,
       "type": "text",
       "value": "Pre-boil Gravity"
      }
     },
     "e6d183a847fa4922aab7ab1f572fa7ad": {
      "model_module": "ipysheet",
      "model_module_version": "~0.4.4",
      "model_name": "CellRangeModel",
      "state": {
       "_view_module": null,
       "_view_module_version": "",
       "row_end": 17,
       "row_start": 17,
       "style": {
        "backgroundColor": "red"
       },
       "type": "numeric",
       "value": 1.051
      }
     },
     "e73c98698a824973ab934ce5ff08373d": {
      "model_module": "ipysheet",
      "model_module_version": "~0.4.4",
      "model_name": "CellRangeModel",
      "state": {
       "_view_module": null,
       "_view_module_version": "",
       "column_end": 15,
       "column_start": 15,
       "row_end": 0,
       "row_start": 0,
       "type": "text",
       "value": "Yeast"
      }
     },
     "e787b0c54fbd48a4a643dc7bc445c9b9": {
      "model_module": "ipysheet",
      "model_module_version": "~0.4.4",
      "model_name": "CellRangeModel",
      "state": {
       "_view_module": null,
       "_view_module_version": "",
       "column_end": 3,
       "column_start": 3,
       "row_end": 6,
       "row_start": 6,
       "style": {
        "backgroundColor": "red"
       },
       "type": "numeric",
       "value": ""
      }
     },
     "e849753ac1864fb38749c3ed0d31187c": {
      "model_module": "ipysheet",
      "model_module_version": "~0.4.4",
      "model_name": "CellRangeModel",
      "state": {
       "_view_module": null,
       "_view_module_version": "",
       "column_end": 0,
       "column_start": 0,
       "row_end": 17,
       "row_start": 17,
       "type": "text",
       "value": "Post-Mash Gravity"
      }
     },
     "e886ad265e2f4a4294795fe5b52e4e94": {
      "model_module": "ipysheet",
      "model_module_version": "~0.4.4",
      "model_name": "CellRangeModel",
      "state": {
       "_view_module": null,
       "_view_module_version": "",
       "column_end": 6,
       "column_start": 6,
       "row_end": 7,
       "row_start": 7,
       "style": {
        "backgroundColor": "yellow"
       },
       "type": "numeric",
       "value": 0.5
      }
     },
     "e965f07c2d604d1e8b106fe83a7e935e": {
      "model_module": "ipysheet",
      "model_module_version": "~0.4.4",
      "model_name": "CellRangeModel",
      "state": {
       "_view_module": null,
       "_view_module_version": "",
       "row_end": 7,
       "row_start": 7,
       "style": {
        "backgroundColor": "red"
       },
       "type": "numeric",
       "value": 1.015
      }
     },
     "ea4d234050774edf8887c8f6f0b321a2": {
      "model_module": "ipysheet",
      "model_module_version": "~0.4.4",
      "model_name": "CellRangeModel",
      "state": {
       "_view_module": null,
       "_view_module_version": "",
       "column_end": 6,
       "column_start": 6,
       "row_end": 5,
       "row_start": 5,
       "style": {
        "backgroundColor": "yellow"
       },
       "type": "numeric",
       "value": 1
      }
     },
     "ea600db2fd8d4c1083c2af7af6c1bd9b": {
      "model_module": "ipysheet",
      "model_module_version": "~0.4.4",
      "model_name": "CellRangeModel",
      "state": {
       "_view_module": null,
       "_view_module_version": "",
       "column_end": 19,
       "column_start": 19,
       "type": "text",
       "value": "Max Temp (F)"
      }
     },
     "eb8245eb867448a686ca2793f9dd660f": {
      "model_module": "ipysheet",
      "model_module_version": "~0.4.4",
      "model_name": "CellRangeModel",
      "state": {
       "_view_module": null,
       "_view_module_version": "",
       "column_end": 5,
       "column_start": 5,
       "row_end": 0,
       "row_start": 0,
       "type": "text",
       "value": "Fermentables"
      }
     },
     "ebc20ecacb8b4e9ea967cd0f87c9b0fe": {
      "model_module": "ipysheet",
      "model_module_version": "~0.4.4",
      "model_name": "CellRangeModel",
      "state": {
       "_view_module": null,
       "_view_module_version": "",
       "column_end": 7,
       "column_start": 7,
       "row_end": 6,
       "row_start": 6,
       "type": "text",
       "value": "Mash"
      }
     },
     "ece4163e474b4fa6b8947627d2bf24f5": {
      "model_module": "ipysheet",
      "model_module_version": "~0.4.4",
      "model_name": "CellRangeModel",
      "state": {
       "_view_module": null,
       "_view_module_version": "",
       "column_end": 5,
       "column_start": 5,
       "row_end": 4,
       "row_start": 4,
       "type": "text",
       "value": "Dry Extract (DME) - Light"
      }
     },
     "ed31b3e20849435eb644015ce6f67379": {
      "model_module": "ipysheet",
      "model_module_version": "~0.4.4",
      "model_name": "CellRangeModel",
      "state": {
       "_view_module": null,
       "_view_module_version": "",
       "column_end": 6,
       "column_start": 6,
       "row_end": 5,
       "row_start": 5,
       "style": {
        "backgroundColor": "yellow"
       },
       "type": "numeric",
       "value": 1
      }
     },
     "edbcab02866c4af197b71a3e46797d4a": {
      "model_module": "@jupyter-widgets/controls",
      "model_module_version": "1.5.0",
      "model_name": "DescriptionStyleModel",
      "state": {
       "description_width": ""
      }
     },
     "ee1be35e901644c983101e2a7fb98090": {
      "model_module": "ipysheet",
      "model_module_version": "~0.4.4",
      "model_name": "CellRangeModel",
      "state": {
       "_view_module": null,
       "_view_module_version": "",
       "column_end": 3,
       "column_start": 3,
       "row_end": 11,
       "row_start": 11,
       "style": {
        "backgroundColor": "red"
       },
       "type": "numeric",
       "value": ""
      }
     },
     "eec687d2a6c34a2a9c658e82fe49eac6": {
      "model_module": "ipysheet",
      "model_module_version": "~0.4.4",
      "model_name": "CellRangeModel",
      "state": {
       "_view_module": null,
       "_view_module_version": "",
       "column_end": 0,
       "column_start": 0,
       "row_end": 7,
       "row_start": 7,
       "type": "text",
       "value": "FG"
      }
     },
     "ef48c6d5d70c4143a982c5b036534e11": {
      "model_module": "ipysheet",
      "model_module_version": "~0.4.4",
      "model_name": "CellRangeModel",
      "state": {
       "_view_module": null,
       "_view_module_version": "",
       "column_end": 8,
       "column_start": 8,
       "type": "text",
       "value": "GU Contribution"
      }
     },
     "ef81541cad4f4036afa8ba13a5e49b31": {
      "model_module": "ipysheet",
      "model_module_version": "~0.4.4",
      "model_name": "CellRangeModel",
      "state": {
       "_view_module": null,
       "_view_module_version": "",
       "column_end": 3,
       "column_start": 3,
       "row_end": 7,
       "row_start": 7,
       "style": {
        "backgroundColor": "red"
       },
       "type": "numeric",
       "value": ""
      }
     },
     "efbef68690094510a8f4c70c3eec7425": {
      "model_module": "ipysheet",
      "model_module_version": "~0.4.4",
      "model_name": "CellRangeModel",
      "state": {
       "_view_module": null,
       "_view_module_version": "",
       "column_end": 6,
       "column_start": 6,
       "row_end": 2,
       "row_start": 2,
       "style": {
        "backgroundColor": "yellow"
       },
       "type": "numeric",
       "value": 0.25
      }
     },
     "efe1ad2dca8647688ac6a14525a1fb4d": {
      "model_module": "ipysheet",
      "model_module_version": "~0.4.4",
      "model_name": "CellRangeModel",
      "state": {
       "_view_module": null,
       "_view_module_version": "",
       "column_end": 0,
       "column_start": 0,
       "row_end": 4,
       "row_start": 4,
       "type": "text",
       "value": "Boil Time"
      }
     },
     "f0ac0151ba444a72b9c5195d371bda62": {
      "model_module": "ipysheet",
      "model_module_version": "~0.4.4",
      "model_name": "CellRangeModel",
      "state": {
       "_view_module": null,
       "_view_module_version": "",
       "column_end": 0,
       "column_start": 0,
       "row_end": 2,
       "row_start": 2,
       "type": "text",
       "value": "Batch Size"
      }
     },
     "f1298836d7ff4e388b64d8a250587d7a": {
      "model_module": "ipysheet",
      "model_module_version": "~0.4.4",
      "model_name": "CellRangeModel",
      "state": {
       "_view_module": null,
       "_view_module_version": "",
       "column_end": 2,
       "column_start": 2,
       "row_end": 8,
       "row_start": 8,
       "type": "text",
       "value": "25.0-40.0"
      }
     },
     "f13b8a2cf46f4de796b7355e8a7e2483": {
      "model_module": "ipysheet",
      "model_module_version": "~0.4.4",
      "model_name": "CellRangeModel",
      "state": {
       "_view_module": null,
       "_view_module_version": "",
       "column_end": 0,
       "column_start": 0,
       "row_end": 8,
       "row_start": 8,
       "type": "text",
       "value": "Bitterness"
      }
     },
     "f2adc2d3d2c14443a4f0b6e86792e4c4": {
      "model_module": "ipysheet",
      "model_module_version": "~0.4.4",
      "model_name": "CellRangeModel",
      "state": {
       "_view_module": null,
       "_view_module_version": "",
       "column_end": 8,
       "column_start": 8,
       "row_end": 2,
       "row_start": 2,
       "type": "numeric",
       "value": 1
      }
     },
     "f2b8f5b1a2094781ac830f66474d8d5a": {
      "model_module": "ipysheet",
      "model_module_version": "~0.4.4",
      "model_name": "CellRangeModel",
      "state": {
       "_view_module": null,
       "_view_module_version": "",
       "column_end": 8,
       "column_start": 8,
       "row_end": 6,
       "row_start": 6,
       "type": "numeric",
       "value": 10
      }
     },
     "f311a11ed65b4feab369fb045cdad261": {
      "model_module": "ipysheet",
      "model_module_version": "~0.4.4",
      "model_name": "CellRangeModel",
      "state": {
       "_view_module": null,
       "_view_module_version": "",
       "column_end": 7,
       "column_start": 7,
       "row_end": 2,
       "row_start": 2,
       "type": "text",
       "value": "Mash"
      }
     },
     "f3419b6a239f4bcaa907dff5a661ce7c": {
      "model_module": "ipysheet",
      "model_module_version": "~0.4.4",
      "model_name": "CellRangeModel",
      "state": {
       "_view_module": null,
       "_view_module_version": "",
       "column_end": 17,
       "column_start": 17,
       "type": "text",
       "value": "Attenuation (adjusted)"
      }
     },
     "f34d3de97b7744aabdd148384b5b21ad": {
      "model_module": "ipysheet",
      "model_module_version": "~0.4.4",
      "model_name": "CellRangeModel",
      "state": {
       "_view_module": null,
       "_view_module_version": "",
       "column_end": 0,
       "column_start": 0,
       "row_end": 16,
       "row_start": 16,
       "type": "text",
       "value": "Mash Volume"
      }
     },
     "f4dcd9c6ed8143c2bbcc4ea95beeadc6": {
      "model_module": "ipysheet",
      "model_module_version": "~0.4.4",
      "model_name": "CellRangeModel",
      "state": {
       "_view_module": null,
       "_view_module_version": "",
       "row_end": 3,
       "row_start": 3,
       "style": {
        "backgroundColor": "yellow"
       },
       "type": "numeric",
       "value": 1.75
      }
     },
     "f505f92e1680487b804bc1dab012f979": {
      "model_module": "ipysheet",
      "model_module_version": "~0.4.4",
      "model_name": "CellRangeModel",
      "state": {
       "_view_module": null,
       "_view_module_version": "",
       "column_end": 5,
       "column_start": 5,
       "row_end": 4,
       "row_start": 4,
       "type": "text",
       "value": "Dry Extract (DME) - Light"
      }
     },
     "f565328975fd47a4bec8fb5271279b1e": {
      "model_module": "ipysheet",
      "model_module_version": "~0.4.4",
      "model_name": "CellRangeModel",
      "state": {
       "_view_module": null,
       "_view_module_version": "",
       "type": "text",
       "value": "Value"
      }
     },
     "f5d4f74e57cb484ba988080e2165bb86": {
      "model_module": "ipysheet",
      "model_module_version": "~0.4.4",
      "model_name": "CellRangeModel",
      "state": {
       "_view_module": null,
       "_view_module_version": "",
       "column_end": 11,
       "column_start": 11,
       "type": "text",
       "value": "Amount (oz)"
      }
     },
     "f5f42a370ed345f7a73f4728e1470f48": {
      "model_module": "ipysheet",
      "model_module_version": "~0.4.4",
      "model_name": "CellRangeModel",
      "state": {
       "_view_module": null,
       "_view_module_version": "",
       "column_end": 2,
       "column_start": 2,
       "row_end": 7,
       "row_start": 7,
       "type": "text",
       "value": "1.01-1.018"
      }
     },
     "f670c8f5e59a4ded9ca3ee805f7668c7": {
      "model_module": "@jupyter-widgets/base",
      "model_module_version": "1.2.0",
      "model_name": "LayoutModel",
      "state": {}
     },
     "f67c49c2d78f4e3c880a53610a29aa75": {
      "model_module": "ipysheet",
      "model_module_version": "~0.4.4",
      "model_name": "CellRangeModel",
      "state": {
       "_view_module": null,
       "_view_module_version": "",
       "column_end": 11,
       "column_start": 11,
       "row_end": 2,
       "row_start": 2,
       "style": {
        "backgroundColor": "yellow"
       },
       "type": "numeric",
       "value": 1
      }
     },
     "f687abf8ba2b480c8a74fdee3f15952a": {
      "model_module": "ipysheet",
      "model_module_version": "~0.4.4",
      "model_name": "CellRangeModel",
      "state": {
       "_view_module": null,
       "_view_module_version": "",
       "column_end": 3,
       "column_start": 3,
       "row_end": 11,
       "row_start": 11,
       "style": {
        "backgroundColor": "red"
       },
       "type": "numeric",
       "value": ""
      }
     },
     "f69172d9fd594419998750cc47ec6257": {
      "model_module": "@jupyter-widgets/base",
      "model_module_version": "1.2.0",
      "model_name": "LayoutModel",
      "state": {
       "height": "auto",
       "width": "auto"
      }
     },
     "f6d9ae865a034f06a7ed0348af6222f5": {
      "model_module": "ipysheet",
      "model_module_version": "~0.4.4",
      "model_name": "CellRangeModel",
      "state": {
       "_view_module": null,
       "_view_module_version": "",
       "column_end": 6,
       "column_start": 6,
       "type": "text",
       "value": "Amount (lbs)"
      }
     },
     "f762891fe770475c9c819df56e088b19": {
      "model_module": "ipysheet",
      "model_module_version": "~0.4.4",
      "model_name": "CellRangeModel",
      "state": {
       "_view_module": null,
       "_view_module_version": "",
       "column_end": 12,
       "column_start": 12,
       "type": "text",
       "value": "Boil Time (min)"
      }
     },
     "f79e7aca88474b18a12cec38fa314036": {
      "model_module": "ipysheet",
      "model_module_version": "~0.4.4",
      "model_name": "CellRangeModel",
      "state": {
       "_view_module": null,
       "_view_module_version": "",
       "column_end": 7,
       "column_start": 7,
       "row_end": 3,
       "row_start": 3,
       "type": "text",
       "value": "Mash"
      }
     },
     "f7d6a452ce4b4e47b44b7c75d210eb23": {
      "model_module": "ipysheet",
      "model_module_version": "~0.4.4",
      "model_name": "CellRangeModel",
      "state": {
       "_view_module": null,
       "_view_module_version": "",
       "column_end": 5,
       "column_start": 5,
       "type": "text",
       "value": "Name"
      }
     },
     "f7e5d2c44c7648cbbe51587d0b423b08": {
      "model_module": "@jupyter-widgets/output",
      "model_module_version": "1.0.0",
      "model_name": "OutputModel",
      "state": {
       "layout": "IPY_MODEL_5ef42f0ce70d4edbbf84c0832c2a44aa",
       "outputs": [
        {
         "data": {
          "text/html": "<div>\n<style scoped>\n    .dataframe tbody tr th:only-of-type {\n        vertical-align: middle;\n    }\n\n    .dataframe tbody tr th {\n        vertical-align: top;\n    }\n\n    .dataframe thead th {\n        text-align: right;\n    }\n</style>\n<table border=\"1\" class=\"dataframe\">\n  <thead>\n    <tr style=\"text-align: right;\">\n      <th></th>\n      <th>id</th>\n      <th>name</th>\n      <th>ftype</th>\n      <th>amount</th>\n      <th>yield</th>\n      <th>color</th>\n      <th>add_after_boil</th>\n      <th>origin</th>\n      <th>supplier</th>\n      <th>notes</th>\n      <th>...</th>\n      <th>max_in_batch</th>\n      <th>recommend_mash</th>\n      <th>is_mashed</th>\n      <th>ibu_gal_per_lb</th>\n      <th>display_unit</th>\n      <th>display_scale</th>\n      <th>deleted</th>\n      <th>display</th>\n      <th>folder</th>\n      <th>inventory_id</th>\n    </tr>\n  </thead>\n  <tbody>\n    <tr>\n      <th>8</th>\n      <td>9</td>\n      <td>Black (Patent) Malt</td>\n      <td>Grain</td>\n      <td>0.000000</td>\n      <td>55.0</td>\n      <td>500.0</td>\n      <td>false</td>\n      <td>US</td>\n      <td></td>\n      <td>The darkest of all malts, use sparingly to add...</td>\n      <td>...</td>\n      <td>10.0</td>\n      <td>false</td>\n      <td>false</td>\n      <td>0.0</td>\n      <td>-1</td>\n      <td>-1</td>\n      <td>0</td>\n      <td>1</td>\n      <td></td>\n      <td>9</td>\n    </tr>\n    <tr>\n      <th>9</th>\n      <td>10</td>\n      <td>Black Barley (Roast Barley)</td>\n      <td>Grain</td>\n      <td>0.000000</td>\n      <td>55.0</td>\n      <td>500.0</td>\n      <td>false</td>\n      <td>US</td>\n      <td></td>\n      <td>Use 10 to 12% to impart a distinct, roasted fl...</td>\n      <td>...</td>\n      <td>10.0</td>\n      <td>false</td>\n      <td>false</td>\n      <td>0.0</td>\n      <td>-1</td>\n      <td>-1</td>\n      <td>0</td>\n      <td>1</td>\n      <td></td>\n      <td>10</td>\n    </tr>\n    <tr>\n      <th>15</th>\n      <td>16</td>\n      <td>Briess - Black Barley</td>\n      <td>Grain</td>\n      <td>0.000000</td>\n      <td>55.0</td>\n      <td>500.0</td>\n      <td>false</td>\n      <td>US</td>\n      <td>Briess</td>\n      <td>Contributes color and rich, sharp flavor chara...</td>\n      <td>...</td>\n      <td>7.0</td>\n      <td>false</td>\n      <td>false</td>\n      <td>0.0</td>\n      <td>-1</td>\n      <td>-1</td>\n      <td>0</td>\n      <td>1</td>\n      <td></td>\n      <td>16</td>\n    </tr>\n    <tr>\n      <th>16</th>\n      <td>17</td>\n      <td>Briess - Black Malt</td>\n      <td>Grain</td>\n      <td>0.000000</td>\n      <td>55.0</td>\n      <td>500.0</td>\n      <td>false</td>\n      <td>US</td>\n      <td>Briess</td>\n      <td>Color adjustment for all beer styles. Use with...</td>\n      <td>...</td>\n      <td>10.0</td>\n      <td>false</td>\n      <td>false</td>\n      <td>0.0</td>\n      <td>-1</td>\n      <td>-1</td>\n      <td>0</td>\n      <td>1</td>\n      <td></td>\n      <td>17</td>\n    </tr>\n    <tr>\n      <th>17</th>\n      <td>18</td>\n      <td>Briess - Black Malted Barley Flour</td>\n      <td>Grain</td>\n      <td>0.000000</td>\n      <td>55.0</td>\n      <td>500.0</td>\n      <td>false</td>\n      <td>US</td>\n      <td>Briess</td>\n      <td>Color adjustment for all beer styles.</td>\n      <td>...</td>\n      <td>10.0</td>\n      <td>false</td>\n      <td>false</td>\n      <td>0.0</td>\n      <td>-1</td>\n      <td>-1</td>\n      <td>0</td>\n      <td>1</td>\n      <td></td>\n      <td>18</td>\n    </tr>\n    <tr>\n      <th>18</th>\n      <td>19</td>\n      <td>Briess - Blackprinz Malt</td>\n      <td>Grain</td>\n      <td>0.000000</td>\n      <td>78.0</td>\n      <td>500.0</td>\n      <td>false</td>\n      <td>US</td>\n      <td>Briess</td>\n      <td>Bitterless black malt that can be used in any ...</td>\n      <td>...</td>\n      <td>10.0</td>\n      <td>false</td>\n      <td>false</td>\n      <td>0.0</td>\n      <td>-1</td>\n      <td>-1</td>\n      <td>0</td>\n      <td>1</td>\n      <td></td>\n      <td>19</td>\n    </tr>\n    <tr>\n      <th>41</th>\n      <td>42</td>\n      <td>Briess DME - Maltoferm A-6001 (Black Malt Extr...</td>\n      <td>Dry Extract</td>\n      <td>0.000000</td>\n      <td>95.0</td>\n      <td>500.0</td>\n      <td>false</td>\n      <td>US</td>\n      <td></td>\n      <td></td>\n      <td>...</td>\n      <td>100.0</td>\n      <td>false</td>\n      <td>false</td>\n      <td>0.0</td>\n      <td>-1</td>\n      <td>-1</td>\n      <td>0</td>\n      <td>1</td>\n      <td></td>\n      <td>42</td>\n    </tr>\n    <tr>\n      <th>46</th>\n      <td>47</td>\n      <td>Briess LME - Maltoferm A-6000 (Black Malt Extr...</td>\n      <td>Extract</td>\n      <td>0.000000</td>\n      <td>78.0</td>\n      <td>500.0</td>\n      <td>false</td>\n      <td>US</td>\n      <td></td>\n      <td></td>\n      <td>...</td>\n      <td>100.0</td>\n      <td>false</td>\n      <td>false</td>\n      <td>0.0</td>\n      <td>-1</td>\n      <td>-1</td>\n      <td>0</td>\n      <td>1</td>\n      <td></td>\n      <td>47</td>\n    </tr>\n    <tr>\n      <th>145</th>\n      <td>146</td>\n      <td>Simpsons - Black Malt</td>\n      <td>Grain</td>\n      <td>0.000000</td>\n      <td>70.0</td>\n      <td>550.0</td>\n      <td>false</td>\n      <td>UK</td>\n      <td></td>\n      <td></td>\n      <td>...</td>\n      <td>10.0</td>\n      <td>true</td>\n      <td>false</td>\n      <td>0.0</td>\n      <td>-1</td>\n      <td>-1</td>\n      <td>0</td>\n      <td>1</td>\n      <td></td>\n      <td>146</td>\n    </tr>\n    <tr>\n      <th>224</th>\n      <td>225</td>\n      <td>Simpsons - Black Malt</td>\n      <td>Grain</td>\n      <td>0.226796</td>\n      <td>70.0</td>\n      <td>550.0</td>\n      <td>false</td>\n      <td>UK</td>\n      <td></td>\n      <td></td>\n      <td>...</td>\n      <td>10.0</td>\n      <td>true</td>\n      <td>true</td>\n      <td>0.0</td>\n      <td>-1</td>\n      <td>-1</td>\n      <td>0</td>\n      <td>0</td>\n      <td></td>\n      <td>225</td>\n    </tr>\n    <tr>\n      <th>228</th>\n      <td>229</td>\n      <td>Simpsons - Black Malt</td>\n      <td>Grain</td>\n      <td>0.226796</td>\n      <td>70.0</td>\n      <td>550.0</td>\n      <td>false</td>\n      <td>UK</td>\n      <td></td>\n      <td></td>\n      <td>...</td>\n      <td>10.0</td>\n      <td>true</td>\n      <td>true</td>\n      <td>0.0</td>\n      <td>-1</td>\n      <td>-1</td>\n      <td>0</td>\n      <td>0</td>\n      <td></td>\n      <td>229</td>\n    </tr>\n    <tr>\n      <th>260</th>\n      <td>261</td>\n      <td>Simpsons - Black Malt</td>\n      <td>Grain</td>\n      <td>0.056699</td>\n      <td>70.0</td>\n      <td>550.0</td>\n      <td>false</td>\n      <td>UK</td>\n      <td></td>\n      <td></td>\n      <td>...</td>\n      <td>10.0</td>\n      <td>true</td>\n      <td>true</td>\n      <td>0.0</td>\n      <td>-1</td>\n      <td>-1</td>\n      <td>0</td>\n      <td>0</td>\n      <td></td>\n      <td>261</td>\n    </tr>\n    <tr>\n      <th>291</th>\n      <td>292</td>\n      <td>Simpsons - Black Malt</td>\n      <td>Grain</td>\n      <td>0.226796</td>\n      <td>70.0</td>\n      <td>550.0</td>\n      <td>false</td>\n      <td>UK</td>\n      <td></td>\n      <td></td>\n      <td>...</td>\n      <td>10.0</td>\n      <td>true</td>\n      <td>false</td>\n      <td>0.0</td>\n      <td>-1</td>\n      <td>-1</td>\n      <td>0</td>\n      <td>0</td>\n      <td></td>\n      <td>292</td>\n    </tr>\n    <tr>\n      <th>298</th>\n      <td>299</td>\n      <td>Simpsons - Black Malt</td>\n      <td>Grain</td>\n      <td>0.226796</td>\n      <td>70.0</td>\n      <td>550.0</td>\n      <td>false</td>\n      <td>UK</td>\n      <td></td>\n      <td></td>\n      <td>...</td>\n      <td>10.0</td>\n      <td>true</td>\n      <td>false</td>\n      <td>0.0</td>\n      <td>-1</td>\n      <td>-1</td>\n      <td>0</td>\n      <td>0</td>\n      <td></td>\n      <td>299</td>\n    </tr>\n    <tr>\n      <th>322</th>\n      <td>323</td>\n      <td>Briess - 2 Row Black Malt</td>\n      <td>Grain</td>\n      <td>0.000000</td>\n      <td>55.0</td>\n      <td>500.0</td>\n      <td>false</td>\n      <td>US</td>\n      <td>Briess</td>\n      <td>2-Row. Color adjustment for all beer styles. U...</td>\n      <td>...</td>\n      <td>10.0</td>\n      <td>false</td>\n      <td>false</td>\n      <td>0.0</td>\n      <td>-1</td>\n      <td>-1</td>\n      <td>0</td>\n      <td>1</td>\n      <td></td>\n      <td>323</td>\n    </tr>\n  </tbody>\n</table>\n<p>15 rows × 24 columns</p>\n</div>",
          "text/plain": "      id                                               name        ftype  \\\n8      9                                Black (Patent) Malt        Grain   \n9     10                        Black Barley (Roast Barley)        Grain   \n15    16                              Briess - Black Barley        Grain   \n16    17                                Briess - Black Malt        Grain   \n17    18                 Briess - Black Malted Barley Flour        Grain   \n18    19                           Briess - Blackprinz Malt        Grain   \n41    42  Briess DME - Maltoferm A-6001 (Black Malt Extr...  Dry Extract   \n46    47  Briess LME - Maltoferm A-6000 (Black Malt Extr...      Extract   \n145  146                              Simpsons - Black Malt        Grain   \n224  225                              Simpsons - Black Malt        Grain   \n228  229                              Simpsons - Black Malt        Grain   \n260  261                              Simpsons - Black Malt        Grain   \n291  292                              Simpsons - Black Malt        Grain   \n298  299                              Simpsons - Black Malt        Grain   \n322  323                          Briess - 2 Row Black Malt        Grain   \n\n       amount  yield  color add_after_boil origin supplier  \\\n8    0.000000   55.0  500.0          false     US            \n9    0.000000   55.0  500.0          false     US            \n15   0.000000   55.0  500.0          false     US   Briess   \n16   0.000000   55.0  500.0          false     US   Briess   \n17   0.000000   55.0  500.0          false     US   Briess   \n18   0.000000   78.0  500.0          false     US   Briess   \n41   0.000000   95.0  500.0          false     US            \n46   0.000000   78.0  500.0          false     US            \n145  0.000000   70.0  550.0          false     UK            \n224  0.226796   70.0  550.0          false     UK            \n228  0.226796   70.0  550.0          false     UK            \n260  0.056699   70.0  550.0          false     UK            \n291  0.226796   70.0  550.0          false     UK            \n298  0.226796   70.0  550.0          false     UK            \n322  0.000000   55.0  500.0          false     US   Briess   \n\n                                                 notes  ...  max_in_batch  \\\n8    The darkest of all malts, use sparingly to add...  ...          10.0   \n9    Use 10 to 12% to impart a distinct, roasted fl...  ...          10.0   \n15   Contributes color and rich, sharp flavor chara...  ...           7.0   \n16   Color adjustment for all beer styles. Use with...  ...          10.0   \n17               Color adjustment for all beer styles.  ...          10.0   \n18   Bitterless black malt that can be used in any ...  ...          10.0   \n41                                                      ...         100.0   \n46                                                      ...         100.0   \n145                                                     ...          10.0   \n224                                                     ...          10.0   \n228                                                     ...          10.0   \n260                                                     ...          10.0   \n291                                                     ...          10.0   \n298                                                     ...          10.0   \n322  2-Row. Color adjustment for all beer styles. U...  ...          10.0   \n\n     recommend_mash  is_mashed  ibu_gal_per_lb  display_unit display_scale  \\\n8             false      false             0.0            -1            -1   \n9             false      false             0.0            -1            -1   \n15            false      false             0.0            -1            -1   \n16            false      false             0.0            -1            -1   \n17            false      false             0.0            -1            -1   \n18            false      false             0.0            -1            -1   \n41            false      false             0.0            -1            -1   \n46            false      false             0.0            -1            -1   \n145            true      false             0.0            -1            -1   \n224            true       true             0.0            -1            -1   \n228            true       true             0.0            -1            -1   \n260            true       true             0.0            -1            -1   \n291            true      false             0.0            -1            -1   \n298            true      false             0.0            -1            -1   \n322           false      false             0.0            -1            -1   \n\n    deleted  display  folder  inventory_id  \n8         0        1                     9  \n9         0        1                    10  \n15        0        1                    16  \n16        0        1                    17  \n17        0        1                    18  \n18        0        1                    19  \n41        0        1                    42  \n46        0        1                    47  \n145       0        1                   146  \n224       0        0                   225  \n228       0        0                   229  \n260       0        0                   261  \n291       0        0                   292  \n298       0        0                   299  \n322       0        1                   323  \n\n[15 rows x 24 columns]"
         },
         "metadata": {},
         "output_type": "display_data"
        }
       ]
      }
     },
     "f7fd195e996e4f14bad93c3a45282cab": {
      "model_module": "@jupyter-widgets/output",
      "model_module_version": "1.0.0",
      "model_name": "OutputModel",
      "state": {
       "layout": "IPY_MODEL_0b1e16a8107b40418dca28a935016244",
       "outputs": [
        {
         "data": {
          "text/html": "<div>\n<style scoped>\n    .dataframe tbody tr th:only-of-type {\n        vertical-align: middle;\n    }\n\n    .dataframe tbody tr th {\n        vertical-align: top;\n    }\n\n    .dataframe thead th {\n        text-align: right;\n    }\n</style>\n<table border=\"1\" class=\"dataframe\">\n  <thead>\n    <tr style=\"text-align: right;\">\n      <th></th>\n      <th>id</th>\n      <th>name</th>\n      <th>ftype</th>\n      <th>amount</th>\n      <th>yield</th>\n      <th>color</th>\n      <th>add_after_boil</th>\n      <th>origin</th>\n      <th>supplier</th>\n      <th>notes</th>\n      <th>...</th>\n      <th>max_in_batch</th>\n      <th>recommend_mash</th>\n      <th>is_mashed</th>\n      <th>ibu_gal_per_lb</th>\n      <th>display_unit</th>\n      <th>display_scale</th>\n      <th>deleted</th>\n      <th>display</th>\n      <th>folder</th>\n      <th>inventory_id</th>\n    </tr>\n  </thead>\n  <tbody>\n    <tr>\n      <th>8</th>\n      <td>9</td>\n      <td>Black (Patent) Malt</td>\n      <td>Grain</td>\n      <td>0.000000</td>\n      <td>55.0</td>\n      <td>500.0</td>\n      <td>false</td>\n      <td>US</td>\n      <td></td>\n      <td>The darkest of all malts, use sparingly to add...</td>\n      <td>...</td>\n      <td>10.0</td>\n      <td>false</td>\n      <td>false</td>\n      <td>0.0</td>\n      <td>-1</td>\n      <td>-1</td>\n      <td>0</td>\n      <td>1</td>\n      <td></td>\n      <td>9</td>\n    </tr>\n    <tr>\n      <th>9</th>\n      <td>10</td>\n      <td>Black Barley (Roast Barley)</td>\n      <td>Grain</td>\n      <td>0.000000</td>\n      <td>55.0</td>\n      <td>500.0</td>\n      <td>false</td>\n      <td>US</td>\n      <td></td>\n      <td>Use 10 to 12% to impart a distinct, roasted fl...</td>\n      <td>...</td>\n      <td>10.0</td>\n      <td>false</td>\n      <td>false</td>\n      <td>0.0</td>\n      <td>-1</td>\n      <td>-1</td>\n      <td>0</td>\n      <td>1</td>\n      <td></td>\n      <td>10</td>\n    </tr>\n    <tr>\n      <th>15</th>\n      <td>16</td>\n      <td>Briess - Black Barley</td>\n      <td>Grain</td>\n      <td>0.000000</td>\n      <td>55.0</td>\n      <td>500.0</td>\n      <td>false</td>\n      <td>US</td>\n      <td>Briess</td>\n      <td>Contributes color and rich, sharp flavor chara...</td>\n      <td>...</td>\n      <td>7.0</td>\n      <td>false</td>\n      <td>false</td>\n      <td>0.0</td>\n      <td>-1</td>\n      <td>-1</td>\n      <td>0</td>\n      <td>1</td>\n      <td></td>\n      <td>16</td>\n    </tr>\n    <tr>\n      <th>16</th>\n      <td>17</td>\n      <td>Briess - Black Malt</td>\n      <td>Grain</td>\n      <td>0.000000</td>\n      <td>55.0</td>\n      <td>500.0</td>\n      <td>false</td>\n      <td>US</td>\n      <td>Briess</td>\n      <td>Color adjustment for all beer styles. Use with...</td>\n      <td>...</td>\n      <td>10.0</td>\n      <td>false</td>\n      <td>false</td>\n      <td>0.0</td>\n      <td>-1</td>\n      <td>-1</td>\n      <td>0</td>\n      <td>1</td>\n      <td></td>\n      <td>17</td>\n    </tr>\n    <tr>\n      <th>17</th>\n      <td>18</td>\n      <td>Briess - Black Malted Barley Flour</td>\n      <td>Grain</td>\n      <td>0.000000</td>\n      <td>55.0</td>\n      <td>500.0</td>\n      <td>false</td>\n      <td>US</td>\n      <td>Briess</td>\n      <td>Color adjustment for all beer styles.</td>\n      <td>...</td>\n      <td>10.0</td>\n      <td>false</td>\n      <td>false</td>\n      <td>0.0</td>\n      <td>-1</td>\n      <td>-1</td>\n      <td>0</td>\n      <td>1</td>\n      <td></td>\n      <td>18</td>\n    </tr>\n    <tr>\n      <th>18</th>\n      <td>19</td>\n      <td>Briess - Blackprinz Malt</td>\n      <td>Grain</td>\n      <td>0.000000</td>\n      <td>78.0</td>\n      <td>500.0</td>\n      <td>false</td>\n      <td>US</td>\n      <td>Briess</td>\n      <td>Bitterless black malt that can be used in any ...</td>\n      <td>...</td>\n      <td>10.0</td>\n      <td>false</td>\n      <td>false</td>\n      <td>0.0</td>\n      <td>-1</td>\n      <td>-1</td>\n      <td>0</td>\n      <td>1</td>\n      <td></td>\n      <td>19</td>\n    </tr>\n    <tr>\n      <th>41</th>\n      <td>42</td>\n      <td>Briess DME - Maltoferm A-6001 (Black Malt Extr...</td>\n      <td>Dry Extract</td>\n      <td>0.000000</td>\n      <td>95.0</td>\n      <td>500.0</td>\n      <td>false</td>\n      <td>US</td>\n      <td></td>\n      <td></td>\n      <td>...</td>\n      <td>100.0</td>\n      <td>false</td>\n      <td>false</td>\n      <td>0.0</td>\n      <td>-1</td>\n      <td>-1</td>\n      <td>0</td>\n      <td>1</td>\n      <td></td>\n      <td>42</td>\n    </tr>\n    <tr>\n      <th>46</th>\n      <td>47</td>\n      <td>Briess LME - Maltoferm A-6000 (Black Malt Extr...</td>\n      <td>Extract</td>\n      <td>0.000000</td>\n      <td>78.0</td>\n      <td>500.0</td>\n      <td>false</td>\n      <td>US</td>\n      <td></td>\n      <td></td>\n      <td>...</td>\n      <td>100.0</td>\n      <td>false</td>\n      <td>false</td>\n      <td>0.0</td>\n      <td>-1</td>\n      <td>-1</td>\n      <td>0</td>\n      <td>1</td>\n      <td></td>\n      <td>47</td>\n    </tr>\n    <tr>\n      <th>145</th>\n      <td>146</td>\n      <td>Simpsons - Black Malt</td>\n      <td>Grain</td>\n      <td>0.000000</td>\n      <td>70.0</td>\n      <td>550.0</td>\n      <td>false</td>\n      <td>UK</td>\n      <td></td>\n      <td></td>\n      <td>...</td>\n      <td>10.0</td>\n      <td>true</td>\n      <td>false</td>\n      <td>0.0</td>\n      <td>-1</td>\n      <td>-1</td>\n      <td>0</td>\n      <td>1</td>\n      <td></td>\n      <td>146</td>\n    </tr>\n    <tr>\n      <th>224</th>\n      <td>225</td>\n      <td>Simpsons - Black Malt</td>\n      <td>Grain</td>\n      <td>0.226796</td>\n      <td>70.0</td>\n      <td>550.0</td>\n      <td>false</td>\n      <td>UK</td>\n      <td></td>\n      <td></td>\n      <td>...</td>\n      <td>10.0</td>\n      <td>true</td>\n      <td>true</td>\n      <td>0.0</td>\n      <td>-1</td>\n      <td>-1</td>\n      <td>0</td>\n      <td>0</td>\n      <td></td>\n      <td>225</td>\n    </tr>\n    <tr>\n      <th>228</th>\n      <td>229</td>\n      <td>Simpsons - Black Malt</td>\n      <td>Grain</td>\n      <td>0.226796</td>\n      <td>70.0</td>\n      <td>550.0</td>\n      <td>false</td>\n      <td>UK</td>\n      <td></td>\n      <td></td>\n      <td>...</td>\n      <td>10.0</td>\n      <td>true</td>\n      <td>true</td>\n      <td>0.0</td>\n      <td>-1</td>\n      <td>-1</td>\n      <td>0</td>\n      <td>0</td>\n      <td></td>\n      <td>229</td>\n    </tr>\n    <tr>\n      <th>260</th>\n      <td>261</td>\n      <td>Simpsons - Black Malt</td>\n      <td>Grain</td>\n      <td>0.056699</td>\n      <td>70.0</td>\n      <td>550.0</td>\n      <td>false</td>\n      <td>UK</td>\n      <td></td>\n      <td></td>\n      <td>...</td>\n      <td>10.0</td>\n      <td>true</td>\n      <td>true</td>\n      <td>0.0</td>\n      <td>-1</td>\n      <td>-1</td>\n      <td>0</td>\n      <td>0</td>\n      <td></td>\n      <td>261</td>\n    </tr>\n    <tr>\n      <th>291</th>\n      <td>292</td>\n      <td>Simpsons - Black Malt</td>\n      <td>Grain</td>\n      <td>0.226796</td>\n      <td>70.0</td>\n      <td>550.0</td>\n      <td>false</td>\n      <td>UK</td>\n      <td></td>\n      <td></td>\n      <td>...</td>\n      <td>10.0</td>\n      <td>true</td>\n      <td>false</td>\n      <td>0.0</td>\n      <td>-1</td>\n      <td>-1</td>\n      <td>0</td>\n      <td>0</td>\n      <td></td>\n      <td>292</td>\n    </tr>\n    <tr>\n      <th>298</th>\n      <td>299</td>\n      <td>Simpsons - Black Malt</td>\n      <td>Grain</td>\n      <td>0.226796</td>\n      <td>70.0</td>\n      <td>550.0</td>\n      <td>false</td>\n      <td>UK</td>\n      <td></td>\n      <td></td>\n      <td>...</td>\n      <td>10.0</td>\n      <td>true</td>\n      <td>false</td>\n      <td>0.0</td>\n      <td>-1</td>\n      <td>-1</td>\n      <td>0</td>\n      <td>0</td>\n      <td></td>\n      <td>299</td>\n    </tr>\n    <tr>\n      <th>322</th>\n      <td>323</td>\n      <td>Briess - 2 Row Black Malt</td>\n      <td>Grain</td>\n      <td>0.000000</td>\n      <td>55.0</td>\n      <td>500.0</td>\n      <td>false</td>\n      <td>US</td>\n      <td>Briess</td>\n      <td>2-Row. Color adjustment for all beer styles. U...</td>\n      <td>...</td>\n      <td>10.0</td>\n      <td>false</td>\n      <td>false</td>\n      <td>0.0</td>\n      <td>-1</td>\n      <td>-1</td>\n      <td>0</td>\n      <td>1</td>\n      <td></td>\n      <td>323</td>\n    </tr>\n  </tbody>\n</table>\n<p>15 rows × 24 columns</p>\n</div>",
          "text/plain": "      id                                               name        ftype  \\\n8      9                                Black (Patent) Malt        Grain   \n9     10                        Black Barley (Roast Barley)        Grain   \n15    16                              Briess - Black Barley        Grain   \n16    17                                Briess - Black Malt        Grain   \n17    18                 Briess - Black Malted Barley Flour        Grain   \n18    19                           Briess - Blackprinz Malt        Grain   \n41    42  Briess DME - Maltoferm A-6001 (Black Malt Extr...  Dry Extract   \n46    47  Briess LME - Maltoferm A-6000 (Black Malt Extr...      Extract   \n145  146                              Simpsons - Black Malt        Grain   \n224  225                              Simpsons - Black Malt        Grain   \n228  229                              Simpsons - Black Malt        Grain   \n260  261                              Simpsons - Black Malt        Grain   \n291  292                              Simpsons - Black Malt        Grain   \n298  299                              Simpsons - Black Malt        Grain   \n322  323                          Briess - 2 Row Black Malt        Grain   \n\n       amount  yield  color add_after_boil origin supplier  \\\n8    0.000000   55.0  500.0          false     US            \n9    0.000000   55.0  500.0          false     US            \n15   0.000000   55.0  500.0          false     US   Briess   \n16   0.000000   55.0  500.0          false     US   Briess   \n17   0.000000   55.0  500.0          false     US   Briess   \n18   0.000000   78.0  500.0          false     US   Briess   \n41   0.000000   95.0  500.0          false     US            \n46   0.000000   78.0  500.0          false     US            \n145  0.000000   70.0  550.0          false     UK            \n224  0.226796   70.0  550.0          false     UK            \n228  0.226796   70.0  550.0          false     UK            \n260  0.056699   70.0  550.0          false     UK            \n291  0.226796   70.0  550.0          false     UK            \n298  0.226796   70.0  550.0          false     UK            \n322  0.000000   55.0  500.0          false     US   Briess   \n\n                                                 notes  ...  max_in_batch  \\\n8    The darkest of all malts, use sparingly to add...  ...          10.0   \n9    Use 10 to 12% to impart a distinct, roasted fl...  ...          10.0   \n15   Contributes color and rich, sharp flavor chara...  ...           7.0   \n16   Color adjustment for all beer styles. Use with...  ...          10.0   \n17               Color adjustment for all beer styles.  ...          10.0   \n18   Bitterless black malt that can be used in any ...  ...          10.0   \n41                                                      ...         100.0   \n46                                                      ...         100.0   \n145                                                     ...          10.0   \n224                                                     ...          10.0   \n228                                                     ...          10.0   \n260                                                     ...          10.0   \n291                                                     ...          10.0   \n298                                                     ...          10.0   \n322  2-Row. Color adjustment for all beer styles. U...  ...          10.0   \n\n     recommend_mash  is_mashed  ibu_gal_per_lb  display_unit display_scale  \\\n8             false      false             0.0            -1            -1   \n9             false      false             0.0            -1            -1   \n15            false      false             0.0            -1            -1   \n16            false      false             0.0            -1            -1   \n17            false      false             0.0            -1            -1   \n18            false      false             0.0            -1            -1   \n41            false      false             0.0            -1            -1   \n46            false      false             0.0            -1            -1   \n145            true      false             0.0            -1            -1   \n224            true       true             0.0            -1            -1   \n228            true       true             0.0            -1            -1   \n260            true       true             0.0            -1            -1   \n291            true      false             0.0            -1            -1   \n298            true      false             0.0            -1            -1   \n322           false      false             0.0            -1            -1   \n\n    deleted  display  folder  inventory_id  \n8         0        1                     9  \n9         0        1                    10  \n15        0        1                    16  \n16        0        1                    17  \n17        0        1                    18  \n18        0        1                    19  \n41        0        1                    42  \n46        0        1                    47  \n145       0        1                   146  \n224       0        0                   225  \n228       0        0                   229  \n260       0        0                   261  \n291       0        0                   292  \n298       0        0                   299  \n322       0        1                   323  \n\n[15 rows x 24 columns]"
         },
         "metadata": {},
         "output_type": "display_data"
        }
       ]
      }
     },
     "f82ccd22728c4099b6d9f7d52e08450a": {
      "model_module": "ipysheet",
      "model_module_version": "~0.4.4",
      "model_name": "CellRangeModel",
      "state": {
       "_view_module": null,
       "_view_module_version": "",
       "row_end": 5,
       "row_start": 5,
       "style": {
        "backgroundColor": "yellow"
       },
       "type": "numeric",
       "value": 155
      }
     },
     "f8d897426c8947b8a14cb900c13bf63d": {
      "model_module": "ipysheet",
      "model_module_version": "~0.4.4",
      "model_name": "CellRangeModel",
      "state": {
       "_view_module": null,
       "_view_module_version": "",
       "column_end": 6,
       "column_start": 6,
       "row_end": 4,
       "row_start": 4,
       "style": {
        "backgroundColor": "yellow"
       },
       "type": "numeric",
       "value": 1
      }
     },
     "f99c4af9b0d043b8b303ecbb0d18d292": {
      "model_module": "ipysheet",
      "model_module_version": "~0.4.4",
      "model_name": "CellRangeModel",
      "state": {
       "_view_module": null,
       "_view_module_version": "",
       "column_end": 7,
       "column_start": 7,
       "type": "text",
       "value": "Use"
      }
     },
     "f9acb25b32ad4b86963398e4bc7e7143": {
      "model_module": "ipysheet",
      "model_module_version": "~0.4.4",
      "model_name": "CellRangeModel",
      "state": {
       "_view_module": null,
       "_view_module_version": "",
       "row_end": 4,
       "row_start": 4,
       "style": {
        "backgroundColor": "yellow"
       },
       "type": "numeric",
       "value": 45
      }
     },
     "f9db1d76fdfe457b886b7c11cac866f4": {
      "model_module": "ipysheet",
      "model_module_version": "~0.4.4",
      "model_name": "CellRangeModel",
      "state": {
       "_view_module": null,
       "_view_module_version": "",
       "row_end": 11,
       "row_start": 11,
       "style": {
        "backgroundColor": "red"
       },
       "type": "numeric",
       "value": 5.38
      }
     },
     "f9dd06087cbf4c44859ea95df25cf2f1": {
      "model_module": "ipysheet",
      "model_module_version": "~0.4.4",
      "model_name": "CellRangeModel",
      "state": {
       "_view_module": null,
       "_view_module_version": "",
       "column_end": 11,
       "column_start": 11,
       "row_end": 3,
       "row_start": 3,
       "style": {
        "backgroundColor": "yellow"
       },
       "type": "numeric",
       "value": 0.5
      }
     },
     "fa3f413e8f3f4007af29e547200a945d": {
      "model_module": "ipysheet",
      "model_module_version": "~0.4.4",
      "model_name": "CellRangeModel",
      "state": {
       "_view_module": null,
       "_view_module_version": "",
       "row_end": 6,
       "row_start": 6,
       "style": {
        "backgroundColor": "red"
       },
       "type": "numeric",
       "value": 1.055
      }
     },
     "fa47074085c440b1ace796da5adb0ac1": {
      "model_module": "ipysheet",
      "model_module_version": "~0.4.4",
      "model_name": "CellRangeModel",
      "state": {
       "_view_module": null,
       "_view_module_version": "",
       "column_end": 8,
       "column_start": 8,
       "row_end": 6,
       "row_start": 6,
       "type": "numeric",
       "value": 10
      }
     },
     "fb39944707364e838f7aeec80371e131": {
      "model_module": "ipysheet",
      "model_module_version": "~0.4.4",
      "model_name": "CellRangeModel",
      "state": {
       "_view_module": null,
       "_view_module_version": "",
       "column_end": 3,
       "column_start": 3,
       "row_end": 8,
       "row_start": 8,
       "style": {
        "backgroundColor": "red"
       },
       "type": "numeric",
       "value": ""
      }
     },
     "fb792d47a1db48b88de3776c21e4151d": {
      "model_module": "ipysheet",
      "model_module_version": "~0.4.4",
      "model_name": "CellRangeModel",
      "state": {
       "_view_module": null,
       "_view_module_version": "",
       "column_end": 0,
       "column_start": 0,
       "row_end": 18,
       "row_start": 18,
       "type": "text",
       "value": "Pre-boil Gravity"
      }
     },
     "fc93642477fa4977a33c78bc77abe29a": {
      "model_module": "ipysheet",
      "model_module_version": "~0.4.4",
      "model_name": "CellRangeModel",
      "state": {
       "_view_module": null,
       "_view_module_version": "",
       "column_end": 11,
       "column_start": 11,
       "type": "text",
       "value": "Amount (oz)"
      }
     },
     "fcee7fd533224caca6e9d67fa3bfa924": {
      "model_module": "ipysheet",
      "model_module_version": "~0.4.4",
      "model_name": "CellRangeModel",
      "state": {
       "_view_module": null,
       "_view_module_version": "",
       "column_end": 5,
       "column_start": 5,
       "row_end": 6,
       "row_start": 6,
       "type": "text",
       "value": "Briess - 6 Row Brewers Malt"
      }
     },
     "fcf52f60acd046108696c32b5e9c462b": {
      "model_module": "ipysheet",
      "model_module_version": "~0.4.4",
      "model_name": "CellRangeModel",
      "state": {
       "_view_module": null,
       "_view_module_version": "",
       "row_end": 10,
       "row_start": 10,
       "style": {
        "backgroundColor": "yellow"
       },
       "type": "numeric",
       "value": 48
      }
     },
     "fd03b83d69584752bf11813824fe6f06": {
      "model_module": "ipysheet",
      "model_module_version": "~0.4.4",
      "model_name": "CellRangeModel",
      "state": {
       "_view_module": null,
       "_view_module_version": "",
       "column_end": 5,
       "column_start": 5,
       "row_end": 5,
       "row_start": 5,
       "type": "text",
       "value": "Dry Extract (DME) - Amber"
      }
     },
     "fd4716a3b1dc48f589d994bbb33c24c5": {
      "model_module": "ipysheet",
      "model_module_version": "~0.4.4",
      "model_name": "CellRangeModel",
      "state": {
       "_view_module": null,
       "_view_module_version": "",
       "column_end": 0,
       "column_start": 0,
       "row_end": 6,
       "row_start": 6,
       "type": "text",
       "value": "OG"
      }
     },
     "fd496811754a4a5a94bfdbd80d79ae40": {
      "model_module": "ipysheet",
      "model_module_version": "~0.4.4",
      "model_name": "CellRangeModel",
      "state": {
       "_view_module": null,
       "_view_module_version": "",
       "row_end": 6,
       "row_start": 6,
       "style": {
        "backgroundColor": "red"
       },
       "type": "numeric",
       "value": 1.056
      }
     },
     "fd78d92c1f6442b2b9552c68497ea5e9": {
      "model_module": "ipysheet",
      "model_module_version": "~0.4.4",
      "model_name": "CellRangeModel",
      "state": {
       "_view_module": null,
       "_view_module_version": "",
       "column_end": 3,
       "column_start": 3,
       "type": "text",
       "value": "Style Fit?"
      }
     },
     "fdddabaf6e6445e0bf39a402921a732e": {
      "model_module": "ipysheet",
      "model_module_version": "~0.4.4",
      "model_name": "SheetModel",
      "state": {
       "cells": [
        "IPY_MODEL_78fcb46e07f748689a4510f1a17620f9",
        "IPY_MODEL_eb8245eb867448a686ca2793f9dd660f",
        "IPY_MODEL_7136e182f8a54ffc909c7fbead3636f4",
        "IPY_MODEL_01f9bddf33cd4820a67add949121d96d",
        "IPY_MODEL_9e90112429704673af687cd12dd5e411",
        "IPY_MODEL_37102fa72bf64a29a32d8d3fea0d67f9",
        "IPY_MODEL_5401074649a14b85a1111e4d7447b378",
        "IPY_MODEL_9bda7bd7bde14a829b8c16593b2304bf",
        "IPY_MODEL_f7d6a452ce4b4e47b44b7c75d210eb23",
        "IPY_MODEL_63115c802fbe461f8e0745be813f331a",
        "IPY_MODEL_1ef0df3d0b7b44b298a1e6c713e403ce",
        "IPY_MODEL_ef48c6d5d70c4143a982c5b036534e11",
        "IPY_MODEL_bb07d40925a84a2eb6639ee1b4b7d813",
        "IPY_MODEL_89eb1d155d524b73b2dffd01f91d175c",
        "IPY_MODEL_f762891fe770475c9c819df56e088b19",
        "IPY_MODEL_5eb56e6b64854a118061f53c34b0b73a",
        "IPY_MODEL_7c8f3a2c8bf14bc7baa005232412877c",
        "IPY_MODEL_17f4989a73d64bd3b647131dfd976d58",
        "IPY_MODEL_e394f5ee8f4c42deac696947297bb597",
        "IPY_MODEL_0d5eb33a5a3245aca046496e4d32a9c0",
        "IPY_MODEL_986a33d0b5634af394daa7c26ad8209d",
        "IPY_MODEL_b66d3616f14941b98990123562ebb550",
        "IPY_MODEL_0258d1018ef346f09159baad2696bccd",
        "IPY_MODEL_62e0ae500c604cd8973341682492d4f9",
        "IPY_MODEL_aba6782bb5dc4967bef35a309e7df1a7",
        "IPY_MODEL_677e2660c51b4ba3bbf46d461056adbd",
        "IPY_MODEL_eec687d2a6c34a2a9c658e82fe49eac6",
        "IPY_MODEL_cd108a41ed724537b1621827d236261a",
        "IPY_MODEL_d4705d7dbd3243f7bb567e1d122f4044",
        "IPY_MODEL_3cebac3f392c43bebaad7d3ccb31332c",
        "IPY_MODEL_770f169de17048fc9555f5014910efea",
        "IPY_MODEL_7434d75b864849408b0e965b11388bca",
        "IPY_MODEL_f34d3de97b7744aabdd148384b5b21ad",
        "IPY_MODEL_e849753ac1864fb38749c3ed0d31187c",
        "IPY_MODEL_6d7346e2e1574907aa7c0b39b0686600",
        "IPY_MODEL_b277e919ab8f4d42963decfdd2d03fee",
        "IPY_MODEL_06d27836b1444268ac13f732697ef938",
        "IPY_MODEL_b4f63d13efb94679bd379926b68200d0",
        "IPY_MODEL_289855db9adb467080d2a0233bf03da7",
        "IPY_MODEL_040993e26d6a4b19957bf6414fcdc2af",
        "IPY_MODEL_716610d9820a4d8697edafb291674fe8",
        "IPY_MODEL_1f4a9e4700594e53898e17c0757708d9",
        "IPY_MODEL_b70cc07b5f804a8d8c53f1ec0bb106c9",
        "IPY_MODEL_11e24008816e4c0f92072fb4f4d329a4",
        "IPY_MODEL_8d11f39d521e432f918ce285255234bd",
        "IPY_MODEL_a777545b25b24ab78f2e5da16e8b3aa2",
        "IPY_MODEL_75d3956262fb4198b377bd338517eb70",
        "IPY_MODEL_8e04a7675ddb453a8b471d2a1d920a78",
        "IPY_MODEL_02db49c18da343de81ee84d3c1a94b3c",
        "IPY_MODEL_072d7f91c7494359bad0bfa335e7bcd4",
        "IPY_MODEL_ea4d234050774edf8887c8f6f0b321a2",
        "IPY_MODEL_e570b311edc44e84a31eb1f9c27e1cd4",
        "IPY_MODEL_a391303d91f8468abcb4aeb43b69ca09",
        "IPY_MODEL_9351cd4fb60d45afbdd700b22f965a66",
        "IPY_MODEL_2f03ef3ef2814842913ad8f81b60b11c",
        "IPY_MODEL_c4daf9b7127c44c0b4dac54242a61878",
        "IPY_MODEL_445c1fa6031a41f0a1bd8e8194e7c79a",
        "IPY_MODEL_b444fb655ee043f4afc059abe59354e6",
        "IPY_MODEL_d9ea399c32a14ca28a5cddbf10e946e0",
        "IPY_MODEL_7d3f21f2c83841ef98d28954368dff27",
        "IPY_MODEL_1210ed8dca624add98cbfcc150b15d21",
        "IPY_MODEL_cfd9718952be43c4b0fdc3adc8d1e4d3",
        "IPY_MODEL_f67c49c2d78f4e3c880a53610a29aa75",
        "IPY_MODEL_a7d550bc58fd44ffbaa75d9e59247ae6",
        "IPY_MODEL_2bf252f6d3ef47ec8ae88fd497684dba",
        "IPY_MODEL_cadf7eb5b5ca46d891ccc0990dc2ebf4",
        "IPY_MODEL_a410b30974d446d792867e46954ead04",
        "IPY_MODEL_47dcbc9ba39e437a9c4f1f817e5d9bea",
        "IPY_MODEL_626d552366c34e1e9b549c26d86e7863",
        "IPY_MODEL_d0105f9c9250495987d48d27e8b60486",
        "IPY_MODEL_1967a4ca5a984fe0975be343472f2d2b",
        "IPY_MODEL_3eebbd5538e34e6f853cdc27a14e9d2a",
        "IPY_MODEL_57c991bf82c344198a55cb9175e83611",
        "IPY_MODEL_9da3c79c01c2490aabac697bec264390",
        "IPY_MODEL_d0bcfac04abb409e9981a0a523721727",
        "IPY_MODEL_c55042df839d46fe92a9f999cc14a9dd",
        "IPY_MODEL_0836aec47abe4ae6986c0633e5ebd2ce",
        "IPY_MODEL_d33780f19cdf4693896981748d2d017b",
        "IPY_MODEL_27b6a1dd775c40eab8c5ad22fae2b2df",
        "IPY_MODEL_7785a1a3de184906b9f5b576a7293a00",
        "IPY_MODEL_4163111b254346c5ad15ec0d7643d307",
        "IPY_MODEL_bc14268972144e6ebd366b3ec7d50543",
        "IPY_MODEL_fcf52f60acd046108696c32b5e9c462b",
        "IPY_MODEL_e2f0a03760b246aba749c55cafa8b342",
        "IPY_MODEL_2a1eeeecb9ae4c68b70285e4f12f60ac",
        "IPY_MODEL_b1b3c4c40f8a4bad92b2834defc319c3",
        "IPY_MODEL_c8838be3e9fa40e1ba49abb65c9ca417",
        "IPY_MODEL_62bd274f1165445796575da55a83ca6f",
        "IPY_MODEL_ca429be1f2f549fd806149ccfb729e01",
        "IPY_MODEL_d515d7b2db3243c99056587688b7e1d4",
        "IPY_MODEL_c8f15b9e9d2449c686db101f96459659",
        "IPY_MODEL_34e5716190ba44db81ec3e19269aaf24",
        "IPY_MODEL_69033c4d387f44fc880d0b4214ba3178",
        "IPY_MODEL_0a9738f7deb44cd0835fb1392ff7231e",
        "IPY_MODEL_315dc832a43c4412ac3d2c656fa9cd6a",
        "IPY_MODEL_0abc7f0e0e7b4bfba3736f6e2cd33e99",
        "IPY_MODEL_fb39944707364e838f7aeec80371e131",
        "IPY_MODEL_b16a07b3f87441d988369579e60325cb",
        "IPY_MODEL_41d617c5f6f34c078c0f65aa8ac101c2"
       ],
       "columns": 20,
       "layout": "IPY_MODEL_8fa5255999c44aac8004c241e69b72b5",
       "rows": 21
      }
     },
     "fe3b3e202bc744b3b63b0b736dd54743": {
      "model_module": "ipysheet",
      "model_module_version": "~0.4.4",
      "model_name": "CellRangeModel",
      "state": {
       "_view_module": null,
       "_view_module_version": "",
       "column_end": 6,
       "column_start": 6,
       "type": "text",
       "value": "Amount (lbs)"
      }
     },
     "feaec598f7ed495c98bd8f717b526fc0": {
      "model_module": "ipysheet",
      "model_module_version": "~0.4.4",
      "model_name": "CellRangeModel",
      "state": {
       "_view_module": null,
       "_view_module_version": "",
       "column_end": 10,
       "column_start": 10,
       "row_end": 3,
       "row_start": 3,
       "type": "text",
       "value": "Fuggles"
      }
     },
     "feedcd79760941489eb88946e42f8f3d": {
      "model_module": "ipysheet",
      "model_module_version": "~0.4.4",
      "model_name": "CellRangeModel",
      "state": {
       "_view_module": null,
       "_view_module_version": "",
       "column_end": 11,
       "column_start": 11,
       "row_end": 2,
       "row_start": 2,
       "style": {
        "backgroundColor": "yellow"
       },
       "type": "numeric",
       "value": 0.75
      }
     },
     "feef77019bd84c6f9951417bc18c70ae": {
      "model_module": "ipysheet",
      "model_module_version": "~0.4.4",
      "model_name": "CellRangeModel",
      "state": {
       "_view_module": null,
       "_view_module_version": "",
       "column_end": 6,
       "column_start": 6,
       "row_end": 4,
       "row_start": 4,
       "style": {
        "backgroundColor": "yellow"
       },
       "type": "numeric",
       "value": 1
      }
     },
     "ff2b078989c742ce90b52df2e904f082": {
      "model_module": "ipysheet",
      "model_module_version": "~0.4.4",
      "model_name": "CellRangeModel",
      "state": {
       "_view_module": null,
       "_view_module_version": "",
       "column_end": 0,
       "column_start": 0,
       "row_end": 3,
       "row_start": 3,
       "type": "text",
       "value": "Boil Size"
      }
     }
    },
    "version_major": 2,
    "version_minor": 0
   }
  }
 },
 "nbformat": 4,
 "nbformat_minor": 4
}
